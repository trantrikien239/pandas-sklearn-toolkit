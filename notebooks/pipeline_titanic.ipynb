{
 "cells": [
  {
   "cell_type": "code",
   "execution_count": 1,
   "metadata": {},
   "outputs": [],
   "source": [
    "import numpy as np\n",
    "import pandas as pd\n",
    "from numpy import interp\n",
    "from matplotlib import pyplot as plt\n",
    "\n",
    "pd.set_option(\"display.max_columns\", None)\n",
    "\n",
    "from sklearn.compose import ColumnTransformer, make_column_selector\n",
    "\n",
    "from sklearn.preprocessing import StandardScaler, FunctionTransformer, PolynomialFeatures\n",
    "\n",
    "from sklearn.pipeline import Pipeline\n",
    "from sklearn.pipeline import FeatureUnion\n",
    "\n",
    "from sklearn.metrics import plot_confusion_matrix, roc_auc_score,  auc, \\\n",
    "    precision_recall_fscore_support, classification_report, roc_curve, plot_roc_curve\n",
    "\n",
    "from sklearn import set_config\n",
    "set_config(display='diagram')   \n",
    "\n",
    "from catboost import CatBoostClassifier\n",
    "\n",
    "from itertools import cycle\n",
    "from time import time\n",
    "\n",
    "from lightgbm import LGBMClassifier"
   ]
  },
  {
   "cell_type": "markdown",
   "metadata": {},
   "source": [
    "# Import data"
   ]
  },
  {
   "cell_type": "code",
   "execution_count": 2,
   "metadata": {},
   "outputs": [],
   "source": [
    "df_train = pd.read_csv('./data/train.csv')\n",
    "df_test = pd.read_csv('./data/test.csv')\n",
    "sample_sub = pd.read_csv('./data/sample_submission.csv')"
   ]
  },
  {
   "cell_type": "code",
   "execution_count": 3,
   "metadata": {},
   "outputs": [
    {
     "data": {
      "text/html": [
       "<div>\n",
       "<style scoped>\n",
       "    .dataframe tbody tr th:only-of-type {\n",
       "        vertical-align: middle;\n",
       "    }\n",
       "\n",
       "    .dataframe tbody tr th {\n",
       "        vertical-align: top;\n",
       "    }\n",
       "\n",
       "    .dataframe thead th {\n",
       "        text-align: right;\n",
       "    }\n",
       "</style>\n",
       "<table border=\"1\" class=\"dataframe\">\n",
       "  <thead>\n",
       "    <tr style=\"text-align: right;\">\n",
       "      <th></th>\n",
       "      <th>PassengerId</th>\n",
       "      <th>Survived</th>\n",
       "      <th>Pclass</th>\n",
       "      <th>Name</th>\n",
       "      <th>Sex</th>\n",
       "      <th>Age</th>\n",
       "      <th>SibSp</th>\n",
       "      <th>Parch</th>\n",
       "      <th>Ticket</th>\n",
       "      <th>Fare</th>\n",
       "      <th>Cabin</th>\n",
       "      <th>Embarked</th>\n",
       "    </tr>\n",
       "  </thead>\n",
       "  <tbody>\n",
       "    <tr>\n",
       "      <th>0</th>\n",
       "      <td>0</td>\n",
       "      <td>1</td>\n",
       "      <td>1</td>\n",
       "      <td>Oconnor, Frankie</td>\n",
       "      <td>male</td>\n",
       "      <td>NaN</td>\n",
       "      <td>2</td>\n",
       "      <td>0</td>\n",
       "      <td>209245</td>\n",
       "      <td>27.14</td>\n",
       "      <td>C12239</td>\n",
       "      <td>S</td>\n",
       "    </tr>\n",
       "    <tr>\n",
       "      <th>1</th>\n",
       "      <td>1</td>\n",
       "      <td>0</td>\n",
       "      <td>3</td>\n",
       "      <td>Bryan, Drew</td>\n",
       "      <td>male</td>\n",
       "      <td>NaN</td>\n",
       "      <td>0</td>\n",
       "      <td>0</td>\n",
       "      <td>27323</td>\n",
       "      <td>13.35</td>\n",
       "      <td>NaN</td>\n",
       "      <td>S</td>\n",
       "    </tr>\n",
       "    <tr>\n",
       "      <th>2</th>\n",
       "      <td>2</td>\n",
       "      <td>0</td>\n",
       "      <td>3</td>\n",
       "      <td>Owens, Kenneth</td>\n",
       "      <td>male</td>\n",
       "      <td>0.33</td>\n",
       "      <td>1</td>\n",
       "      <td>2</td>\n",
       "      <td>CA 457703</td>\n",
       "      <td>71.29</td>\n",
       "      <td>NaN</td>\n",
       "      <td>S</td>\n",
       "    </tr>\n",
       "    <tr>\n",
       "      <th>3</th>\n",
       "      <td>3</td>\n",
       "      <td>0</td>\n",
       "      <td>3</td>\n",
       "      <td>Kramer, James</td>\n",
       "      <td>male</td>\n",
       "      <td>19.00</td>\n",
       "      <td>0</td>\n",
       "      <td>0</td>\n",
       "      <td>A. 10866</td>\n",
       "      <td>13.04</td>\n",
       "      <td>NaN</td>\n",
       "      <td>S</td>\n",
       "    </tr>\n",
       "    <tr>\n",
       "      <th>4</th>\n",
       "      <td>4</td>\n",
       "      <td>1</td>\n",
       "      <td>3</td>\n",
       "      <td>Bond, Michael</td>\n",
       "      <td>male</td>\n",
       "      <td>25.00</td>\n",
       "      <td>0</td>\n",
       "      <td>0</td>\n",
       "      <td>427635</td>\n",
       "      <td>7.76</td>\n",
       "      <td>NaN</td>\n",
       "      <td>S</td>\n",
       "    </tr>\n",
       "    <tr>\n",
       "      <th>...</th>\n",
       "      <td>...</td>\n",
       "      <td>...</td>\n",
       "      <td>...</td>\n",
       "      <td>...</td>\n",
       "      <td>...</td>\n",
       "      <td>...</td>\n",
       "      <td>...</td>\n",
       "      <td>...</td>\n",
       "      <td>...</td>\n",
       "      <td>...</td>\n",
       "      <td>...</td>\n",
       "      <td>...</td>\n",
       "    </tr>\n",
       "    <tr>\n",
       "      <th>99995</th>\n",
       "      <td>99995</td>\n",
       "      <td>1</td>\n",
       "      <td>2</td>\n",
       "      <td>Bell, Adele</td>\n",
       "      <td>female</td>\n",
       "      <td>62.00</td>\n",
       "      <td>0</td>\n",
       "      <td>0</td>\n",
       "      <td>PC 15008</td>\n",
       "      <td>14.86</td>\n",
       "      <td>D17243</td>\n",
       "      <td>C</td>\n",
       "    </tr>\n",
       "    <tr>\n",
       "      <th>99996</th>\n",
       "      <td>99996</td>\n",
       "      <td>0</td>\n",
       "      <td>2</td>\n",
       "      <td>Brown, Herman</td>\n",
       "      <td>male</td>\n",
       "      <td>66.00</td>\n",
       "      <td>0</td>\n",
       "      <td>0</td>\n",
       "      <td>13273</td>\n",
       "      <td>11.15</td>\n",
       "      <td>NaN</td>\n",
       "      <td>S</td>\n",
       "    </tr>\n",
       "    <tr>\n",
       "      <th>99997</th>\n",
       "      <td>99997</td>\n",
       "      <td>0</td>\n",
       "      <td>3</td>\n",
       "      <td>Childress, Charles</td>\n",
       "      <td>male</td>\n",
       "      <td>37.00</td>\n",
       "      <td>0</td>\n",
       "      <td>0</td>\n",
       "      <td>NaN</td>\n",
       "      <td>9.95</td>\n",
       "      <td>NaN</td>\n",
       "      <td>S</td>\n",
       "    </tr>\n",
       "    <tr>\n",
       "      <th>99998</th>\n",
       "      <td>99998</td>\n",
       "      <td>0</td>\n",
       "      <td>3</td>\n",
       "      <td>Caughlin, Thomas</td>\n",
       "      <td>male</td>\n",
       "      <td>51.00</td>\n",
       "      <td>0</td>\n",
       "      <td>1</td>\n",
       "      <td>458654</td>\n",
       "      <td>30.92</td>\n",
       "      <td>NaN</td>\n",
       "      <td>S</td>\n",
       "    </tr>\n",
       "    <tr>\n",
       "      <th>99999</th>\n",
       "      <td>99999</td>\n",
       "      <td>0</td>\n",
       "      <td>3</td>\n",
       "      <td>Enciso, Tyler</td>\n",
       "      <td>male</td>\n",
       "      <td>55.00</td>\n",
       "      <td>0</td>\n",
       "      <td>0</td>\n",
       "      <td>458074</td>\n",
       "      <td>13.96</td>\n",
       "      <td>NaN</td>\n",
       "      <td>S</td>\n",
       "    </tr>\n",
       "  </tbody>\n",
       "</table>\n",
       "<p>100000 rows × 12 columns</p>\n",
       "</div>"
      ],
      "text/plain": [
       "       PassengerId  Survived  Pclass                Name     Sex    Age  \\\n",
       "0                0         1       1    Oconnor, Frankie    male    NaN   \n",
       "1                1         0       3         Bryan, Drew    male    NaN   \n",
       "2                2         0       3      Owens, Kenneth    male   0.33   \n",
       "3                3         0       3       Kramer, James    male  19.00   \n",
       "4                4         1       3       Bond, Michael    male  25.00   \n",
       "...            ...       ...     ...                 ...     ...    ...   \n",
       "99995        99995         1       2         Bell, Adele  female  62.00   \n",
       "99996        99996         0       2       Brown, Herman    male  66.00   \n",
       "99997        99997         0       3  Childress, Charles    male  37.00   \n",
       "99998        99998         0       3    Caughlin, Thomas    male  51.00   \n",
       "99999        99999         0       3       Enciso, Tyler    male  55.00   \n",
       "\n",
       "       SibSp  Parch     Ticket   Fare   Cabin Embarked  \n",
       "0          2      0     209245  27.14  C12239        S  \n",
       "1          0      0      27323  13.35     NaN        S  \n",
       "2          1      2  CA 457703  71.29     NaN        S  \n",
       "3          0      0   A. 10866  13.04     NaN        S  \n",
       "4          0      0     427635   7.76     NaN        S  \n",
       "...      ...    ...        ...    ...     ...      ...  \n",
       "99995      0      0   PC 15008  14.86  D17243        C  \n",
       "99996      0      0      13273  11.15     NaN        S  \n",
       "99997      0      0        NaN   9.95     NaN        S  \n",
       "99998      0      1     458654  30.92     NaN        S  \n",
       "99999      0      0     458074  13.96     NaN        S  \n",
       "\n",
       "[100000 rows x 12 columns]"
      ]
     },
     "execution_count": 3,
     "metadata": {},
     "output_type": "execute_result"
    }
   ],
   "source": [
    "df_train"
   ]
  },
  {
   "cell_type": "code",
   "execution_count": 4,
   "metadata": {},
   "outputs": [
    {
     "data": {
      "text/html": [
       "<div>\n",
       "<style scoped>\n",
       "    .dataframe tbody tr th:only-of-type {\n",
       "        vertical-align: middle;\n",
       "    }\n",
       "\n",
       "    .dataframe tbody tr th {\n",
       "        vertical-align: top;\n",
       "    }\n",
       "\n",
       "    .dataframe thead th {\n",
       "        text-align: right;\n",
       "    }\n",
       "</style>\n",
       "<table border=\"1\" class=\"dataframe\">\n",
       "  <thead>\n",
       "    <tr style=\"text-align: right;\">\n",
       "      <th></th>\n",
       "      <th>PassengerId</th>\n",
       "      <th>Pclass</th>\n",
       "      <th>Name</th>\n",
       "      <th>Sex</th>\n",
       "      <th>Age</th>\n",
       "      <th>SibSp</th>\n",
       "      <th>Parch</th>\n",
       "      <th>Ticket</th>\n",
       "      <th>Fare</th>\n",
       "      <th>Cabin</th>\n",
       "      <th>Embarked</th>\n",
       "    </tr>\n",
       "  </thead>\n",
       "  <tbody>\n",
       "    <tr>\n",
       "      <th>0</th>\n",
       "      <td>100000</td>\n",
       "      <td>3</td>\n",
       "      <td>Holliday, Daniel</td>\n",
       "      <td>male</td>\n",
       "      <td>19.0</td>\n",
       "      <td>0</td>\n",
       "      <td>0</td>\n",
       "      <td>24745</td>\n",
       "      <td>63.01</td>\n",
       "      <td>NaN</td>\n",
       "      <td>S</td>\n",
       "    </tr>\n",
       "    <tr>\n",
       "      <th>1</th>\n",
       "      <td>100001</td>\n",
       "      <td>3</td>\n",
       "      <td>Nguyen, Lorraine</td>\n",
       "      <td>female</td>\n",
       "      <td>53.0</td>\n",
       "      <td>0</td>\n",
       "      <td>0</td>\n",
       "      <td>13264</td>\n",
       "      <td>5.81</td>\n",
       "      <td>NaN</td>\n",
       "      <td>S</td>\n",
       "    </tr>\n",
       "    <tr>\n",
       "      <th>2</th>\n",
       "      <td>100002</td>\n",
       "      <td>1</td>\n",
       "      <td>Harris, Heather</td>\n",
       "      <td>female</td>\n",
       "      <td>19.0</td>\n",
       "      <td>0</td>\n",
       "      <td>0</td>\n",
       "      <td>25990</td>\n",
       "      <td>38.91</td>\n",
       "      <td>B15315</td>\n",
       "      <td>C</td>\n",
       "    </tr>\n",
       "    <tr>\n",
       "      <th>3</th>\n",
       "      <td>100003</td>\n",
       "      <td>2</td>\n",
       "      <td>Larsen, Eric</td>\n",
       "      <td>male</td>\n",
       "      <td>25.0</td>\n",
       "      <td>0</td>\n",
       "      <td>0</td>\n",
       "      <td>314011</td>\n",
       "      <td>12.93</td>\n",
       "      <td>NaN</td>\n",
       "      <td>S</td>\n",
       "    </tr>\n",
       "    <tr>\n",
       "      <th>4</th>\n",
       "      <td>100004</td>\n",
       "      <td>1</td>\n",
       "      <td>Cleary, Sarah</td>\n",
       "      <td>female</td>\n",
       "      <td>17.0</td>\n",
       "      <td>0</td>\n",
       "      <td>2</td>\n",
       "      <td>26203</td>\n",
       "      <td>26.89</td>\n",
       "      <td>B22515</td>\n",
       "      <td>C</td>\n",
       "    </tr>\n",
       "    <tr>\n",
       "      <th>...</th>\n",
       "      <td>...</td>\n",
       "      <td>...</td>\n",
       "      <td>...</td>\n",
       "      <td>...</td>\n",
       "      <td>...</td>\n",
       "      <td>...</td>\n",
       "      <td>...</td>\n",
       "      <td>...</td>\n",
       "      <td>...</td>\n",
       "      <td>...</td>\n",
       "      <td>...</td>\n",
       "    </tr>\n",
       "    <tr>\n",
       "      <th>99995</th>\n",
       "      <td>199995</td>\n",
       "      <td>3</td>\n",
       "      <td>Cash, Cheryle</td>\n",
       "      <td>female</td>\n",
       "      <td>27.0</td>\n",
       "      <td>0</td>\n",
       "      <td>0</td>\n",
       "      <td>7686</td>\n",
       "      <td>10.12</td>\n",
       "      <td>NaN</td>\n",
       "      <td>Q</td>\n",
       "    </tr>\n",
       "    <tr>\n",
       "      <th>99996</th>\n",
       "      <td>199996</td>\n",
       "      <td>1</td>\n",
       "      <td>Brown, Howard</td>\n",
       "      <td>male</td>\n",
       "      <td>59.0</td>\n",
       "      <td>1</td>\n",
       "      <td>0</td>\n",
       "      <td>13004</td>\n",
       "      <td>68.31</td>\n",
       "      <td>NaN</td>\n",
       "      <td>S</td>\n",
       "    </tr>\n",
       "    <tr>\n",
       "      <th>99997</th>\n",
       "      <td>199997</td>\n",
       "      <td>3</td>\n",
       "      <td>Lightfoot, Cameron</td>\n",
       "      <td>male</td>\n",
       "      <td>47.0</td>\n",
       "      <td>0</td>\n",
       "      <td>0</td>\n",
       "      <td>4383317</td>\n",
       "      <td>10.87</td>\n",
       "      <td>NaN</td>\n",
       "      <td>S</td>\n",
       "    </tr>\n",
       "    <tr>\n",
       "      <th>99998</th>\n",
       "      <td>199998</td>\n",
       "      <td>1</td>\n",
       "      <td>Jacobsen, Margaret</td>\n",
       "      <td>female</td>\n",
       "      <td>49.0</td>\n",
       "      <td>1</td>\n",
       "      <td>2</td>\n",
       "      <td>PC 26988</td>\n",
       "      <td>29.68</td>\n",
       "      <td>B20828</td>\n",
       "      <td>C</td>\n",
       "    </tr>\n",
       "    <tr>\n",
       "      <th>99999</th>\n",
       "      <td>199999</td>\n",
       "      <td>1</td>\n",
       "      <td>Fishback, Joanna</td>\n",
       "      <td>female</td>\n",
       "      <td>41.0</td>\n",
       "      <td>0</td>\n",
       "      <td>2</td>\n",
       "      <td>PC 41824</td>\n",
       "      <td>195.41</td>\n",
       "      <td>E13345</td>\n",
       "      <td>C</td>\n",
       "    </tr>\n",
       "  </tbody>\n",
       "</table>\n",
       "<p>100000 rows × 11 columns</p>\n",
       "</div>"
      ],
      "text/plain": [
       "       PassengerId  Pclass                Name     Sex   Age  SibSp  Parch  \\\n",
       "0           100000       3    Holliday, Daniel    male  19.0      0      0   \n",
       "1           100001       3    Nguyen, Lorraine  female  53.0      0      0   \n",
       "2           100002       1     Harris, Heather  female  19.0      0      0   \n",
       "3           100003       2        Larsen, Eric    male  25.0      0      0   \n",
       "4           100004       1       Cleary, Sarah  female  17.0      0      2   \n",
       "...            ...     ...                 ...     ...   ...    ...    ...   \n",
       "99995       199995       3       Cash, Cheryle  female  27.0      0      0   \n",
       "99996       199996       1       Brown, Howard    male  59.0      1      0   \n",
       "99997       199997       3  Lightfoot, Cameron    male  47.0      0      0   \n",
       "99998       199998       1  Jacobsen, Margaret  female  49.0      1      2   \n",
       "99999       199999       1    Fishback, Joanna  female  41.0      0      2   \n",
       "\n",
       "         Ticket    Fare   Cabin Embarked  \n",
       "0         24745   63.01     NaN        S  \n",
       "1         13264    5.81     NaN        S  \n",
       "2         25990   38.91  B15315        C  \n",
       "3        314011   12.93     NaN        S  \n",
       "4         26203   26.89  B22515        C  \n",
       "...         ...     ...     ...      ...  \n",
       "99995      7686   10.12     NaN        Q  \n",
       "99996     13004   68.31     NaN        S  \n",
       "99997   4383317   10.87     NaN        S  \n",
       "99998  PC 26988   29.68  B20828        C  \n",
       "99999  PC 41824  195.41  E13345        C  \n",
       "\n",
       "[100000 rows x 11 columns]"
      ]
     },
     "execution_count": 4,
     "metadata": {},
     "output_type": "execute_result"
    }
   ],
   "source": [
    "df_test"
   ]
  },
  {
   "cell_type": "code",
   "execution_count": 5,
   "metadata": {},
   "outputs": [
    {
     "data": {
      "text/html": [
       "<div>\n",
       "<style scoped>\n",
       "    .dataframe tbody tr th:only-of-type {\n",
       "        vertical-align: middle;\n",
       "    }\n",
       "\n",
       "    .dataframe tbody tr th {\n",
       "        vertical-align: top;\n",
       "    }\n",
       "\n",
       "    .dataframe thead th {\n",
       "        text-align: right;\n",
       "    }\n",
       "</style>\n",
       "<table border=\"1\" class=\"dataframe\">\n",
       "  <thead>\n",
       "    <tr style=\"text-align: right;\">\n",
       "      <th></th>\n",
       "      <th>PassengerId</th>\n",
       "      <th>Survived</th>\n",
       "    </tr>\n",
       "  </thead>\n",
       "  <tbody>\n",
       "    <tr>\n",
       "      <th>0</th>\n",
       "      <td>100000</td>\n",
       "      <td>1</td>\n",
       "    </tr>\n",
       "    <tr>\n",
       "      <th>1</th>\n",
       "      <td>100001</td>\n",
       "      <td>1</td>\n",
       "    </tr>\n",
       "    <tr>\n",
       "      <th>2</th>\n",
       "      <td>100002</td>\n",
       "      <td>1</td>\n",
       "    </tr>\n",
       "    <tr>\n",
       "      <th>3</th>\n",
       "      <td>100003</td>\n",
       "      <td>1</td>\n",
       "    </tr>\n",
       "    <tr>\n",
       "      <th>4</th>\n",
       "      <td>100004</td>\n",
       "      <td>1</td>\n",
       "    </tr>\n",
       "    <tr>\n",
       "      <th>...</th>\n",
       "      <td>...</td>\n",
       "      <td>...</td>\n",
       "    </tr>\n",
       "    <tr>\n",
       "      <th>99995</th>\n",
       "      <td>199995</td>\n",
       "      <td>1</td>\n",
       "    </tr>\n",
       "    <tr>\n",
       "      <th>99996</th>\n",
       "      <td>199996</td>\n",
       "      <td>1</td>\n",
       "    </tr>\n",
       "    <tr>\n",
       "      <th>99997</th>\n",
       "      <td>199997</td>\n",
       "      <td>1</td>\n",
       "    </tr>\n",
       "    <tr>\n",
       "      <th>99998</th>\n",
       "      <td>199998</td>\n",
       "      <td>1</td>\n",
       "    </tr>\n",
       "    <tr>\n",
       "      <th>99999</th>\n",
       "      <td>199999</td>\n",
       "      <td>1</td>\n",
       "    </tr>\n",
       "  </tbody>\n",
       "</table>\n",
       "<p>100000 rows × 2 columns</p>\n",
       "</div>"
      ],
      "text/plain": [
       "       PassengerId  Survived\n",
       "0           100000         1\n",
       "1           100001         1\n",
       "2           100002         1\n",
       "3           100003         1\n",
       "4           100004         1\n",
       "...            ...       ...\n",
       "99995       199995         1\n",
       "99996       199996         1\n",
       "99997       199997         1\n",
       "99998       199998         1\n",
       "99999       199999         1\n",
       "\n",
       "[100000 rows x 2 columns]"
      ]
     },
     "execution_count": 5,
     "metadata": {},
     "output_type": "execute_result"
    }
   ],
   "source": [
    "sample_sub"
   ]
  },
  {
   "cell_type": "markdown",
   "metadata": {},
   "source": [
    "## Basic preprocess"
   ]
  },
  {
   "cell_type": "code",
   "execution_count": 6,
   "metadata": {},
   "outputs": [
    {
     "data": {
      "text/html": [
       "<div>\n",
       "<style scoped>\n",
       "    .dataframe tbody tr th:only-of-type {\n",
       "        vertical-align: middle;\n",
       "    }\n",
       "\n",
       "    .dataframe tbody tr th {\n",
       "        vertical-align: top;\n",
       "    }\n",
       "\n",
       "    .dataframe thead th {\n",
       "        text-align: right;\n",
       "    }\n",
       "</style>\n",
       "<table border=\"1\" class=\"dataframe\">\n",
       "  <thead>\n",
       "    <tr style=\"text-align: right;\">\n",
       "      <th></th>\n",
       "      <th>pclass</th>\n",
       "      <th>name</th>\n",
       "      <th>sex</th>\n",
       "      <th>age</th>\n",
       "      <th>sibsp</th>\n",
       "      <th>parch</th>\n",
       "      <th>ticket</th>\n",
       "      <th>fare</th>\n",
       "      <th>cabin</th>\n",
       "      <th>embarked</th>\n",
       "    </tr>\n",
       "    <tr>\n",
       "      <th>passengerid</th>\n",
       "      <th></th>\n",
       "      <th></th>\n",
       "      <th></th>\n",
       "      <th></th>\n",
       "      <th></th>\n",
       "      <th></th>\n",
       "      <th></th>\n",
       "      <th></th>\n",
       "      <th></th>\n",
       "      <th></th>\n",
       "    </tr>\n",
       "  </thead>\n",
       "  <tbody>\n",
       "    <tr>\n",
       "      <th>0</th>\n",
       "      <td>1</td>\n",
       "      <td>Oconnor, Frankie</td>\n",
       "      <td>male</td>\n",
       "      <td>NaN</td>\n",
       "      <td>2</td>\n",
       "      <td>0</td>\n",
       "      <td>209245</td>\n",
       "      <td>27.14</td>\n",
       "      <td>C12239</td>\n",
       "      <td>S</td>\n",
       "    </tr>\n",
       "    <tr>\n",
       "      <th>1</th>\n",
       "      <td>3</td>\n",
       "      <td>Bryan, Drew</td>\n",
       "      <td>male</td>\n",
       "      <td>NaN</td>\n",
       "      <td>0</td>\n",
       "      <td>0</td>\n",
       "      <td>27323</td>\n",
       "      <td>13.35</td>\n",
       "      <td>NaN</td>\n",
       "      <td>S</td>\n",
       "    </tr>\n",
       "    <tr>\n",
       "      <th>2</th>\n",
       "      <td>3</td>\n",
       "      <td>Owens, Kenneth</td>\n",
       "      <td>male</td>\n",
       "      <td>0.33</td>\n",
       "      <td>1</td>\n",
       "      <td>2</td>\n",
       "      <td>CA 457703</td>\n",
       "      <td>71.29</td>\n",
       "      <td>NaN</td>\n",
       "      <td>S</td>\n",
       "    </tr>\n",
       "    <tr>\n",
       "      <th>3</th>\n",
       "      <td>3</td>\n",
       "      <td>Kramer, James</td>\n",
       "      <td>male</td>\n",
       "      <td>19.00</td>\n",
       "      <td>0</td>\n",
       "      <td>0</td>\n",
       "      <td>A. 10866</td>\n",
       "      <td>13.04</td>\n",
       "      <td>NaN</td>\n",
       "      <td>S</td>\n",
       "    </tr>\n",
       "    <tr>\n",
       "      <th>4</th>\n",
       "      <td>3</td>\n",
       "      <td>Bond, Michael</td>\n",
       "      <td>male</td>\n",
       "      <td>25.00</td>\n",
       "      <td>0</td>\n",
       "      <td>0</td>\n",
       "      <td>427635</td>\n",
       "      <td>7.76</td>\n",
       "      <td>NaN</td>\n",
       "      <td>S</td>\n",
       "    </tr>\n",
       "  </tbody>\n",
       "</table>\n",
       "</div>"
      ],
      "text/plain": [
       "             pclass              name   sex    age  sibsp  parch     ticket  \\\n",
       "passengerid                                                                   \n",
       "0                 1  Oconnor, Frankie  male    NaN      2      0     209245   \n",
       "1                 3       Bryan, Drew  male    NaN      0      0      27323   \n",
       "2                 3    Owens, Kenneth  male   0.33      1      2  CA 457703   \n",
       "3                 3     Kramer, James  male  19.00      0      0   A. 10866   \n",
       "4                 3     Bond, Michael  male  25.00      0      0     427635   \n",
       "\n",
       "              fare   cabin embarked  \n",
       "passengerid                          \n",
       "0            27.14  C12239        S  \n",
       "1            13.35     NaN        S  \n",
       "2            71.29     NaN        S  \n",
       "3            13.04     NaN        S  \n",
       "4             7.76     NaN        S  "
      ]
     },
     "execution_count": 6,
     "metadata": {},
     "output_type": "execute_result"
    }
   ],
   "source": [
    "X_train = df_train[[col for col in df_train.columns if col != 'Survived']]\n",
    "X_train.columns = [c.lower() for c in X_train.columns]\n",
    "X_train.set_index('passengerid', inplace=True)\n",
    "X_train.head()"
   ]
  },
  {
   "cell_type": "code",
   "execution_count": 7,
   "metadata": {},
   "outputs": [
    {
     "data": {
      "text/plain": [
       "passengerid\n",
       "0    1\n",
       "1    0\n",
       "2    0\n",
       "3    0\n",
       "4    1\n",
       "Name: survived, dtype: int64"
      ]
     },
     "execution_count": 7,
     "metadata": {},
     "output_type": "execute_result"
    }
   ],
   "source": [
    "y_train = df_train[['PassengerId','Survived']]\n",
    "y_train.columns = [c.lower() for c in y_train.columns]\n",
    "y_train.set_index('passengerid', inplace=True)\n",
    "y_train = y_train['survived']\n",
    "y_train.head()"
   ]
  },
  {
   "cell_type": "code",
   "execution_count": 8,
   "metadata": {},
   "outputs": [
    {
     "data": {
      "text/html": [
       "<div>\n",
       "<style scoped>\n",
       "    .dataframe tbody tr th:only-of-type {\n",
       "        vertical-align: middle;\n",
       "    }\n",
       "\n",
       "    .dataframe tbody tr th {\n",
       "        vertical-align: top;\n",
       "    }\n",
       "\n",
       "    .dataframe thead th {\n",
       "        text-align: right;\n",
       "    }\n",
       "</style>\n",
       "<table border=\"1\" class=\"dataframe\">\n",
       "  <thead>\n",
       "    <tr style=\"text-align: right;\">\n",
       "      <th></th>\n",
       "      <th>pclass</th>\n",
       "      <th>name</th>\n",
       "      <th>sex</th>\n",
       "      <th>age</th>\n",
       "      <th>sibsp</th>\n",
       "      <th>parch</th>\n",
       "      <th>ticket</th>\n",
       "      <th>fare</th>\n",
       "      <th>cabin</th>\n",
       "      <th>embarked</th>\n",
       "    </tr>\n",
       "    <tr>\n",
       "      <th>passengerid</th>\n",
       "      <th></th>\n",
       "      <th></th>\n",
       "      <th></th>\n",
       "      <th></th>\n",
       "      <th></th>\n",
       "      <th></th>\n",
       "      <th></th>\n",
       "      <th></th>\n",
       "      <th></th>\n",
       "      <th></th>\n",
       "    </tr>\n",
       "  </thead>\n",
       "  <tbody>\n",
       "    <tr>\n",
       "      <th>100000</th>\n",
       "      <td>3</td>\n",
       "      <td>Holliday, Daniel</td>\n",
       "      <td>male</td>\n",
       "      <td>19.0</td>\n",
       "      <td>0</td>\n",
       "      <td>0</td>\n",
       "      <td>24745</td>\n",
       "      <td>63.01</td>\n",
       "      <td>NaN</td>\n",
       "      <td>S</td>\n",
       "    </tr>\n",
       "    <tr>\n",
       "      <th>100001</th>\n",
       "      <td>3</td>\n",
       "      <td>Nguyen, Lorraine</td>\n",
       "      <td>female</td>\n",
       "      <td>53.0</td>\n",
       "      <td>0</td>\n",
       "      <td>0</td>\n",
       "      <td>13264</td>\n",
       "      <td>5.81</td>\n",
       "      <td>NaN</td>\n",
       "      <td>S</td>\n",
       "    </tr>\n",
       "    <tr>\n",
       "      <th>100002</th>\n",
       "      <td>1</td>\n",
       "      <td>Harris, Heather</td>\n",
       "      <td>female</td>\n",
       "      <td>19.0</td>\n",
       "      <td>0</td>\n",
       "      <td>0</td>\n",
       "      <td>25990</td>\n",
       "      <td>38.91</td>\n",
       "      <td>B15315</td>\n",
       "      <td>C</td>\n",
       "    </tr>\n",
       "    <tr>\n",
       "      <th>100003</th>\n",
       "      <td>2</td>\n",
       "      <td>Larsen, Eric</td>\n",
       "      <td>male</td>\n",
       "      <td>25.0</td>\n",
       "      <td>0</td>\n",
       "      <td>0</td>\n",
       "      <td>314011</td>\n",
       "      <td>12.93</td>\n",
       "      <td>NaN</td>\n",
       "      <td>S</td>\n",
       "    </tr>\n",
       "    <tr>\n",
       "      <th>100004</th>\n",
       "      <td>1</td>\n",
       "      <td>Cleary, Sarah</td>\n",
       "      <td>female</td>\n",
       "      <td>17.0</td>\n",
       "      <td>0</td>\n",
       "      <td>2</td>\n",
       "      <td>26203</td>\n",
       "      <td>26.89</td>\n",
       "      <td>B22515</td>\n",
       "      <td>C</td>\n",
       "    </tr>\n",
       "  </tbody>\n",
       "</table>\n",
       "</div>"
      ],
      "text/plain": [
       "             pclass              name     sex   age  sibsp  parch  ticket  \\\n",
       "passengerid                                                                 \n",
       "100000            3  Holliday, Daniel    male  19.0      0      0   24745   \n",
       "100001            3  Nguyen, Lorraine  female  53.0      0      0   13264   \n",
       "100002            1   Harris, Heather  female  19.0      0      0   25990   \n",
       "100003            2      Larsen, Eric    male  25.0      0      0  314011   \n",
       "100004            1     Cleary, Sarah  female  17.0      0      2   26203   \n",
       "\n",
       "              fare   cabin embarked  \n",
       "passengerid                          \n",
       "100000       63.01     NaN        S  \n",
       "100001        5.81     NaN        S  \n",
       "100002       38.91  B15315        C  \n",
       "100003       12.93     NaN        S  \n",
       "100004       26.89  B22515        C  "
      ]
     },
     "execution_count": 8,
     "metadata": {},
     "output_type": "execute_result"
    }
   ],
   "source": [
    "X_test = df_test[[col for col in df_test.columns if col != 'Survived']]\n",
    "X_test.columns = [c.lower() for c in X_test.columns]\n",
    "X_test.set_index('passengerid', inplace=True)\n",
    "X_test.head()"
   ]
  },
  {
   "cell_type": "markdown",
   "metadata": {},
   "source": [
    "## pipeline simple"
   ]
  },
  {
   "cell_type": "code",
   "execution_count": 9,
   "metadata": {},
   "outputs": [],
   "source": [
    "text_features = ['name', 'ticket']\n",
    "cat_features = ['sex', 'embarked', 'cabin']"
   ]
  },
  {
   "cell_type": "code",
   "execution_count": 10,
   "metadata": {},
   "outputs": [],
   "source": [
    "from catboost import CatBoostClassifier\n",
    "from sklearn.naive_bayes import GaussianNB"
   ]
  },
  {
   "cell_type": "code",
   "execution_count": 11,
   "metadata": {},
   "outputs": [],
   "source": [
    "original_features = X_train.columns.to_list()"
   ]
  },
  {
   "cell_type": "code",
   "execution_count": 12,
   "metadata": {},
   "outputs": [],
   "source": [
    "def transform_name(df_base, col):\n",
    "    df = df_base[col].apply(lambda x: x.split(',')).to_frame('list_name')\n",
    "    df['surname'] = df['list_name'].apply(lambda x: x[0])\n",
    "    df['forename'] = df['list_name'].apply(lambda x: x[1])\n",
    "    return df[['surname', 'forename']]"
   ]
  },
  {
   "cell_type": "code",
   "execution_count": 13,
   "metadata": {},
   "outputs": [],
   "source": [
    "def get_tck_str(tck):\n",
    "    try:\n",
    "        x = tck.split()\n",
    "        try: \n",
    "            a = int(x[0])\n",
    "            return None\n",
    "        except:\n",
    "            return x[0]\n",
    "    except:\n",
    "        return None\n",
    "    \n",
    "def get_tck_num(tck):\n",
    "    try:\n",
    "        x = tck.split()\n",
    "        try:\n",
    "            a = int(x[0])\n",
    "            return a\n",
    "        except:\n",
    "            return None\n",
    "    except:\n",
    "        return None\n",
    "\n",
    "def transform_ticket(df_base, col):\n",
    "    df_ticket = df_base[col].to_frame('ticket')\n",
    "    df_ticket['ticket_str'] = df_base[col].apply(get_tck_str)\n",
    "    df_ticket['ticket_num'] = df_base[col].apply(get_tck_num)\n",
    "    return df_ticket[['ticket_str', 'ticket_num']]"
   ]
  },
  {
   "cell_type": "code",
   "execution_count": 14,
   "metadata": {},
   "outputs": [],
   "source": [
    "def transform_cabin(df_base, col):\n",
    "    df_cabin = df_base[col].to_frame('cabin')\n",
    "    df_cabin_clean = df_cabin[~df_cabin['cabin'].isna()].copy()\n",
    "    df_cabin_clean['cabin_str'] = df_cabin_clean['cabin'].apply(lambda x: x[0])\n",
    "    df_cabin_clean['cabin_num'] = df_cabin_clean['cabin'].apply(lambda x: x[1:]).astype(int)\n",
    "    return df_cabin.join(df_cabin_clean[['cabin_str', 'cabin_num']])[['cabin_str', 'cabin_num']]"
   ]
  },
  {
   "cell_type": "code",
   "execution_count": 15,
   "metadata": {},
   "outputs": [],
   "source": [
    "from sklearn.base import TransformerMixin, BaseEstimator\n",
    "class PassNameTransformer(BaseEstimator, TransformerMixin):\n",
    "    def fit(self, X, y=None):\n",
    "        return self\n",
    "\n",
    "    def transform(self, X):\n",
    "        self.X = transform_name(X, 'name')\n",
    "        return self.X\n",
    "\n",
    "    def get_feature_names(self):\n",
    "        return self.X.columns.tolist()\n",
    "\n",
    "class TicketTransformer(BaseEstimator, TransformerMixin):\n",
    "    def fit(self, X, y=None):\n",
    "        return self\n",
    "\n",
    "    def transform(self, X):\n",
    "        self.X = transform_ticket(X, 'ticket')\n",
    "        return self.X\n",
    "\n",
    "    def get_feature_names(self):\n",
    "        return self.X.columns.tolist()\n",
    "    \n"
   ]
  },
  {
   "cell_type": "code",
   "execution_count": 16,
   "metadata": {},
   "outputs": [],
   "source": [
    "def lower_values(df):\n",
    "    o_features = df.dtypes[df.dtypes=='object'].index.to_list()\n",
    "    df_copy = df.copy()\n",
    "    for c in o_features:\n",
    "        df_copy[c] = df_copy[c].apply(lambda x: x.lower() if type(x)==str else None)\n",
    "    return df_copy\n",
    "class LowerTransformer(BaseEstimator, TransformerMixin):\n",
    "    def fit(self, X, y=None):\n",
    "        return self\n",
    "    def transform(self,X):\n",
    "        return lower_values(X)"
   ]
  },
  {
   "cell_type": "code",
   "execution_count": null,
   "metadata": {},
   "outputs": [],
   "source": []
  },
  {
   "cell_type": "code",
   "execution_count": null,
   "metadata": {},
   "outputs": [],
   "source": []
  },
  {
   "cell_type": "code",
   "execution_count": null,
   "metadata": {},
   "outputs": [],
   "source": []
  },
  {
   "cell_type": "code",
   "execution_count": null,
   "metadata": {},
   "outputs": [],
   "source": []
  },
  {
   "cell_type": "markdown",
   "metadata": {},
   "source": [
    "# Programming Skills Supplement"
   ]
  },
  {
   "cell_type": "markdown",
   "metadata": {},
   "source": [
    "This section shows my proficiency in programming using Python, some of the demonstrated topics are:\n",
    "> - Loop and loop comprehension\n",
    "> - Object-oriented programming (OOP): class, object, custom method, inheritance, etc.\n",
    "> - Using numpy and pandas to manipulate arrays/dataframes\n",
    "> - Using scikit-learn's transformers and pipeline to transform data\n",
    "\n",
    "Note: Due to the length limit, some classes were imported before this section. You can find the full notebook with [this link](https://github.com/trantrikien239/pandas-sklearn-toolkit/blob/main/notebooks/pipeline_titanic.ipynb).\n",
    "In addition to the code provided here, please also take a look at some of my other works:\n",
    "- Blogpost on [applying sequence approach to grocery transactiond data](https://master-data.science/2021/11/30/Applying-sequence-classification-to-grocery-data-with-a-two-step-approach.html)\n",
    "- Github project where I created a [Sudoku solver from scratch](https://github.com/trantrikien239/sudoku)\n",
    "- Medium article on [team work in data science](https://medium.com/@kien239/how-to-make-delegation-work-in-a-data-science-team-beb5e8bd5901)"
   ]
  },
  {
   "cell_type": "code",
   "execution_count": 17,
   "metadata": {},
   "outputs": [],
   "source": [
    "from sklearn.pipeline import FeatureUnion\n",
    "from sklearn.base import TransformerMixin, BaseEstimator\n",
    "from tqdm.auto import tqdm\n",
    "from sklearn import set_config; set_config(display='diagram')\n",
    "\n",
    "class featureUnion(FeatureUnion):\n",
    "    def _hstack(self, Xs):\n",
    "        cols = [X.columns.tolist() for X in Xs]\n",
    "        dtypes = []\n",
    "        for X in Xs:\n",
    "            dtypes.append([str(X[col].dtype) for col in X])\n",
    "        cols = np.hstack(cols)\n",
    "        dtypes = np.hstack(dtypes)\n",
    "        data = pd.DataFrame(super()._hstack(Xs), columns = cols)\n",
    "        print('====Converting columns types====')\n",
    "        for col, dtype in tqdm(zip(cols, dtypes)):\n",
    "            data[col] = data[col].astype(dtype)\n",
    "        return data\n",
    "\n",
    "def transform_cabin(df_base, col):\n",
    "    df_cabin = df_base[col].to_frame('cabin')\n",
    "    df_cabin_clean = df_cabin[~df_cabin['cabin'].isna()].copy()\n",
    "    df_cabin_clean['cabin_str'] = df_cabin_clean['cabin'].apply(lambda x: x[0])\n",
    "    df_cabin_clean['cabin_num'] = df_cabin_clean['cabin'].apply(lambda x: x[1:]).astype(int)\n",
    "    return df_cabin.join(df_cabin_clean[['cabin_str', 'cabin_num']])[['cabin_str', 'cabin_num']]\n",
    "class CabinTransformer(BaseEstimator, TransformerMixin):\n",
    "    def fit(self, X, y=None):\n",
    "        return self\n",
    "    def transform(self, X):\n",
    "        self.X = transform_cabin(X, 'cabin')\n",
    "        return self.X\n",
    "    def get_feature_names(self):\n",
    "        return self.X.columns.tolist()\n",
    "\n",
    "class ColumnSelectTransformer(BaseEstimator, TransformerMixin):\n",
    "    def __init__(self, columns=None):\n",
    "        super().__init__()\n",
    "        self.columns=columns\n",
    "    def fit(self, X, y=None):\n",
    "        return self\n",
    "    def transform(self, X):\n",
    "        return X[self.columns]\n",
    "\n",
    "def lower_values(df):\n",
    "    o_features = df.dtypes[df.dtypes=='object'].index.to_list()\n",
    "    df_copy = df.copy()\n",
    "    for c in o_features:\n",
    "        df_copy[c] = df_copy[c].apply(lambda x: x.lower() if type(x)==str else None)\n",
    "    return df_copy\n",
    "class LowerTransformer(BaseEstimator, TransformerMixin):\n",
    "    def fit(self, X, y=None):\n",
    "        return self\n",
    "    def transform(self,X):\n",
    "        return lower_values(X)"
   ]
  },
  {
   "cell_type": "code",
   "execution_count": 18,
   "metadata": {},
   "outputs": [],
   "source": [
    "col_processor = featureUnion(transformer_list=[\n",
    "    ('pass_name', PassNameTransformer()),\n",
    "    ('ticket', TicketTransformer()),\n",
    "    ('cabin', CabinTransformer()),\n",
    "    ('others', ColumnSelectTransformer(columns=[c for c in original_features if c not in ('name', 'ticket', 'cabin')]))\n",
    "]\n",
    ")\n",
    "pl = Pipeline(steps=[\n",
    "    ('raw_data_processor', col_processor),\n",
    "    ('lower_text_values', LowerTransformer())\n",
    "])"
   ]
  },
  {
   "cell_type": "code",
   "execution_count": 19,
   "metadata": {},
   "outputs": [
    {
     "data": {
      "text/html": [
       "<style>#sk-ecaee8db-163c-41d3-a322-a6f8fc1acbf0 {color: black;background-color: white;}#sk-ecaee8db-163c-41d3-a322-a6f8fc1acbf0 pre{padding: 0;}#sk-ecaee8db-163c-41d3-a322-a6f8fc1acbf0 div.sk-toggleable {background-color: white;}#sk-ecaee8db-163c-41d3-a322-a6f8fc1acbf0 label.sk-toggleable__label {cursor: pointer;display: block;width: 100%;margin-bottom: 0;padding: 0.3em;box-sizing: border-box;text-align: center;}#sk-ecaee8db-163c-41d3-a322-a6f8fc1acbf0 label.sk-toggleable__label-arrow:before {content: \"▸\";float: left;margin-right: 0.25em;color: #696969;}#sk-ecaee8db-163c-41d3-a322-a6f8fc1acbf0 label.sk-toggleable__label-arrow:hover:before {color: black;}#sk-ecaee8db-163c-41d3-a322-a6f8fc1acbf0 div.sk-estimator:hover label.sk-toggleable__label-arrow:before {color: black;}#sk-ecaee8db-163c-41d3-a322-a6f8fc1acbf0 div.sk-toggleable__content {max-height: 0;max-width: 0;overflow: hidden;text-align: left;background-color: #f0f8ff;}#sk-ecaee8db-163c-41d3-a322-a6f8fc1acbf0 div.sk-toggleable__content pre {margin: 0.2em;color: black;border-radius: 0.25em;background-color: #f0f8ff;}#sk-ecaee8db-163c-41d3-a322-a6f8fc1acbf0 input.sk-toggleable__control:checked~div.sk-toggleable__content {max-height: 200px;max-width: 100%;overflow: auto;}#sk-ecaee8db-163c-41d3-a322-a6f8fc1acbf0 input.sk-toggleable__control:checked~label.sk-toggleable__label-arrow:before {content: \"▾\";}#sk-ecaee8db-163c-41d3-a322-a6f8fc1acbf0 div.sk-estimator input.sk-toggleable__control:checked~label.sk-toggleable__label {background-color: #d4ebff;}#sk-ecaee8db-163c-41d3-a322-a6f8fc1acbf0 div.sk-label input.sk-toggleable__control:checked~label.sk-toggleable__label {background-color: #d4ebff;}#sk-ecaee8db-163c-41d3-a322-a6f8fc1acbf0 input.sk-hidden--visually {border: 0;clip: rect(1px 1px 1px 1px);clip: rect(1px, 1px, 1px, 1px);height: 1px;margin: -1px;overflow: hidden;padding: 0;position: absolute;width: 1px;}#sk-ecaee8db-163c-41d3-a322-a6f8fc1acbf0 div.sk-estimator {font-family: monospace;background-color: #f0f8ff;border: 1px dotted black;border-radius: 0.25em;box-sizing: border-box;margin-bottom: 0.5em;}#sk-ecaee8db-163c-41d3-a322-a6f8fc1acbf0 div.sk-estimator:hover {background-color: #d4ebff;}#sk-ecaee8db-163c-41d3-a322-a6f8fc1acbf0 div.sk-parallel-item::after {content: \"\";width: 100%;border-bottom: 1px solid gray;flex-grow: 1;}#sk-ecaee8db-163c-41d3-a322-a6f8fc1acbf0 div.sk-label:hover label.sk-toggleable__label {background-color: #d4ebff;}#sk-ecaee8db-163c-41d3-a322-a6f8fc1acbf0 div.sk-serial::before {content: \"\";position: absolute;border-left: 1px solid gray;box-sizing: border-box;top: 2em;bottom: 0;left: 50%;}#sk-ecaee8db-163c-41d3-a322-a6f8fc1acbf0 div.sk-serial {display: flex;flex-direction: column;align-items: center;background-color: white;padding-right: 0.2em;padding-left: 0.2em;}#sk-ecaee8db-163c-41d3-a322-a6f8fc1acbf0 div.sk-item {z-index: 1;}#sk-ecaee8db-163c-41d3-a322-a6f8fc1acbf0 div.sk-parallel {display: flex;align-items: stretch;justify-content: center;background-color: white;}#sk-ecaee8db-163c-41d3-a322-a6f8fc1acbf0 div.sk-parallel::before {content: \"\";position: absolute;border-left: 1px solid gray;box-sizing: border-box;top: 2em;bottom: 0;left: 50%;}#sk-ecaee8db-163c-41d3-a322-a6f8fc1acbf0 div.sk-parallel-item {display: flex;flex-direction: column;position: relative;background-color: white;}#sk-ecaee8db-163c-41d3-a322-a6f8fc1acbf0 div.sk-parallel-item:first-child::after {align-self: flex-end;width: 50%;}#sk-ecaee8db-163c-41d3-a322-a6f8fc1acbf0 div.sk-parallel-item:last-child::after {align-self: flex-start;width: 50%;}#sk-ecaee8db-163c-41d3-a322-a6f8fc1acbf0 div.sk-parallel-item:only-child::after {width: 0;}#sk-ecaee8db-163c-41d3-a322-a6f8fc1acbf0 div.sk-dashed-wrapped {border: 1px dashed gray;margin: 0 0.4em 0.5em 0.4em;box-sizing: border-box;padding-bottom: 0.4em;background-color: white;position: relative;}#sk-ecaee8db-163c-41d3-a322-a6f8fc1acbf0 div.sk-label label {font-family: monospace;font-weight: bold;background-color: white;display: inline-block;line-height: 1.2em;}#sk-ecaee8db-163c-41d3-a322-a6f8fc1acbf0 div.sk-label-container {position: relative;z-index: 2;text-align: center;}#sk-ecaee8db-163c-41d3-a322-a6f8fc1acbf0 div.sk-container {/* jupyter's `normalize.less` sets `[hidden] { display: none; }` but bootstrap.min.css set `[hidden] { display: none !important; }` so we also need the `!important` here to be able to override the default hidden behavior on the sphinx rendered scikit-learn.org. See: https://github.com/scikit-learn/scikit-learn/issues/21755 */display: inline-block !important;position: relative;}#sk-ecaee8db-163c-41d3-a322-a6f8fc1acbf0 div.sk-text-repr-fallback {display: none;}</style><div id=\"sk-ecaee8db-163c-41d3-a322-a6f8fc1acbf0\" class=\"sk-top-container\"><div class=\"sk-text-repr-fallback\"><pre>Pipeline(steps=[(&#x27;raw_data_processor&#x27;,\n",
       "                 featureUnion(transformer_list=[(&#x27;pass_name&#x27;,\n",
       "                                                 PassNameTransformer()),\n",
       "                                                (&#x27;ticket&#x27;, TicketTransformer()),\n",
       "                                                (&#x27;cabin&#x27;, CabinTransformer()),\n",
       "                                                (&#x27;others&#x27;,\n",
       "                                                 ColumnSelectTransformer(columns=[&#x27;pclass&#x27;,\n",
       "                                                                                  &#x27;sex&#x27;,\n",
       "                                                                                  &#x27;age&#x27;,\n",
       "                                                                                  &#x27;sibsp&#x27;,\n",
       "                                                                                  &#x27;parch&#x27;,\n",
       "                                                                                  &#x27;fare&#x27;,\n",
       "                                                                                  &#x27;embarked&#x27;]))])),\n",
       "                (&#x27;lower_text_values&#x27;, LowerTransformer())])</pre><b>Please rerun this cell to show the HTML repr or trust the notebook.</b></div><div class=\"sk-container\" hidden><div class=\"sk-item sk-dashed-wrapped\"><div class=\"sk-label-container\"><div class=\"sk-label sk-toggleable\"><input class=\"sk-toggleable__control sk-hidden--visually\" id=\"f9eecb4b-875f-4629-adc8-2dfdca6ad6f4\" type=\"checkbox\" ><label for=\"f9eecb4b-875f-4629-adc8-2dfdca6ad6f4\" class=\"sk-toggleable__label sk-toggleable__label-arrow\">Pipeline</label><div class=\"sk-toggleable__content\"><pre>Pipeline(steps=[(&#x27;raw_data_processor&#x27;,\n",
       "                 featureUnion(transformer_list=[(&#x27;pass_name&#x27;,\n",
       "                                                 PassNameTransformer()),\n",
       "                                                (&#x27;ticket&#x27;, TicketTransformer()),\n",
       "                                                (&#x27;cabin&#x27;, CabinTransformer()),\n",
       "                                                (&#x27;others&#x27;,\n",
       "                                                 ColumnSelectTransformer(columns=[&#x27;pclass&#x27;,\n",
       "                                                                                  &#x27;sex&#x27;,\n",
       "                                                                                  &#x27;age&#x27;,\n",
       "                                                                                  &#x27;sibsp&#x27;,\n",
       "                                                                                  &#x27;parch&#x27;,\n",
       "                                                                                  &#x27;fare&#x27;,\n",
       "                                                                                  &#x27;embarked&#x27;]))])),\n",
       "                (&#x27;lower_text_values&#x27;, LowerTransformer())])</pre></div></div></div><div class=\"sk-serial\"><div class=\"sk-item sk-dashed-wrapped\"><div class=\"sk-label-container\"><div class=\"sk-label sk-toggleable\"><input class=\"sk-toggleable__control sk-hidden--visually\" id=\"16ff1d66-1688-438f-a798-66755e551557\" type=\"checkbox\" ><label for=\"16ff1d66-1688-438f-a798-66755e551557\" class=\"sk-toggleable__label sk-toggleable__label-arrow\">raw_data_processor: featureUnion</label><div class=\"sk-toggleable__content\"><pre>featureUnion(transformer_list=[(&#x27;pass_name&#x27;, PassNameTransformer()),\n",
       "                               (&#x27;ticket&#x27;, TicketTransformer()),\n",
       "                               (&#x27;cabin&#x27;, CabinTransformer()),\n",
       "                               (&#x27;others&#x27;,\n",
       "                                ColumnSelectTransformer(columns=[&#x27;pclass&#x27;,\n",
       "                                                                 &#x27;sex&#x27;, &#x27;age&#x27;,\n",
       "                                                                 &#x27;sibsp&#x27;,\n",
       "                                                                 &#x27;parch&#x27;,\n",
       "                                                                 &#x27;fare&#x27;,\n",
       "                                                                 &#x27;embarked&#x27;]))])</pre></div></div></div><div class=\"sk-parallel\"><div class=\"sk-parallel-item\"><div class=\"sk-item\"><div class=\"sk-label-container\"><div class=\"sk-label sk-toggleable\"><label>pass_name</label></div></div><div class=\"sk-serial\"><div class=\"sk-item\"><div class=\"sk-estimator sk-toggleable\"><input class=\"sk-toggleable__control sk-hidden--visually\" id=\"fdd3d1bb-ff32-49d1-966a-b57123da75d4\" type=\"checkbox\" ><label for=\"fdd3d1bb-ff32-49d1-966a-b57123da75d4\" class=\"sk-toggleable__label sk-toggleable__label-arrow\">PassNameTransformer</label><div class=\"sk-toggleable__content\"><pre>PassNameTransformer()</pre></div></div></div></div></div></div><div class=\"sk-parallel-item\"><div class=\"sk-item\"><div class=\"sk-label-container\"><div class=\"sk-label sk-toggleable\"><label>ticket</label></div></div><div class=\"sk-serial\"><div class=\"sk-item\"><div class=\"sk-estimator sk-toggleable\"><input class=\"sk-toggleable__control sk-hidden--visually\" id=\"2e2f9d84-65e9-4b26-a3a7-f51d4c15329f\" type=\"checkbox\" ><label for=\"2e2f9d84-65e9-4b26-a3a7-f51d4c15329f\" class=\"sk-toggleable__label sk-toggleable__label-arrow\">TicketTransformer</label><div class=\"sk-toggleable__content\"><pre>TicketTransformer()</pre></div></div></div></div></div></div><div class=\"sk-parallel-item\"><div class=\"sk-item\"><div class=\"sk-label-container\"><div class=\"sk-label sk-toggleable\"><label>cabin</label></div></div><div class=\"sk-serial\"><div class=\"sk-item\"><div class=\"sk-estimator sk-toggleable\"><input class=\"sk-toggleable__control sk-hidden--visually\" id=\"9289c8f9-5e29-41f2-a0d5-83462adf7389\" type=\"checkbox\" ><label for=\"9289c8f9-5e29-41f2-a0d5-83462adf7389\" class=\"sk-toggleable__label sk-toggleable__label-arrow\">CabinTransformer</label><div class=\"sk-toggleable__content\"><pre>CabinTransformer()</pre></div></div></div></div></div></div><div class=\"sk-parallel-item\"><div class=\"sk-item\"><div class=\"sk-label-container\"><div class=\"sk-label sk-toggleable\"><label>others</label></div></div><div class=\"sk-serial\"><div class=\"sk-item\"><div class=\"sk-estimator sk-toggleable\"><input class=\"sk-toggleable__control sk-hidden--visually\" id=\"5aedfa5a-91b1-4fd9-9be4-3c01e50966e6\" type=\"checkbox\" ><label for=\"5aedfa5a-91b1-4fd9-9be4-3c01e50966e6\" class=\"sk-toggleable__label sk-toggleable__label-arrow\">ColumnSelectTransformer</label><div class=\"sk-toggleable__content\"><pre>ColumnSelectTransformer(columns=[&#x27;pclass&#x27;, &#x27;sex&#x27;, &#x27;age&#x27;, &#x27;sibsp&#x27;, &#x27;parch&#x27;,\n",
       "                                 &#x27;fare&#x27;, &#x27;embarked&#x27;])</pre></div></div></div></div></div></div></div></div><div class=\"sk-item\"><div class=\"sk-estimator sk-toggleable\"><input class=\"sk-toggleable__control sk-hidden--visually\" id=\"9e8b2439-8de9-49be-9651-af960ae7c910\" type=\"checkbox\" ><label for=\"9e8b2439-8de9-49be-9651-af960ae7c910\" class=\"sk-toggleable__label sk-toggleable__label-arrow\">LowerTransformer</label><div class=\"sk-toggleable__content\"><pre>LowerTransformer()</pre></div></div></div></div></div></div></div>"
      ],
      "text/plain": [
       "Pipeline(steps=[('raw_data_processor',\n",
       "                 featureUnion(transformer_list=[('pass_name',\n",
       "                                                 PassNameTransformer()),\n",
       "                                                ('ticket', TicketTransformer()),\n",
       "                                                ('cabin', CabinTransformer()),\n",
       "                                                ('others',\n",
       "                                                 ColumnSelectTransformer(columns=['pclass',\n",
       "                                                                                  'sex',\n",
       "                                                                                  'age',\n",
       "                                                                                  'sibsp',\n",
       "                                                                                  'parch',\n",
       "                                                                                  'fare',\n",
       "                                                                                  'embarked']))])),\n",
       "                ('lower_text_values', LowerTransformer())])"
      ]
     },
     "execution_count": 19,
     "metadata": {},
     "output_type": "execute_result"
    }
   ],
   "source": [
    "pl"
   ]
  },
  {
   "cell_type": "code",
   "execution_count": 20,
   "metadata": {},
   "outputs": [
    {
     "data": {
      "text/html": [
       "<div>\n",
       "<style scoped>\n",
       "    .dataframe tbody tr th:only-of-type {\n",
       "        vertical-align: middle;\n",
       "    }\n",
       "\n",
       "    .dataframe tbody tr th {\n",
       "        vertical-align: top;\n",
       "    }\n",
       "\n",
       "    .dataframe thead th {\n",
       "        text-align: right;\n",
       "    }\n",
       "</style>\n",
       "<table border=\"1\" class=\"dataframe\">\n",
       "  <thead>\n",
       "    <tr style=\"text-align: right;\">\n",
       "      <th></th>\n",
       "      <th>pclass</th>\n",
       "      <th>name</th>\n",
       "      <th>sex</th>\n",
       "      <th>age</th>\n",
       "      <th>sibsp</th>\n",
       "      <th>parch</th>\n",
       "      <th>ticket</th>\n",
       "      <th>fare</th>\n",
       "      <th>cabin</th>\n",
       "      <th>embarked</th>\n",
       "    </tr>\n",
       "    <tr>\n",
       "      <th>passengerid</th>\n",
       "      <th></th>\n",
       "      <th></th>\n",
       "      <th></th>\n",
       "      <th></th>\n",
       "      <th></th>\n",
       "      <th></th>\n",
       "      <th></th>\n",
       "      <th></th>\n",
       "      <th></th>\n",
       "      <th></th>\n",
       "    </tr>\n",
       "  </thead>\n",
       "  <tbody>\n",
       "    <tr>\n",
       "      <th>0</th>\n",
       "      <td>1</td>\n",
       "      <td>Oconnor, Frankie</td>\n",
       "      <td>male</td>\n",
       "      <td>NaN</td>\n",
       "      <td>2</td>\n",
       "      <td>0</td>\n",
       "      <td>209245</td>\n",
       "      <td>27.14</td>\n",
       "      <td>C12239</td>\n",
       "      <td>S</td>\n",
       "    </tr>\n",
       "    <tr>\n",
       "      <th>1</th>\n",
       "      <td>3</td>\n",
       "      <td>Bryan, Drew</td>\n",
       "      <td>male</td>\n",
       "      <td>NaN</td>\n",
       "      <td>0</td>\n",
       "      <td>0</td>\n",
       "      <td>27323</td>\n",
       "      <td>13.35</td>\n",
       "      <td>NaN</td>\n",
       "      <td>S</td>\n",
       "    </tr>\n",
       "    <tr>\n",
       "      <th>2</th>\n",
       "      <td>3</td>\n",
       "      <td>Owens, Kenneth</td>\n",
       "      <td>male</td>\n",
       "      <td>0.33</td>\n",
       "      <td>1</td>\n",
       "      <td>2</td>\n",
       "      <td>CA 457703</td>\n",
       "      <td>71.29</td>\n",
       "      <td>NaN</td>\n",
       "      <td>S</td>\n",
       "    </tr>\n",
       "    <tr>\n",
       "      <th>3</th>\n",
       "      <td>3</td>\n",
       "      <td>Kramer, James</td>\n",
       "      <td>male</td>\n",
       "      <td>19.00</td>\n",
       "      <td>0</td>\n",
       "      <td>0</td>\n",
       "      <td>A. 10866</td>\n",
       "      <td>13.04</td>\n",
       "      <td>NaN</td>\n",
       "      <td>S</td>\n",
       "    </tr>\n",
       "    <tr>\n",
       "      <th>4</th>\n",
       "      <td>3</td>\n",
       "      <td>Bond, Michael</td>\n",
       "      <td>male</td>\n",
       "      <td>25.00</td>\n",
       "      <td>0</td>\n",
       "      <td>0</td>\n",
       "      <td>427635</td>\n",
       "      <td>7.76</td>\n",
       "      <td>NaN</td>\n",
       "      <td>S</td>\n",
       "    </tr>\n",
       "  </tbody>\n",
       "</table>\n",
       "</div>"
      ],
      "text/plain": [
       "             pclass              name   sex    age  sibsp  parch     ticket  \\\n",
       "passengerid                                                                   \n",
       "0                 1  Oconnor, Frankie  male    NaN      2      0     209245   \n",
       "1                 3       Bryan, Drew  male    NaN      0      0      27323   \n",
       "2                 3    Owens, Kenneth  male   0.33      1      2  CA 457703   \n",
       "3                 3     Kramer, James  male  19.00      0      0   A. 10866   \n",
       "4                 3     Bond, Michael  male  25.00      0      0     427635   \n",
       "\n",
       "              fare   cabin embarked  \n",
       "passengerid                          \n",
       "0            27.14  C12239        S  \n",
       "1            13.35     NaN        S  \n",
       "2            71.29     NaN        S  \n",
       "3            13.04     NaN        S  \n",
       "4             7.76     NaN        S  "
      ]
     },
     "execution_count": 20,
     "metadata": {},
     "output_type": "execute_result"
    }
   ],
   "source": [
    "X_train.head()"
   ]
  },
  {
   "cell_type": "code",
   "execution_count": 21,
   "metadata": {
    "scrolled": false
   },
   "outputs": [
    {
     "name": "stdout",
     "output_type": "stream",
     "text": [
      "====Converting columns types====\n"
     ]
    },
    {
     "data": {
      "application/vnd.jupyter.widget-view+json": {
       "model_id": "4aa0423d927443979eace4e5053fb020",
       "version_major": 2,
       "version_minor": 0
      },
      "text/plain": [
       "0it [00:00, ?it/s]"
      ]
     },
     "metadata": {},
     "output_type": "display_data"
    },
    {
     "data": {
      "text/html": [
       "<div>\n",
       "<style scoped>\n",
       "    .dataframe tbody tr th:only-of-type {\n",
       "        vertical-align: middle;\n",
       "    }\n",
       "\n",
       "    .dataframe tbody tr th {\n",
       "        vertical-align: top;\n",
       "    }\n",
       "\n",
       "    .dataframe thead th {\n",
       "        text-align: right;\n",
       "    }\n",
       "</style>\n",
       "<table border=\"1\" class=\"dataframe\">\n",
       "  <thead>\n",
       "    <tr style=\"text-align: right;\">\n",
       "      <th></th>\n",
       "      <th>surname</th>\n",
       "      <th>forename</th>\n",
       "      <th>ticket_str</th>\n",
       "      <th>ticket_num</th>\n",
       "      <th>cabin_str</th>\n",
       "      <th>cabin_num</th>\n",
       "      <th>pclass</th>\n",
       "      <th>sex</th>\n",
       "      <th>age</th>\n",
       "      <th>sibsp</th>\n",
       "      <th>parch</th>\n",
       "      <th>fare</th>\n",
       "      <th>embarked</th>\n",
       "    </tr>\n",
       "  </thead>\n",
       "  <tbody>\n",
       "    <tr>\n",
       "      <th>0</th>\n",
       "      <td>oconnor</td>\n",
       "      <td>frankie</td>\n",
       "      <td>None</td>\n",
       "      <td>209245.0</td>\n",
       "      <td>c</td>\n",
       "      <td>12239.0</td>\n",
       "      <td>1</td>\n",
       "      <td>male</td>\n",
       "      <td>NaN</td>\n",
       "      <td>2</td>\n",
       "      <td>0</td>\n",
       "      <td>27.14</td>\n",
       "      <td>s</td>\n",
       "    </tr>\n",
       "    <tr>\n",
       "      <th>1</th>\n",
       "      <td>bryan</td>\n",
       "      <td>drew</td>\n",
       "      <td>None</td>\n",
       "      <td>27323.0</td>\n",
       "      <td>None</td>\n",
       "      <td>NaN</td>\n",
       "      <td>3</td>\n",
       "      <td>male</td>\n",
       "      <td>NaN</td>\n",
       "      <td>0</td>\n",
       "      <td>0</td>\n",
       "      <td>13.35</td>\n",
       "      <td>s</td>\n",
       "    </tr>\n",
       "    <tr>\n",
       "      <th>2</th>\n",
       "      <td>owens</td>\n",
       "      <td>kenneth</td>\n",
       "      <td>ca</td>\n",
       "      <td>NaN</td>\n",
       "      <td>None</td>\n",
       "      <td>NaN</td>\n",
       "      <td>3</td>\n",
       "      <td>male</td>\n",
       "      <td>0.33</td>\n",
       "      <td>1</td>\n",
       "      <td>2</td>\n",
       "      <td>71.29</td>\n",
       "      <td>s</td>\n",
       "    </tr>\n",
       "    <tr>\n",
       "      <th>3</th>\n",
       "      <td>kramer</td>\n",
       "      <td>james</td>\n",
       "      <td>a.</td>\n",
       "      <td>NaN</td>\n",
       "      <td>None</td>\n",
       "      <td>NaN</td>\n",
       "      <td>3</td>\n",
       "      <td>male</td>\n",
       "      <td>19.00</td>\n",
       "      <td>0</td>\n",
       "      <td>0</td>\n",
       "      <td>13.04</td>\n",
       "      <td>s</td>\n",
       "    </tr>\n",
       "    <tr>\n",
       "      <th>4</th>\n",
       "      <td>bond</td>\n",
       "      <td>michael</td>\n",
       "      <td>None</td>\n",
       "      <td>427635.0</td>\n",
       "      <td>None</td>\n",
       "      <td>NaN</td>\n",
       "      <td>3</td>\n",
       "      <td>male</td>\n",
       "      <td>25.00</td>\n",
       "      <td>0</td>\n",
       "      <td>0</td>\n",
       "      <td>7.76</td>\n",
       "      <td>s</td>\n",
       "    </tr>\n",
       "  </tbody>\n",
       "</table>\n",
       "</div>"
      ],
      "text/plain": [
       "   surname  forename ticket_str  ticket_num cabin_str  cabin_num  pclass  \\\n",
       "0  oconnor   frankie       None    209245.0         c    12239.0       1   \n",
       "1    bryan      drew       None     27323.0      None        NaN       3   \n",
       "2    owens   kenneth         ca         NaN      None        NaN       3   \n",
       "3   kramer     james         a.         NaN      None        NaN       3   \n",
       "4     bond   michael       None    427635.0      None        NaN       3   \n",
       "\n",
       "    sex    age  sibsp  parch   fare embarked  \n",
       "0  male    NaN      2      0  27.14        s  \n",
       "1  male    NaN      0      0  13.35        s  \n",
       "2  male   0.33      1      2  71.29        s  \n",
       "3  male  19.00      0      0  13.04        s  \n",
       "4  male  25.00      0      0   7.76        s  "
      ]
     },
     "execution_count": 21,
     "metadata": {},
     "output_type": "execute_result"
    }
   ],
   "source": [
    "df2 = pl.fit_transform(X_train)\n",
    "df2.head()"
   ]
  },
  {
   "cell_type": "code",
   "execution_count": null,
   "metadata": {},
   "outputs": [],
   "source": []
  },
  {
   "cell_type": "code",
   "execution_count": null,
   "metadata": {},
   "outputs": [],
   "source": []
  },
  {
   "cell_type": "code",
   "execution_count": null,
   "metadata": {},
   "outputs": [],
   "source": []
  },
  {
   "cell_type": "code",
   "execution_count": null,
   "metadata": {},
   "outputs": [],
   "source": []
  },
  {
   "cell_type": "code",
   "execution_count": null,
   "metadata": {},
   "outputs": [],
   "source": []
  },
  {
   "cell_type": "code",
   "execution_count": 22,
   "metadata": {},
   "outputs": [
    {
     "name": "stdout",
     "output_type": "stream",
     "text": [
      "====Converting columns types====\n"
     ]
    },
    {
     "data": {
      "application/vnd.jupyter.widget-view+json": {
       "model_id": "c87324502cbe45fa972521d95ee6f619",
       "version_major": 2,
       "version_minor": 0
      },
      "text/plain": [
       "0it [00:00, ?it/s]"
      ]
     },
     "metadata": {},
     "output_type": "display_data"
    },
    {
     "data": {
      "text/html": [
       "<div>\n",
       "<style scoped>\n",
       "    .dataframe tbody tr th:only-of-type {\n",
       "        vertical-align: middle;\n",
       "    }\n",
       "\n",
       "    .dataframe tbody tr th {\n",
       "        vertical-align: top;\n",
       "    }\n",
       "\n",
       "    .dataframe thead th {\n",
       "        text-align: right;\n",
       "    }\n",
       "</style>\n",
       "<table border=\"1\" class=\"dataframe\">\n",
       "  <thead>\n",
       "    <tr style=\"text-align: right;\">\n",
       "      <th></th>\n",
       "      <th>surname</th>\n",
       "      <th>forename</th>\n",
       "      <th>ticket_str</th>\n",
       "      <th>ticket_num</th>\n",
       "      <th>cabin_str</th>\n",
       "      <th>cabin_num</th>\n",
       "      <th>pclass</th>\n",
       "      <th>sex</th>\n",
       "      <th>age</th>\n",
       "      <th>sibsp</th>\n",
       "      <th>parch</th>\n",
       "      <th>fare</th>\n",
       "      <th>embarked</th>\n",
       "    </tr>\n",
       "  </thead>\n",
       "  <tbody>\n",
       "    <tr>\n",
       "      <th>0</th>\n",
       "      <td>oconnor</td>\n",
       "      <td>frankie</td>\n",
       "      <td>None</td>\n",
       "      <td>209245.0</td>\n",
       "      <td>c</td>\n",
       "      <td>12239.0</td>\n",
       "      <td>1</td>\n",
       "      <td>male</td>\n",
       "      <td>NaN</td>\n",
       "      <td>2</td>\n",
       "      <td>0</td>\n",
       "      <td>27.14</td>\n",
       "      <td>s</td>\n",
       "    </tr>\n",
       "    <tr>\n",
       "      <th>1</th>\n",
       "      <td>bryan</td>\n",
       "      <td>drew</td>\n",
       "      <td>None</td>\n",
       "      <td>27323.0</td>\n",
       "      <td>None</td>\n",
       "      <td>NaN</td>\n",
       "      <td>3</td>\n",
       "      <td>male</td>\n",
       "      <td>NaN</td>\n",
       "      <td>0</td>\n",
       "      <td>0</td>\n",
       "      <td>13.35</td>\n",
       "      <td>s</td>\n",
       "    </tr>\n",
       "    <tr>\n",
       "      <th>2</th>\n",
       "      <td>owens</td>\n",
       "      <td>kenneth</td>\n",
       "      <td>ca</td>\n",
       "      <td>NaN</td>\n",
       "      <td>None</td>\n",
       "      <td>NaN</td>\n",
       "      <td>3</td>\n",
       "      <td>male</td>\n",
       "      <td>0.33</td>\n",
       "      <td>1</td>\n",
       "      <td>2</td>\n",
       "      <td>71.29</td>\n",
       "      <td>s</td>\n",
       "    </tr>\n",
       "    <tr>\n",
       "      <th>3</th>\n",
       "      <td>kramer</td>\n",
       "      <td>james</td>\n",
       "      <td>a.</td>\n",
       "      <td>NaN</td>\n",
       "      <td>None</td>\n",
       "      <td>NaN</td>\n",
       "      <td>3</td>\n",
       "      <td>male</td>\n",
       "      <td>19.00</td>\n",
       "      <td>0</td>\n",
       "      <td>0</td>\n",
       "      <td>13.04</td>\n",
       "      <td>s</td>\n",
       "    </tr>\n",
       "    <tr>\n",
       "      <th>4</th>\n",
       "      <td>bond</td>\n",
       "      <td>michael</td>\n",
       "      <td>None</td>\n",
       "      <td>427635.0</td>\n",
       "      <td>None</td>\n",
       "      <td>NaN</td>\n",
       "      <td>3</td>\n",
       "      <td>male</td>\n",
       "      <td>25.00</td>\n",
       "      <td>0</td>\n",
       "      <td>0</td>\n",
       "      <td>7.76</td>\n",
       "      <td>s</td>\n",
       "    </tr>\n",
       "  </tbody>\n",
       "</table>\n",
       "</div>"
      ],
      "text/plain": [
       "   surname  forename ticket_str  ticket_num cabin_str  cabin_num  pclass  \\\n",
       "0  oconnor   frankie       None    209245.0         c    12239.0       1   \n",
       "1    bryan      drew       None     27323.0      None        NaN       3   \n",
       "2    owens   kenneth         ca         NaN      None        NaN       3   \n",
       "3   kramer     james         a.         NaN      None        NaN       3   \n",
       "4     bond   michael       None    427635.0      None        NaN       3   \n",
       "\n",
       "    sex    age  sibsp  parch   fare embarked  \n",
       "0  male    NaN      2      0  27.14        s  \n",
       "1  male    NaN      0      0  13.35        s  \n",
       "2  male   0.33      1      2  71.29        s  \n",
       "3  male  19.00      0      0  13.04        s  \n",
       "4  male  25.00      0      0   7.76        s  "
      ]
     },
     "execution_count": 22,
     "metadata": {},
     "output_type": "execute_result"
    }
   ],
   "source": [
    "df2 = pl.fit_transform(X_train)\n",
    "df2.head()"
   ]
  },
  {
   "cell_type": "code",
   "execution_count": 23,
   "metadata": {},
   "outputs": [],
   "source": [
    "from sklearn.impute import SimpleImputer\n",
    "\n",
    "from sklearn.compose import ColumnTransformer, make_column_selector\n",
    "\n",
    "class columnTransformer(ColumnTransformer):\n",
    "    def _hstack(self, Xs):\n",
    "        cols = [X.columns.tolist() for X in Xs]\n",
    "        dtypes = []\n",
    "        print(cols)\n",
    "        print([X.shape for X in Xs])\n",
    "        for X in Xs:\n",
    "            dtypes.append([str(X[col].dtype) for col in X])\n",
    "        cols = np.hstack(cols)\n",
    "        dtypes = np.hstack(dtypes)\n",
    "        data = pd.DataFrame(super()._hstack(Xs), columns = cols)\n",
    "        print('====Converting columns types====')\n",
    "        for col, dtype in tqdm(zip(cols, dtypes)):\n",
    "            data[col] = data[col].astype(dtype)\n",
    "        return data\n",
    "\n",
    "class simpleImputer(SimpleImputer):\n",
    "    def fit(self, X, y=None):\n",
    "        self._cols = X.columns.tolist()\n",
    "        self._dtypes = [str(X[col].dtype) for col in X.columns]\n",
    "        super().fit(X, y)\n",
    "        return self\n",
    "        \n",
    "    def transform(self, X):\n",
    "        X_ = super().transform(X)\n",
    "        data = pd.DataFrame(X_, columns = self._cols)\n",
    "        for col, dtype in tqdm(zip(self._cols, self._dtypes)):\n",
    "            data[col] = data[col].astype(dtype)\n",
    "        return data\n",
    "        "
   ]
  },
  {
   "cell_type": "code",
   "execution_count": 24,
   "metadata": {},
   "outputs": [],
   "source": [
    "col_handle_na = columnTransformer(\n",
    "    transformers=[\n",
    "        ('text_features', simpleImputer(missing_values=None, strategy='constant', fill_value='unk'), make_column_selector(dtype_include=['object'])),\n",
    "        ('float_features', simpleImputer(strategy='median'), make_column_selector(dtype_include=['float64'])),\n",
    "        ('count_features', simpleImputer(strategy='most_frequent'), make_column_selector(dtype_include=['int64']))\n",
    "    ],\n",
    "    remainder='passthrough'\n",
    ")"
   ]
  },
  {
   "cell_type": "code",
   "execution_count": 25,
   "metadata": {},
   "outputs": [],
   "source": [
    "pl_simple = Pipeline(steps=[\n",
    "    ('pl', pl),\n",
    "    ('null_handling', col_handle_na)\n",
    "])"
   ]
  },
  {
   "cell_type": "code",
   "execution_count": 26,
   "metadata": {},
   "outputs": [
    {
     "data": {
      "text/html": [
       "<style>#sk-6a9345d5-23e2-47ff-94cc-5967bcbcbdf0 {color: black;background-color: white;}#sk-6a9345d5-23e2-47ff-94cc-5967bcbcbdf0 pre{padding: 0;}#sk-6a9345d5-23e2-47ff-94cc-5967bcbcbdf0 div.sk-toggleable {background-color: white;}#sk-6a9345d5-23e2-47ff-94cc-5967bcbcbdf0 label.sk-toggleable__label {cursor: pointer;display: block;width: 100%;margin-bottom: 0;padding: 0.3em;box-sizing: border-box;text-align: center;}#sk-6a9345d5-23e2-47ff-94cc-5967bcbcbdf0 label.sk-toggleable__label-arrow:before {content: \"▸\";float: left;margin-right: 0.25em;color: #696969;}#sk-6a9345d5-23e2-47ff-94cc-5967bcbcbdf0 label.sk-toggleable__label-arrow:hover:before {color: black;}#sk-6a9345d5-23e2-47ff-94cc-5967bcbcbdf0 div.sk-estimator:hover label.sk-toggleable__label-arrow:before {color: black;}#sk-6a9345d5-23e2-47ff-94cc-5967bcbcbdf0 div.sk-toggleable__content {max-height: 0;max-width: 0;overflow: hidden;text-align: left;background-color: #f0f8ff;}#sk-6a9345d5-23e2-47ff-94cc-5967bcbcbdf0 div.sk-toggleable__content pre {margin: 0.2em;color: black;border-radius: 0.25em;background-color: #f0f8ff;}#sk-6a9345d5-23e2-47ff-94cc-5967bcbcbdf0 input.sk-toggleable__control:checked~div.sk-toggleable__content {max-height: 200px;max-width: 100%;overflow: auto;}#sk-6a9345d5-23e2-47ff-94cc-5967bcbcbdf0 input.sk-toggleable__control:checked~label.sk-toggleable__label-arrow:before {content: \"▾\";}#sk-6a9345d5-23e2-47ff-94cc-5967bcbcbdf0 div.sk-estimator input.sk-toggleable__control:checked~label.sk-toggleable__label {background-color: #d4ebff;}#sk-6a9345d5-23e2-47ff-94cc-5967bcbcbdf0 div.sk-label input.sk-toggleable__control:checked~label.sk-toggleable__label {background-color: #d4ebff;}#sk-6a9345d5-23e2-47ff-94cc-5967bcbcbdf0 input.sk-hidden--visually {border: 0;clip: rect(1px 1px 1px 1px);clip: rect(1px, 1px, 1px, 1px);height: 1px;margin: -1px;overflow: hidden;padding: 0;position: absolute;width: 1px;}#sk-6a9345d5-23e2-47ff-94cc-5967bcbcbdf0 div.sk-estimator {font-family: monospace;background-color: #f0f8ff;border: 1px dotted black;border-radius: 0.25em;box-sizing: border-box;margin-bottom: 0.5em;}#sk-6a9345d5-23e2-47ff-94cc-5967bcbcbdf0 div.sk-estimator:hover {background-color: #d4ebff;}#sk-6a9345d5-23e2-47ff-94cc-5967bcbcbdf0 div.sk-parallel-item::after {content: \"\";width: 100%;border-bottom: 1px solid gray;flex-grow: 1;}#sk-6a9345d5-23e2-47ff-94cc-5967bcbcbdf0 div.sk-label:hover label.sk-toggleable__label {background-color: #d4ebff;}#sk-6a9345d5-23e2-47ff-94cc-5967bcbcbdf0 div.sk-serial::before {content: \"\";position: absolute;border-left: 1px solid gray;box-sizing: border-box;top: 2em;bottom: 0;left: 50%;}#sk-6a9345d5-23e2-47ff-94cc-5967bcbcbdf0 div.sk-serial {display: flex;flex-direction: column;align-items: center;background-color: white;padding-right: 0.2em;padding-left: 0.2em;}#sk-6a9345d5-23e2-47ff-94cc-5967bcbcbdf0 div.sk-item {z-index: 1;}#sk-6a9345d5-23e2-47ff-94cc-5967bcbcbdf0 div.sk-parallel {display: flex;align-items: stretch;justify-content: center;background-color: white;}#sk-6a9345d5-23e2-47ff-94cc-5967bcbcbdf0 div.sk-parallel::before {content: \"\";position: absolute;border-left: 1px solid gray;box-sizing: border-box;top: 2em;bottom: 0;left: 50%;}#sk-6a9345d5-23e2-47ff-94cc-5967bcbcbdf0 div.sk-parallel-item {display: flex;flex-direction: column;position: relative;background-color: white;}#sk-6a9345d5-23e2-47ff-94cc-5967bcbcbdf0 div.sk-parallel-item:first-child::after {align-self: flex-end;width: 50%;}#sk-6a9345d5-23e2-47ff-94cc-5967bcbcbdf0 div.sk-parallel-item:last-child::after {align-self: flex-start;width: 50%;}#sk-6a9345d5-23e2-47ff-94cc-5967bcbcbdf0 div.sk-parallel-item:only-child::after {width: 0;}#sk-6a9345d5-23e2-47ff-94cc-5967bcbcbdf0 div.sk-dashed-wrapped {border: 1px dashed gray;margin: 0 0.4em 0.5em 0.4em;box-sizing: border-box;padding-bottom: 0.4em;background-color: white;position: relative;}#sk-6a9345d5-23e2-47ff-94cc-5967bcbcbdf0 div.sk-label label {font-family: monospace;font-weight: bold;background-color: white;display: inline-block;line-height: 1.2em;}#sk-6a9345d5-23e2-47ff-94cc-5967bcbcbdf0 div.sk-label-container {position: relative;z-index: 2;text-align: center;}#sk-6a9345d5-23e2-47ff-94cc-5967bcbcbdf0 div.sk-container {/* jupyter's `normalize.less` sets `[hidden] { display: none; }` but bootstrap.min.css set `[hidden] { display: none !important; }` so we also need the `!important` here to be able to override the default hidden behavior on the sphinx rendered scikit-learn.org. See: https://github.com/scikit-learn/scikit-learn/issues/21755 */display: inline-block !important;position: relative;}#sk-6a9345d5-23e2-47ff-94cc-5967bcbcbdf0 div.sk-text-repr-fallback {display: none;}</style><div id=\"sk-6a9345d5-23e2-47ff-94cc-5967bcbcbdf0\" class=\"sk-top-container\"><div class=\"sk-text-repr-fallback\"><pre>Pipeline(steps=[(&#x27;pl&#x27;,\n",
       "                 Pipeline(steps=[(&#x27;raw_data_processor&#x27;,\n",
       "                                  featureUnion(transformer_list=[(&#x27;pass_name&#x27;,\n",
       "                                                                  PassNameTransformer()),\n",
       "                                                                 (&#x27;ticket&#x27;,\n",
       "                                                                  TicketTransformer()),\n",
       "                                                                 (&#x27;cabin&#x27;,\n",
       "                                                                  CabinTransformer()),\n",
       "                                                                 (&#x27;others&#x27;,\n",
       "                                                                  ColumnSelectTransformer(columns=[&#x27;pclass&#x27;,\n",
       "                                                                                                   &#x27;sex&#x27;,\n",
       "                                                                                                   &#x27;age&#x27;,\n",
       "                                                                                                   &#x27;sibsp&#x27;,\n",
       "                                                                                                   &#x27;parch&#x27;,\n",
       "                                                                                                   &#x27;fare&#x27;,\n",
       "                                                                                                   &#x27;embarked&#x27;]))])),\n",
       "                                 (&#x27;lower_text_values&#x27;, LowerTransformer())])),\n",
       "                (&#x27;null_handling...\n",
       "                                                  &lt;sklearn.compose._column_transformer.make_column_selector object at 0x7f84d8ce9f10&gt;),\n",
       "                                                 (&#x27;float_features&#x27;,\n",
       "                                                  simpleImputer(strategy=&#x27;median&#x27;),\n",
       "                                                  &lt;sklearn.compose._column_transformer.make_column_selector object at 0x7f84d8ce9850&gt;),\n",
       "                                                 (&#x27;count_features&#x27;,\n",
       "                                                  simpleImputer(strategy=&#x27;most_frequent&#x27;),\n",
       "                                                  &lt;sklearn.compose._column_transformer.make_column_selector object at 0x7f84d8ce9070&gt;)]))])</pre><b>Please rerun this cell to show the HTML repr or trust the notebook.</b></div><div class=\"sk-container\" hidden><div class=\"sk-item sk-dashed-wrapped\"><div class=\"sk-label-container\"><div class=\"sk-label sk-toggleable\"><input class=\"sk-toggleable__control sk-hidden--visually\" id=\"3efaba20-84bd-4ca2-8079-9f98f6247559\" type=\"checkbox\" ><label for=\"3efaba20-84bd-4ca2-8079-9f98f6247559\" class=\"sk-toggleable__label sk-toggleable__label-arrow\">Pipeline</label><div class=\"sk-toggleable__content\"><pre>Pipeline(steps=[(&#x27;pl&#x27;,\n",
       "                 Pipeline(steps=[(&#x27;raw_data_processor&#x27;,\n",
       "                                  featureUnion(transformer_list=[(&#x27;pass_name&#x27;,\n",
       "                                                                  PassNameTransformer()),\n",
       "                                                                 (&#x27;ticket&#x27;,\n",
       "                                                                  TicketTransformer()),\n",
       "                                                                 (&#x27;cabin&#x27;,\n",
       "                                                                  CabinTransformer()),\n",
       "                                                                 (&#x27;others&#x27;,\n",
       "                                                                  ColumnSelectTransformer(columns=[&#x27;pclass&#x27;,\n",
       "                                                                                                   &#x27;sex&#x27;,\n",
       "                                                                                                   &#x27;age&#x27;,\n",
       "                                                                                                   &#x27;sibsp&#x27;,\n",
       "                                                                                                   &#x27;parch&#x27;,\n",
       "                                                                                                   &#x27;fare&#x27;,\n",
       "                                                                                                   &#x27;embarked&#x27;]))])),\n",
       "                                 (&#x27;lower_text_values&#x27;, LowerTransformer())])),\n",
       "                (&#x27;null_handling...\n",
       "                                                  &lt;sklearn.compose._column_transformer.make_column_selector object at 0x7f84d8ce9f10&gt;),\n",
       "                                                 (&#x27;float_features&#x27;,\n",
       "                                                  simpleImputer(strategy=&#x27;median&#x27;),\n",
       "                                                  &lt;sklearn.compose._column_transformer.make_column_selector object at 0x7f84d8ce9850&gt;),\n",
       "                                                 (&#x27;count_features&#x27;,\n",
       "                                                  simpleImputer(strategy=&#x27;most_frequent&#x27;),\n",
       "                                                  &lt;sklearn.compose._column_transformer.make_column_selector object at 0x7f84d8ce9070&gt;)]))])</pre></div></div></div><div class=\"sk-serial\"><div class=\"sk-item\"><div class=\"sk-label-container\"><div class=\"sk-label sk-toggleable\"><input class=\"sk-toggleable__control sk-hidden--visually\" id=\"aea81652-a06e-4b56-824e-7479a5aaa866\" type=\"checkbox\" ><label for=\"aea81652-a06e-4b56-824e-7479a5aaa866\" class=\"sk-toggleable__label sk-toggleable__label-arrow\">pl: Pipeline</label><div class=\"sk-toggleable__content\"><pre>Pipeline(steps=[(&#x27;raw_data_processor&#x27;,\n",
       "                 featureUnion(transformer_list=[(&#x27;pass_name&#x27;,\n",
       "                                                 PassNameTransformer()),\n",
       "                                                (&#x27;ticket&#x27;, TicketTransformer()),\n",
       "                                                (&#x27;cabin&#x27;, CabinTransformer()),\n",
       "                                                (&#x27;others&#x27;,\n",
       "                                                 ColumnSelectTransformer(columns=[&#x27;pclass&#x27;,\n",
       "                                                                                  &#x27;sex&#x27;,\n",
       "                                                                                  &#x27;age&#x27;,\n",
       "                                                                                  &#x27;sibsp&#x27;,\n",
       "                                                                                  &#x27;parch&#x27;,\n",
       "                                                                                  &#x27;fare&#x27;,\n",
       "                                                                                  &#x27;embarked&#x27;]))])),\n",
       "                (&#x27;lower_text_values&#x27;, LowerTransformer())])</pre></div></div></div><div class=\"sk-serial\"><div class=\"sk-item sk-dashed-wrapped\"><div class=\"sk-label-container\"><div class=\"sk-label sk-toggleable\"><input class=\"sk-toggleable__control sk-hidden--visually\" id=\"72becb89-d04e-41da-ae5a-2e3f70b8da4d\" type=\"checkbox\" ><label for=\"72becb89-d04e-41da-ae5a-2e3f70b8da4d\" class=\"sk-toggleable__label sk-toggleable__label-arrow\">raw_data_processor: featureUnion</label><div class=\"sk-toggleable__content\"><pre>featureUnion(transformer_list=[(&#x27;pass_name&#x27;, PassNameTransformer()),\n",
       "                               (&#x27;ticket&#x27;, TicketTransformer()),\n",
       "                               (&#x27;cabin&#x27;, CabinTransformer()),\n",
       "                               (&#x27;others&#x27;,\n",
       "                                ColumnSelectTransformer(columns=[&#x27;pclass&#x27;,\n",
       "                                                                 &#x27;sex&#x27;, &#x27;age&#x27;,\n",
       "                                                                 &#x27;sibsp&#x27;,\n",
       "                                                                 &#x27;parch&#x27;,\n",
       "                                                                 &#x27;fare&#x27;,\n",
       "                                                                 &#x27;embarked&#x27;]))])</pre></div></div></div><div class=\"sk-parallel\"><div class=\"sk-parallel-item\"><div class=\"sk-item\"><div class=\"sk-label-container\"><div class=\"sk-label sk-toggleable\"><label>pass_name</label></div></div><div class=\"sk-serial\"><div class=\"sk-item\"><div class=\"sk-estimator sk-toggleable\"><input class=\"sk-toggleable__control sk-hidden--visually\" id=\"77445abb-b965-4ce4-9871-63e4e1e1efc6\" type=\"checkbox\" ><label for=\"77445abb-b965-4ce4-9871-63e4e1e1efc6\" class=\"sk-toggleable__label sk-toggleable__label-arrow\">PassNameTransformer</label><div class=\"sk-toggleable__content\"><pre>PassNameTransformer()</pre></div></div></div></div></div></div><div class=\"sk-parallel-item\"><div class=\"sk-item\"><div class=\"sk-label-container\"><div class=\"sk-label sk-toggleable\"><label>ticket</label></div></div><div class=\"sk-serial\"><div class=\"sk-item\"><div class=\"sk-estimator sk-toggleable\"><input class=\"sk-toggleable__control sk-hidden--visually\" id=\"2441371a-b089-4d44-af5e-564464516231\" type=\"checkbox\" ><label for=\"2441371a-b089-4d44-af5e-564464516231\" class=\"sk-toggleable__label sk-toggleable__label-arrow\">TicketTransformer</label><div class=\"sk-toggleable__content\"><pre>TicketTransformer()</pre></div></div></div></div></div></div><div class=\"sk-parallel-item\"><div class=\"sk-item\"><div class=\"sk-label-container\"><div class=\"sk-label sk-toggleable\"><label>cabin</label></div></div><div class=\"sk-serial\"><div class=\"sk-item\"><div class=\"sk-estimator sk-toggleable\"><input class=\"sk-toggleable__control sk-hidden--visually\" id=\"f4cbe5c3-7a28-4e60-bc99-be7e85cb065e\" type=\"checkbox\" ><label for=\"f4cbe5c3-7a28-4e60-bc99-be7e85cb065e\" class=\"sk-toggleable__label sk-toggleable__label-arrow\">CabinTransformer</label><div class=\"sk-toggleable__content\"><pre>CabinTransformer()</pre></div></div></div></div></div></div><div class=\"sk-parallel-item\"><div class=\"sk-item\"><div class=\"sk-label-container\"><div class=\"sk-label sk-toggleable\"><label>others</label></div></div><div class=\"sk-serial\"><div class=\"sk-item\"><div class=\"sk-estimator sk-toggleable\"><input class=\"sk-toggleable__control sk-hidden--visually\" id=\"9b45fb87-ebfb-4ee0-85ba-53e5f06bfeba\" type=\"checkbox\" ><label for=\"9b45fb87-ebfb-4ee0-85ba-53e5f06bfeba\" class=\"sk-toggleable__label sk-toggleable__label-arrow\">ColumnSelectTransformer</label><div class=\"sk-toggleable__content\"><pre>ColumnSelectTransformer(columns=[&#x27;pclass&#x27;, &#x27;sex&#x27;, &#x27;age&#x27;, &#x27;sibsp&#x27;, &#x27;parch&#x27;,\n",
       "                                 &#x27;fare&#x27;, &#x27;embarked&#x27;])</pre></div></div></div></div></div></div></div></div><div class=\"sk-item\"><div class=\"sk-estimator sk-toggleable\"><input class=\"sk-toggleable__control sk-hidden--visually\" id=\"c2353801-9a14-4ab6-8898-0542dc7259d1\" type=\"checkbox\" ><label for=\"c2353801-9a14-4ab6-8898-0542dc7259d1\" class=\"sk-toggleable__label sk-toggleable__label-arrow\">LowerTransformer</label><div class=\"sk-toggleable__content\"><pre>LowerTransformer()</pre></div></div></div></div></div><div class=\"sk-item sk-dashed-wrapped\"><div class=\"sk-label-container\"><div class=\"sk-label sk-toggleable\"><input class=\"sk-toggleable__control sk-hidden--visually\" id=\"e53775da-d0ce-4b2a-985e-d8d16ea441f1\" type=\"checkbox\" ><label for=\"e53775da-d0ce-4b2a-985e-d8d16ea441f1\" class=\"sk-toggleable__label sk-toggleable__label-arrow\">null_handling: columnTransformer</label><div class=\"sk-toggleable__content\"><pre>columnTransformer(remainder=&#x27;passthrough&#x27;,\n",
       "                  transformers=[(&#x27;text_features&#x27;,\n",
       "                                 simpleImputer(fill_value=&#x27;unk&#x27;,\n",
       "                                               missing_values=None,\n",
       "                                               strategy=&#x27;constant&#x27;),\n",
       "                                 &lt;sklearn.compose._column_transformer.make_column_selector object at 0x7f84d8ce9f10&gt;),\n",
       "                                (&#x27;float_features&#x27;,\n",
       "                                 simpleImputer(strategy=&#x27;median&#x27;),\n",
       "                                 &lt;sklearn.compose._column_transformer.make_column_selector object at 0x7f84d8ce9850&gt;),\n",
       "                                (&#x27;count_features&#x27;,\n",
       "                                 simpleImputer(strategy=&#x27;most_frequent&#x27;),\n",
       "                                 &lt;sklearn.compose._column_transformer.make_column_selector object at 0x7f84d8ce9070&gt;)])</pre></div></div></div><div class=\"sk-parallel\"><div class=\"sk-parallel-item\"><div class=\"sk-item\"><div class=\"sk-label-container\"><div class=\"sk-label sk-toggleable\"><input class=\"sk-toggleable__control sk-hidden--visually\" id=\"27565445-e15b-4d4b-9159-9cb5f6560d4a\" type=\"checkbox\" ><label for=\"27565445-e15b-4d4b-9159-9cb5f6560d4a\" class=\"sk-toggleable__label sk-toggleable__label-arrow\">text_features</label><div class=\"sk-toggleable__content\"><pre>&lt;sklearn.compose._column_transformer.make_column_selector object at 0x7f84d8ce9f10&gt;</pre></div></div></div><div class=\"sk-serial\"><div class=\"sk-item\"><div class=\"sk-estimator sk-toggleable\"><input class=\"sk-toggleable__control sk-hidden--visually\" id=\"c306007e-8955-44fb-953a-acbec41100bb\" type=\"checkbox\" ><label for=\"c306007e-8955-44fb-953a-acbec41100bb\" class=\"sk-toggleable__label sk-toggleable__label-arrow\">simpleImputer</label><div class=\"sk-toggleable__content\"><pre>simpleImputer(fill_value=&#x27;unk&#x27;, missing_values=None, strategy=&#x27;constant&#x27;)</pre></div></div></div></div></div></div><div class=\"sk-parallel-item\"><div class=\"sk-item\"><div class=\"sk-label-container\"><div class=\"sk-label sk-toggleable\"><input class=\"sk-toggleable__control sk-hidden--visually\" id=\"b41bdf9e-d959-4d8f-818f-ab7465dc9995\" type=\"checkbox\" ><label for=\"b41bdf9e-d959-4d8f-818f-ab7465dc9995\" class=\"sk-toggleable__label sk-toggleable__label-arrow\">float_features</label><div class=\"sk-toggleable__content\"><pre>&lt;sklearn.compose._column_transformer.make_column_selector object at 0x7f84d8ce9850&gt;</pre></div></div></div><div class=\"sk-serial\"><div class=\"sk-item\"><div class=\"sk-estimator sk-toggleable\"><input class=\"sk-toggleable__control sk-hidden--visually\" id=\"d3ce5d47-5643-409d-9a01-a627be4a5f5a\" type=\"checkbox\" ><label for=\"d3ce5d47-5643-409d-9a01-a627be4a5f5a\" class=\"sk-toggleable__label sk-toggleable__label-arrow\">simpleImputer</label><div class=\"sk-toggleable__content\"><pre>simpleImputer(strategy=&#x27;median&#x27;)</pre></div></div></div></div></div></div><div class=\"sk-parallel-item\"><div class=\"sk-item\"><div class=\"sk-label-container\"><div class=\"sk-label sk-toggleable\"><input class=\"sk-toggleable__control sk-hidden--visually\" id=\"35c620f7-e45b-4f11-aa4d-acb60f42c04c\" type=\"checkbox\" ><label for=\"35c620f7-e45b-4f11-aa4d-acb60f42c04c\" class=\"sk-toggleable__label sk-toggleable__label-arrow\">count_features</label><div class=\"sk-toggleable__content\"><pre>&lt;sklearn.compose._column_transformer.make_column_selector object at 0x7f84d8ce9070&gt;</pre></div></div></div><div class=\"sk-serial\"><div class=\"sk-item\"><div class=\"sk-estimator sk-toggleable\"><input class=\"sk-toggleable__control sk-hidden--visually\" id=\"117126ab-3642-4e1e-ac18-f5c5137c84d9\" type=\"checkbox\" ><label for=\"117126ab-3642-4e1e-ac18-f5c5137c84d9\" class=\"sk-toggleable__label sk-toggleable__label-arrow\">simpleImputer</label><div class=\"sk-toggleable__content\"><pre>simpleImputer(strategy=&#x27;most_frequent&#x27;)</pre></div></div></div></div></div></div><div class=\"sk-parallel-item\"><div class=\"sk-item\"><div class=\"sk-label-container\"><div class=\"sk-label sk-toggleable\"><input class=\"sk-toggleable__control sk-hidden--visually\" id=\"7f8f048d-53c6-4b39-a73f-5c06f493c3e0\" type=\"checkbox\" ><label for=\"7f8f048d-53c6-4b39-a73f-5c06f493c3e0\" class=\"sk-toggleable__label sk-toggleable__label-arrow\">remainder</label><div class=\"sk-toggleable__content\"><pre></pre></div></div></div><div class=\"sk-serial\"><div class=\"sk-item\"><div class=\"sk-estimator sk-toggleable\"><input class=\"sk-toggleable__control sk-hidden--visually\" id=\"e03bf769-684a-4630-8872-5a08aa0e4fa3\" type=\"checkbox\" ><label for=\"e03bf769-684a-4630-8872-5a08aa0e4fa3\" class=\"sk-toggleable__label sk-toggleable__label-arrow\">passthrough</label><div class=\"sk-toggleable__content\"><pre>passthrough</pre></div></div></div></div></div></div></div></div></div></div></div></div>"
      ],
      "text/plain": [
       "Pipeline(steps=[('pl',\n",
       "                 Pipeline(steps=[('raw_data_processor',\n",
       "                                  featureUnion(transformer_list=[('pass_name',\n",
       "                                                                  PassNameTransformer()),\n",
       "                                                                 ('ticket',\n",
       "                                                                  TicketTransformer()),\n",
       "                                                                 ('cabin',\n",
       "                                                                  CabinTransformer()),\n",
       "                                                                 ('others',\n",
       "                                                                  ColumnSelectTransformer(columns=['pclass',\n",
       "                                                                                                   'sex',\n",
       "                                                                                                   'age',\n",
       "                                                                                                   'sibsp',\n",
       "                                                                                                   'parch',\n",
       "                                                                                                   'fare',\n",
       "                                                                                                   'embarked']))])),\n",
       "                                 ('lower_text_values', LowerTransformer())])),\n",
       "                ('null_handling...\n",
       "                                                  <sklearn.compose._column_transformer.make_column_selector object at 0x7f84d8ce9f10>),\n",
       "                                                 ('float_features',\n",
       "                                                  simpleImputer(strategy='median'),\n",
       "                                                  <sklearn.compose._column_transformer.make_column_selector object at 0x7f84d8ce9850>),\n",
       "                                                 ('count_features',\n",
       "                                                  simpleImputer(strategy='most_frequent'),\n",
       "                                                  <sklearn.compose._column_transformer.make_column_selector object at 0x7f84d8ce9070>)]))])"
      ]
     },
     "execution_count": 26,
     "metadata": {},
     "output_type": "execute_result"
    }
   ],
   "source": [
    "pl_simple"
   ]
  },
  {
   "cell_type": "code",
   "execution_count": 27,
   "metadata": {},
   "outputs": [
    {
     "name": "stdout",
     "output_type": "stream",
     "text": [
      "====Converting columns types====\n"
     ]
    },
    {
     "data": {
      "application/vnd.jupyter.widget-view+json": {
       "model_id": "95ed26a54830442ba6c084f4505eab78",
       "version_major": 2,
       "version_minor": 0
      },
      "text/plain": [
       "0it [00:00, ?it/s]"
      ]
     },
     "metadata": {},
     "output_type": "display_data"
    },
    {
     "data": {
      "application/vnd.jupyter.widget-view+json": {
       "model_id": "f2692d7a23d3461d871e4ac375b8497f",
       "version_major": 2,
       "version_minor": 0
      },
      "text/plain": [
       "0it [00:00, ?it/s]"
      ]
     },
     "metadata": {},
     "output_type": "display_data"
    },
    {
     "data": {
      "application/vnd.jupyter.widget-view+json": {
       "model_id": "a9430b670d4e4ce39ddfaac382ad6725",
       "version_major": 2,
       "version_minor": 0
      },
      "text/plain": [
       "0it [00:00, ?it/s]"
      ]
     },
     "metadata": {},
     "output_type": "display_data"
    },
    {
     "data": {
      "application/vnd.jupyter.widget-view+json": {
       "model_id": "7239fb61c6e1426c95a45d4d443ec530",
       "version_major": 2,
       "version_minor": 0
      },
      "text/plain": [
       "0it [00:00, ?it/s]"
      ]
     },
     "metadata": {},
     "output_type": "display_data"
    },
    {
     "name": "stdout",
     "output_type": "stream",
     "text": [
      "[['surname', 'forename', 'ticket_str', 'cabin_str', 'sex', 'embarked'], ['ticket_num', 'cabin_num', 'age', 'fare'], ['pclass', 'sibsp', 'parch']]\n",
      "[(100000, 6), (100000, 4), (100000, 3)]\n",
      "====Converting columns types====\n"
     ]
    },
    {
     "data": {
      "application/vnd.jupyter.widget-view+json": {
       "model_id": "91f9edda7941454aa9f5baed1caa80cc",
       "version_major": 2,
       "version_minor": 0
      },
      "text/plain": [
       "0it [00:00, ?it/s]"
      ]
     },
     "metadata": {},
     "output_type": "display_data"
    }
   ],
   "source": [
    "df3 = pl_simple.fit_transform(X_train)"
   ]
  },
  {
   "cell_type": "code",
   "execution_count": 28,
   "metadata": {},
   "outputs": [
    {
     "data": {
      "text/html": [
       "<div>\n",
       "<style scoped>\n",
       "    .dataframe tbody tr th:only-of-type {\n",
       "        vertical-align: middle;\n",
       "    }\n",
       "\n",
       "    .dataframe tbody tr th {\n",
       "        vertical-align: top;\n",
       "    }\n",
       "\n",
       "    .dataframe thead th {\n",
       "        text-align: right;\n",
       "    }\n",
       "</style>\n",
       "<table border=\"1\" class=\"dataframe\">\n",
       "  <thead>\n",
       "    <tr style=\"text-align: right;\">\n",
       "      <th></th>\n",
       "      <th>surname</th>\n",
       "      <th>forename</th>\n",
       "      <th>ticket_str</th>\n",
       "      <th>cabin_str</th>\n",
       "      <th>sex</th>\n",
       "      <th>embarked</th>\n",
       "      <th>ticket_num</th>\n",
       "      <th>cabin_num</th>\n",
       "      <th>age</th>\n",
       "      <th>fare</th>\n",
       "      <th>pclass</th>\n",
       "      <th>sibsp</th>\n",
       "      <th>parch</th>\n",
       "    </tr>\n",
       "  </thead>\n",
       "  <tbody>\n",
       "    <tr>\n",
       "      <th>0</th>\n",
       "      <td>oconnor</td>\n",
       "      <td>frankie</td>\n",
       "      <td>unk</td>\n",
       "      <td>c</td>\n",
       "      <td>male</td>\n",
       "      <td>s</td>\n",
       "      <td>209245.0</td>\n",
       "      <td>12239.0</td>\n",
       "      <td>39.00</td>\n",
       "      <td>27.14</td>\n",
       "      <td>1</td>\n",
       "      <td>2</td>\n",
       "      <td>0</td>\n",
       "    </tr>\n",
       "    <tr>\n",
       "      <th>1</th>\n",
       "      <td>bryan</td>\n",
       "      <td>drew</td>\n",
       "      <td>unk</td>\n",
       "      <td>unk</td>\n",
       "      <td>male</td>\n",
       "      <td>s</td>\n",
       "      <td>27323.0</td>\n",
       "      <td>12603.5</td>\n",
       "      <td>39.00</td>\n",
       "      <td>13.35</td>\n",
       "      <td>3</td>\n",
       "      <td>0</td>\n",
       "      <td>0</td>\n",
       "    </tr>\n",
       "    <tr>\n",
       "      <th>2</th>\n",
       "      <td>owens</td>\n",
       "      <td>kenneth</td>\n",
       "      <td>ca</td>\n",
       "      <td>unk</td>\n",
       "      <td>male</td>\n",
       "      <td>s</td>\n",
       "      <td>39185.5</td>\n",
       "      <td>12603.5</td>\n",
       "      <td>0.33</td>\n",
       "      <td>71.29</td>\n",
       "      <td>3</td>\n",
       "      <td>1</td>\n",
       "      <td>2</td>\n",
       "    </tr>\n",
       "    <tr>\n",
       "      <th>3</th>\n",
       "      <td>kramer</td>\n",
       "      <td>james</td>\n",
       "      <td>a.</td>\n",
       "      <td>unk</td>\n",
       "      <td>male</td>\n",
       "      <td>s</td>\n",
       "      <td>39185.5</td>\n",
       "      <td>12603.5</td>\n",
       "      <td>19.00</td>\n",
       "      <td>13.04</td>\n",
       "      <td>3</td>\n",
       "      <td>0</td>\n",
       "      <td>0</td>\n",
       "    </tr>\n",
       "    <tr>\n",
       "      <th>4</th>\n",
       "      <td>bond</td>\n",
       "      <td>michael</td>\n",
       "      <td>unk</td>\n",
       "      <td>unk</td>\n",
       "      <td>male</td>\n",
       "      <td>s</td>\n",
       "      <td>427635.0</td>\n",
       "      <td>12603.5</td>\n",
       "      <td>25.00</td>\n",
       "      <td>7.76</td>\n",
       "      <td>3</td>\n",
       "      <td>0</td>\n",
       "      <td>0</td>\n",
       "    </tr>\n",
       "    <tr>\n",
       "      <th>...</th>\n",
       "      <td>...</td>\n",
       "      <td>...</td>\n",
       "      <td>...</td>\n",
       "      <td>...</td>\n",
       "      <td>...</td>\n",
       "      <td>...</td>\n",
       "      <td>...</td>\n",
       "      <td>...</td>\n",
       "      <td>...</td>\n",
       "      <td>...</td>\n",
       "      <td>...</td>\n",
       "      <td>...</td>\n",
       "      <td>...</td>\n",
       "    </tr>\n",
       "    <tr>\n",
       "      <th>99995</th>\n",
       "      <td>bell</td>\n",
       "      <td>adele</td>\n",
       "      <td>pc</td>\n",
       "      <td>d</td>\n",
       "      <td>female</td>\n",
       "      <td>c</td>\n",
       "      <td>39185.5</td>\n",
       "      <td>17243.0</td>\n",
       "      <td>62.00</td>\n",
       "      <td>14.86</td>\n",
       "      <td>2</td>\n",
       "      <td>0</td>\n",
       "      <td>0</td>\n",
       "    </tr>\n",
       "    <tr>\n",
       "      <th>99996</th>\n",
       "      <td>brown</td>\n",
       "      <td>herman</td>\n",
       "      <td>unk</td>\n",
       "      <td>unk</td>\n",
       "      <td>male</td>\n",
       "      <td>s</td>\n",
       "      <td>13273.0</td>\n",
       "      <td>12603.5</td>\n",
       "      <td>66.00</td>\n",
       "      <td>11.15</td>\n",
       "      <td>2</td>\n",
       "      <td>0</td>\n",
       "      <td>0</td>\n",
       "    </tr>\n",
       "    <tr>\n",
       "      <th>99997</th>\n",
       "      <td>childress</td>\n",
       "      <td>charles</td>\n",
       "      <td>unk</td>\n",
       "      <td>unk</td>\n",
       "      <td>male</td>\n",
       "      <td>s</td>\n",
       "      <td>39185.5</td>\n",
       "      <td>12603.5</td>\n",
       "      <td>37.00</td>\n",
       "      <td>9.95</td>\n",
       "      <td>3</td>\n",
       "      <td>0</td>\n",
       "      <td>0</td>\n",
       "    </tr>\n",
       "    <tr>\n",
       "      <th>99998</th>\n",
       "      <td>caughlin</td>\n",
       "      <td>thomas</td>\n",
       "      <td>unk</td>\n",
       "      <td>unk</td>\n",
       "      <td>male</td>\n",
       "      <td>s</td>\n",
       "      <td>458654.0</td>\n",
       "      <td>12603.5</td>\n",
       "      <td>51.00</td>\n",
       "      <td>30.92</td>\n",
       "      <td>3</td>\n",
       "      <td>0</td>\n",
       "      <td>1</td>\n",
       "    </tr>\n",
       "    <tr>\n",
       "      <th>99999</th>\n",
       "      <td>enciso</td>\n",
       "      <td>tyler</td>\n",
       "      <td>unk</td>\n",
       "      <td>unk</td>\n",
       "      <td>male</td>\n",
       "      <td>s</td>\n",
       "      <td>458074.0</td>\n",
       "      <td>12603.5</td>\n",
       "      <td>55.00</td>\n",
       "      <td>13.96</td>\n",
       "      <td>3</td>\n",
       "      <td>0</td>\n",
       "      <td>0</td>\n",
       "    </tr>\n",
       "  </tbody>\n",
       "</table>\n",
       "<p>100000 rows × 13 columns</p>\n",
       "</div>"
      ],
      "text/plain": [
       "         surname  forename ticket_str cabin_str     sex embarked  ticket_num  \\\n",
       "0        oconnor   frankie        unk         c    male        s    209245.0   \n",
       "1          bryan      drew        unk       unk    male        s     27323.0   \n",
       "2          owens   kenneth         ca       unk    male        s     39185.5   \n",
       "3         kramer     james         a.       unk    male        s     39185.5   \n",
       "4           bond   michael        unk       unk    male        s    427635.0   \n",
       "...          ...       ...        ...       ...     ...      ...         ...   \n",
       "99995       bell     adele         pc         d  female        c     39185.5   \n",
       "99996      brown    herman        unk       unk    male        s     13273.0   \n",
       "99997  childress   charles        unk       unk    male        s     39185.5   \n",
       "99998   caughlin    thomas        unk       unk    male        s    458654.0   \n",
       "99999     enciso     tyler        unk       unk    male        s    458074.0   \n",
       "\n",
       "       cabin_num    age   fare  pclass  sibsp  parch  \n",
       "0        12239.0  39.00  27.14       1      2      0  \n",
       "1        12603.5  39.00  13.35       3      0      0  \n",
       "2        12603.5   0.33  71.29       3      1      2  \n",
       "3        12603.5  19.00  13.04       3      0      0  \n",
       "4        12603.5  25.00   7.76       3      0      0  \n",
       "...          ...    ...    ...     ...    ...    ...  \n",
       "99995    17243.0  62.00  14.86       2      0      0  \n",
       "99996    12603.5  66.00  11.15       2      0      0  \n",
       "99997    12603.5  37.00   9.95       3      0      0  \n",
       "99998    12603.5  51.00  30.92       3      0      1  \n",
       "99999    12603.5  55.00  13.96       3      0      0  \n",
       "\n",
       "[100000 rows x 13 columns]"
      ]
     },
     "execution_count": 28,
     "metadata": {},
     "output_type": "execute_result"
    }
   ],
   "source": [
    "df3"
   ]
  },
  {
   "cell_type": "code",
   "execution_count": 29,
   "metadata": {},
   "outputs": [],
   "source": [
    "class PipelineLogger(object):\n",
    "    def __init__(self):\n",
    "        pass\n",
    "        \n",
    "    def log_start(self):\n",
    "        self.start_time = time()\n",
    "        print(f'======== {self.__class__.__name__} - START ========')\n",
    "        return None\n",
    "        \n",
    "    def log_finish(self):\n",
    "        self.duration = time() - self.start_time\n",
    "        print(f'======== {self.__class__.__name__} - FINISH =======> Take: {self.duration:.6f}(s)')\n",
    "\n",
    "\n",
    "class ExperimentBase(BaseEstimator):\n",
    "    def evaluate(self, X_test, y_test):\n",
    "        print('Evaluating model')\n",
    "        print(classification_report(y_true=y_test, y_pred=self.predict(X_test)))\n",
    "        metrics = self.auc_report(X_test, y_test)\n",
    "        metrics['precision'], metrics['recall'], metrics['f1_score'], metrics['support'] = precision_recall_fscore_support(y_test, self.predict(X_test))\n",
    "        return metrics\n",
    "    \n",
    "    def auc_report(self, X, y_true):\n",
    "        classes = self.classes_\n",
    "        y_pred_classes = self.predict_proba(X)\n",
    "        n_classes = len(classes)\n",
    "\n",
    "        lw = 2\n",
    "        for i in range(len(classes)):\n",
    "            print(f\"\"\"{classes[i]}: {roc_auc_score(y_true=(y_true==classes[i]).astype(int), y_score=y_pred_classes[:,i])}\"\"\")\n",
    "\n",
    "        # Compute ROC curve and ROC area for each class\n",
    "        fpr = dict()\n",
    "        tpr = dict()\n",
    "        roc_auc = dict()\n",
    "\n",
    "        for i in range(n_classes):\n",
    "            fpr[i], tpr[i], _ = roc_curve(y_true=(y_true==classes[i]).astype(int), y_score=y_pred_classes[:,i])\n",
    "            roc_auc[i] = auc(fpr[i], tpr[i])\n",
    "\n",
    "        all_fpr = np.unique(np.concatenate([fpr[i] for i in range(len(classes))]))\n",
    "\n",
    "        # Then interpolate all ROC curves at this points\n",
    "        mean_tpr = np.zeros_like(all_fpr)\n",
    "        for i in range(len(classes)):\n",
    "            mean_tpr += interp(all_fpr, fpr[i], tpr[i])\n",
    "\n",
    "        # Finally average it and compute AUC\n",
    "        mean_tpr /= n_classes\n",
    "\n",
    "        fpr[\"macro\"] = all_fpr\n",
    "        tpr[\"macro\"] = mean_tpr\n",
    "        roc_auc[\"macro\"] = auc(fpr[\"macro\"], tpr[\"macro\"])\n",
    "\n",
    "        # Plot all ROC curves\n",
    "        plt.figure()\n",
    "\n",
    "        plt.plot(fpr[\"macro\"], tpr[\"macro\"],\n",
    "                 label='macro-average ROC curve (area = {0:0.2f})'\n",
    "                       ''.format(roc_auc[\"macro\"]),\n",
    "                 color='navy', linestyle=':', linewidth=4)\n",
    "\n",
    "        colors = cycle(['aqua', 'darkorange', 'cornflowerblue'])\n",
    "        for i, color in zip(range(n_classes), colors):\n",
    "            plt.plot(fpr[i], tpr[i], color=color, lw=lw,\n",
    "                     label='ROC curve of class {0} (area = {1:0.2f})'\n",
    "                     ''.format(classes[i], roc_auc[i]))\n",
    "\n",
    "        plt.plot([0, 1], [0, 1], 'k--', lw=lw)\n",
    "        plt.xlim([0.0, 1.0])\n",
    "        plt.ylim([0.0, 1.05])\n",
    "        plt.xlabel('False Positive Rate')\n",
    "        plt.ylabel('True Positive Rate')\n",
    "        plt.title('Some extension of Receiver operating characteristic to multi-class')\n",
    "        plt.legend(loc=\"lower right\")\n",
    "        plt.show()\n",
    "        metrics = {\n",
    "            'macro_auc': roc_auc[\"macro\"]\n",
    "        }\n",
    "        for i in range(n_classes):\n",
    "            metrics[f'auc_{classes[i]}'] = roc_auc[i]\n",
    "        return metrics\n"
   ]
  },
  {
   "cell_type": "code",
   "execution_count": 30,
   "metadata": {},
   "outputs": [],
   "source": [
    "class CustomCatBoostClassifier(CatBoostClassifier, ExperimentBase, PipelineLogger):\n",
    "    def __init__(self, *args, **kwargs):\n",
    "        super().__init__(*args, **kwargs)\n",
    "        \n",
    "    def fit(self, X, y, self_evaluate=True, **kwargs):\n",
    "        self.log_start()\n",
    "        if self._init_params.get('cat_features') is not None:\n",
    "            cat_features_ = [c for c in self._init_params['cat_features'] if c in X.columns]\n",
    "            self._init_params['cat_features'] = cat_features_\n",
    "        else:\n",
    "            cat_features_ = None\n",
    "        if self._init_params.get('text_features') is not None:\n",
    "            text_features_ = [c for c in self._init_params['text_features'] if c in X.columns]\n",
    "            self._init_params['text_features'] = text_features_\n",
    "        else:\n",
    "            text_features_ = None\n",
    "        \n",
    "        X_t, X_e, y_t, y_e = self.train_eval_split(X, y, cat_features_, text_features_)\n",
    "        super().fit(X_t, y_t, eval_set=(X_e, y_e), cat_features=cat_features_, text_features=text_features_)\n",
    "        if self_evaluate:\n",
    "            _ = self.evaluate(X_e, y_e)\n",
    "        self.log_finish()\n",
    "        return self\n",
    "        \n",
    "    def train_eval_split(self, X, y, cat_features_, text_features_, eval_frac=0.1, add_na_Xy=False, na_label=0):\n",
    "        X_e = X.sample(frac=eval_frac, random_state=42)\n",
    "        y_e = y.loc[X_e.index]\n",
    "        X_t = X.drop(X_e.index)\n",
    "        y_t = y.loc[X_t.index]\n",
    "        if add_na_Xy:\n",
    "            X_t = pd.concat([X_t, pd.DataFrame([[np.nan] * X_t.shape[1]], columns=X_t.columns)], ignore_index=True)\n",
    "            y_t = pd.concat([y_t, pd.Series([na_label])], ignore_index=True)\n",
    "        if cat_features_ is not None:\n",
    "            cat_features_ = [c for c in cat_features_ if c in X.columns]\n",
    "            X_t[cat_features_] = X_t[cat_features_].fillna('unk')\n",
    "            X_e[cat_features_] = X_e[cat_features_].fillna('unk')\n",
    "        if text_features_ is not None:\n",
    "            text_features_ = [c for c in text_features_ if c in X.columns]\n",
    "            X_t[text_features_] = X_t[text_features_].fillna('unk')\n",
    "            X_e[text_features_] = X_e[text_features_].fillna('unk')\n",
    "        \n",
    "        return X_t, X_e, y_t, y_e\n"
   ]
  },
  {
   "cell_type": "code",
   "execution_count": 31,
   "metadata": {},
   "outputs": [
    {
     "data": {
      "text/html": [
       "<div>\n",
       "<style scoped>\n",
       "    .dataframe tbody tr th:only-of-type {\n",
       "        vertical-align: middle;\n",
       "    }\n",
       "\n",
       "    .dataframe tbody tr th {\n",
       "        vertical-align: top;\n",
       "    }\n",
       "\n",
       "    .dataframe thead th {\n",
       "        text-align: right;\n",
       "    }\n",
       "</style>\n",
       "<table border=\"1\" class=\"dataframe\">\n",
       "  <thead>\n",
       "    <tr style=\"text-align: right;\">\n",
       "      <th></th>\n",
       "      <th>surname</th>\n",
       "      <th>forename</th>\n",
       "      <th>ticket_str</th>\n",
       "      <th>cabin_str</th>\n",
       "      <th>sex</th>\n",
       "      <th>embarked</th>\n",
       "      <th>ticket_num</th>\n",
       "      <th>cabin_num</th>\n",
       "      <th>age</th>\n",
       "      <th>fare</th>\n",
       "      <th>pclass</th>\n",
       "      <th>sibsp</th>\n",
       "      <th>parch</th>\n",
       "    </tr>\n",
       "  </thead>\n",
       "  <tbody>\n",
       "    <tr>\n",
       "      <th>0</th>\n",
       "      <td>oconnor</td>\n",
       "      <td>frankie</td>\n",
       "      <td>unk</td>\n",
       "      <td>c</td>\n",
       "      <td>male</td>\n",
       "      <td>s</td>\n",
       "      <td>209245.0</td>\n",
       "      <td>12239.0</td>\n",
       "      <td>39.0</td>\n",
       "      <td>27.14</td>\n",
       "      <td>1</td>\n",
       "      <td>2</td>\n",
       "      <td>0</td>\n",
       "    </tr>\n",
       "    <tr>\n",
       "      <th>1</th>\n",
       "      <td>bryan</td>\n",
       "      <td>drew</td>\n",
       "      <td>unk</td>\n",
       "      <td>unk</td>\n",
       "      <td>male</td>\n",
       "      <td>s</td>\n",
       "      <td>27323.0</td>\n",
       "      <td>12603.5</td>\n",
       "      <td>39.0</td>\n",
       "      <td>13.35</td>\n",
       "      <td>3</td>\n",
       "      <td>0</td>\n",
       "      <td>0</td>\n",
       "    </tr>\n",
       "  </tbody>\n",
       "</table>\n",
       "</div>"
      ],
      "text/plain": [
       "   surname  forename ticket_str cabin_str   sex embarked  ticket_num  \\\n",
       "0  oconnor   frankie        unk         c  male        s    209245.0   \n",
       "1    bryan      drew        unk       unk  male        s     27323.0   \n",
       "\n",
       "   cabin_num   age   fare  pclass  sibsp  parch  \n",
       "0    12239.0  39.0  27.14       1      2      0  \n",
       "1    12603.5  39.0  13.35       3      0      0  "
      ]
     },
     "execution_count": 31,
     "metadata": {},
     "output_type": "execute_result"
    }
   ],
   "source": [
    "df3.head(2)"
   ]
  },
  {
   "cell_type": "code",
   "execution_count": 32,
   "metadata": {},
   "outputs": [],
   "source": [
    "cat_features = ['ticket_str', 'cabin_str', 'embarked', 'sex'] + ['surname', 'forename']\n",
    "# text_features = \n",
    "cb_cfg = {\n",
    "    'iterations': 1000,\n",
    "    'task_type': 'CPU',\n",
    "    'cat_features': cat_features,\n",
    "#     'text_features': text_features,\n",
    "    'use_best_model': True,\n",
    "    'early_stopping_rounds':50,\n",
    "    'verbose': True,\n",
    "    'metric_period': 25\n",
    "}"
   ]
  },
  {
   "cell_type": "code",
   "execution_count": 33,
   "metadata": {},
   "outputs": [
    {
     "data": {
      "text/html": [
       "<style>#sk-e3f787bd-3e72-4b87-ac92-3b1e5377230e {color: black;background-color: white;}#sk-e3f787bd-3e72-4b87-ac92-3b1e5377230e pre{padding: 0;}#sk-e3f787bd-3e72-4b87-ac92-3b1e5377230e div.sk-toggleable {background-color: white;}#sk-e3f787bd-3e72-4b87-ac92-3b1e5377230e label.sk-toggleable__label {cursor: pointer;display: block;width: 100%;margin-bottom: 0;padding: 0.3em;box-sizing: border-box;text-align: center;}#sk-e3f787bd-3e72-4b87-ac92-3b1e5377230e label.sk-toggleable__label-arrow:before {content: \"▸\";float: left;margin-right: 0.25em;color: #696969;}#sk-e3f787bd-3e72-4b87-ac92-3b1e5377230e label.sk-toggleable__label-arrow:hover:before {color: black;}#sk-e3f787bd-3e72-4b87-ac92-3b1e5377230e div.sk-estimator:hover label.sk-toggleable__label-arrow:before {color: black;}#sk-e3f787bd-3e72-4b87-ac92-3b1e5377230e div.sk-toggleable__content {max-height: 0;max-width: 0;overflow: hidden;text-align: left;background-color: #f0f8ff;}#sk-e3f787bd-3e72-4b87-ac92-3b1e5377230e div.sk-toggleable__content pre {margin: 0.2em;color: black;border-radius: 0.25em;background-color: #f0f8ff;}#sk-e3f787bd-3e72-4b87-ac92-3b1e5377230e input.sk-toggleable__control:checked~div.sk-toggleable__content {max-height: 200px;max-width: 100%;overflow: auto;}#sk-e3f787bd-3e72-4b87-ac92-3b1e5377230e input.sk-toggleable__control:checked~label.sk-toggleable__label-arrow:before {content: \"▾\";}#sk-e3f787bd-3e72-4b87-ac92-3b1e5377230e div.sk-estimator input.sk-toggleable__control:checked~label.sk-toggleable__label {background-color: #d4ebff;}#sk-e3f787bd-3e72-4b87-ac92-3b1e5377230e div.sk-label input.sk-toggleable__control:checked~label.sk-toggleable__label {background-color: #d4ebff;}#sk-e3f787bd-3e72-4b87-ac92-3b1e5377230e input.sk-hidden--visually {border: 0;clip: rect(1px 1px 1px 1px);clip: rect(1px, 1px, 1px, 1px);height: 1px;margin: -1px;overflow: hidden;padding: 0;position: absolute;width: 1px;}#sk-e3f787bd-3e72-4b87-ac92-3b1e5377230e div.sk-estimator {font-family: monospace;background-color: #f0f8ff;border: 1px dotted black;border-radius: 0.25em;box-sizing: border-box;margin-bottom: 0.5em;}#sk-e3f787bd-3e72-4b87-ac92-3b1e5377230e div.sk-estimator:hover {background-color: #d4ebff;}#sk-e3f787bd-3e72-4b87-ac92-3b1e5377230e div.sk-parallel-item::after {content: \"\";width: 100%;border-bottom: 1px solid gray;flex-grow: 1;}#sk-e3f787bd-3e72-4b87-ac92-3b1e5377230e div.sk-label:hover label.sk-toggleable__label {background-color: #d4ebff;}#sk-e3f787bd-3e72-4b87-ac92-3b1e5377230e div.sk-serial::before {content: \"\";position: absolute;border-left: 1px solid gray;box-sizing: border-box;top: 2em;bottom: 0;left: 50%;}#sk-e3f787bd-3e72-4b87-ac92-3b1e5377230e div.sk-serial {display: flex;flex-direction: column;align-items: center;background-color: white;padding-right: 0.2em;padding-left: 0.2em;}#sk-e3f787bd-3e72-4b87-ac92-3b1e5377230e div.sk-item {z-index: 1;}#sk-e3f787bd-3e72-4b87-ac92-3b1e5377230e div.sk-parallel {display: flex;align-items: stretch;justify-content: center;background-color: white;}#sk-e3f787bd-3e72-4b87-ac92-3b1e5377230e div.sk-parallel::before {content: \"\";position: absolute;border-left: 1px solid gray;box-sizing: border-box;top: 2em;bottom: 0;left: 50%;}#sk-e3f787bd-3e72-4b87-ac92-3b1e5377230e div.sk-parallel-item {display: flex;flex-direction: column;position: relative;background-color: white;}#sk-e3f787bd-3e72-4b87-ac92-3b1e5377230e div.sk-parallel-item:first-child::after {align-self: flex-end;width: 50%;}#sk-e3f787bd-3e72-4b87-ac92-3b1e5377230e div.sk-parallel-item:last-child::after {align-self: flex-start;width: 50%;}#sk-e3f787bd-3e72-4b87-ac92-3b1e5377230e div.sk-parallel-item:only-child::after {width: 0;}#sk-e3f787bd-3e72-4b87-ac92-3b1e5377230e div.sk-dashed-wrapped {border: 1px dashed gray;margin: 0 0.4em 0.5em 0.4em;box-sizing: border-box;padding-bottom: 0.4em;background-color: white;position: relative;}#sk-e3f787bd-3e72-4b87-ac92-3b1e5377230e div.sk-label label {font-family: monospace;font-weight: bold;background-color: white;display: inline-block;line-height: 1.2em;}#sk-e3f787bd-3e72-4b87-ac92-3b1e5377230e div.sk-label-container {position: relative;z-index: 2;text-align: center;}#sk-e3f787bd-3e72-4b87-ac92-3b1e5377230e div.sk-container {/* jupyter's `normalize.less` sets `[hidden] { display: none; }` but bootstrap.min.css set `[hidden] { display: none !important; }` so we also need the `!important` here to be able to override the default hidden behavior on the sphinx rendered scikit-learn.org. See: https://github.com/scikit-learn/scikit-learn/issues/21755 */display: inline-block !important;position: relative;}#sk-e3f787bd-3e72-4b87-ac92-3b1e5377230e div.sk-text-repr-fallback {display: none;}</style><div id=\"sk-e3f787bd-3e72-4b87-ac92-3b1e5377230e\" class=\"sk-top-container\"><div class=\"sk-text-repr-fallback\"><pre>Pipeline(steps=[(&#x27;pl_simple&#x27;,\n",
       "                 Pipeline(steps=[(&#x27;pl&#x27;,\n",
       "                                  Pipeline(steps=[(&#x27;raw_data_processor&#x27;,\n",
       "                                                   featureUnion(transformer_list=[(&#x27;pass_name&#x27;,\n",
       "                                                                                   PassNameTransformer()),\n",
       "                                                                                  (&#x27;ticket&#x27;,\n",
       "                                                                                   TicketTransformer()),\n",
       "                                                                                  (&#x27;cabin&#x27;,\n",
       "                                                                                   CabinTransformer()),\n",
       "                                                                                  (&#x27;others&#x27;,\n",
       "                                                                                   ColumnSelectTransformer(columns=[&#x27;pclass&#x27;,\n",
       "                                                                                                                    &#x27;sex&#x27;,\n",
       "                                                                                                                    &#x27;age&#x27;,\n",
       "                                                                                                                    &#x27;sibsp&#x27;,\n",
       "                                                                                                                    &#x27;parch&#x27;,\n",
       "                                                                                                                    &#x27;fare&#x27;,\n",
       "                                                                                                                    &#x27;embarked&#x27;]))])),\n",
       "                                                  (&#x27;lower_text_values&#x27;,\n",
       "                                                   LowerTran...\n",
       "                                                                   simpleImputer(strategy=&#x27;most_frequent&#x27;),\n",
       "                                                                   &lt;sklearn.compose._column_transformer.make_column_selector object at 0x7f84d8ce9070&gt;)]))])),\n",
       "                (&#x27;catboost_simple&#x27;,\n",
       "                 CustomCatBoostClassifier(cat_features=[&#x27;ticket_str&#x27;,\n",
       "                                                        &#x27;cabin_str&#x27;, &#x27;embarked&#x27;,\n",
       "                                                        &#x27;sex&#x27;, &#x27;surname&#x27;,\n",
       "                                                        &#x27;forename&#x27;],\n",
       "                                          early_stopping_rounds=50,\n",
       "                                          iterations=1000, metric_period=25,\n",
       "                                          task_type=&#x27;CPU&#x27;, use_best_model=True,\n",
       "                                          verbose=True))])</pre><b>Please rerun this cell to show the HTML repr or trust the notebook.</b></div><div class=\"sk-container\" hidden><div class=\"sk-item sk-dashed-wrapped\"><div class=\"sk-label-container\"><div class=\"sk-label sk-toggleable\"><input class=\"sk-toggleable__control sk-hidden--visually\" id=\"eb39e765-90fb-4c3d-a8b4-06a7f16a2f79\" type=\"checkbox\" ><label for=\"eb39e765-90fb-4c3d-a8b4-06a7f16a2f79\" class=\"sk-toggleable__label sk-toggleable__label-arrow\">Pipeline</label><div class=\"sk-toggleable__content\"><pre>Pipeline(steps=[(&#x27;pl_simple&#x27;,\n",
       "                 Pipeline(steps=[(&#x27;pl&#x27;,\n",
       "                                  Pipeline(steps=[(&#x27;raw_data_processor&#x27;,\n",
       "                                                   featureUnion(transformer_list=[(&#x27;pass_name&#x27;,\n",
       "                                                                                   PassNameTransformer()),\n",
       "                                                                                  (&#x27;ticket&#x27;,\n",
       "                                                                                   TicketTransformer()),\n",
       "                                                                                  (&#x27;cabin&#x27;,\n",
       "                                                                                   CabinTransformer()),\n",
       "                                                                                  (&#x27;others&#x27;,\n",
       "                                                                                   ColumnSelectTransformer(columns=[&#x27;pclass&#x27;,\n",
       "                                                                                                                    &#x27;sex&#x27;,\n",
       "                                                                                                                    &#x27;age&#x27;,\n",
       "                                                                                                                    &#x27;sibsp&#x27;,\n",
       "                                                                                                                    &#x27;parch&#x27;,\n",
       "                                                                                                                    &#x27;fare&#x27;,\n",
       "                                                                                                                    &#x27;embarked&#x27;]))])),\n",
       "                                                  (&#x27;lower_text_values&#x27;,\n",
       "                                                   LowerTran...\n",
       "                                                                   simpleImputer(strategy=&#x27;most_frequent&#x27;),\n",
       "                                                                   &lt;sklearn.compose._column_transformer.make_column_selector object at 0x7f84d8ce9070&gt;)]))])),\n",
       "                (&#x27;catboost_simple&#x27;,\n",
       "                 CustomCatBoostClassifier(cat_features=[&#x27;ticket_str&#x27;,\n",
       "                                                        &#x27;cabin_str&#x27;, &#x27;embarked&#x27;,\n",
       "                                                        &#x27;sex&#x27;, &#x27;surname&#x27;,\n",
       "                                                        &#x27;forename&#x27;],\n",
       "                                          early_stopping_rounds=50,\n",
       "                                          iterations=1000, metric_period=25,\n",
       "                                          task_type=&#x27;CPU&#x27;, use_best_model=True,\n",
       "                                          verbose=True))])</pre></div></div></div><div class=\"sk-serial\"><div class=\"sk-item\"><div class=\"sk-label-container\"><div class=\"sk-label sk-toggleable\"><input class=\"sk-toggleable__control sk-hidden--visually\" id=\"4a0772d1-1f3c-4d78-ae0e-8fc35d1bd4b1\" type=\"checkbox\" ><label for=\"4a0772d1-1f3c-4d78-ae0e-8fc35d1bd4b1\" class=\"sk-toggleable__label sk-toggleable__label-arrow\">pl_simple: Pipeline</label><div class=\"sk-toggleable__content\"><pre>Pipeline(steps=[(&#x27;pl&#x27;,\n",
       "                 Pipeline(steps=[(&#x27;raw_data_processor&#x27;,\n",
       "                                  featureUnion(transformer_list=[(&#x27;pass_name&#x27;,\n",
       "                                                                  PassNameTransformer()),\n",
       "                                                                 (&#x27;ticket&#x27;,\n",
       "                                                                  TicketTransformer()),\n",
       "                                                                 (&#x27;cabin&#x27;,\n",
       "                                                                  CabinTransformer()),\n",
       "                                                                 (&#x27;others&#x27;,\n",
       "                                                                  ColumnSelectTransformer(columns=[&#x27;pclass&#x27;,\n",
       "                                                                                                   &#x27;sex&#x27;,\n",
       "                                                                                                   &#x27;age&#x27;,\n",
       "                                                                                                   &#x27;sibsp&#x27;,\n",
       "                                                                                                   &#x27;parch&#x27;,\n",
       "                                                                                                   &#x27;fare&#x27;,\n",
       "                                                                                                   &#x27;embarked&#x27;]))])),\n",
       "                                 (&#x27;lower_text_values&#x27;, LowerTransformer())])),\n",
       "                (&#x27;null_handling...\n",
       "                                                  &lt;sklearn.compose._column_transformer.make_column_selector object at 0x7f84d8ce9f10&gt;),\n",
       "                                                 (&#x27;float_features&#x27;,\n",
       "                                                  simpleImputer(strategy=&#x27;median&#x27;),\n",
       "                                                  &lt;sklearn.compose._column_transformer.make_column_selector object at 0x7f84d8ce9850&gt;),\n",
       "                                                 (&#x27;count_features&#x27;,\n",
       "                                                  simpleImputer(strategy=&#x27;most_frequent&#x27;),\n",
       "                                                  &lt;sklearn.compose._column_transformer.make_column_selector object at 0x7f84d8ce9070&gt;)]))])</pre></div></div></div><div class=\"sk-serial\"><div class=\"sk-item\"><div class=\"sk-label-container\"><div class=\"sk-label sk-toggleable\"><input class=\"sk-toggleable__control sk-hidden--visually\" id=\"9b4ee014-30c5-42c1-a8b4-84cbe4b3a098\" type=\"checkbox\" ><label for=\"9b4ee014-30c5-42c1-a8b4-84cbe4b3a098\" class=\"sk-toggleable__label sk-toggleable__label-arrow\">pl: Pipeline</label><div class=\"sk-toggleable__content\"><pre>Pipeline(steps=[(&#x27;raw_data_processor&#x27;,\n",
       "                 featureUnion(transformer_list=[(&#x27;pass_name&#x27;,\n",
       "                                                 PassNameTransformer()),\n",
       "                                                (&#x27;ticket&#x27;, TicketTransformer()),\n",
       "                                                (&#x27;cabin&#x27;, CabinTransformer()),\n",
       "                                                (&#x27;others&#x27;,\n",
       "                                                 ColumnSelectTransformer(columns=[&#x27;pclass&#x27;,\n",
       "                                                                                  &#x27;sex&#x27;,\n",
       "                                                                                  &#x27;age&#x27;,\n",
       "                                                                                  &#x27;sibsp&#x27;,\n",
       "                                                                                  &#x27;parch&#x27;,\n",
       "                                                                                  &#x27;fare&#x27;,\n",
       "                                                                                  &#x27;embarked&#x27;]))])),\n",
       "                (&#x27;lower_text_values&#x27;, LowerTransformer())])</pre></div></div></div><div class=\"sk-serial\"><div class=\"sk-item sk-dashed-wrapped\"><div class=\"sk-label-container\"><div class=\"sk-label sk-toggleable\"><input class=\"sk-toggleable__control sk-hidden--visually\" id=\"86f352fb-67db-4d91-baae-83b49fd47ea7\" type=\"checkbox\" ><label for=\"86f352fb-67db-4d91-baae-83b49fd47ea7\" class=\"sk-toggleable__label sk-toggleable__label-arrow\">raw_data_processor: featureUnion</label><div class=\"sk-toggleable__content\"><pre>featureUnion(transformer_list=[(&#x27;pass_name&#x27;, PassNameTransformer()),\n",
       "                               (&#x27;ticket&#x27;, TicketTransformer()),\n",
       "                               (&#x27;cabin&#x27;, CabinTransformer()),\n",
       "                               (&#x27;others&#x27;,\n",
       "                                ColumnSelectTransformer(columns=[&#x27;pclass&#x27;,\n",
       "                                                                 &#x27;sex&#x27;, &#x27;age&#x27;,\n",
       "                                                                 &#x27;sibsp&#x27;,\n",
       "                                                                 &#x27;parch&#x27;,\n",
       "                                                                 &#x27;fare&#x27;,\n",
       "                                                                 &#x27;embarked&#x27;]))])</pre></div></div></div><div class=\"sk-parallel\"><div class=\"sk-parallel-item\"><div class=\"sk-item\"><div class=\"sk-label-container\"><div class=\"sk-label sk-toggleable\"><label>pass_name</label></div></div><div class=\"sk-serial\"><div class=\"sk-item\"><div class=\"sk-estimator sk-toggleable\"><input class=\"sk-toggleable__control sk-hidden--visually\" id=\"848782e3-2f50-40ed-b5ea-dd85fdeabba3\" type=\"checkbox\" ><label for=\"848782e3-2f50-40ed-b5ea-dd85fdeabba3\" class=\"sk-toggleable__label sk-toggleable__label-arrow\">PassNameTransformer</label><div class=\"sk-toggleable__content\"><pre>PassNameTransformer()</pre></div></div></div></div></div></div><div class=\"sk-parallel-item\"><div class=\"sk-item\"><div class=\"sk-label-container\"><div class=\"sk-label sk-toggleable\"><label>ticket</label></div></div><div class=\"sk-serial\"><div class=\"sk-item\"><div class=\"sk-estimator sk-toggleable\"><input class=\"sk-toggleable__control sk-hidden--visually\" id=\"2124ed55-6fdf-4b21-839f-00b3d5cb9751\" type=\"checkbox\" ><label for=\"2124ed55-6fdf-4b21-839f-00b3d5cb9751\" class=\"sk-toggleable__label sk-toggleable__label-arrow\">TicketTransformer</label><div class=\"sk-toggleable__content\"><pre>TicketTransformer()</pre></div></div></div></div></div></div><div class=\"sk-parallel-item\"><div class=\"sk-item\"><div class=\"sk-label-container\"><div class=\"sk-label sk-toggleable\"><label>cabin</label></div></div><div class=\"sk-serial\"><div class=\"sk-item\"><div class=\"sk-estimator sk-toggleable\"><input class=\"sk-toggleable__control sk-hidden--visually\" id=\"01fd10a7-75a3-4761-92ae-a614b6e849c5\" type=\"checkbox\" ><label for=\"01fd10a7-75a3-4761-92ae-a614b6e849c5\" class=\"sk-toggleable__label sk-toggleable__label-arrow\">CabinTransformer</label><div class=\"sk-toggleable__content\"><pre>CabinTransformer()</pre></div></div></div></div></div></div><div class=\"sk-parallel-item\"><div class=\"sk-item\"><div class=\"sk-label-container\"><div class=\"sk-label sk-toggleable\"><label>others</label></div></div><div class=\"sk-serial\"><div class=\"sk-item\"><div class=\"sk-estimator sk-toggleable\"><input class=\"sk-toggleable__control sk-hidden--visually\" id=\"6aebf13c-cb9d-4432-90c6-00e9a4d87a3c\" type=\"checkbox\" ><label for=\"6aebf13c-cb9d-4432-90c6-00e9a4d87a3c\" class=\"sk-toggleable__label sk-toggleable__label-arrow\">ColumnSelectTransformer</label><div class=\"sk-toggleable__content\"><pre>ColumnSelectTransformer(columns=[&#x27;pclass&#x27;, &#x27;sex&#x27;, &#x27;age&#x27;, &#x27;sibsp&#x27;, &#x27;parch&#x27;,\n",
       "                                 &#x27;fare&#x27;, &#x27;embarked&#x27;])</pre></div></div></div></div></div></div></div></div><div class=\"sk-item\"><div class=\"sk-estimator sk-toggleable\"><input class=\"sk-toggleable__control sk-hidden--visually\" id=\"039235ac-806f-4d38-8d5b-496e411c71bc\" type=\"checkbox\" ><label for=\"039235ac-806f-4d38-8d5b-496e411c71bc\" class=\"sk-toggleable__label sk-toggleable__label-arrow\">LowerTransformer</label><div class=\"sk-toggleable__content\"><pre>LowerTransformer()</pre></div></div></div></div></div><div class=\"sk-item sk-dashed-wrapped\"><div class=\"sk-label-container\"><div class=\"sk-label sk-toggleable\"><input class=\"sk-toggleable__control sk-hidden--visually\" id=\"5c084680-c08f-4a38-93e2-fa652fa0a9f2\" type=\"checkbox\" ><label for=\"5c084680-c08f-4a38-93e2-fa652fa0a9f2\" class=\"sk-toggleable__label sk-toggleable__label-arrow\">null_handling: columnTransformer</label><div class=\"sk-toggleable__content\"><pre>columnTransformer(remainder=&#x27;passthrough&#x27;,\n",
       "                  transformers=[(&#x27;text_features&#x27;,\n",
       "                                 simpleImputer(fill_value=&#x27;unk&#x27;,\n",
       "                                               missing_values=None,\n",
       "                                               strategy=&#x27;constant&#x27;),\n",
       "                                 &lt;sklearn.compose._column_transformer.make_column_selector object at 0x7f84d8ce9f10&gt;),\n",
       "                                (&#x27;float_features&#x27;,\n",
       "                                 simpleImputer(strategy=&#x27;median&#x27;),\n",
       "                                 &lt;sklearn.compose._column_transformer.make_column_selector object at 0x7f84d8ce9850&gt;),\n",
       "                                (&#x27;count_features&#x27;,\n",
       "                                 simpleImputer(strategy=&#x27;most_frequent&#x27;),\n",
       "                                 &lt;sklearn.compose._column_transformer.make_column_selector object at 0x7f84d8ce9070&gt;)])</pre></div></div></div><div class=\"sk-parallel\"><div class=\"sk-parallel-item\"><div class=\"sk-item\"><div class=\"sk-label-container\"><div class=\"sk-label sk-toggleable\"><input class=\"sk-toggleable__control sk-hidden--visually\" id=\"a453bcd1-1908-4918-b153-7a823541ccab\" type=\"checkbox\" ><label for=\"a453bcd1-1908-4918-b153-7a823541ccab\" class=\"sk-toggleable__label sk-toggleable__label-arrow\">text_features</label><div class=\"sk-toggleable__content\"><pre>&lt;sklearn.compose._column_transformer.make_column_selector object at 0x7f84d8ce9f10&gt;</pre></div></div></div><div class=\"sk-serial\"><div class=\"sk-item\"><div class=\"sk-estimator sk-toggleable\"><input class=\"sk-toggleable__control sk-hidden--visually\" id=\"a2197e67-5c7a-4674-a2c6-f3cc0fa96261\" type=\"checkbox\" ><label for=\"a2197e67-5c7a-4674-a2c6-f3cc0fa96261\" class=\"sk-toggleable__label sk-toggleable__label-arrow\">simpleImputer</label><div class=\"sk-toggleable__content\"><pre>simpleImputer(fill_value=&#x27;unk&#x27;, missing_values=None, strategy=&#x27;constant&#x27;)</pre></div></div></div></div></div></div><div class=\"sk-parallel-item\"><div class=\"sk-item\"><div class=\"sk-label-container\"><div class=\"sk-label sk-toggleable\"><input class=\"sk-toggleable__control sk-hidden--visually\" id=\"cb860a88-36a3-486d-bb7d-6fc5bba54d47\" type=\"checkbox\" ><label for=\"cb860a88-36a3-486d-bb7d-6fc5bba54d47\" class=\"sk-toggleable__label sk-toggleable__label-arrow\">float_features</label><div class=\"sk-toggleable__content\"><pre>&lt;sklearn.compose._column_transformer.make_column_selector object at 0x7f84d8ce9850&gt;</pre></div></div></div><div class=\"sk-serial\"><div class=\"sk-item\"><div class=\"sk-estimator sk-toggleable\"><input class=\"sk-toggleable__control sk-hidden--visually\" id=\"bbae15d8-b621-457d-85a5-827290d22634\" type=\"checkbox\" ><label for=\"bbae15d8-b621-457d-85a5-827290d22634\" class=\"sk-toggleable__label sk-toggleable__label-arrow\">simpleImputer</label><div class=\"sk-toggleable__content\"><pre>simpleImputer(strategy=&#x27;median&#x27;)</pre></div></div></div></div></div></div><div class=\"sk-parallel-item\"><div class=\"sk-item\"><div class=\"sk-label-container\"><div class=\"sk-label sk-toggleable\"><input class=\"sk-toggleable__control sk-hidden--visually\" id=\"f4f1bd01-d365-4b1a-a939-a75564260342\" type=\"checkbox\" ><label for=\"f4f1bd01-d365-4b1a-a939-a75564260342\" class=\"sk-toggleable__label sk-toggleable__label-arrow\">count_features</label><div class=\"sk-toggleable__content\"><pre>&lt;sklearn.compose._column_transformer.make_column_selector object at 0x7f84d8ce9070&gt;</pre></div></div></div><div class=\"sk-serial\"><div class=\"sk-item\"><div class=\"sk-estimator sk-toggleable\"><input class=\"sk-toggleable__control sk-hidden--visually\" id=\"18acacb7-7af2-4a0e-9bc9-c3cd3d940dee\" type=\"checkbox\" ><label for=\"18acacb7-7af2-4a0e-9bc9-c3cd3d940dee\" class=\"sk-toggleable__label sk-toggleable__label-arrow\">simpleImputer</label><div class=\"sk-toggleable__content\"><pre>simpleImputer(strategy=&#x27;most_frequent&#x27;)</pre></div></div></div></div></div></div><div class=\"sk-parallel-item\"><div class=\"sk-item\"><div class=\"sk-label-container\"><div class=\"sk-label sk-toggleable\"><input class=\"sk-toggleable__control sk-hidden--visually\" id=\"a46a2e89-a8a0-4dfd-9fc8-77c60a3ca25f\" type=\"checkbox\" ><label for=\"a46a2e89-a8a0-4dfd-9fc8-77c60a3ca25f\" class=\"sk-toggleable__label sk-toggleable__label-arrow\">remainder</label><div class=\"sk-toggleable__content\"><pre>[]</pre></div></div></div><div class=\"sk-serial\"><div class=\"sk-item\"><div class=\"sk-estimator sk-toggleable\"><input class=\"sk-toggleable__control sk-hidden--visually\" id=\"cf890fbb-4f6f-41f2-a82a-9eddc0542ef9\" type=\"checkbox\" ><label for=\"cf890fbb-4f6f-41f2-a82a-9eddc0542ef9\" class=\"sk-toggleable__label sk-toggleable__label-arrow\">passthrough</label><div class=\"sk-toggleable__content\"><pre>passthrough</pre></div></div></div></div></div></div></div></div></div></div><div class=\"sk-item\"><div class=\"sk-estimator sk-toggleable\"><input class=\"sk-toggleable__control sk-hidden--visually\" id=\"4201f967-ab8f-418b-acc5-444689648db5\" type=\"checkbox\" ><label for=\"4201f967-ab8f-418b-acc5-444689648db5\" class=\"sk-toggleable__label sk-toggleable__label-arrow\">CustomCatBoostClassifier</label><div class=\"sk-toggleable__content\"><pre>CustomCatBoostClassifier(cat_features=[&#x27;ticket_str&#x27;, &#x27;cabin_str&#x27;, &#x27;embarked&#x27;,\n",
       "                                       &#x27;sex&#x27;, &#x27;surname&#x27;, &#x27;forename&#x27;],\n",
       "                         early_stopping_rounds=50, iterations=1000,\n",
       "                         metric_period=25, task_type=&#x27;CPU&#x27;, use_best_model=True,\n",
       "                         verbose=True)</pre></div></div></div></div></div></div></div>"
      ],
      "text/plain": [
       "Pipeline(steps=[('pl_simple',\n",
       "                 Pipeline(steps=[('pl',\n",
       "                                  Pipeline(steps=[('raw_data_processor',\n",
       "                                                   featureUnion(transformer_list=[('pass_name',\n",
       "                                                                                   PassNameTransformer()),\n",
       "                                                                                  ('ticket',\n",
       "                                                                                   TicketTransformer()),\n",
       "                                                                                  ('cabin',\n",
       "                                                                                   CabinTransformer()),\n",
       "                                                                                  ('others',\n",
       "                                                                                   ColumnSelectTransformer(columns=['pclass',\n",
       "                                                                                                                    'sex',\n",
       "                                                                                                                    'age',\n",
       "                                                                                                                    'sibsp',\n",
       "                                                                                                                    'parch',\n",
       "                                                                                                                    'fare',\n",
       "                                                                                                                    'embarked']))])),\n",
       "                                                  ('lower_text_values',\n",
       "                                                   LowerTran...\n",
       "                                                                   simpleImputer(strategy='most_frequent'),\n",
       "                                                                   <sklearn.compose._column_transformer.make_column_selector object at 0x7f84d8ce9070>)]))])),\n",
       "                ('catboost_simple',\n",
       "                 CustomCatBoostClassifier(cat_features=['ticket_str',\n",
       "                                                        'cabin_str', 'embarked',\n",
       "                                                        'sex', 'surname',\n",
       "                                                        'forename'],\n",
       "                                          early_stopping_rounds=50,\n",
       "                                          iterations=1000, metric_period=25,\n",
       "                                          task_type='CPU', use_best_model=True,\n",
       "                                          verbose=True))])"
      ]
     },
     "execution_count": 33,
     "metadata": {},
     "output_type": "execute_result"
    }
   ],
   "source": [
    "pl4 = Pipeline(steps=[\n",
    "    ('pl_simple', pl_simple),\n",
    "    ('catboost_simple', CustomCatBoostClassifier(**cb_cfg))\n",
    "])\n",
    "pl4"
   ]
  },
  {
   "cell_type": "code",
   "execution_count": 34,
   "metadata": {},
   "outputs": [
    {
     "name": "stdout",
     "output_type": "stream",
     "text": [
      "====Converting columns types====\n"
     ]
    },
    {
     "data": {
      "application/vnd.jupyter.widget-view+json": {
       "model_id": "e932a8a3e03147149319a04025f5e799",
       "version_major": 2,
       "version_minor": 0
      },
      "text/plain": [
       "0it [00:00, ?it/s]"
      ]
     },
     "metadata": {},
     "output_type": "display_data"
    },
    {
     "data": {
      "application/vnd.jupyter.widget-view+json": {
       "model_id": "b3e3d3931c5b45038e75180cc1a0d3eb",
       "version_major": 2,
       "version_minor": 0
      },
      "text/plain": [
       "0it [00:00, ?it/s]"
      ]
     },
     "metadata": {},
     "output_type": "display_data"
    },
    {
     "data": {
      "application/vnd.jupyter.widget-view+json": {
       "model_id": "f97ab346e4bb4f1ca96e4dac8e4f82af",
       "version_major": 2,
       "version_minor": 0
      },
      "text/plain": [
       "0it [00:00, ?it/s]"
      ]
     },
     "metadata": {},
     "output_type": "display_data"
    },
    {
     "data": {
      "application/vnd.jupyter.widget-view+json": {
       "model_id": "d91919b8f91e424ba0d898782c7fc8e6",
       "version_major": 2,
       "version_minor": 0
      },
      "text/plain": [
       "0it [00:00, ?it/s]"
      ]
     },
     "metadata": {},
     "output_type": "display_data"
    },
    {
     "name": "stdout",
     "output_type": "stream",
     "text": [
      "[['surname', 'forename', 'ticket_str', 'cabin_str', 'sex', 'embarked'], ['ticket_num', 'cabin_num', 'age', 'fare'], ['pclass', 'sibsp', 'parch']]\n",
      "[(100000, 6), (100000, 4), (100000, 3)]\n",
      "====Converting columns types====\n"
     ]
    },
    {
     "data": {
      "application/vnd.jupyter.widget-view+json": {
       "model_id": "64dd0e70906447a49d344f09f20d4217",
       "version_major": 2,
       "version_minor": 0
      },
      "text/plain": [
       "0it [00:00, ?it/s]"
      ]
     },
     "metadata": {},
     "output_type": "display_data"
    },
    {
     "name": "stdout",
     "output_type": "stream",
     "text": [
      "======== CustomCatBoostClassifier - START ========\n",
      "Learning rate set to 0.096296\n",
      "0:\tlearn: 0.6509106\ttest: 0.6500870\tbest: 0.6500870 (0)\ttotal: 114ms\tremaining: 1m 53s\n"
     ]
    },
    {
     "name": "stderr",
     "output_type": "stream",
     "text": [
      "Warning: Overfitting detector is active, thus evaluation metric is calculated on every iteration. 'metric_period' is ignored for evaluation metric.\n"
     ]
    },
    {
     "name": "stdout",
     "output_type": "stream",
     "text": [
      "25:\tlearn: 0.4771816\ttest: 0.4732935\tbest: 0.4732935 (25)\ttotal: 998ms\tremaining: 37.4s\n",
      "50:\tlearn: 0.4697525\ttest: 0.4668533\tbest: 0.4668533 (50)\ttotal: 1.81s\tremaining: 33.7s\n",
      "75:\tlearn: 0.4667908\ttest: 0.4652342\tbest: 0.4652342 (75)\ttotal: 2.62s\tremaining: 31.9s\n",
      "100:\tlearn: 0.4649027\ttest: 0.4643844\tbest: 0.4643844 (100)\ttotal: 3.47s\tremaining: 30.9s\n",
      "125:\tlearn: 0.4630746\ttest: 0.4636356\tbest: 0.4636172 (124)\ttotal: 4.19s\tremaining: 29.1s\n",
      "150:\tlearn: 0.4609647\ttest: 0.4626024\tbest: 0.4626024 (150)\ttotal: 4.97s\tremaining: 28s\n",
      "175:\tlearn: 0.4595652\ttest: 0.4623817\tbest: 0.4623743 (174)\ttotal: 5.72s\tremaining: 26.8s\n",
      "200:\tlearn: 0.4583941\ttest: 0.4622576\tbest: 0.4622420 (199)\ttotal: 6.51s\tremaining: 25.9s\n",
      "225:\tlearn: 0.4571629\ttest: 0.4620526\tbest: 0.4620526 (225)\ttotal: 7.28s\tremaining: 24.9s\n",
      "250:\tlearn: 0.4560363\ttest: 0.4619599\tbest: 0.4619213 (241)\ttotal: 8.05s\tremaining: 24s\n",
      "275:\tlearn: 0.4547426\ttest: 0.4618220\tbest: 0.4617892 (274)\ttotal: 8.82s\tremaining: 23.1s\n",
      "300:\tlearn: 0.4536035\ttest: 0.4615407\tbest: 0.4615407 (300)\ttotal: 9.69s\tremaining: 22.5s\n",
      "325:\tlearn: 0.4525477\ttest: 0.4615069\tbest: 0.4614089 (320)\ttotal: 10.5s\tremaining: 21.7s\n",
      "350:\tlearn: 0.4514910\ttest: 0.4617423\tbest: 0.4614089 (320)\ttotal: 11.4s\tremaining: 21s\n",
      "Stopped by overfitting detector  (50 iterations wait)\n",
      "\n",
      "bestTest = 0.4614088654\n",
      "bestIteration = 320\n",
      "\n",
      "Shrink model to first 321 iterations.\n",
      "Evaluating model\n",
      "              precision    recall  f1-score   support\n",
      "\n",
      "           0       0.81      0.83      0.82      5762\n",
      "           1       0.76      0.74      0.75      4238\n",
      "\n",
      "    accuracy                           0.79     10000\n",
      "   macro avg       0.78      0.78      0.78     10000\n",
      "weighted avg       0.79      0.79      0.79     10000\n",
      "\n",
      "0: 0.8594034175184636\n",
      "1: 0.8594034175184636\n"
     ]
    },
    {
     "data": {
      "image/png": "[encoded data removed]",
      "text/plain": [
       "<Figure size 432x288 with 1 Axes>"
      ]
     },
     "metadata": {
      "needs_background": "light"
     },
     "output_type": "display_data"
    },
    {
     "name": "stdout",
     "output_type": "stream",
     "text": [
      "======== CustomCatBoostClassifier - FINISH =======> Take: 12.573838(s)\n"
     ]
    },
    {
     "data": {
      "text/html": [
       "<style>#sk-124a1bc9-08dc-4871-a8a0-59046282597c {color: black;background-color: white;}#sk-124a1bc9-08dc-4871-a8a0-59046282597c pre{padding: 0;}#sk-124a1bc9-08dc-4871-a8a0-59046282597c div.sk-toggleable {background-color: white;}#sk-124a1bc9-08dc-4871-a8a0-59046282597c label.sk-toggleable__label {cursor: pointer;display: block;width: 100%;margin-bottom: 0;padding: 0.3em;box-sizing: border-box;text-align: center;}#sk-124a1bc9-08dc-4871-a8a0-59046282597c label.sk-toggleable__label-arrow:before {content: \"▸\";float: left;margin-right: 0.25em;color: #696969;}#sk-124a1bc9-08dc-4871-a8a0-59046282597c label.sk-toggleable__label-arrow:hover:before {color: black;}#sk-124a1bc9-08dc-4871-a8a0-59046282597c div.sk-estimator:hover label.sk-toggleable__label-arrow:before {color: black;}#sk-124a1bc9-08dc-4871-a8a0-59046282597c div.sk-toggleable__content {max-height: 0;max-width: 0;overflow: hidden;text-align: left;background-color: #f0f8ff;}#sk-124a1bc9-08dc-4871-a8a0-59046282597c div.sk-toggleable__content pre {margin: 0.2em;color: black;border-radius: 0.25em;background-color: #f0f8ff;}#sk-124a1bc9-08dc-4871-a8a0-59046282597c input.sk-toggleable__control:checked~div.sk-toggleable__content {max-height: 200px;max-width: 100%;overflow: auto;}#sk-124a1bc9-08dc-4871-a8a0-59046282597c input.sk-toggleable__control:checked~label.sk-toggleable__label-arrow:before {content: \"▾\";}#sk-124a1bc9-08dc-4871-a8a0-59046282597c div.sk-estimator input.sk-toggleable__control:checked~label.sk-toggleable__label {background-color: #d4ebff;}#sk-124a1bc9-08dc-4871-a8a0-59046282597c div.sk-label input.sk-toggleable__control:checked~label.sk-toggleable__label {background-color: #d4ebff;}#sk-124a1bc9-08dc-4871-a8a0-59046282597c input.sk-hidden--visually {border: 0;clip: rect(1px 1px 1px 1px);clip: rect(1px, 1px, 1px, 1px);height: 1px;margin: -1px;overflow: hidden;padding: 0;position: absolute;width: 1px;}#sk-124a1bc9-08dc-4871-a8a0-59046282597c div.sk-estimator {font-family: monospace;background-color: #f0f8ff;border: 1px dotted black;border-radius: 0.25em;box-sizing: border-box;margin-bottom: 0.5em;}#sk-124a1bc9-08dc-4871-a8a0-59046282597c div.sk-estimator:hover {background-color: #d4ebff;}#sk-124a1bc9-08dc-4871-a8a0-59046282597c div.sk-parallel-item::after {content: \"\";width: 100%;border-bottom: 1px solid gray;flex-grow: 1;}#sk-124a1bc9-08dc-4871-a8a0-59046282597c div.sk-label:hover label.sk-toggleable__label {background-color: #d4ebff;}#sk-124a1bc9-08dc-4871-a8a0-59046282597c div.sk-serial::before {content: \"\";position: absolute;border-left: 1px solid gray;box-sizing: border-box;top: 2em;bottom: 0;left: 50%;}#sk-124a1bc9-08dc-4871-a8a0-59046282597c div.sk-serial {display: flex;flex-direction: column;align-items: center;background-color: white;padding-right: 0.2em;padding-left: 0.2em;}#sk-124a1bc9-08dc-4871-a8a0-59046282597c div.sk-item {z-index: 1;}#sk-124a1bc9-08dc-4871-a8a0-59046282597c div.sk-parallel {display: flex;align-items: stretch;justify-content: center;background-color: white;}#sk-124a1bc9-08dc-4871-a8a0-59046282597c div.sk-parallel::before {content: \"\";position: absolute;border-left: 1px solid gray;box-sizing: border-box;top: 2em;bottom: 0;left: 50%;}#sk-124a1bc9-08dc-4871-a8a0-59046282597c div.sk-parallel-item {display: flex;flex-direction: column;position: relative;background-color: white;}#sk-124a1bc9-08dc-4871-a8a0-59046282597c div.sk-parallel-item:first-child::after {align-self: flex-end;width: 50%;}#sk-124a1bc9-08dc-4871-a8a0-59046282597c div.sk-parallel-item:last-child::after {align-self: flex-start;width: 50%;}#sk-124a1bc9-08dc-4871-a8a0-59046282597c div.sk-parallel-item:only-child::after {width: 0;}#sk-124a1bc9-08dc-4871-a8a0-59046282597c div.sk-dashed-wrapped {border: 1px dashed gray;margin: 0 0.4em 0.5em 0.4em;box-sizing: border-box;padding-bottom: 0.4em;background-color: white;position: relative;}#sk-124a1bc9-08dc-4871-a8a0-59046282597c div.sk-label label {font-family: monospace;font-weight: bold;background-color: white;display: inline-block;line-height: 1.2em;}#sk-124a1bc9-08dc-4871-a8a0-59046282597c div.sk-label-container {position: relative;z-index: 2;text-align: center;}#sk-124a1bc9-08dc-4871-a8a0-59046282597c div.sk-container {/* jupyter's `normalize.less` sets `[hidden] { display: none; }` but bootstrap.min.css set `[hidden] { display: none !important; }` so we also need the `!important` here to be able to override the default hidden behavior on the sphinx rendered scikit-learn.org. See: https://github.com/scikit-learn/scikit-learn/issues/21755 */display: inline-block !important;position: relative;}#sk-124a1bc9-08dc-4871-a8a0-59046282597c div.sk-text-repr-fallback {display: none;}</style><div id=\"sk-124a1bc9-08dc-4871-a8a0-59046282597c\" class=\"sk-top-container\"><div class=\"sk-text-repr-fallback\"><pre>Pipeline(steps=[(&#x27;pl_simple&#x27;,\n",
       "                 Pipeline(steps=[(&#x27;pl&#x27;,\n",
       "                                  Pipeline(steps=[(&#x27;raw_data_processor&#x27;,\n",
       "                                                   featureUnion(transformer_list=[(&#x27;pass_name&#x27;,\n",
       "                                                                                   PassNameTransformer()),\n",
       "                                                                                  (&#x27;ticket&#x27;,\n",
       "                                                                                   TicketTransformer()),\n",
       "                                                                                  (&#x27;cabin&#x27;,\n",
       "                                                                                   CabinTransformer()),\n",
       "                                                                                  (&#x27;others&#x27;,\n",
       "                                                                                   ColumnSelectTransformer(columns=[&#x27;pclass&#x27;,\n",
       "                                                                                                                    &#x27;sex&#x27;,\n",
       "                                                                                                                    &#x27;age&#x27;,\n",
       "                                                                                                                    &#x27;sibsp&#x27;,\n",
       "                                                                                                                    &#x27;parch&#x27;,\n",
       "                                                                                                                    &#x27;fare&#x27;,\n",
       "                                                                                                                    &#x27;embarked&#x27;]))])),\n",
       "                                                  (&#x27;lower_text_values&#x27;,\n",
       "                                                   LowerTran...\n",
       "                                                                   simpleImputer(strategy=&#x27;most_frequent&#x27;),\n",
       "                                                                   &lt;sklearn.compose._column_transformer.make_column_selector object at 0x7f84d8ce9070&gt;)]))])),\n",
       "                (&#x27;catboost_simple&#x27;,\n",
       "                 CustomCatBoostClassifier(cat_features=[&#x27;ticket_str&#x27;,\n",
       "                                                        &#x27;cabin_str&#x27;, &#x27;embarked&#x27;,\n",
       "                                                        &#x27;sex&#x27;, &#x27;surname&#x27;,\n",
       "                                                        &#x27;forename&#x27;],\n",
       "                                          early_stopping_rounds=50,\n",
       "                                          iterations=1000, metric_period=25,\n",
       "                                          task_type=&#x27;CPU&#x27;, use_best_model=True,\n",
       "                                          verbose=True))])</pre><b>Please rerun this cell to show the HTML repr or trust the notebook.</b></div><div class=\"sk-container\" hidden><div class=\"sk-item sk-dashed-wrapped\"><div class=\"sk-label-container\"><div class=\"sk-label sk-toggleable\"><input class=\"sk-toggleable__control sk-hidden--visually\" id=\"6d13ea00-b308-491d-807b-574e90e4af4e\" type=\"checkbox\" ><label for=\"6d13ea00-b308-491d-807b-574e90e4af4e\" class=\"sk-toggleable__label sk-toggleable__label-arrow\">Pipeline</label><div class=\"sk-toggleable__content\"><pre>Pipeline(steps=[(&#x27;pl_simple&#x27;,\n",
       "                 Pipeline(steps=[(&#x27;pl&#x27;,\n",
       "                                  Pipeline(steps=[(&#x27;raw_data_processor&#x27;,\n",
       "                                                   featureUnion(transformer_list=[(&#x27;pass_name&#x27;,\n",
       "                                                                                   PassNameTransformer()),\n",
       "                                                                                  (&#x27;ticket&#x27;,\n",
       "                                                                                   TicketTransformer()),\n",
       "                                                                                  (&#x27;cabin&#x27;,\n",
       "                                                                                   CabinTransformer()),\n",
       "                                                                                  (&#x27;others&#x27;,\n",
       "                                                                                   ColumnSelectTransformer(columns=[&#x27;pclass&#x27;,\n",
       "                                                                                                                    &#x27;sex&#x27;,\n",
       "                                                                                                                    &#x27;age&#x27;,\n",
       "                                                                                                                    &#x27;sibsp&#x27;,\n",
       "                                                                                                                    &#x27;parch&#x27;,\n",
       "                                                                                                                    &#x27;fare&#x27;,\n",
       "                                                                                                                    &#x27;embarked&#x27;]))])),\n",
       "                                                  (&#x27;lower_text_values&#x27;,\n",
       "                                                   LowerTran...\n",
       "                                                                   simpleImputer(strategy=&#x27;most_frequent&#x27;),\n",
       "                                                                   &lt;sklearn.compose._column_transformer.make_column_selector object at 0x7f84d8ce9070&gt;)]))])),\n",
       "                (&#x27;catboost_simple&#x27;,\n",
       "                 CustomCatBoostClassifier(cat_features=[&#x27;ticket_str&#x27;,\n",
       "                                                        &#x27;cabin_str&#x27;, &#x27;embarked&#x27;,\n",
       "                                                        &#x27;sex&#x27;, &#x27;surname&#x27;,\n",
       "                                                        &#x27;forename&#x27;],\n",
       "                                          early_stopping_rounds=50,\n",
       "                                          iterations=1000, metric_period=25,\n",
       "                                          task_type=&#x27;CPU&#x27;, use_best_model=True,\n",
       "                                          verbose=True))])</pre></div></div></div><div class=\"sk-serial\"><div class=\"sk-item\"><div class=\"sk-label-container\"><div class=\"sk-label sk-toggleable\"><input class=\"sk-toggleable__control sk-hidden--visually\" id=\"18d010aa-48ae-4b48-b277-4b0a719bd0dc\" type=\"checkbox\" ><label for=\"18d010aa-48ae-4b48-b277-4b0a719bd0dc\" class=\"sk-toggleable__label sk-toggleable__label-arrow\">pl_simple: Pipeline</label><div class=\"sk-toggleable__content\"><pre>Pipeline(steps=[(&#x27;pl&#x27;,\n",
       "                 Pipeline(steps=[(&#x27;raw_data_processor&#x27;,\n",
       "                                  featureUnion(transformer_list=[(&#x27;pass_name&#x27;,\n",
       "                                                                  PassNameTransformer()),\n",
       "                                                                 (&#x27;ticket&#x27;,\n",
       "                                                                  TicketTransformer()),\n",
       "                                                                 (&#x27;cabin&#x27;,\n",
       "                                                                  CabinTransformer()),\n",
       "                                                                 (&#x27;others&#x27;,\n",
       "                                                                  ColumnSelectTransformer(columns=[&#x27;pclass&#x27;,\n",
       "                                                                                                   &#x27;sex&#x27;,\n",
       "                                                                                                   &#x27;age&#x27;,\n",
       "                                                                                                   &#x27;sibsp&#x27;,\n",
       "                                                                                                   &#x27;parch&#x27;,\n",
       "                                                                                                   &#x27;fare&#x27;,\n",
       "                                                                                                   &#x27;embarked&#x27;]))])),\n",
       "                                 (&#x27;lower_text_values&#x27;, LowerTransformer())])),\n",
       "                (&#x27;null_handling...\n",
       "                                                  &lt;sklearn.compose._column_transformer.make_column_selector object at 0x7f84d8ce9f10&gt;),\n",
       "                                                 (&#x27;float_features&#x27;,\n",
       "                                                  simpleImputer(strategy=&#x27;median&#x27;),\n",
       "                                                  &lt;sklearn.compose._column_transformer.make_column_selector object at 0x7f84d8ce9850&gt;),\n",
       "                                                 (&#x27;count_features&#x27;,\n",
       "                                                  simpleImputer(strategy=&#x27;most_frequent&#x27;),\n",
       "                                                  &lt;sklearn.compose._column_transformer.make_column_selector object at 0x7f84d8ce9070&gt;)]))])</pre></div></div></div><div class=\"sk-serial\"><div class=\"sk-item\"><div class=\"sk-label-container\"><div class=\"sk-label sk-toggleable\"><input class=\"sk-toggleable__control sk-hidden--visually\" id=\"80c730e5-bf39-4dea-b483-52a6c8d0dbc0\" type=\"checkbox\" ><label for=\"80c730e5-bf39-4dea-b483-52a6c8d0dbc0\" class=\"sk-toggleable__label sk-toggleable__label-arrow\">pl: Pipeline</label><div class=\"sk-toggleable__content\"><pre>Pipeline(steps=[(&#x27;raw_data_processor&#x27;,\n",
       "                 featureUnion(transformer_list=[(&#x27;pass_name&#x27;,\n",
       "                                                 PassNameTransformer()),\n",
       "                                                (&#x27;ticket&#x27;, TicketTransformer()),\n",
       "                                                (&#x27;cabin&#x27;, CabinTransformer()),\n",
       "                                                (&#x27;others&#x27;,\n",
       "                                                 ColumnSelectTransformer(columns=[&#x27;pclass&#x27;,\n",
       "                                                                                  &#x27;sex&#x27;,\n",
       "                                                                                  &#x27;age&#x27;,\n",
       "                                                                                  &#x27;sibsp&#x27;,\n",
       "                                                                                  &#x27;parch&#x27;,\n",
       "                                                                                  &#x27;fare&#x27;,\n",
       "                                                                                  &#x27;embarked&#x27;]))])),\n",
       "                (&#x27;lower_text_values&#x27;, LowerTransformer())])</pre></div></div></div><div class=\"sk-serial\"><div class=\"sk-item sk-dashed-wrapped\"><div class=\"sk-label-container\"><div class=\"sk-label sk-toggleable\"><input class=\"sk-toggleable__control sk-hidden--visually\" id=\"baca2025-abd8-41f5-9d75-f42afed8274b\" type=\"checkbox\" ><label for=\"baca2025-abd8-41f5-9d75-f42afed8274b\" class=\"sk-toggleable__label sk-toggleable__label-arrow\">raw_data_processor: featureUnion</label><div class=\"sk-toggleable__content\"><pre>featureUnion(transformer_list=[(&#x27;pass_name&#x27;, PassNameTransformer()),\n",
       "                               (&#x27;ticket&#x27;, TicketTransformer()),\n",
       "                               (&#x27;cabin&#x27;, CabinTransformer()),\n",
       "                               (&#x27;others&#x27;,\n",
       "                                ColumnSelectTransformer(columns=[&#x27;pclass&#x27;,\n",
       "                                                                 &#x27;sex&#x27;, &#x27;age&#x27;,\n",
       "                                                                 &#x27;sibsp&#x27;,\n",
       "                                                                 &#x27;parch&#x27;,\n",
       "                                                                 &#x27;fare&#x27;,\n",
       "                                                                 &#x27;embarked&#x27;]))])</pre></div></div></div><div class=\"sk-parallel\"><div class=\"sk-parallel-item\"><div class=\"sk-item\"><div class=\"sk-label-container\"><div class=\"sk-label sk-toggleable\"><label>pass_name</label></div></div><div class=\"sk-serial\"><div class=\"sk-item\"><div class=\"sk-estimator sk-toggleable\"><input class=\"sk-toggleable__control sk-hidden--visually\" id=\"b99faa9a-3a4e-40d8-b06e-4ba1957ba07e\" type=\"checkbox\" ><label for=\"b99faa9a-3a4e-40d8-b06e-4ba1957ba07e\" class=\"sk-toggleable__label sk-toggleable__label-arrow\">PassNameTransformer</label><div class=\"sk-toggleable__content\"><pre>PassNameTransformer()</pre></div></div></div></div></div></div><div class=\"sk-parallel-item\"><div class=\"sk-item\"><div class=\"sk-label-container\"><div class=\"sk-label sk-toggleable\"><label>ticket</label></div></div><div class=\"sk-serial\"><div class=\"sk-item\"><div class=\"sk-estimator sk-toggleable\"><input class=\"sk-toggleable__control sk-hidden--visually\" id=\"1f2dfcf0-297d-4591-ac90-c729e12f2d28\" type=\"checkbox\" ><label for=\"1f2dfcf0-297d-4591-ac90-c729e12f2d28\" class=\"sk-toggleable__label sk-toggleable__label-arrow\">TicketTransformer</label><div class=\"sk-toggleable__content\"><pre>TicketTransformer()</pre></div></div></div></div></div></div><div class=\"sk-parallel-item\"><div class=\"sk-item\"><div class=\"sk-label-container\"><div class=\"sk-label sk-toggleable\"><label>cabin</label></div></div><div class=\"sk-serial\"><div class=\"sk-item\"><div class=\"sk-estimator sk-toggleable\"><input class=\"sk-toggleable__control sk-hidden--visually\" id=\"193b4560-4d01-48b1-888a-e2b1efcd1827\" type=\"checkbox\" ><label for=\"193b4560-4d01-48b1-888a-e2b1efcd1827\" class=\"sk-toggleable__label sk-toggleable__label-arrow\">CabinTransformer</label><div class=\"sk-toggleable__content\"><pre>CabinTransformer()</pre></div></div></div></div></div></div><div class=\"sk-parallel-item\"><div class=\"sk-item\"><div class=\"sk-label-container\"><div class=\"sk-label sk-toggleable\"><label>others</label></div></div><div class=\"sk-serial\"><div class=\"sk-item\"><div class=\"sk-estimator sk-toggleable\"><input class=\"sk-toggleable__control sk-hidden--visually\" id=\"a290be37-e8a0-4dba-9e99-c7f189945781\" type=\"checkbox\" ><label for=\"a290be37-e8a0-4dba-9e99-c7f189945781\" class=\"sk-toggleable__label sk-toggleable__label-arrow\">ColumnSelectTransformer</label><div class=\"sk-toggleable__content\"><pre>ColumnSelectTransformer(columns=[&#x27;pclass&#x27;, &#x27;sex&#x27;, &#x27;age&#x27;, &#x27;sibsp&#x27;, &#x27;parch&#x27;,\n",
       "                                 &#x27;fare&#x27;, &#x27;embarked&#x27;])</pre></div></div></div></div></div></div></div></div><div class=\"sk-item\"><div class=\"sk-estimator sk-toggleable\"><input class=\"sk-toggleable__control sk-hidden--visually\" id=\"d85eb47d-5fd1-4cf8-95e7-5072d4cd049f\" type=\"checkbox\" ><label for=\"d85eb47d-5fd1-4cf8-95e7-5072d4cd049f\" class=\"sk-toggleable__label sk-toggleable__label-arrow\">LowerTransformer</label><div class=\"sk-toggleable__content\"><pre>LowerTransformer()</pre></div></div></div></div></div><div class=\"sk-item sk-dashed-wrapped\"><div class=\"sk-label-container\"><div class=\"sk-label sk-toggleable\"><input class=\"sk-toggleable__control sk-hidden--visually\" id=\"65ea923e-c1e4-44e1-b769-c2b881c3b470\" type=\"checkbox\" ><label for=\"65ea923e-c1e4-44e1-b769-c2b881c3b470\" class=\"sk-toggleable__label sk-toggleable__label-arrow\">null_handling: columnTransformer</label><div class=\"sk-toggleable__content\"><pre>columnTransformer(remainder=&#x27;passthrough&#x27;,\n",
       "                  transformers=[(&#x27;text_features&#x27;,\n",
       "                                 simpleImputer(fill_value=&#x27;unk&#x27;,\n",
       "                                               missing_values=None,\n",
       "                                               strategy=&#x27;constant&#x27;),\n",
       "                                 &lt;sklearn.compose._column_transformer.make_column_selector object at 0x7f84d8ce9f10&gt;),\n",
       "                                (&#x27;float_features&#x27;,\n",
       "                                 simpleImputer(strategy=&#x27;median&#x27;),\n",
       "                                 &lt;sklearn.compose._column_transformer.make_column_selector object at 0x7f84d8ce9850&gt;),\n",
       "                                (&#x27;count_features&#x27;,\n",
       "                                 simpleImputer(strategy=&#x27;most_frequent&#x27;),\n",
       "                                 &lt;sklearn.compose._column_transformer.make_column_selector object at 0x7f84d8ce9070&gt;)])</pre></div></div></div><div class=\"sk-parallel\"><div class=\"sk-parallel-item\"><div class=\"sk-item\"><div class=\"sk-label-container\"><div class=\"sk-label sk-toggleable\"><input class=\"sk-toggleable__control sk-hidden--visually\" id=\"9558e21a-9c86-47d6-9877-13b97a237c0f\" type=\"checkbox\" ><label for=\"9558e21a-9c86-47d6-9877-13b97a237c0f\" class=\"sk-toggleable__label sk-toggleable__label-arrow\">text_features</label><div class=\"sk-toggleable__content\"><pre>&lt;sklearn.compose._column_transformer.make_column_selector object at 0x7f84d8ce9f10&gt;</pre></div></div></div><div class=\"sk-serial\"><div class=\"sk-item\"><div class=\"sk-estimator sk-toggleable\"><input class=\"sk-toggleable__control sk-hidden--visually\" id=\"6a4be3da-d944-4a40-8435-8f53c2491d42\" type=\"checkbox\" ><label for=\"6a4be3da-d944-4a40-8435-8f53c2491d42\" class=\"sk-toggleable__label sk-toggleable__label-arrow\">simpleImputer</label><div class=\"sk-toggleable__content\"><pre>simpleImputer(fill_value=&#x27;unk&#x27;, missing_values=None, strategy=&#x27;constant&#x27;)</pre></div></div></div></div></div></div><div class=\"sk-parallel-item\"><div class=\"sk-item\"><div class=\"sk-label-container\"><div class=\"sk-label sk-toggleable\"><input class=\"sk-toggleable__control sk-hidden--visually\" id=\"4fba8a26-d709-4a36-82a7-b8d42f1a0c3f\" type=\"checkbox\" ><label for=\"4fba8a26-d709-4a36-82a7-b8d42f1a0c3f\" class=\"sk-toggleable__label sk-toggleable__label-arrow\">float_features</label><div class=\"sk-toggleable__content\"><pre>&lt;sklearn.compose._column_transformer.make_column_selector object at 0x7f84d8ce9850&gt;</pre></div></div></div><div class=\"sk-serial\"><div class=\"sk-item\"><div class=\"sk-estimator sk-toggleable\"><input class=\"sk-toggleable__control sk-hidden--visually\" id=\"c790e252-7dea-4197-99b9-4994ff083d0d\" type=\"checkbox\" ><label for=\"c790e252-7dea-4197-99b9-4994ff083d0d\" class=\"sk-toggleable__label sk-toggleable__label-arrow\">simpleImputer</label><div class=\"sk-toggleable__content\"><pre>simpleImputer(strategy=&#x27;median&#x27;)</pre></div></div></div></div></div></div><div class=\"sk-parallel-item\"><div class=\"sk-item\"><div class=\"sk-label-container\"><div class=\"sk-label sk-toggleable\"><input class=\"sk-toggleable__control sk-hidden--visually\" id=\"ca6fc259-0b2f-4d8f-b4ad-7782b766ad58\" type=\"checkbox\" ><label for=\"ca6fc259-0b2f-4d8f-b4ad-7782b766ad58\" class=\"sk-toggleable__label sk-toggleable__label-arrow\">count_features</label><div class=\"sk-toggleable__content\"><pre>&lt;sklearn.compose._column_transformer.make_column_selector object at 0x7f84d8ce9070&gt;</pre></div></div></div><div class=\"sk-serial\"><div class=\"sk-item\"><div class=\"sk-estimator sk-toggleable\"><input class=\"sk-toggleable__control sk-hidden--visually\" id=\"9a38f09c-60d6-423b-ba31-e898e6b74cd0\" type=\"checkbox\" ><label for=\"9a38f09c-60d6-423b-ba31-e898e6b74cd0\" class=\"sk-toggleable__label sk-toggleable__label-arrow\">simpleImputer</label><div class=\"sk-toggleable__content\"><pre>simpleImputer(strategy=&#x27;most_frequent&#x27;)</pre></div></div></div></div></div></div><div class=\"sk-parallel-item\"><div class=\"sk-item\"><div class=\"sk-label-container\"><div class=\"sk-label sk-toggleable\"><input class=\"sk-toggleable__control sk-hidden--visually\" id=\"1364e323-b332-4076-ab64-214f5f3ae71b\" type=\"checkbox\" ><label for=\"1364e323-b332-4076-ab64-214f5f3ae71b\" class=\"sk-toggleable__label sk-toggleable__label-arrow\">remainder</label><div class=\"sk-toggleable__content\"><pre>[]</pre></div></div></div><div class=\"sk-serial\"><div class=\"sk-item\"><div class=\"sk-estimator sk-toggleable\"><input class=\"sk-toggleable__control sk-hidden--visually\" id=\"5c5b8de2-58a6-4521-abb5-78f444181d2e\" type=\"checkbox\" ><label for=\"5c5b8de2-58a6-4521-abb5-78f444181d2e\" class=\"sk-toggleable__label sk-toggleable__label-arrow\">passthrough</label><div class=\"sk-toggleable__content\"><pre>passthrough</pre></div></div></div></div></div></div></div></div></div></div><div class=\"sk-item\"><div class=\"sk-estimator sk-toggleable\"><input class=\"sk-toggleable__control sk-hidden--visually\" id=\"5dcaa8e6-5c6d-462c-a79c-b7f28950d003\" type=\"checkbox\" ><label for=\"5dcaa8e6-5c6d-462c-a79c-b7f28950d003\" class=\"sk-toggleable__label sk-toggleable__label-arrow\">CustomCatBoostClassifier</label><div class=\"sk-toggleable__content\"><pre>CustomCatBoostClassifier(cat_features=[&#x27;ticket_str&#x27;, &#x27;cabin_str&#x27;, &#x27;embarked&#x27;,\n",
       "                                       &#x27;sex&#x27;, &#x27;surname&#x27;, &#x27;forename&#x27;],\n",
       "                         early_stopping_rounds=50, iterations=1000,\n",
       "                         metric_period=25, task_type=&#x27;CPU&#x27;, use_best_model=True,\n",
       "                         verbose=True)</pre></div></div></div></div></div></div></div>"
      ],
      "text/plain": [
       "Pipeline(steps=[('pl_simple',\n",
       "                 Pipeline(steps=[('pl',\n",
       "                                  Pipeline(steps=[('raw_data_processor',\n",
       "                                                   featureUnion(transformer_list=[('pass_name',\n",
       "                                                                                   PassNameTransformer()),\n",
       "                                                                                  ('ticket',\n",
       "                                                                                   TicketTransformer()),\n",
       "                                                                                  ('cabin',\n",
       "                                                                                   CabinTransformer()),\n",
       "                                                                                  ('others',\n",
       "                                                                                   ColumnSelectTransformer(columns=['pclass',\n",
       "                                                                                                                    'sex',\n",
       "                                                                                                                    'age',\n",
       "                                                                                                                    'sibsp',\n",
       "                                                                                                                    'parch',\n",
       "                                                                                                                    'fare',\n",
       "                                                                                                                    'embarked']))])),\n",
       "                                                  ('lower_text_values',\n",
       "                                                   LowerTran...\n",
       "                                                                   simpleImputer(strategy='most_frequent'),\n",
       "                                                                   <sklearn.compose._column_transformer.make_column_selector object at 0x7f84d8ce9070>)]))])),\n",
       "                ('catboost_simple',\n",
       "                 CustomCatBoostClassifier(cat_features=['ticket_str',\n",
       "                                                        'cabin_str', 'embarked',\n",
       "                                                        'sex', 'surname',\n",
       "                                                        'forename'],\n",
       "                                          early_stopping_rounds=50,\n",
       "                                          iterations=1000, metric_period=25,\n",
       "                                          task_type='CPU', use_best_model=True,\n",
       "                                          verbose=True))])"
      ]
     },
     "execution_count": 34,
     "metadata": {},
     "output_type": "execute_result"
    }
   ],
   "source": [
    "pl4.fit(X_train, y_train)"
   ]
  },
  {
   "cell_type": "code",
   "execution_count": 35,
   "metadata": {},
   "outputs": [
    {
     "name": "stdout",
     "output_type": "stream",
     "text": [
      "====Converting columns types====\n"
     ]
    },
    {
     "data": {
      "application/vnd.jupyter.widget-view+json": {
       "model_id": "c41b62e25b6940b3a8d52fdfb3bae340",
       "version_major": 2,
       "version_minor": 0
      },
      "text/plain": [
       "0it [00:00, ?it/s]"
      ]
     },
     "metadata": {},
     "output_type": "display_data"
    },
    {
     "data": {
      "application/vnd.jupyter.widget-view+json": {
       "model_id": "6fddab7677e5488eb85f0328ec6c0f26",
       "version_major": 2,
       "version_minor": 0
      },
      "text/plain": [
       "0it [00:00, ?it/s]"
      ]
     },
     "metadata": {},
     "output_type": "display_data"
    },
    {
     "data": {
      "application/vnd.jupyter.widget-view+json": {
       "model_id": "a100678b5fee4e2f90c3471d3edd26bf",
       "version_major": 2,
       "version_minor": 0
      },
      "text/plain": [
       "0it [00:00, ?it/s]"
      ]
     },
     "metadata": {},
     "output_type": "display_data"
    },
    {
     "data": {
      "application/vnd.jupyter.widget-view+json": {
       "model_id": "b1956854f59742f38b0787f80993c63f",
       "version_major": 2,
       "version_minor": 0
      },
      "text/plain": [
       "0it [00:00, ?it/s]"
      ]
     },
     "metadata": {},
     "output_type": "display_data"
    },
    {
     "name": "stdout",
     "output_type": "stream",
     "text": [
      "[['surname', 'forename', 'ticket_str', 'cabin_str', 'sex', 'embarked'], ['ticket_num', 'cabin_num', 'age', 'fare'], ['pclass', 'sibsp', 'parch']]\n",
      "[(100000, 6), (100000, 4), (100000, 3)]\n",
      "====Converting columns types====\n"
     ]
    },
    {
     "data": {
      "application/vnd.jupyter.widget-view+json": {
       "model_id": "79290028b241439eafa5ac769f1cdb15",
       "version_major": 2,
       "version_minor": 0
      },
      "text/plain": [
       "0it [00:00, ?it/s]"
      ]
     },
     "metadata": {},
     "output_type": "display_data"
    }
   ],
   "source": [
    "b = pl4.predict(X_test)"
   ]
  },
  {
   "cell_type": "code",
   "execution_count": 36,
   "metadata": {},
   "outputs": [
    {
     "data": {
      "text/html": [
       "<div>\n",
       "<style scoped>\n",
       "    .dataframe tbody tr th:only-of-type {\n",
       "        vertical-align: middle;\n",
       "    }\n",
       "\n",
       "    .dataframe tbody tr th {\n",
       "        vertical-align: top;\n",
       "    }\n",
       "\n",
       "    .dataframe thead th {\n",
       "        text-align: right;\n",
       "    }\n",
       "</style>\n",
       "<table border=\"1\" class=\"dataframe\">\n",
       "  <thead>\n",
       "    <tr style=\"text-align: right;\">\n",
       "      <th></th>\n",
       "      <th>surname</th>\n",
       "      <th>forename</th>\n",
       "      <th>ticket_str</th>\n",
       "      <th>cabin_str</th>\n",
       "      <th>sex</th>\n",
       "      <th>embarked</th>\n",
       "    </tr>\n",
       "  </thead>\n",
       "  <tbody>\n",
       "    <tr>\n",
       "      <th>0</th>\n",
       "      <td>oconnor</td>\n",
       "      <td>frankie</td>\n",
       "      <td>None</td>\n",
       "      <td>c</td>\n",
       "      <td>male</td>\n",
       "      <td>s</td>\n",
       "    </tr>\n",
       "    <tr>\n",
       "      <th>1</th>\n",
       "      <td>bryan</td>\n",
       "      <td>drew</td>\n",
       "      <td>None</td>\n",
       "      <td>None</td>\n",
       "      <td>male</td>\n",
       "      <td>s</td>\n",
       "    </tr>\n",
       "    <tr>\n",
       "      <th>2</th>\n",
       "      <td>owens</td>\n",
       "      <td>kenneth</td>\n",
       "      <td>ca</td>\n",
       "      <td>None</td>\n",
       "      <td>male</td>\n",
       "      <td>s</td>\n",
       "    </tr>\n",
       "    <tr>\n",
       "      <th>3</th>\n",
       "      <td>kramer</td>\n",
       "      <td>james</td>\n",
       "      <td>a.</td>\n",
       "      <td>None</td>\n",
       "      <td>male</td>\n",
       "      <td>s</td>\n",
       "    </tr>\n",
       "    <tr>\n",
       "      <th>4</th>\n",
       "      <td>bond</td>\n",
       "      <td>michael</td>\n",
       "      <td>None</td>\n",
       "      <td>None</td>\n",
       "      <td>male</td>\n",
       "      <td>s</td>\n",
       "    </tr>\n",
       "    <tr>\n",
       "      <th>...</th>\n",
       "      <td>...</td>\n",
       "      <td>...</td>\n",
       "      <td>...</td>\n",
       "      <td>...</td>\n",
       "      <td>...</td>\n",
       "      <td>...</td>\n",
       "    </tr>\n",
       "    <tr>\n",
       "      <th>99995</th>\n",
       "      <td>bell</td>\n",
       "      <td>adele</td>\n",
       "      <td>pc</td>\n",
       "      <td>d</td>\n",
       "      <td>female</td>\n",
       "      <td>c</td>\n",
       "    </tr>\n",
       "    <tr>\n",
       "      <th>99996</th>\n",
       "      <td>brown</td>\n",
       "      <td>herman</td>\n",
       "      <td>None</td>\n",
       "      <td>None</td>\n",
       "      <td>male</td>\n",
       "      <td>s</td>\n",
       "    </tr>\n",
       "    <tr>\n",
       "      <th>99997</th>\n",
       "      <td>childress</td>\n",
       "      <td>charles</td>\n",
       "      <td>None</td>\n",
       "      <td>None</td>\n",
       "      <td>male</td>\n",
       "      <td>s</td>\n",
       "    </tr>\n",
       "    <tr>\n",
       "      <th>99998</th>\n",
       "      <td>caughlin</td>\n",
       "      <td>thomas</td>\n",
       "      <td>None</td>\n",
       "      <td>None</td>\n",
       "      <td>male</td>\n",
       "      <td>s</td>\n",
       "    </tr>\n",
       "    <tr>\n",
       "      <th>99999</th>\n",
       "      <td>enciso</td>\n",
       "      <td>tyler</td>\n",
       "      <td>None</td>\n",
       "      <td>None</td>\n",
       "      <td>male</td>\n",
       "      <td>s</td>\n",
       "    </tr>\n",
       "  </tbody>\n",
       "</table>\n",
       "<p>100000 rows × 6 columns</p>\n",
       "</div>"
      ],
      "text/plain": [
       "         surname  forename ticket_str cabin_str     sex embarked\n",
       "0        oconnor   frankie       None         c    male        s\n",
       "1          bryan      drew       None      None    male        s\n",
       "2          owens   kenneth         ca      None    male        s\n",
       "3         kramer     james         a.      None    male        s\n",
       "4           bond   michael       None      None    male        s\n",
       "...          ...       ...        ...       ...     ...      ...\n",
       "99995       bell     adele         pc         d  female        c\n",
       "99996      brown    herman       None      None    male        s\n",
       "99997  childress   charles       None      None    male        s\n",
       "99998   caughlin    thomas       None      None    male        s\n",
       "99999     enciso     tyler       None      None    male        s\n",
       "\n",
       "[100000 rows x 6 columns]"
      ]
     },
     "execution_count": 36,
     "metadata": {},
     "output_type": "execute_result"
    }
   ],
   "source": [
    "df2[['surname', 'forename', 'ticket_str', 'cabin_str', 'sex', 'embarked']]"
   ]
  },
  {
   "cell_type": "code",
   "execution_count": 37,
   "metadata": {},
   "outputs": [],
   "source": [
    "from sklearn.preprocessing import LabelEncoder\n",
    "class CustomLabelEncoder(PipelineLogger,TransformerMixin, BaseEstimator):\n",
    "    def __init__(self, columns=None):\n",
    "        super(CustomLabelEncoder).__init__()\n",
    "        self.columns = columns\n",
    "        self.label_encoders = {}\n",
    "        \n",
    "    def fit(self, X, y=None):\n",
    "        X_ = X[self.columns]\n",
    "        X_ = pd.concat([X_, pd.DataFrame([['unk'] * X_.shape[1]], columns=X_.columns)], ignore_index=True)\n",
    "        for c in self.columns:\n",
    "            self.label_encoders[c] = LabelEncoder().fit(X_[c])\n",
    "        print(self.label_encoders)\n",
    "        return self\n",
    "    \n",
    "    def transform(self, X, y=None):\n",
    "        X_ = pd.DataFrame()\n",
    "        self.dummy_dicts = {}\n",
    "        for c in self.columns:\n",
    "            dd = {}\n",
    "            for cl in self.label_encoders[c].classes_:\n",
    "                dd[cl] = True\n",
    "            sr = X[c].map(lambda s: 'unk' if dd.get(s) is None else s)\n",
    "            X_[c] = self.label_encoders[c].transform(sr)\n",
    "        return X_\n",
    "            \n",
    "    def inverse_transform(self, X_encode, y=None):\n",
    "        X_decode = pd.DataFrame()\n",
    "        for c in self.columns:\n",
    "            X_decode[c] = self.label_encoders[c].inverse_transform(X_encode[c])\n",
    "        return X_decode"
   ]
  },
  {
   "cell_type": "code",
   "execution_count": 38,
   "metadata": {},
   "outputs": [],
   "source": [
    "mul_le = CustomLabelEncoder(\n",
    "        columns=['surname', 'forename', 'ticket_str', 'cabin_str', 'sex', 'embarked']\n",
    ")"
   ]
  },
  {
   "cell_type": "code",
   "execution_count": 39,
   "metadata": {},
   "outputs": [],
   "source": [
    "label_encoding = columnTransformer(transformers=[\n",
    "    ('category_encoder', mul_le, ['surname', 'forename', 'ticket_str', 'cabin_str', 'sex', 'embarked'])\n",
    "], remainder='passthrough')"
   ]
  },
  {
   "cell_type": "code",
   "execution_count": 40,
   "metadata": {},
   "outputs": [
    {
     "name": "stdout",
     "output_type": "stream",
     "text": [
      "{'surname': LabelEncoder(), 'forename': LabelEncoder(), 'ticket_str': LabelEncoder(), 'cabin_str': LabelEncoder(), 'sex': LabelEncoder(), 'embarked': LabelEncoder()}\n"
     ]
    },
    {
     "data": {
      "text/html": [
       "<div>\n",
       "<style scoped>\n",
       "    .dataframe tbody tr th:only-of-type {\n",
       "        vertical-align: middle;\n",
       "    }\n",
       "\n",
       "    .dataframe tbody tr th {\n",
       "        vertical-align: top;\n",
       "    }\n",
       "\n",
       "    .dataframe thead th {\n",
       "        text-align: right;\n",
       "    }\n",
       "</style>\n",
       "<table border=\"1\" class=\"dataframe\">\n",
       "  <thead>\n",
       "    <tr style=\"text-align: right;\">\n",
       "      <th></th>\n",
       "      <th>surname</th>\n",
       "      <th>forename</th>\n",
       "      <th>ticket_str</th>\n",
       "      <th>cabin_str</th>\n",
       "      <th>sex</th>\n",
       "      <th>embarked</th>\n",
       "    </tr>\n",
       "  </thead>\n",
       "  <tbody>\n",
       "    <tr>\n",
       "      <th>0</th>\n",
       "      <td>14195</td>\n",
       "      <td>1311</td>\n",
       "      <td>49</td>\n",
       "      <td>2</td>\n",
       "      <td>1</td>\n",
       "      <td>2</td>\n",
       "    </tr>\n",
       "    <tr>\n",
       "      <th>1</th>\n",
       "      <td>2495</td>\n",
       "      <td>1015</td>\n",
       "      <td>49</td>\n",
       "      <td>9</td>\n",
       "      <td>1</td>\n",
       "      <td>2</td>\n",
       "    </tr>\n",
       "    <tr>\n",
       "      <th>2</th>\n",
       "      <td>14478</td>\n",
       "      <td>2010</td>\n",
       "      <td>14</td>\n",
       "      <td>9</td>\n",
       "      <td>1</td>\n",
       "      <td>2</td>\n",
       "    </tr>\n",
       "    <tr>\n",
       "      <th>3</th>\n",
       "      <td>10435</td>\n",
       "      <td>1662</td>\n",
       "      <td>0</td>\n",
       "      <td>9</td>\n",
       "      <td>1</td>\n",
       "      <td>2</td>\n",
       "    </tr>\n",
       "    <tr>\n",
       "      <th>4</th>\n",
       "      <td>1902</td>\n",
       "      <td>2678</td>\n",
       "      <td>49</td>\n",
       "      <td>9</td>\n",
       "      <td>1</td>\n",
       "      <td>2</td>\n",
       "    </tr>\n",
       "    <tr>\n",
       "      <th>...</th>\n",
       "      <td>...</td>\n",
       "      <td>...</td>\n",
       "      <td>...</td>\n",
       "      <td>...</td>\n",
       "      <td>...</td>\n",
       "      <td>...</td>\n",
       "    </tr>\n",
       "    <tr>\n",
       "      <th>99995</th>\n",
       "      <td>1301</td>\n",
       "      <td>18</td>\n",
       "      <td>21</td>\n",
       "      <td>3</td>\n",
       "      <td>0</td>\n",
       "      <td>0</td>\n",
       "    </tr>\n",
       "    <tr>\n",
       "      <th>99996</th>\n",
       "      <td>2436</td>\n",
       "      <td>1507</td>\n",
       "      <td>49</td>\n",
       "      <td>9</td>\n",
       "      <td>1</td>\n",
       "      <td>2</td>\n",
       "    </tr>\n",
       "    <tr>\n",
       "      <th>99997</th>\n",
       "      <td>3463</td>\n",
       "      <td>610</td>\n",
       "      <td>49</td>\n",
       "      <td>9</td>\n",
       "      <td>1</td>\n",
       "      <td>2</td>\n",
       "    </tr>\n",
       "    <tr>\n",
       "      <th>99998</th>\n",
       "      <td>3226</td>\n",
       "      <td>3636</td>\n",
       "      <td>49</td>\n",
       "      <td>9</td>\n",
       "      <td>1</td>\n",
       "      <td>2</td>\n",
       "    </tr>\n",
       "    <tr>\n",
       "      <th>99999</th>\n",
       "      <td>5762</td>\n",
       "      <td>3730</td>\n",
       "      <td>49</td>\n",
       "      <td>9</td>\n",
       "      <td>1</td>\n",
       "      <td>2</td>\n",
       "    </tr>\n",
       "  </tbody>\n",
       "</table>\n",
       "<p>100000 rows × 6 columns</p>\n",
       "</div>"
      ],
      "text/plain": [
       "       surname  forename  ticket_str  cabin_str  sex  embarked\n",
       "0        14195      1311          49          2    1         2\n",
       "1         2495      1015          49          9    1         2\n",
       "2        14478      2010          14          9    1         2\n",
       "3        10435      1662           0          9    1         2\n",
       "4         1902      2678          49          9    1         2\n",
       "...        ...       ...         ...        ...  ...       ...\n",
       "99995     1301        18          21          3    0         0\n",
       "99996     2436      1507          49          9    1         2\n",
       "99997     3463       610          49          9    1         2\n",
       "99998     3226      3636          49          9    1         2\n",
       "99999     5762      3730          49          9    1         2\n",
       "\n",
       "[100000 rows x 6 columns]"
      ]
     },
     "execution_count": 40,
     "metadata": {},
     "output_type": "execute_result"
    }
   ],
   "source": [
    "mul_le.fit_transform(df2)"
   ]
  },
  {
   "cell_type": "code",
   "execution_count": 41,
   "metadata": {},
   "outputs": [
    {
     "data": {
      "text/html": [
       "<div>\n",
       "<style scoped>\n",
       "    .dataframe tbody tr th:only-of-type {\n",
       "        vertical-align: middle;\n",
       "    }\n",
       "\n",
       "    .dataframe tbody tr th {\n",
       "        vertical-align: top;\n",
       "    }\n",
       "\n",
       "    .dataframe thead th {\n",
       "        text-align: right;\n",
       "    }\n",
       "</style>\n",
       "<table border=\"1\" class=\"dataframe\">\n",
       "  <thead>\n",
       "    <tr style=\"text-align: right;\">\n",
       "      <th></th>\n",
       "      <th>surname</th>\n",
       "      <th>forename</th>\n",
       "      <th>ticket_str</th>\n",
       "      <th>ticket_num</th>\n",
       "      <th>cabin_str</th>\n",
       "      <th>cabin_num</th>\n",
       "      <th>pclass</th>\n",
       "      <th>sex</th>\n",
       "      <th>age</th>\n",
       "      <th>sibsp</th>\n",
       "      <th>parch</th>\n",
       "      <th>fare</th>\n",
       "      <th>embarked</th>\n",
       "    </tr>\n",
       "  </thead>\n",
       "  <tbody>\n",
       "    <tr>\n",
       "      <th>0</th>\n",
       "      <td>oconnor</td>\n",
       "      <td>frankie</td>\n",
       "      <td>None</td>\n",
       "      <td>209245.0</td>\n",
       "      <td>c</td>\n",
       "      <td>12239.0</td>\n",
       "      <td>1</td>\n",
       "      <td>male</td>\n",
       "      <td>NaN</td>\n",
       "      <td>2</td>\n",
       "      <td>0</td>\n",
       "      <td>27.14</td>\n",
       "      <td>s</td>\n",
       "    </tr>\n",
       "    <tr>\n",
       "      <th>1</th>\n",
       "      <td>bryan</td>\n",
       "      <td>drew</td>\n",
       "      <td>None</td>\n",
       "      <td>27323.0</td>\n",
       "      <td>None</td>\n",
       "      <td>NaN</td>\n",
       "      <td>3</td>\n",
       "      <td>male</td>\n",
       "      <td>NaN</td>\n",
       "      <td>0</td>\n",
       "      <td>0</td>\n",
       "      <td>13.35</td>\n",
       "      <td>s</td>\n",
       "    </tr>\n",
       "    <tr>\n",
       "      <th>2</th>\n",
       "      <td>owens</td>\n",
       "      <td>kenneth</td>\n",
       "      <td>ca</td>\n",
       "      <td>NaN</td>\n",
       "      <td>None</td>\n",
       "      <td>NaN</td>\n",
       "      <td>3</td>\n",
       "      <td>male</td>\n",
       "      <td>0.33</td>\n",
       "      <td>1</td>\n",
       "      <td>2</td>\n",
       "      <td>71.29</td>\n",
       "      <td>s</td>\n",
       "    </tr>\n",
       "    <tr>\n",
       "      <th>3</th>\n",
       "      <td>kramer</td>\n",
       "      <td>james</td>\n",
       "      <td>a.</td>\n",
       "      <td>NaN</td>\n",
       "      <td>None</td>\n",
       "      <td>NaN</td>\n",
       "      <td>3</td>\n",
       "      <td>male</td>\n",
       "      <td>19.00</td>\n",
       "      <td>0</td>\n",
       "      <td>0</td>\n",
       "      <td>13.04</td>\n",
       "      <td>s</td>\n",
       "    </tr>\n",
       "    <tr>\n",
       "      <th>4</th>\n",
       "      <td>bond</td>\n",
       "      <td>michael</td>\n",
       "      <td>None</td>\n",
       "      <td>427635.0</td>\n",
       "      <td>None</td>\n",
       "      <td>NaN</td>\n",
       "      <td>3</td>\n",
       "      <td>male</td>\n",
       "      <td>25.00</td>\n",
       "      <td>0</td>\n",
       "      <td>0</td>\n",
       "      <td>7.76</td>\n",
       "      <td>s</td>\n",
       "    </tr>\n",
       "    <tr>\n",
       "      <th>...</th>\n",
       "      <td>...</td>\n",
       "      <td>...</td>\n",
       "      <td>...</td>\n",
       "      <td>...</td>\n",
       "      <td>...</td>\n",
       "      <td>...</td>\n",
       "      <td>...</td>\n",
       "      <td>...</td>\n",
       "      <td>...</td>\n",
       "      <td>...</td>\n",
       "      <td>...</td>\n",
       "      <td>...</td>\n",
       "      <td>...</td>\n",
       "    </tr>\n",
       "    <tr>\n",
       "      <th>99995</th>\n",
       "      <td>bell</td>\n",
       "      <td>adele</td>\n",
       "      <td>pc</td>\n",
       "      <td>NaN</td>\n",
       "      <td>d</td>\n",
       "      <td>17243.0</td>\n",
       "      <td>2</td>\n",
       "      <td>female</td>\n",
       "      <td>62.00</td>\n",
       "      <td>0</td>\n",
       "      <td>0</td>\n",
       "      <td>14.86</td>\n",
       "      <td>c</td>\n",
       "    </tr>\n",
       "    <tr>\n",
       "      <th>99996</th>\n",
       "      <td>brown</td>\n",
       "      <td>herman</td>\n",
       "      <td>None</td>\n",
       "      <td>13273.0</td>\n",
       "      <td>None</td>\n",
       "      <td>NaN</td>\n",
       "      <td>2</td>\n",
       "      <td>male</td>\n",
       "      <td>66.00</td>\n",
       "      <td>0</td>\n",
       "      <td>0</td>\n",
       "      <td>11.15</td>\n",
       "      <td>s</td>\n",
       "    </tr>\n",
       "    <tr>\n",
       "      <th>99997</th>\n",
       "      <td>childress</td>\n",
       "      <td>charles</td>\n",
       "      <td>None</td>\n",
       "      <td>NaN</td>\n",
       "      <td>None</td>\n",
       "      <td>NaN</td>\n",
       "      <td>3</td>\n",
       "      <td>male</td>\n",
       "      <td>37.00</td>\n",
       "      <td>0</td>\n",
       "      <td>0</td>\n",
       "      <td>9.95</td>\n",
       "      <td>s</td>\n",
       "    </tr>\n",
       "    <tr>\n",
       "      <th>99998</th>\n",
       "      <td>caughlin</td>\n",
       "      <td>thomas</td>\n",
       "      <td>None</td>\n",
       "      <td>458654.0</td>\n",
       "      <td>None</td>\n",
       "      <td>NaN</td>\n",
       "      <td>3</td>\n",
       "      <td>male</td>\n",
       "      <td>51.00</td>\n",
       "      <td>0</td>\n",
       "      <td>1</td>\n",
       "      <td>30.92</td>\n",
       "      <td>s</td>\n",
       "    </tr>\n",
       "    <tr>\n",
       "      <th>99999</th>\n",
       "      <td>enciso</td>\n",
       "      <td>tyler</td>\n",
       "      <td>None</td>\n",
       "      <td>458074.0</td>\n",
       "      <td>None</td>\n",
       "      <td>NaN</td>\n",
       "      <td>3</td>\n",
       "      <td>male</td>\n",
       "      <td>55.00</td>\n",
       "      <td>0</td>\n",
       "      <td>0</td>\n",
       "      <td>13.96</td>\n",
       "      <td>s</td>\n",
       "    </tr>\n",
       "  </tbody>\n",
       "</table>\n",
       "<p>100000 rows × 13 columns</p>\n",
       "</div>"
      ],
      "text/plain": [
       "         surname  forename ticket_str  ticket_num cabin_str  cabin_num  \\\n",
       "0        oconnor   frankie       None    209245.0         c    12239.0   \n",
       "1          bryan      drew       None     27323.0      None        NaN   \n",
       "2          owens   kenneth         ca         NaN      None        NaN   \n",
       "3         kramer     james         a.         NaN      None        NaN   \n",
       "4           bond   michael       None    427635.0      None        NaN   \n",
       "...          ...       ...        ...         ...       ...        ...   \n",
       "99995       bell     adele         pc         NaN         d    17243.0   \n",
       "99996      brown    herman       None     13273.0      None        NaN   \n",
       "99997  childress   charles       None         NaN      None        NaN   \n",
       "99998   caughlin    thomas       None    458654.0      None        NaN   \n",
       "99999     enciso     tyler       None    458074.0      None        NaN   \n",
       "\n",
       "       pclass     sex    age  sibsp  parch   fare embarked  \n",
       "0           1    male    NaN      2      0  27.14        s  \n",
       "1           3    male    NaN      0      0  13.35        s  \n",
       "2           3    male   0.33      1      2  71.29        s  \n",
       "3           3    male  19.00      0      0  13.04        s  \n",
       "4           3    male  25.00      0      0   7.76        s  \n",
       "...       ...     ...    ...    ...    ...    ...      ...  \n",
       "99995       2  female  62.00      0      0  14.86        c  \n",
       "99996       2    male  66.00      0      0  11.15        s  \n",
       "99997       3    male  37.00      0      0   9.95        s  \n",
       "99998       3    male  51.00      0      1  30.92        s  \n",
       "99999       3    male  55.00      0      0  13.96        s  \n",
       "\n",
       "[100000 rows x 13 columns]"
      ]
     },
     "execution_count": 41,
     "metadata": {},
     "output_type": "execute_result"
    }
   ],
   "source": [
    "df2"
   ]
  },
  {
   "cell_type": "code",
   "execution_count": 42,
   "metadata": {},
   "outputs": [],
   "source": [
    "class CustomLGBMClassifier(ExperimentBase, LGBMClassifier):\n",
    "    pass"
   ]
  },
  {
   "cell_type": "code",
   "execution_count": 43,
   "metadata": {},
   "outputs": [],
   "source": [
    "pl_lgbm = Pipeline(steps=[\n",
    "    ('prepro', pl),\n",
    "    ('label_encoding', label_encoding),\n",
    "    ('lgbm', CustomLGBMClassifier())\n",
    "])"
   ]
  },
  {
   "cell_type": "code",
   "execution_count": 44,
   "metadata": {},
   "outputs": [
    {
     "name": "stdout",
     "output_type": "stream",
     "text": [
      "====Converting columns types====\n"
     ]
    },
    {
     "data": {
      "application/vnd.jupyter.widget-view+json": {
       "model_id": "ecac54f5e6c44262a847606e2e13e982",
       "version_major": 2,
       "version_minor": 0
      },
      "text/plain": [
       "0it [00:00, ?it/s]"
      ]
     },
     "metadata": {},
     "output_type": "display_data"
    },
    {
     "name": "stdout",
     "output_type": "stream",
     "text": [
      "{'surname': LabelEncoder(), 'forename': LabelEncoder(), 'ticket_str': LabelEncoder(), 'cabin_str': LabelEncoder(), 'sex': LabelEncoder(), 'embarked': LabelEncoder()}\n",
      "[['surname', 'forename', 'ticket_str', 'cabin_str', 'sex', 'embarked'], ['ticket_num', 'cabin_num', 'pclass', 'age', 'sibsp', 'parch', 'fare']]\n",
      "[(100000, 6), (100000, 7)]\n",
      "====Converting columns types====\n"
     ]
    },
    {
     "data": {
      "application/vnd.jupyter.widget-view+json": {
       "model_id": "9b5f43c362d540ffa78319a990cb123a",
       "version_major": 2,
       "version_minor": 0
      },
      "text/plain": [
       "0it [00:00, ?it/s]"
      ]
     },
     "metadata": {},
     "output_type": "display_data"
    },
    {
     "data": {
      "text/html": [
       "<style>#sk-95f9d9ce-fc27-4a78-979b-2ee527525e27 {color: black;background-color: white;}#sk-95f9d9ce-fc27-4a78-979b-2ee527525e27 pre{padding: 0;}#sk-95f9d9ce-fc27-4a78-979b-2ee527525e27 div.sk-toggleable {background-color: white;}#sk-95f9d9ce-fc27-4a78-979b-2ee527525e27 label.sk-toggleable__label {cursor: pointer;display: block;width: 100%;margin-bottom: 0;padding: 0.3em;box-sizing: border-box;text-align: center;}#sk-95f9d9ce-fc27-4a78-979b-2ee527525e27 label.sk-toggleable__label-arrow:before {content: \"▸\";float: left;margin-right: 0.25em;color: #696969;}#sk-95f9d9ce-fc27-4a78-979b-2ee527525e27 label.sk-toggleable__label-arrow:hover:before {color: black;}#sk-95f9d9ce-fc27-4a78-979b-2ee527525e27 div.sk-estimator:hover label.sk-toggleable__label-arrow:before {color: black;}#sk-95f9d9ce-fc27-4a78-979b-2ee527525e27 div.sk-toggleable__content {max-height: 0;max-width: 0;overflow: hidden;text-align: left;background-color: #f0f8ff;}#sk-95f9d9ce-fc27-4a78-979b-2ee527525e27 div.sk-toggleable__content pre {margin: 0.2em;color: black;border-radius: 0.25em;background-color: #f0f8ff;}#sk-95f9d9ce-fc27-4a78-979b-2ee527525e27 input.sk-toggleable__control:checked~div.sk-toggleable__content {max-height: 200px;max-width: 100%;overflow: auto;}#sk-95f9d9ce-fc27-4a78-979b-2ee527525e27 input.sk-toggleable__control:checked~label.sk-toggleable__label-arrow:before {content: \"▾\";}#sk-95f9d9ce-fc27-4a78-979b-2ee527525e27 div.sk-estimator input.sk-toggleable__control:checked~label.sk-toggleable__label {background-color: #d4ebff;}#sk-95f9d9ce-fc27-4a78-979b-2ee527525e27 div.sk-label input.sk-toggleable__control:checked~label.sk-toggleable__label {background-color: #d4ebff;}#sk-95f9d9ce-fc27-4a78-979b-2ee527525e27 input.sk-hidden--visually {border: 0;clip: rect(1px 1px 1px 1px);clip: rect(1px, 1px, 1px, 1px);height: 1px;margin: -1px;overflow: hidden;padding: 0;position: absolute;width: 1px;}#sk-95f9d9ce-fc27-4a78-979b-2ee527525e27 div.sk-estimator {font-family: monospace;background-color: #f0f8ff;border: 1px dotted black;border-radius: 0.25em;box-sizing: border-box;margin-bottom: 0.5em;}#sk-95f9d9ce-fc27-4a78-979b-2ee527525e27 div.sk-estimator:hover {background-color: #d4ebff;}#sk-95f9d9ce-fc27-4a78-979b-2ee527525e27 div.sk-parallel-item::after {content: \"\";width: 100%;border-bottom: 1px solid gray;flex-grow: 1;}#sk-95f9d9ce-fc27-4a78-979b-2ee527525e27 div.sk-label:hover label.sk-toggleable__label {background-color: #d4ebff;}#sk-95f9d9ce-fc27-4a78-979b-2ee527525e27 div.sk-serial::before {content: \"\";position: absolute;border-left: 1px solid gray;box-sizing: border-box;top: 2em;bottom: 0;left: 50%;}#sk-95f9d9ce-fc27-4a78-979b-2ee527525e27 div.sk-serial {display: flex;flex-direction: column;align-items: center;background-color: white;padding-right: 0.2em;padding-left: 0.2em;}#sk-95f9d9ce-fc27-4a78-979b-2ee527525e27 div.sk-item {z-index: 1;}#sk-95f9d9ce-fc27-4a78-979b-2ee527525e27 div.sk-parallel {display: flex;align-items: stretch;justify-content: center;background-color: white;}#sk-95f9d9ce-fc27-4a78-979b-2ee527525e27 div.sk-parallel::before {content: \"\";position: absolute;border-left: 1px solid gray;box-sizing: border-box;top: 2em;bottom: 0;left: 50%;}#sk-95f9d9ce-fc27-4a78-979b-2ee527525e27 div.sk-parallel-item {display: flex;flex-direction: column;position: relative;background-color: white;}#sk-95f9d9ce-fc27-4a78-979b-2ee527525e27 div.sk-parallel-item:first-child::after {align-self: flex-end;width: 50%;}#sk-95f9d9ce-fc27-4a78-979b-2ee527525e27 div.sk-parallel-item:last-child::after {align-self: flex-start;width: 50%;}#sk-95f9d9ce-fc27-4a78-979b-2ee527525e27 div.sk-parallel-item:only-child::after {width: 0;}#sk-95f9d9ce-fc27-4a78-979b-2ee527525e27 div.sk-dashed-wrapped {border: 1px dashed gray;margin: 0 0.4em 0.5em 0.4em;box-sizing: border-box;padding-bottom: 0.4em;background-color: white;position: relative;}#sk-95f9d9ce-fc27-4a78-979b-2ee527525e27 div.sk-label label {font-family: monospace;font-weight: bold;background-color: white;display: inline-block;line-height: 1.2em;}#sk-95f9d9ce-fc27-4a78-979b-2ee527525e27 div.sk-label-container {position: relative;z-index: 2;text-align: center;}#sk-95f9d9ce-fc27-4a78-979b-2ee527525e27 div.sk-container {/* jupyter's `normalize.less` sets `[hidden] { display: none; }` but bootstrap.min.css set `[hidden] { display: none !important; }` so we also need the `!important` here to be able to override the default hidden behavior on the sphinx rendered scikit-learn.org. See: https://github.com/scikit-learn/scikit-learn/issues/21755 */display: inline-block !important;position: relative;}#sk-95f9d9ce-fc27-4a78-979b-2ee527525e27 div.sk-text-repr-fallback {display: none;}</style><div id=\"sk-95f9d9ce-fc27-4a78-979b-2ee527525e27\" class=\"sk-top-container\"><div class=\"sk-text-repr-fallback\"><pre>Pipeline(steps=[(&#x27;prepro&#x27;,\n",
       "                 Pipeline(steps=[(&#x27;raw_data_processor&#x27;,\n",
       "                                  featureUnion(transformer_list=[(&#x27;pass_name&#x27;,\n",
       "                                                                  PassNameTransformer()),\n",
       "                                                                 (&#x27;ticket&#x27;,\n",
       "                                                                  TicketTransformer()),\n",
       "                                                                 (&#x27;cabin&#x27;,\n",
       "                                                                  CabinTransformer()),\n",
       "                                                                 (&#x27;others&#x27;,\n",
       "                                                                  ColumnSelectTransformer(columns=[&#x27;pclass&#x27;,\n",
       "                                                                                                   &#x27;sex&#x27;,\n",
       "                                                                                                   &#x27;age&#x27;,\n",
       "                                                                                                   &#x27;sibsp&#x27;,\n",
       "                                                                                                   &#x27;parch&#x27;,\n",
       "                                                                                                   &#x27;fare&#x27;,\n",
       "                                                                                                   &#x27;embarked&#x27;]))])),\n",
       "                                 (&#x27;lower_text_values&#x27;, LowerTransformer())])),\n",
       "                (&#x27;label_encoding&#x27;,\n",
       "                 columnTransformer(remainder=&#x27;passthrough&#x27;,\n",
       "                                   transformers=[(&#x27;category_encoder&#x27;,\n",
       "                                                  CustomLabelEncoder(columns=[&#x27;surname&#x27;,\n",
       "                                                                              &#x27;forename&#x27;,\n",
       "                                                                              &#x27;ticket_str&#x27;,\n",
       "                                                                              &#x27;cabin_str&#x27;,\n",
       "                                                                              &#x27;sex&#x27;,\n",
       "                                                                              &#x27;embarked&#x27;]),\n",
       "                                                  [&#x27;surname&#x27;, &#x27;forename&#x27;,\n",
       "                                                   &#x27;ticket_str&#x27;, &#x27;cabin_str&#x27;,\n",
       "                                                   &#x27;sex&#x27;, &#x27;embarked&#x27;])])),\n",
       "                (&#x27;lgbm&#x27;, CustomLGBMClassifier())])</pre><b>Please rerun this cell to show the HTML repr or trust the notebook.</b></div><div class=\"sk-container\" hidden><div class=\"sk-item sk-dashed-wrapped\"><div class=\"sk-label-container\"><div class=\"sk-label sk-toggleable\"><input class=\"sk-toggleable__control sk-hidden--visually\" id=\"dbc7622d-af0f-4389-8d8e-cb3650f803e1\" type=\"checkbox\" ><label for=\"dbc7622d-af0f-4389-8d8e-cb3650f803e1\" class=\"sk-toggleable__label sk-toggleable__label-arrow\">Pipeline</label><div class=\"sk-toggleable__content\"><pre>Pipeline(steps=[(&#x27;prepro&#x27;,\n",
       "                 Pipeline(steps=[(&#x27;raw_data_processor&#x27;,\n",
       "                                  featureUnion(transformer_list=[(&#x27;pass_name&#x27;,\n",
       "                                                                  PassNameTransformer()),\n",
       "                                                                 (&#x27;ticket&#x27;,\n",
       "                                                                  TicketTransformer()),\n",
       "                                                                 (&#x27;cabin&#x27;,\n",
       "                                                                  CabinTransformer()),\n",
       "                                                                 (&#x27;others&#x27;,\n",
       "                                                                  ColumnSelectTransformer(columns=[&#x27;pclass&#x27;,\n",
       "                                                                                                   &#x27;sex&#x27;,\n",
       "                                                                                                   &#x27;age&#x27;,\n",
       "                                                                                                   &#x27;sibsp&#x27;,\n",
       "                                                                                                   &#x27;parch&#x27;,\n",
       "                                                                                                   &#x27;fare&#x27;,\n",
       "                                                                                                   &#x27;embarked&#x27;]))])),\n",
       "                                 (&#x27;lower_text_values&#x27;, LowerTransformer())])),\n",
       "                (&#x27;label_encoding&#x27;,\n",
       "                 columnTransformer(remainder=&#x27;passthrough&#x27;,\n",
       "                                   transformers=[(&#x27;category_encoder&#x27;,\n",
       "                                                  CustomLabelEncoder(columns=[&#x27;surname&#x27;,\n",
       "                                                                              &#x27;forename&#x27;,\n",
       "                                                                              &#x27;ticket_str&#x27;,\n",
       "                                                                              &#x27;cabin_str&#x27;,\n",
       "                                                                              &#x27;sex&#x27;,\n",
       "                                                                              &#x27;embarked&#x27;]),\n",
       "                                                  [&#x27;surname&#x27;, &#x27;forename&#x27;,\n",
       "                                                   &#x27;ticket_str&#x27;, &#x27;cabin_str&#x27;,\n",
       "                                                   &#x27;sex&#x27;, &#x27;embarked&#x27;])])),\n",
       "                (&#x27;lgbm&#x27;, CustomLGBMClassifier())])</pre></div></div></div><div class=\"sk-serial\"><div class=\"sk-item\"><div class=\"sk-label-container\"><div class=\"sk-label sk-toggleable\"><input class=\"sk-toggleable__control sk-hidden--visually\" id=\"4375432f-af9c-4b05-8827-62abc0ccc92b\" type=\"checkbox\" ><label for=\"4375432f-af9c-4b05-8827-62abc0ccc92b\" class=\"sk-toggleable__label sk-toggleable__label-arrow\">prepro: Pipeline</label><div class=\"sk-toggleable__content\"><pre>Pipeline(steps=[(&#x27;raw_data_processor&#x27;,\n",
       "                 featureUnion(transformer_list=[(&#x27;pass_name&#x27;,\n",
       "                                                 PassNameTransformer()),\n",
       "                                                (&#x27;ticket&#x27;, TicketTransformer()),\n",
       "                                                (&#x27;cabin&#x27;, CabinTransformer()),\n",
       "                                                (&#x27;others&#x27;,\n",
       "                                                 ColumnSelectTransformer(columns=[&#x27;pclass&#x27;,\n",
       "                                                                                  &#x27;sex&#x27;,\n",
       "                                                                                  &#x27;age&#x27;,\n",
       "                                                                                  &#x27;sibsp&#x27;,\n",
       "                                                                                  &#x27;parch&#x27;,\n",
       "                                                                                  &#x27;fare&#x27;,\n",
       "                                                                                  &#x27;embarked&#x27;]))])),\n",
       "                (&#x27;lower_text_values&#x27;, LowerTransformer())])</pre></div></div></div><div class=\"sk-serial\"><div class=\"sk-item sk-dashed-wrapped\"><div class=\"sk-label-container\"><div class=\"sk-label sk-toggleable\"><input class=\"sk-toggleable__control sk-hidden--visually\" id=\"e47dc707-1f76-490a-889d-0b8ca9b32af6\" type=\"checkbox\" ><label for=\"e47dc707-1f76-490a-889d-0b8ca9b32af6\" class=\"sk-toggleable__label sk-toggleable__label-arrow\">raw_data_processor: featureUnion</label><div class=\"sk-toggleable__content\"><pre>featureUnion(transformer_list=[(&#x27;pass_name&#x27;, PassNameTransformer()),\n",
       "                               (&#x27;ticket&#x27;, TicketTransformer()),\n",
       "                               (&#x27;cabin&#x27;, CabinTransformer()),\n",
       "                               (&#x27;others&#x27;,\n",
       "                                ColumnSelectTransformer(columns=[&#x27;pclass&#x27;,\n",
       "                                                                 &#x27;sex&#x27;, &#x27;age&#x27;,\n",
       "                                                                 &#x27;sibsp&#x27;,\n",
       "                                                                 &#x27;parch&#x27;,\n",
       "                                                                 &#x27;fare&#x27;,\n",
       "                                                                 &#x27;embarked&#x27;]))])</pre></div></div></div><div class=\"sk-parallel\"><div class=\"sk-parallel-item\"><div class=\"sk-item\"><div class=\"sk-label-container\"><div class=\"sk-label sk-toggleable\"><label>pass_name</label></div></div><div class=\"sk-serial\"><div class=\"sk-item\"><div class=\"sk-estimator sk-toggleable\"><input class=\"sk-toggleable__control sk-hidden--visually\" id=\"fed2c15d-2e80-4acc-8374-a66d13254e4b\" type=\"checkbox\" ><label for=\"fed2c15d-2e80-4acc-8374-a66d13254e4b\" class=\"sk-toggleable__label sk-toggleable__label-arrow\">PassNameTransformer</label><div class=\"sk-toggleable__content\"><pre>PassNameTransformer()</pre></div></div></div></div></div></div><div class=\"sk-parallel-item\"><div class=\"sk-item\"><div class=\"sk-label-container\"><div class=\"sk-label sk-toggleable\"><label>ticket</label></div></div><div class=\"sk-serial\"><div class=\"sk-item\"><div class=\"sk-estimator sk-toggleable\"><input class=\"sk-toggleable__control sk-hidden--visually\" id=\"183c657a-9078-4807-8e26-8b80a48c5d44\" type=\"checkbox\" ><label for=\"183c657a-9078-4807-8e26-8b80a48c5d44\" class=\"sk-toggleable__label sk-toggleable__label-arrow\">TicketTransformer</label><div class=\"sk-toggleable__content\"><pre>TicketTransformer()</pre></div></div></div></div></div></div><div class=\"sk-parallel-item\"><div class=\"sk-item\"><div class=\"sk-label-container\"><div class=\"sk-label sk-toggleable\"><label>cabin</label></div></div><div class=\"sk-serial\"><div class=\"sk-item\"><div class=\"sk-estimator sk-toggleable\"><input class=\"sk-toggleable__control sk-hidden--visually\" id=\"1e5092d5-7d76-42b3-9825-64eb0ddabc7e\" type=\"checkbox\" ><label for=\"1e5092d5-7d76-42b3-9825-64eb0ddabc7e\" class=\"sk-toggleable__label sk-toggleable__label-arrow\">CabinTransformer</label><div class=\"sk-toggleable__content\"><pre>CabinTransformer()</pre></div></div></div></div></div></div><div class=\"sk-parallel-item\"><div class=\"sk-item\"><div class=\"sk-label-container\"><div class=\"sk-label sk-toggleable\"><label>others</label></div></div><div class=\"sk-serial\"><div class=\"sk-item\"><div class=\"sk-estimator sk-toggleable\"><input class=\"sk-toggleable__control sk-hidden--visually\" id=\"a43e7fba-a780-405c-ba92-f66d76274eeb\" type=\"checkbox\" ><label for=\"a43e7fba-a780-405c-ba92-f66d76274eeb\" class=\"sk-toggleable__label sk-toggleable__label-arrow\">ColumnSelectTransformer</label><div class=\"sk-toggleable__content\"><pre>ColumnSelectTransformer(columns=[&#x27;pclass&#x27;, &#x27;sex&#x27;, &#x27;age&#x27;, &#x27;sibsp&#x27;, &#x27;parch&#x27;,\n",
       "                                 &#x27;fare&#x27;, &#x27;embarked&#x27;])</pre></div></div></div></div></div></div></div></div><div class=\"sk-item\"><div class=\"sk-estimator sk-toggleable\"><input class=\"sk-toggleable__control sk-hidden--visually\" id=\"3b4f7c77-a9f3-4d09-a10f-65dad22e1d2c\" type=\"checkbox\" ><label for=\"3b4f7c77-a9f3-4d09-a10f-65dad22e1d2c\" class=\"sk-toggleable__label sk-toggleable__label-arrow\">LowerTransformer</label><div class=\"sk-toggleable__content\"><pre>LowerTransformer()</pre></div></div></div></div></div><div class=\"sk-item sk-dashed-wrapped\"><div class=\"sk-label-container\"><div class=\"sk-label sk-toggleable\"><input class=\"sk-toggleable__control sk-hidden--visually\" id=\"870078a2-1b67-437e-a477-7be598acbc74\" type=\"checkbox\" ><label for=\"870078a2-1b67-437e-a477-7be598acbc74\" class=\"sk-toggleable__label sk-toggleable__label-arrow\">label_encoding: columnTransformer</label><div class=\"sk-toggleable__content\"><pre>columnTransformer(remainder=&#x27;passthrough&#x27;,\n",
       "                  transformers=[(&#x27;category_encoder&#x27;,\n",
       "                                 CustomLabelEncoder(columns=[&#x27;surname&#x27;,\n",
       "                                                             &#x27;forename&#x27;,\n",
       "                                                             &#x27;ticket_str&#x27;,\n",
       "                                                             &#x27;cabin_str&#x27;, &#x27;sex&#x27;,\n",
       "                                                             &#x27;embarked&#x27;]),\n",
       "                                 [&#x27;surname&#x27;, &#x27;forename&#x27;, &#x27;ticket_str&#x27;,\n",
       "                                  &#x27;cabin_str&#x27;, &#x27;sex&#x27;, &#x27;embarked&#x27;])])</pre></div></div></div><div class=\"sk-parallel\"><div class=\"sk-parallel-item\"><div class=\"sk-item\"><div class=\"sk-label-container\"><div class=\"sk-label sk-toggleable\"><input class=\"sk-toggleable__control sk-hidden--visually\" id=\"8b93469b-1892-46a5-a3ec-9641082eb2f6\" type=\"checkbox\" ><label for=\"8b93469b-1892-46a5-a3ec-9641082eb2f6\" class=\"sk-toggleable__label sk-toggleable__label-arrow\">category_encoder</label><div class=\"sk-toggleable__content\"><pre>[&#x27;surname&#x27;, &#x27;forename&#x27;, &#x27;ticket_str&#x27;, &#x27;cabin_str&#x27;, &#x27;sex&#x27;, &#x27;embarked&#x27;]</pre></div></div></div><div class=\"sk-serial\"><div class=\"sk-item\"><div class=\"sk-estimator sk-toggleable\"><input class=\"sk-toggleable__control sk-hidden--visually\" id=\"1c648523-dc96-4dcf-9a2f-69c0762e21a1\" type=\"checkbox\" ><label for=\"1c648523-dc96-4dcf-9a2f-69c0762e21a1\" class=\"sk-toggleable__label sk-toggleable__label-arrow\">CustomLabelEncoder</label><div class=\"sk-toggleable__content\"><pre>CustomLabelEncoder(columns=[&#x27;surname&#x27;, &#x27;forename&#x27;, &#x27;ticket_str&#x27;, &#x27;cabin_str&#x27;,\n",
       "                            &#x27;sex&#x27;, &#x27;embarked&#x27;])</pre></div></div></div></div></div></div><div class=\"sk-parallel-item\"><div class=\"sk-item\"><div class=\"sk-label-container\"><div class=\"sk-label sk-toggleable\"><input class=\"sk-toggleable__control sk-hidden--visually\" id=\"b2a41980-122e-4c0f-8ce0-f4db9928cbe8\" type=\"checkbox\" ><label for=\"b2a41980-122e-4c0f-8ce0-f4db9928cbe8\" class=\"sk-toggleable__label sk-toggleable__label-arrow\">remainder</label><div class=\"sk-toggleable__content\"><pre>[&#x27;ticket_num&#x27;, &#x27;cabin_num&#x27;, &#x27;pclass&#x27;, &#x27;age&#x27;, &#x27;sibsp&#x27;, &#x27;parch&#x27;, &#x27;fare&#x27;]</pre></div></div></div><div class=\"sk-serial\"><div class=\"sk-item\"><div class=\"sk-estimator sk-toggleable\"><input class=\"sk-toggleable__control sk-hidden--visually\" id=\"de175232-9b36-4ba3-8f03-e212135052cc\" type=\"checkbox\" ><label for=\"de175232-9b36-4ba3-8f03-e212135052cc\" class=\"sk-toggleable__label sk-toggleable__label-arrow\">passthrough</label><div class=\"sk-toggleable__content\"><pre>passthrough</pre></div></div></div></div></div></div></div></div><div class=\"sk-item\"><div class=\"sk-estimator sk-toggleable\"><input class=\"sk-toggleable__control sk-hidden--visually\" id=\"c3b38134-1284-487c-ab24-2380d7897be8\" type=\"checkbox\" ><label for=\"c3b38134-1284-487c-ab24-2380d7897be8\" class=\"sk-toggleable__label sk-toggleable__label-arrow\">CustomLGBMClassifier</label><div class=\"sk-toggleable__content\"><pre>CustomLGBMClassifier()</pre></div></div></div></div></div></div></div>"
      ],
      "text/plain": [
       "Pipeline(steps=[('prepro',\n",
       "                 Pipeline(steps=[('raw_data_processor',\n",
       "                                  featureUnion(transformer_list=[('pass_name',\n",
       "                                                                  PassNameTransformer()),\n",
       "                                                                 ('ticket',\n",
       "                                                                  TicketTransformer()),\n",
       "                                                                 ('cabin',\n",
       "                                                                  CabinTransformer()),\n",
       "                                                                 ('others',\n",
       "                                                                  ColumnSelectTransformer(columns=['pclass',\n",
       "                                                                                                   'sex',\n",
       "                                                                                                   'age',\n",
       "                                                                                                   'sibsp',\n",
       "                                                                                                   'parch',\n",
       "                                                                                                   'fare',\n",
       "                                                                                                   'embarked']))])),\n",
       "                                 ('lower_text_values', LowerTransformer())])),\n",
       "                ('label_encoding',\n",
       "                 columnTransformer(remainder='passthrough',\n",
       "                                   transformers=[('category_encoder',\n",
       "                                                  CustomLabelEncoder(columns=['surname',\n",
       "                                                                              'forename',\n",
       "                                                                              'ticket_str',\n",
       "                                                                              'cabin_str',\n",
       "                                                                              'sex',\n",
       "                                                                              'embarked']),\n",
       "                                                  ['surname', 'forename',\n",
       "                                                   'ticket_str', 'cabin_str',\n",
       "                                                   'sex', 'embarked'])])),\n",
       "                ('lgbm', CustomLGBMClassifier())])"
      ]
     },
     "execution_count": 44,
     "metadata": {},
     "output_type": "execute_result"
    }
   ],
   "source": [
    "pl_lgbm.fit(X_train, y_train)"
   ]
  },
  {
   "cell_type": "code",
   "execution_count": 45,
   "metadata": {},
   "outputs": [
    {
     "name": "stdout",
     "output_type": "stream",
     "text": [
      "====Converting columns types====\n"
     ]
    },
    {
     "data": {
      "application/vnd.jupyter.widget-view+json": {
       "model_id": "52e76bd348784655baf173ee9bbe05ac",
       "version_major": 2,
       "version_minor": 0
      },
      "text/plain": [
       "0it [00:00, ?it/s]"
      ]
     },
     "metadata": {},
     "output_type": "display_data"
    },
    {
     "name": "stdout",
     "output_type": "stream",
     "text": [
      "[['surname', 'forename', 'ticket_str', 'cabin_str', 'sex', 'embarked'], ['ticket_num', 'cabin_num', 'pclass', 'age', 'sibsp', 'parch', 'fare']]\n",
      "[(100000, 6), (100000, 7)]\n",
      "====Converting columns types====\n"
     ]
    },
    {
     "data": {
      "application/vnd.jupyter.widget-view+json": {
       "model_id": "f37d36cb9f04438ebeefb7cd050174a8",
       "version_major": 2,
       "version_minor": 0
      },
      "text/plain": [
       "0it [00:00, ?it/s]"
      ]
     },
     "metadata": {},
     "output_type": "display_data"
    },
    {
     "data": {
      "text/plain": [
       "array([0, 0, 1, ..., 0, 1, 1])"
      ]
     },
     "execution_count": 45,
     "metadata": {},
     "output_type": "execute_result"
    }
   ],
   "source": [
    "pl_lgbm.predict(X_test)"
   ]
  },
  {
   "cell_type": "code",
   "execution_count": 46,
   "metadata": {},
   "outputs": [
    {
     "name": "stdout",
     "output_type": "stream",
     "text": [
      "====Converting columns types====\n"
     ]
    },
    {
     "data": {
      "application/vnd.jupyter.widget-view+json": {
       "model_id": "4b5bc38102d2413c9193270abd691ddb",
       "version_major": 2,
       "version_minor": 0
      },
      "text/plain": [
       "0it [00:00, ?it/s]"
      ]
     },
     "metadata": {},
     "output_type": "display_data"
    },
    {
     "name": "stdout",
     "output_type": "stream",
     "text": [
      "[['surname', 'forename', 'ticket_str', 'cabin_str', 'sex', 'embarked'], ['ticket_num', 'cabin_num', 'pclass', 'age', 'sibsp', 'parch', 'fare']]\n",
      "[(100000, 6), (100000, 7)]\n",
      "====Converting columns types====\n"
     ]
    },
    {
     "data": {
      "application/vnd.jupyter.widget-view+json": {
       "model_id": "b36f35794a574d1bb65ab1e384041218",
       "version_major": 2,
       "version_minor": 0
      },
      "text/plain": [
       "0it [00:00, ?it/s]"
      ]
     },
     "metadata": {},
     "output_type": "display_data"
    }
   ],
   "source": [
    "a = pl_lgbm.predict(X_train)"
   ]
  },
  {
   "cell_type": "code",
   "execution_count": 47,
   "metadata": {},
   "outputs": [
    {
     "name": "stdout",
     "output_type": "stream",
     "text": [
      "              precision    recall  f1-score   support\n",
      "\n",
      "           0       0.81      0.83      0.82     57226\n",
      "           1       0.77      0.74      0.75     42774\n",
      "\n",
      "    accuracy                           0.79    100000\n",
      "   macro avg       0.79      0.79      0.79    100000\n",
      "weighted avg       0.79      0.79      0.79    100000\n",
      "\n"
     ]
    }
   ],
   "source": [
    "print(classification_report(y_train, a))"
   ]
  },
  {
   "cell_type": "code",
   "execution_count": 48,
   "metadata": {},
   "outputs": [
    {
     "data": {
      "text/plain": [
       "array([0, 0, 0, ..., 0, 0, 0])"
      ]
     },
     "execution_count": 48,
     "metadata": {},
     "output_type": "execute_result"
    }
   ],
   "source": [
    "a"
   ]
  },
  {
   "cell_type": "code",
   "execution_count": 49,
   "metadata": {},
   "outputs": [
    {
     "name": "stdout",
     "output_type": "stream",
     "text": [
      "====Converting columns types====\n"
     ]
    },
    {
     "data": {
      "application/vnd.jupyter.widget-view+json": {
       "model_id": "b6e4b6bab0784514afe9b944c01b8123",
       "version_major": 2,
       "version_minor": 0
      },
      "text/plain": [
       "0it [00:00, ?it/s]"
      ]
     },
     "metadata": {},
     "output_type": "display_data"
    },
    {
     "data": {
      "application/vnd.jupyter.widget-view+json": {
       "model_id": "fdad906870e6463aa41ad6d92234c1a4",
       "version_major": 2,
       "version_minor": 0
      },
      "text/plain": [
       "0it [00:00, ?it/s]"
      ]
     },
     "metadata": {},
     "output_type": "display_data"
    },
    {
     "data": {
      "application/vnd.jupyter.widget-view+json": {
       "model_id": "dc30c57a59f1415fbdd07d33d05f08b1",
       "version_major": 2,
       "version_minor": 0
      },
      "text/plain": [
       "0it [00:00, ?it/s]"
      ]
     },
     "metadata": {},
     "output_type": "display_data"
    },
    {
     "data": {
      "application/vnd.jupyter.widget-view+json": {
       "model_id": "cb9d40f4a18042468d8b8d67362822b6",
       "version_major": 2,
       "version_minor": 0
      },
      "text/plain": [
       "0it [00:00, ?it/s]"
      ]
     },
     "metadata": {},
     "output_type": "display_data"
    },
    {
     "name": "stdout",
     "output_type": "stream",
     "text": [
      "[['surname', 'forename', 'ticket_str', 'cabin_str', 'sex', 'embarked'], ['ticket_num', 'cabin_num', 'age', 'fare'], ['pclass', 'sibsp', 'parch']]\n",
      "[(100000, 6), (100000, 4), (100000, 3)]\n",
      "====Converting columns types====\n"
     ]
    },
    {
     "data": {
      "application/vnd.jupyter.widget-view+json": {
       "model_id": "05e29109b3f84bd59b79762b5e71c68e",
       "version_major": 2,
       "version_minor": 0
      },
      "text/plain": [
       "0it [00:00, ?it/s]"
      ]
     },
     "metadata": {},
     "output_type": "display_data"
    }
   ],
   "source": [
    "b = pl4.predict(X_train)"
   ]
  },
  {
   "cell_type": "code",
   "execution_count": 50,
   "metadata": {},
   "outputs": [
    {
     "data": {
      "text/plain": [
       "array([0, 0, 0, ..., 0, 0, 0])"
      ]
     },
     "execution_count": 50,
     "metadata": {},
     "output_type": "execute_result"
    }
   ],
   "source": [
    "b"
   ]
  },
  {
   "cell_type": "code",
   "execution_count": 51,
   "metadata": {},
   "outputs": [
    {
     "data": {
      "text/plain": [
       "2451"
      ]
     },
     "execution_count": 51,
     "metadata": {},
     "output_type": "execute_result"
    }
   ],
   "source": [
    "(~(a == b)).sum()"
   ]
  },
  {
   "cell_type": "code",
   "execution_count": null,
   "metadata": {},
   "outputs": [],
   "source": []
  },
  {
   "cell_type": "code",
   "execution_count": null,
   "metadata": {},
   "outputs": [],
   "source": []
  },
  {
   "cell_type": "code",
   "execution_count": null,
   "metadata": {},
   "outputs": [],
   "source": []
  },
  {
   "cell_type": "code",
   "execution_count": 52,
   "metadata": {},
   "outputs": [],
   "source": [
    "from catboost import CatBoostRegressor, CatBoostClassifier"
   ]
  },
  {
   "cell_type": "code",
   "execution_count": 53,
   "metadata": {},
   "outputs": [],
   "source": [
    "def fill_unk(sr):\n",
    "    return sr.fillna('unk')"
   ]
  },
  {
   "cell_type": "code",
   "execution_count": 54,
   "metadata": {},
   "outputs": [],
   "source": [
    "def fill_mean(sr):\n",
    "    return sr.fillna(sr.mean())"
   ]
  },
  {
   "cell_type": "code",
   "execution_count": 55,
   "metadata": {},
   "outputs": [],
   "source": [
    "def fill_0(sr):\n",
    "    return sr.fillna(0)"
   ]
  },
  {
   "cell_type": "code",
   "execution_count": 56,
   "metadata": {},
   "outputs": [],
   "source": [
    "def fill_popular(sr):\n",
    "    popular = sr.value_counts().index[0]\n",
    "    return sr.fillna(popular)"
   ]
  },
  {
   "cell_type": "code",
   "execution_count": 57,
   "metadata": {},
   "outputs": [
    {
     "data": {
      "text/plain": [
       "{'pc': 1.0,\n",
       " 'a.': 1.172558924272542,\n",
       " 'c.a.': 1.4930070292670683,\n",
       " 'ston/o': 1.5398503617138108,\n",
       " 'sc/paris': 1.546324951420759,\n",
       " 'a/5': 1.7613713129371242,\n",
       " 'soton/o.q.': 1.9118677832994102,\n",
       " 'w./c.': 1.9544197633354434,\n",
       " 'a/5.': 1.97821233213953,\n",
       " 'pp': 2.010050373472857,\n",
       " 'f.c.c.': 2.055849472309812,\n",
       " 'sc/ah': 2.1149313053493453,\n",
       " 'ca.': 2.156525142682023,\n",
       " 'ston/o2.': 2.2678590415219233,\n",
       " 'a/4': 2.317558829652617,\n",
       " 's.o.c.': 2.4891674024289627,\n",
       " 'f.c.': 2.511635098481276,\n",
       " 'soton/o2': 2.5271129738488165,\n",
       " 's.c./paris': 2.5350088959312904,\n",
       " 'ca': 2.5538574204092668,\n",
       " 'soton/oq': 2.6203790569660126,\n",
       " 'c': 2.7454734768560662,\n",
       " 'we/p': 2.9405775829198197,\n",
       " 'w.e.p.': 2.9715158105213897,\n",
       " 'sc': 2.9984092038990555,\n",
       " 'p/pp': 3.0859449625553044,\n",
       " 's.o./p.p.': 3.1857567885616125,\n",
       " 'a/4.': 3.2374490358210317,\n",
       " 'a./5.': 3.4178444779790533,\n",
       " 'sco/w': 3.467748915615144,\n",
       " 'a.5.': 3.776591219251863,\n",
       " 'aq/4': 3.8224974000984213,\n",
       " 'lp': 4.138925875399039,\n",
       " 'fa': 4.184330006248806,\n",
       " 'a/s': 4.449469701311798,\n",
       " 's.c./a.4.': 4.5785299490195,\n",
       " 'sw/pp': 4.649529181069397,\n",
       " 'ston/oq.': 4.649529181069397,\n",
       " 'c.a./soton': 4.686876819169658,\n",
       " 's.o.p.': 4.725560269497254,\n",
       " 'so/c': 4.807290662654624,\n",
       " 's.p.': 4.807290662654624,\n",
       " 'sc/a.3': 4.850537592242635,\n",
       " 's.w./pp': 4.942373343139944,\n",
       " 'sc/a4': 4.942373343139944,\n",
       " 'aq/3.': 4.991231118706202,\n",
       " 'w/c': 5.095615468746244,\n",
       " 'a4.': 5.724241875957752}"
      ]
     },
     "execution_count": 57,
     "metadata": {},
     "output_type": "execute_result"
    }
   ],
   "source": [
    "((df2['ticket_str'].value_counts().max() / df2['ticket_str'].value_counts()) ** 0.3).to_dict()"
   ]
  },
  {
   "cell_type": "code",
   "execution_count": 58,
   "metadata": {},
   "outputs": [
    {
     "data": {
      "text/plain": [
       "{'c': 1.0,\n",
       " 'b': 1.1491744912926358,\n",
       " 'a': 1.2075176724525294,\n",
       " 'd': 1.4243520812700914,\n",
       " 'e': 1.774203378786344,\n",
       " 'f': 2.373483879107566,\n",
       " 'g': 2.611717706060768,\n",
       " 't': 5.892442473806596}"
      ]
     },
     "execution_count": 58,
     "metadata": {},
     "output_type": "execute_result"
    }
   ],
   "source": [
    "((df2['cabin_str'].value_counts().max() / df2['cabin_str'].value_counts()) ** 0.3).to_dict()"
   ]
  },
  {
   "cell_type": "code",
   "execution_count": 59,
   "metadata": {},
   "outputs": [],
   "source": [
    "impute_plan = {\n",
    "    'features_plan': {\n",
    "        'fare': {\n",
    "            'model': CatBoostRegressor,\n",
    "            'predictors': [c for c in df2.columns if c not in ['fare']],\n",
    "            'catboost_kwgs': {'iterations':200}\n",
    "        },\n",
    "        'embarked': {\n",
    "            'model': CatBoostClassifier,\n",
    "            'predictors': [c for c in df2.columns if c not in ['embarked']],\n",
    "            'catboost_kwgs': {'iterations': 200}\n",
    "        },\n",
    "        'age': {\n",
    "            'model': CatBoostRegressor,\n",
    "            'predictors': [c for c in df2.columns if c not in ['age']],\n",
    "            'catboost_kwgs': {'iterations': 200}\n",
    "        },\n",
    "        'ticket_num':{\n",
    "            'model': CatBoostRegressor,\n",
    "            'predictors': [c for c in df2.columns if c not in ['age']],\n",
    "            'catboost_kwgs': {'iterations': 200}\n",
    "        },\n",
    "        'ticket_str':{\n",
    "            'model': CatBoostClassifier,\n",
    "            'predictors': [c for c in df2.columns if c not in ['embarked']],\n",
    "            'catboost_kwgs': {\n",
    "                'iterations': 200, \n",
    "                'class_weights': ((df2['ticket_str'].value_counts().max() / df2['ticket_str'].value_counts()) ** 0.3).to_dict()\n",
    "            }\n",
    "        },\n",
    "        'cabin_num':{\n",
    "            'model': CatBoostRegressor,\n",
    "            'predictors': [c for c in df2.columns if c not in ['age']],\n",
    "            'catboost_kwgs': {\n",
    "                'iterations': 200\n",
    "            }\n",
    "        },\n",
    "        'cabin_str':{\n",
    "            'model': CatBoostClassifier,\n",
    "            'predictors': [c for c in df2.columns if c not in ['embarked']],\n",
    "            'catboost_kwgs': {\n",
    "                'iterations': 200,\n",
    "                'class_weights': ((df2['cabin_str'].value_counts().max() / df2['cabin_str'].value_counts()) ** 0.3).to_dict()\n",
    "            }\n",
    "        }\n",
    "    },\n",
    "    'if_na': {\n",
    "        'ticket_str':fill_unk,\n",
    "        'ticket_num':fill_mean,\n",
    "        'cabin_str':fill_unk,\n",
    "        'cabin_num':fill_mean,\n",
    "        'age':fill_mean,\n",
    "        'embarked':fill_popular,\n",
    "        'fare': fill_mean\n",
    "    },\n",
    "    'eval_frac': 0.1,\n",
    "    'cat_features': ['surname', 'forename', 'ticket_str', 'cabin_str', 'sex', 'embarked']\n",
    "}"
   ]
  },
  {
   "cell_type": "code",
   "execution_count": 60,
   "metadata": {},
   "outputs": [],
   "source": [
    "from sklearn.model_selection import train_test_split\n",
    "\n",
    "class CatBoostImputor(BaseEstimator, TransformerMixin):\n",
    "    def __init__(self, impute_plan, predictors_order):\n",
    "        super(CatBoostImputor).__init__()\n",
    "        self.impute_plan = impute_plan\n",
    "        self.predictors_order = predictors_order\n",
    "        \n",
    "    def fit(self, X, y=None):\n",
    "        return self\n",
    "    \n",
    "    def train_eval_test_split(self, x, y):\n",
    "        eval_frac = self.impute_plan['eval_frac']\n",
    "        y_test = y[y.isna()].copy()\n",
    "        x_test = x[y.isna()].copy()\n",
    "        x_t = x[~y.isna()].copy()\n",
    "        y_t = y[~y.isna()].copy()\n",
    "        x_train, x_eval, y_train, y_eval = train_test_split(x_t, y_t, test_size=eval_frac)\n",
    "        return x_train, y_train, x_eval, y_eval, x_test, y_test\n",
    "        \n",
    "    def transform(self, X):\n",
    "        self.X = X\n",
    "        self.X_impute = X.copy()\n",
    "        for col in self.predictors_order:\n",
    "            predictor_list = self.impute_plan['features_plan'][col]['predictors']\n",
    "            cat_features=[c for c in predictor_list if c in self.impute_plan['cat_features']]\n",
    "            # Prepare data to fit\n",
    "            print(f'Prepare data to fit, feature: {col}')\n",
    "            x = self.X_impute[predictor_list].copy()\n",
    "            y = self.X_impute[col]\n",
    "            na_cols = [col for col in x.columns if x[col].isna().sum() > 0]\n",
    "            for c in na_cols:\n",
    "                x[c] = self.impute_plan['if_na'][c](x[c])\n",
    "            x_train, y_train, x_eval, y_eval, x_test, y_test = self.train_eval_test_split(x, y)\n",
    "            \n",
    "            # Create model\n",
    "            ModelClass = self.impute_plan['features_plan'][col]['model']\n",
    "            model = ModelClass(**self.impute_plan['features_plan'][col]['catboost_kwgs'], early_stopping_rounds=50, verbose=True, metric_period=50, use_best_model=True)\n",
    "            # Fit model\n",
    "            print(f'Fit model: {col}')\n",
    "            model.fit(x_train, y_train, eval_set=(x_eval, y_eval), cat_features=cat_features)\n",
    "            x_test[col] = model.predict(x_test)\n",
    "            print(f'Predicted for {x_test.shape[0]} unknown examples')\n",
    "            self.X_impute.loc[y.isna(),col] = x_test[col]\n",
    "            print(f'Imputed done for {col}')\n",
    "        print(f'Imputed done for all dataset, num null left: {self.X_impute.isna().sum()}')\n",
    "        return self.X_impute\n",
    "            \n",
    "            "
   ]
  },
  {
   "cell_type": "code",
   "execution_count": 61,
   "metadata": {},
   "outputs": [],
   "source": [
    "cbi = CatBoostImputor(impute_plan, ['fare', 'embarked', 'age', 'ticket_num', 'ticket_str', 'cabin_num', 'cabin_str'])"
   ]
  },
  {
   "cell_type": "code",
   "execution_count": 62,
   "metadata": {
    "scrolled": false
   },
   "outputs": [
    {
     "name": "stdout",
     "output_type": "stream",
     "text": [
      "Prepare data to fit, feature: fare\n",
      "Fit model: fare\n",
      "Learning rate set to 0.275418\n"
     ]
    },
    {
     "name": "stderr",
     "output_type": "stream",
     "text": [
      "Warning: Overfitting detector is active, thus evaluation metric is calculated on every iteration. 'metric_period' is ignored for evaluation metric.\n"
     ]
    },
    {
     "name": "stdout",
     "output_type": "stream",
     "text": [
      "0:\tlearn: 64.5433575\ttest: 67.7969902\tbest: 67.7969902 (0)\ttotal: 31.6ms\tremaining: 6.3s\n",
      "50:\tlearn: 57.9453659\ttest: 61.5142867\tbest: 61.4951671 (21)\ttotal: 1.22s\tremaining: 3.57s\n",
      "Stopped by overfitting detector  (50 iterations wait)\n",
      "\n",
      "bestTest = 61.49516707\n",
      "bestIteration = 21\n",
      "\n",
      "Shrink model to first 22 iterations.\n",
      "Predicted for 134 unknown examples\n",
      "Imputed done for fare\n",
      "Prepare data to fit, feature: embarked\n",
      "Fit model: embarked\n",
      "Learning rate set to 0.218473\n",
      "0:\tlearn: 0.9030884\ttest: 0.9021783\tbest: 0.9021783 (0)\ttotal: 64ms\tremaining: 12.7s\n"
     ]
    },
    {
     "name": "stderr",
     "output_type": "stream",
     "text": [
      "Warning: Overfitting detector is active, thus evaluation metric is calculated on every iteration. 'metric_period' is ignored for evaluation metric.\n"
     ]
    },
    {
     "name": "stdout",
     "output_type": "stream",
     "text": [
      "50:\tlearn: 0.5340831\ttest: 0.5315682\tbest: 0.5315682 (50)\ttotal: 3.13s\tremaining: 9.15s\n",
      "100:\tlearn: 0.5255015\ttest: 0.5279925\tbest: 0.5278905 (98)\ttotal: 6.19s\tremaining: 6.07s\n",
      "150:\tlearn: 0.5191624\ttest: 0.5266327\tbest: 0.5266237 (148)\ttotal: 9.65s\tremaining: 3.13s\n",
      "199:\tlearn: 0.5141725\ttest: 0.5268364\tbest: 0.5265504 (160)\ttotal: 12.6s\tremaining: 0us\n",
      "\n",
      "bestTest = 0.5265504268\n",
      "bestIteration = 160\n",
      "\n",
      "Shrink model to first 161 iterations.\n",
      "Predicted for 250 unknown examples\n",
      "Imputed done for embarked\n",
      "Prepare data to fit, feature: age\n",
      "Fit model: age\n",
      "Learning rate set to 0.274032\n",
      "0:\tlearn: 17.5375367\ttest: 17.7804643\tbest: 17.7804643 (0)\ttotal: 32.6ms\tremaining: 6.49s\n"
     ]
    },
    {
     "name": "stderr",
     "output_type": "stream",
     "text": [
      "Warning: Overfitting detector is active, thus evaluation metric is calculated on every iteration. 'metric_period' is ignored for evaluation metric.\n"
     ]
    },
    {
     "name": "stdout",
     "output_type": "stream",
     "text": [
      "50:\tlearn: 16.3131702\ttest: 16.6063424\tbest: 16.6063424 (50)\ttotal: 1.12s\tremaining: 3.27s\n",
      "100:\tlearn: 16.2367186\ttest: 16.6074796\tbest: 16.6041532 (90)\ttotal: 2.39s\tremaining: 2.34s\n",
      "Stopped by overfitting detector  (50 iterations wait)\n",
      "\n",
      "bestTest = 16.60415325\n",
      "bestIteration = 90\n",
      "\n",
      "Shrink model to first 91 iterations.\n",
      "Predicted for 3292 unknown examples\n",
      "Imputed done for age\n",
      "Prepare data to fit, feature: ticket_num\n",
      "Fit model: ticket_num\n",
      "Learning rate set to 0.260893\n"
     ]
    },
    {
     "name": "stderr",
     "output_type": "stream",
     "text": [
      "Warning: Overfitting detector is active, thus evaluation metric is calculated on every iteration. 'metric_period' is ignored for evaluation metric.\n"
     ]
    },
    {
     "name": "stdout",
     "output_type": "stream",
     "text": [
      "0:\tlearn: 615484.1136638\ttest: 599467.5510643\tbest: 599467.5510643 (0)\ttotal: 11.8ms\tremaining: 2.34s\n",
      "50:\tlearn: 42526.2631765\ttest: 71569.0752631\tbest: 71141.7889173 (27)\ttotal: 831ms\tremaining: 2.43s\n",
      "Stopped by overfitting detector  (50 iterations wait)\n",
      "\n",
      "bestTest = 71141.78892\n",
      "bestIteration = 27\n",
      "\n",
      "Shrink model to first 28 iterations.\n",
      "Predicted for 29278 unknown examples\n",
      "Imputed done for ticket_num\n",
      "Prepare data to fit, feature: ticket_str\n",
      "Fit model: ticket_str\n",
      "Learning rate set to 0.21245\n"
     ]
    },
    {
     "name": "stderr",
     "output_type": "stream",
     "text": [
      "Warning: Overfitting detector is active, thus evaluation metric is calculated on every iteration. 'metric_period' is ignored for evaluation metric.\n"
     ]
    },
    {
     "name": "stdout",
     "output_type": "stream",
     "text": [
      "0:\tlearn: 1.9873531\ttest: 1.9674236\tbest: 1.9674236 (0)\ttotal: 2.59s\tremaining: 8m 34s\n",
      "50:\tlearn: 0.0970141\ttest: 0.0722092\tbest: 0.0722092 (50)\ttotal: 3m 6s\tremaining: 9m 4s\n",
      "100:\tlearn: 0.0586940\ttest: 0.0468815\tbest: 0.0468815 (100)\ttotal: 6m 22s\tremaining: 6m 14s\n",
      "150:\tlearn: 0.0382330\ttest: 0.0336705\tbest: 0.0336408 (149)\ttotal: 9m 53s\tremaining: 3m 12s\n",
      "199:\tlearn: 0.0272232\ttest: 0.0267822\tbest: 0.0267795 (198)\ttotal: 13m 26s\tremaining: 0us\n",
      "\n",
      "bestTest = 0.02677948147\n",
      "bestIteration = 198\n",
      "\n",
      "Shrink model to first 199 iterations.\n",
      "Predicted for 75345 unknown examples\n",
      "Imputed done for ticket_str\n",
      "Prepare data to fit, feature: cabin_num\n",
      "Fit model: cabin_num\n",
      "Learning rate set to 0.230503\n",
      "0:\tlearn: 4502.7071399\ttest: 4486.3479850\tbest: 4486.3479850 (0)\ttotal: 26.2ms\tremaining: 5.22s\n"
     ]
    },
    {
     "name": "stderr",
     "output_type": "stream",
     "text": [
      "Warning: Overfitting detector is active, thus evaluation metric is calculated on every iteration. 'metric_period' is ignored for evaluation metric.\n"
     ]
    },
    {
     "name": "stdout",
     "output_type": "stream",
     "text": [
      "50:\tlearn: 120.5011194\ttest: 120.1827804\tbest: 120.1827804 (50)\ttotal: 576ms\tremaining: 1.68s\n",
      "100:\tlearn: 70.6091375\ttest: 70.4021427\tbest: 70.4021427 (100)\ttotal: 1.19s\tremaining: 1.17s\n",
      "150:\tlearn: 53.0992116\ttest: 53.2498008\tbest: 53.2498008 (150)\ttotal: 1.75s\tremaining: 566ms\n",
      "199:\tlearn: 44.2647913\ttest: 44.5245671\tbest: 44.5181596 (198)\ttotal: 2.21s\tremaining: 0us\n",
      "\n",
      "bestTest = 44.51815961\n",
      "bestIteration = 198\n",
      "\n",
      "Shrink model to first 199 iterations.\n",
      "Predicted for 67866 unknown examples\n",
      "Imputed done for cabin_num\n",
      "Prepare data to fit, feature: cabin_str\n",
      "Fit model: cabin_str\n",
      "Learning rate set to 0.213579\n"
     ]
    },
    {
     "name": "stderr",
     "output_type": "stream",
     "text": [
      "Warning: Overfitting detector is active, thus evaluation metric is calculated on every iteration. 'metric_period' is ignored for evaluation metric.\n"
     ]
    },
    {
     "name": "stdout",
     "output_type": "stream",
     "text": [
      "0:\tlearn: 0.8352189\ttest: 0.8447905\tbest: 0.8447905 (0)\ttotal: 129ms\tremaining: 25.6s\n",
      "50:\tlearn: 0.0019150\ttest: 0.0015528\tbest: 0.0015528 (50)\ttotal: 5.26s\tremaining: 15.4s\n",
      "100:\tlearn: 0.0007051\ttest: 0.0005527\tbest: 0.0005527 (100)\ttotal: 11.1s\tremaining: 10.9s\n",
      "150:\tlearn: 0.0003813\ttest: 0.0002886\tbest: 0.0002886 (150)\ttotal: 16.8s\tremaining: 5.46s\n",
      "199:\tlearn: 0.0002591\ttest: 0.0001920\tbest: 0.0001920 (199)\ttotal: 23.1s\tremaining: 0us\n",
      "\n",
      "bestTest = 0.0001920258865\n",
      "bestIteration = 199\n",
      "\n",
      "Predicted for 67866 unknown examples\n",
      "Imputed done for cabin_str\n",
      "Imputed done for all dataset, num null left: surname       0\n",
      "forename      0\n",
      "ticket_str    0\n",
      "ticket_num    0\n",
      "cabin_str     0\n",
      "cabin_num     0\n",
      "pclass        0\n",
      "sex           0\n",
      "age           0\n",
      "sibsp         0\n",
      "parch         0\n",
      "fare          0\n",
      "embarked      0\n",
      "dtype: int64\n"
     ]
    }
   ],
   "source": [
    "clean_X_train = cbi.fit_transform(df2)"
   ]
  },
  {
   "cell_type": "code",
   "execution_count": 63,
   "metadata": {},
   "outputs": [
    {
     "name": "stdout",
     "output_type": "stream",
     "text": [
      "Done\n"
     ]
    }
   ],
   "source": [
    "print('Done')"
   ]
  },
  {
   "cell_type": "code",
   "execution_count": 64,
   "metadata": {},
   "outputs": [],
   "source": [
    "clean_X_train.to_parquet('data/clean_X_train.parquet')"
   ]
  },
  {
   "cell_type": "code",
   "execution_count": 65,
   "metadata": {},
   "outputs": [
    {
     "data": {
      "text/plain": [
       "passengerid\n",
       "0        1\n",
       "1        0\n",
       "2        0\n",
       "3        0\n",
       "4        1\n",
       "        ..\n",
       "99995    1\n",
       "99996    0\n",
       "99997    0\n",
       "99998    0\n",
       "99999    0\n",
       "Name: survived, Length: 100000, dtype: int64"
      ]
     },
     "execution_count": 65,
     "metadata": {},
     "output_type": "execute_result"
    }
   ],
   "source": [
    "y_train"
   ]
  },
  {
   "cell_type": "code",
   "execution_count": 66,
   "metadata": {},
   "outputs": [],
   "source": [
    "X_train_t, X_train_e, y_train_t, y_train_e = train_test_split(clean_X_train, y_train, test_size=0.1)"
   ]
  },
  {
   "cell_type": "code",
   "execution_count": 67,
   "metadata": {},
   "outputs": [],
   "source": [
    "model_clean = CatBoostClassifier(iterations=1000, cat_features=['surname', 'forename', 'ticket_str', 'cabin_str', 'sex', 'embarked'], \n",
    "                                 early_stopping_rounds=50, verbose=True, metric_period=50, use_best_model=True)"
   ]
  },
  {
   "cell_type": "code",
   "execution_count": 68,
   "metadata": {},
   "outputs": [
    {
     "data": {
      "text/html": [
       "<div>\n",
       "<style scoped>\n",
       "    .dataframe tbody tr th:only-of-type {\n",
       "        vertical-align: middle;\n",
       "    }\n",
       "\n",
       "    .dataframe tbody tr th {\n",
       "        vertical-align: top;\n",
       "    }\n",
       "\n",
       "    .dataframe thead th {\n",
       "        text-align: right;\n",
       "    }\n",
       "</style>\n",
       "<table border=\"1\" class=\"dataframe\">\n",
       "  <thead>\n",
       "    <tr style=\"text-align: right;\">\n",
       "      <th></th>\n",
       "      <th>surname</th>\n",
       "      <th>forename</th>\n",
       "      <th>ticket_str</th>\n",
       "      <th>ticket_num</th>\n",
       "      <th>cabin_str</th>\n",
       "      <th>cabin_num</th>\n",
       "      <th>pclass</th>\n",
       "      <th>sex</th>\n",
       "      <th>age</th>\n",
       "      <th>sibsp</th>\n",
       "      <th>parch</th>\n",
       "      <th>fare</th>\n",
       "      <th>embarked</th>\n",
       "    </tr>\n",
       "  </thead>\n",
       "  <tbody>\n",
       "    <tr>\n",
       "      <th>48829</th>\n",
       "      <td>benefield</td>\n",
       "      <td>mary</td>\n",
       "      <td>fa</td>\n",
       "      <td>459547.000000</td>\n",
       "      <td>t</td>\n",
       "      <td>12541.295461</td>\n",
       "      <td>3</td>\n",
       "      <td>female</td>\n",
       "      <td>42.0</td>\n",
       "      <td>0</td>\n",
       "      <td>0</td>\n",
       "      <td>5.42</td>\n",
       "      <td>s</td>\n",
       "    </tr>\n",
       "    <tr>\n",
       "      <th>51905</th>\n",
       "      <td>kirkpatrick</td>\n",
       "      <td>bertha</td>\n",
       "      <td>s.o.p.</td>\n",
       "      <td>480132.000000</td>\n",
       "      <td>t</td>\n",
       "      <td>12529.354019</td>\n",
       "      <td>3</td>\n",
       "      <td>female</td>\n",
       "      <td>7.0</td>\n",
       "      <td>1</td>\n",
       "      <td>2</td>\n",
       "      <td>84.42</td>\n",
       "      <td>s</td>\n",
       "    </tr>\n",
       "    <tr>\n",
       "      <th>74339</th>\n",
       "      <td>knight</td>\n",
       "      <td>pete</td>\n",
       "      <td>so/c</td>\n",
       "      <td>30991.000000</td>\n",
       "      <td>t</td>\n",
       "      <td>12513.448282</td>\n",
       "      <td>3</td>\n",
       "      <td>male</td>\n",
       "      <td>29.0</td>\n",
       "      <td>1</td>\n",
       "      <td>0</td>\n",
       "      <td>26.42</td>\n",
       "      <td>s</td>\n",
       "    </tr>\n",
       "    <tr>\n",
       "      <th>73410</th>\n",
       "      <td>mottillo</td>\n",
       "      <td>lucille</td>\n",
       "      <td>a4.</td>\n",
       "      <td>400759.000000</td>\n",
       "      <td>t</td>\n",
       "      <td>12542.585403</td>\n",
       "      <td>3</td>\n",
       "      <td>female</td>\n",
       "      <td>55.0</td>\n",
       "      <td>0</td>\n",
       "      <td>0</td>\n",
       "      <td>10.89</td>\n",
       "      <td>s</td>\n",
       "    </tr>\n",
       "    <tr>\n",
       "      <th>66487</th>\n",
       "      <td>gomez</td>\n",
       "      <td>kimberly</td>\n",
       "      <td>w/c</td>\n",
       "      <td>25378.000000</td>\n",
       "      <td>b</td>\n",
       "      <td>19913.000000</td>\n",
       "      <td>1</td>\n",
       "      <td>female</td>\n",
       "      <td>62.0</td>\n",
       "      <td>0</td>\n",
       "      <td>0</td>\n",
       "      <td>20.52</td>\n",
       "      <td>q</td>\n",
       "    </tr>\n",
       "    <tr>\n",
       "      <th>...</th>\n",
       "      <td>...</td>\n",
       "      <td>...</td>\n",
       "      <td>...</td>\n",
       "      <td>...</td>\n",
       "      <td>...</td>\n",
       "      <td>...</td>\n",
       "      <td>...</td>\n",
       "      <td>...</td>\n",
       "      <td>...</td>\n",
       "      <td>...</td>\n",
       "      <td>...</td>\n",
       "      <td>...</td>\n",
       "      <td>...</td>\n",
       "    </tr>\n",
       "    <tr>\n",
       "      <th>66214</th>\n",
       "      <td>feldmann</td>\n",
       "      <td>matthew</td>\n",
       "      <td>so/c</td>\n",
       "      <td>195108.000000</td>\n",
       "      <td>t</td>\n",
       "      <td>12513.495526</td>\n",
       "      <td>3</td>\n",
       "      <td>male</td>\n",
       "      <td>25.0</td>\n",
       "      <td>0</td>\n",
       "      <td>0</td>\n",
       "      <td>9.88</td>\n",
       "      <td>s</td>\n",
       "    </tr>\n",
       "    <tr>\n",
       "      <th>81785</th>\n",
       "      <td>vroman</td>\n",
       "      <td>patsy</td>\n",
       "      <td>ston/o2.</td>\n",
       "      <td>345541.968025</td>\n",
       "      <td>t</td>\n",
       "      <td>12541.671085</td>\n",
       "      <td>3</td>\n",
       "      <td>female</td>\n",
       "      <td>9.0</td>\n",
       "      <td>0</td>\n",
       "      <td>2</td>\n",
       "      <td>9.70</td>\n",
       "      <td>c</td>\n",
       "    </tr>\n",
       "    <tr>\n",
       "      <th>4888</th>\n",
       "      <td>hayes</td>\n",
       "      <td>vernon</td>\n",
       "      <td>a/s</td>\n",
       "      <td>211552.000000</td>\n",
       "      <td>t</td>\n",
       "      <td>12513.845691</td>\n",
       "      <td>3</td>\n",
       "      <td>male</td>\n",
       "      <td>25.0</td>\n",
       "      <td>0</td>\n",
       "      <td>3</td>\n",
       "      <td>27.83</td>\n",
       "      <td>s</td>\n",
       "    </tr>\n",
       "    <tr>\n",
       "      <th>5291</th>\n",
       "      <td>thompson</td>\n",
       "      <td>michael</td>\n",
       "      <td>so/c</td>\n",
       "      <td>40641.000000</td>\n",
       "      <td>t</td>\n",
       "      <td>12513.495526</td>\n",
       "      <td>3</td>\n",
       "      <td>male</td>\n",
       "      <td>36.0</td>\n",
       "      <td>0</td>\n",
       "      <td>0</td>\n",
       "      <td>23.35</td>\n",
       "      <td>s</td>\n",
       "    </tr>\n",
       "    <tr>\n",
       "      <th>9105</th>\n",
       "      <td>jackson</td>\n",
       "      <td>janel</td>\n",
       "      <td>sc/a4</td>\n",
       "      <td>16900.000000</td>\n",
       "      <td>t</td>\n",
       "      <td>12513.763400</td>\n",
       "      <td>3</td>\n",
       "      <td>female</td>\n",
       "      <td>74.0</td>\n",
       "      <td>0</td>\n",
       "      <td>0</td>\n",
       "      <td>10.79</td>\n",
       "      <td>c</td>\n",
       "    </tr>\n",
       "  </tbody>\n",
       "</table>\n",
       "<p>90000 rows × 13 columns</p>\n",
       "</div>"
      ],
      "text/plain": [
       "           surname   forename ticket_str     ticket_num cabin_str  \\\n",
       "48829    benefield       mary         fa  459547.000000         t   \n",
       "51905  kirkpatrick     bertha     s.o.p.  480132.000000         t   \n",
       "74339       knight       pete       so/c   30991.000000         t   \n",
       "73410     mottillo    lucille        a4.  400759.000000         t   \n",
       "66487        gomez   kimberly        w/c   25378.000000         b   \n",
       "...            ...        ...        ...            ...       ...   \n",
       "66214     feldmann    matthew       so/c  195108.000000         t   \n",
       "81785       vroman      patsy   ston/o2.  345541.968025         t   \n",
       "4888         hayes     vernon        a/s  211552.000000         t   \n",
       "5291      thompson    michael       so/c   40641.000000         t   \n",
       "9105       jackson      janel      sc/a4   16900.000000         t   \n",
       "\n",
       "          cabin_num  pclass     sex   age  sibsp  parch   fare embarked  \n",
       "48829  12541.295461       3  female  42.0      0      0   5.42        s  \n",
       "51905  12529.354019       3  female   7.0      1      2  84.42        s  \n",
       "74339  12513.448282       3    male  29.0      1      0  26.42        s  \n",
       "73410  12542.585403       3  female  55.0      0      0  10.89        s  \n",
       "66487  19913.000000       1  female  62.0      0      0  20.52        q  \n",
       "...             ...     ...     ...   ...    ...    ...    ...      ...  \n",
       "66214  12513.495526       3    male  25.0      0      0   9.88        s  \n",
       "81785  12541.671085       3  female   9.0      0      2   9.70        c  \n",
       "4888   12513.845691       3    male  25.0      0      3  27.83        s  \n",
       "5291   12513.495526       3    male  36.0      0      0  23.35        s  \n",
       "9105   12513.763400       3  female  74.0      0      0  10.79        c  \n",
       "\n",
       "[90000 rows x 13 columns]"
      ]
     },
     "execution_count": 68,
     "metadata": {},
     "output_type": "execute_result"
    }
   ],
   "source": [
    "X_train_t"
   ]
  },
  {
   "cell_type": "code",
   "execution_count": 69,
   "metadata": {},
   "outputs": [
    {
     "name": "stdout",
     "output_type": "stream",
     "text": [
      "Learning rate set to 0.096296\n",
      "0:\tlearn: 0.6506654\ttest: 0.6502119\tbest: 0.6502119 (0)\ttotal: 42.5ms\tremaining: 42.5s\n"
     ]
    },
    {
     "name": "stderr",
     "output_type": "stream",
     "text": [
      "Warning: Overfitting detector is active, thus evaluation metric is calculated on every iteration. 'metric_period' is ignored for evaluation metric.\n"
     ]
    },
    {
     "name": "stdout",
     "output_type": "stream",
     "text": [
      "50:\tlearn: 0.4696837\ttest: 0.4695765\tbest: 0.4695765 (50)\ttotal: 1.62s\tremaining: 30.2s\n",
      "100:\tlearn: 0.4640451\ttest: 0.4666073\tbest: 0.4666073 (100)\ttotal: 3.33s\tremaining: 29.6s\n",
      "150:\tlearn: 0.4604643\ttest: 0.4654303\tbest: 0.4654274 (146)\ttotal: 5.4s\tremaining: 30.4s\n",
      "200:\tlearn: 0.4575480\ttest: 0.4651951\tbest: 0.4651719 (199)\ttotal: 7.26s\tremaining: 28.8s\n",
      "250:\tlearn: 0.4548392\ttest: 0.4649142\tbest: 0.4649071 (249)\ttotal: 9.06s\tremaining: 27s\n",
      "300:\tlearn: 0.4523819\ttest: 0.4647689\tbest: 0.4646811 (287)\ttotal: 10.8s\tremaining: 25s\n",
      "350:\tlearn: 0.4502126\ttest: 0.4644886\tbest: 0.4644594 (341)\ttotal: 12.5s\tremaining: 23.1s\n",
      "400:\tlearn: 0.4481511\ttest: 0.4643741\tbest: 0.4643461 (397)\ttotal: 14.3s\tremaining: 21.3s\n",
      "450:\tlearn: 0.4462194\ttest: 0.4644705\tbest: 0.4643258 (404)\ttotal: 15.9s\tremaining: 19.3s\n",
      "Stopped by overfitting detector  (50 iterations wait)\n",
      "\n",
      "bestTest = 0.4643258221\n",
      "bestIteration = 404\n",
      "\n",
      "Shrink model to first 405 iterations.\n"
     ]
    },
    {
     "data": {
      "text/plain": [
       "<catboost.core.CatBoostClassifier at 0x7f84b91361f0>"
      ]
     },
     "execution_count": 69,
     "metadata": {},
     "output_type": "execute_result"
    }
   ],
   "source": [
    "model_clean.fit(X_train_t, y_train_t, eval_set = (X_train_e, y_train_e))"
   ]
  },
  {
   "cell_type": "code",
   "execution_count": 70,
   "metadata": {},
   "outputs": [],
   "source": [
    "y_train_e_pred = model_clean.predict(X_train_e)"
   ]
  },
  {
   "cell_type": "code",
   "execution_count": 71,
   "metadata": {},
   "outputs": [
    {
     "name": "stdout",
     "output_type": "stream",
     "text": [
      "              precision    recall  f1-score   support\n",
      "\n",
      "           0       0.81      0.82      0.82      5744\n",
      "           1       0.75      0.74      0.75      4256\n",
      "\n",
      "    accuracy                           0.79     10000\n",
      "   macro avg       0.78      0.78      0.78     10000\n",
      "weighted avg       0.79      0.79      0.79     10000\n",
      "\n"
     ]
    }
   ],
   "source": [
    "from sklearn.metrics import classification_report\n",
    "print(classification_report(y_train_e, model_clean.predict(X_train_e)))"
   ]
  },
  {
   "cell_type": "code",
   "execution_count": 72,
   "metadata": {},
   "outputs": [
    {
     "name": "stdout",
     "output_type": "stream",
     "text": [
      "              precision    recall  f1-score   support\n",
      "\n",
      "           0       0.81      0.83      0.82     51482\n",
      "           1       0.76      0.74      0.75     38518\n",
      "\n",
      "    accuracy                           0.79     90000\n",
      "   macro avg       0.79      0.78      0.78     90000\n",
      "weighted avg       0.79      0.79      0.79     90000\n",
      "\n"
     ]
    }
   ],
   "source": [
    "print(classification_report(y_train_t, model_clean.predict(X_train_t)))"
   ]
  },
  {
   "cell_type": "code",
   "execution_count": null,
   "metadata": {},
   "outputs": [],
   "source": []
  },
  {
   "cell_type": "code",
   "execution_count": null,
   "metadata": {},
   "outputs": [],
   "source": []
  },
  {
   "cell_type": "code",
   "execution_count": 73,
   "metadata": {},
   "outputs": [],
   "source": [
    "def ft_imp(model):\n",
    "    fi = pd.DataFrame({\n",
    "        'feature':X_train_e.columns,\n",
    "        'importance': model.feature_importances_\n",
    "    })\n",
    "\n",
    "    return fi.sort_values(by='importance',ascending=False).iloc[:50].style.bar()"
   ]
  },
  {
   "cell_type": "code",
   "execution_count": 74,
   "metadata": {},
   "outputs": [
    {
     "data": {
      "text/html": [
       "<style  type=\"text/css\" >\n",
       "#T_cfb90_row0_col1{\n",
       "            width:  10em;\n",
       "             height:  80%;\n",
       "            background:  linear-gradient(90deg,#d65f5f 100.0%, transparent 100.0%);\n",
       "        }#T_cfb90_row1_col1{\n",
       "            width:  10em;\n",
       "             height:  80%;\n",
       "            background:  linear-gradient(90deg,#d65f5f 40.8%, transparent 40.8%);\n",
       "        }#T_cfb90_row2_col1{\n",
       "            width:  10em;\n",
       "             height:  80%;\n",
       "            background:  linear-gradient(90deg,#d65f5f 37.9%, transparent 37.9%);\n",
       "        }#T_cfb90_row3_col1{\n",
       "            width:  10em;\n",
       "             height:  80%;\n",
       "            background:  linear-gradient(90deg,#d65f5f 37.0%, transparent 37.0%);\n",
       "        }#T_cfb90_row4_col1{\n",
       "            width:  10em;\n",
       "             height:  80%;\n",
       "            background:  linear-gradient(90deg,#d65f5f 31.3%, transparent 31.3%);\n",
       "        }#T_cfb90_row5_col1{\n",
       "            width:  10em;\n",
       "             height:  80%;\n",
       "            background:  linear-gradient(90deg,#d65f5f 31.1%, transparent 31.1%);\n",
       "        }#T_cfb90_row6_col1{\n",
       "            width:  10em;\n",
       "             height:  80%;\n",
       "            background:  linear-gradient(90deg,#d65f5f 28.9%, transparent 28.9%);\n",
       "        }#T_cfb90_row7_col1{\n",
       "            width:  10em;\n",
       "             height:  80%;\n",
       "            background:  linear-gradient(90deg,#d65f5f 14.1%, transparent 14.1%);\n",
       "        }#T_cfb90_row8_col1{\n",
       "            width:  10em;\n",
       "             height:  80%;\n",
       "            background:  linear-gradient(90deg,#d65f5f 13.0%, transparent 13.0%);\n",
       "        }#T_cfb90_row9_col1{\n",
       "            width:  10em;\n",
       "             height:  80%;\n",
       "            background:  linear-gradient(90deg,#d65f5f 9.4%, transparent 9.4%);\n",
       "        }#T_cfb90_row10_col1{\n",
       "            width:  10em;\n",
       "             height:  80%;\n",
       "            background:  linear-gradient(90deg,#d65f5f 8.0%, transparent 8.0%);\n",
       "        }#T_cfb90_row11_col1{\n",
       "            width:  10em;\n",
       "             height:  80%;\n",
       "            background:  linear-gradient(90deg,#d65f5f 7.2%, transparent 7.2%);\n",
       "        }#T_cfb90_row12_col1{\n",
       "            width:  10em;\n",
       "             height:  80%;\n",
       "        }</style><table id=\"T_cfb90_\" ><thead>    <tr>        <th class=\"blank level0\" ></th>        <th class=\"col_heading level0 col0\" >feature</th>        <th class=\"col_heading level0 col1\" >importance</th>    </tr></thead><tbody>\n",
       "                <tr>\n",
       "                        <th id=\"T_cfb90_level0_row0\" class=\"row_heading level0 row0\" >7</th>\n",
       "                        <td id=\"T_cfb90_row0_col0\" class=\"data row0 col0\" >sex</td>\n",
       "                        <td id=\"T_cfb90_row0_col1\" class=\"data row0 col1\" >23.536167</td>\n",
       "            </tr>\n",
       "            <tr>\n",
       "                        <th id=\"T_cfb90_level0_row1\" class=\"row_heading level0 row1\" >6</th>\n",
       "                        <td id=\"T_cfb90_row1_col0\" class=\"data row1 col0\" >pclass</td>\n",
       "                        <td id=\"T_cfb90_row1_col1\" class=\"data row1 col1\" >10.583626</td>\n",
       "            </tr>\n",
       "            <tr>\n",
       "                        <th id=\"T_cfb90_level0_row2\" class=\"row_heading level0 row2\" >11</th>\n",
       "                        <td id=\"T_cfb90_row2_col0\" class=\"data row2 col0\" >fare</td>\n",
       "                        <td id=\"T_cfb90_row2_col1\" class=\"data row2 col1\" >9.940771</td>\n",
       "            </tr>\n",
       "            <tr>\n",
       "                        <th id=\"T_cfb90_level0_row3\" class=\"row_heading level0 row3\" >12</th>\n",
       "                        <td id=\"T_cfb90_row3_col0\" class=\"data row3 col0\" >embarked</td>\n",
       "                        <td id=\"T_cfb90_row3_col1\" class=\"data row3 col1\" >9.754716</td>\n",
       "            </tr>\n",
       "            <tr>\n",
       "                        <th id=\"T_cfb90_level0_row4\" class=\"row_heading level0 row4\" >4</th>\n",
       "                        <td id=\"T_cfb90_row4_col0\" class=\"data row4 col0\" >cabin_str</td>\n",
       "                        <td id=\"T_cfb90_row4_col1\" class=\"data row4 col1\" >8.509579</td>\n",
       "            </tr>\n",
       "            <tr>\n",
       "                        <th id=\"T_cfb90_level0_row5\" class=\"row_heading level0 row5\" >2</th>\n",
       "                        <td id=\"T_cfb90_row5_col0\" class=\"data row5 col0\" >ticket_str</td>\n",
       "                        <td id=\"T_cfb90_row5_col1\" class=\"data row5 col1\" >8.451626</td>\n",
       "            </tr>\n",
       "            <tr>\n",
       "                        <th id=\"T_cfb90_level0_row6\" class=\"row_heading level0 row6\" >3</th>\n",
       "                        <td id=\"T_cfb90_row6_col0\" class=\"data row6 col0\" >ticket_num</td>\n",
       "                        <td id=\"T_cfb90_row6_col1\" class=\"data row6 col1\" >7.974061</td>\n",
       "            </tr>\n",
       "            <tr>\n",
       "                        <th id=\"T_cfb90_level0_row7\" class=\"row_heading level0 row7\" >10</th>\n",
       "                        <td id=\"T_cfb90_row7_col0\" class=\"data row7 col0\" >parch</td>\n",
       "                        <td id=\"T_cfb90_row7_col1\" class=\"data row7 col1\" >4.732307</td>\n",
       "            </tr>\n",
       "            <tr>\n",
       "                        <th id=\"T_cfb90_level0_row8\" class=\"row_heading level0 row8\" >8</th>\n",
       "                        <td id=\"T_cfb90_row8_col0\" class=\"data row8 col0\" >age</td>\n",
       "                        <td id=\"T_cfb90_row8_col1\" class=\"data row8 col1\" >4.507054</td>\n",
       "            </tr>\n",
       "            <tr>\n",
       "                        <th id=\"T_cfb90_level0_row9\" class=\"row_heading level0 row9\" >1</th>\n",
       "                        <td id=\"T_cfb90_row9_col0\" class=\"data row9 col0\" >forename</td>\n",
       "                        <td id=\"T_cfb90_row9_col1\" class=\"data row9 col1\" >3.717112</td>\n",
       "            </tr>\n",
       "            <tr>\n",
       "                        <th id=\"T_cfb90_level0_row10\" class=\"row_heading level0 row10\" >5</th>\n",
       "                        <td id=\"T_cfb90_row10_col0\" class=\"data row10 col0\" >cabin_num</td>\n",
       "                        <td id=\"T_cfb90_row10_col1\" class=\"data row10 col1\" >3.399783</td>\n",
       "            </tr>\n",
       "            <tr>\n",
       "                        <th id=\"T_cfb90_level0_row11\" class=\"row_heading level0 row11\" >9</th>\n",
       "                        <td id=\"T_cfb90_row11_col0\" class=\"data row11 col0\" >sibsp</td>\n",
       "                        <td id=\"T_cfb90_row11_col1\" class=\"data row11 col1\" >3.234756</td>\n",
       "            </tr>\n",
       "            <tr>\n",
       "                        <th id=\"T_cfb90_level0_row12\" class=\"row_heading level0 row12\" >0</th>\n",
       "                        <td id=\"T_cfb90_row12_col0\" class=\"data row12 col0\" >surname</td>\n",
       "                        <td id=\"T_cfb90_row12_col1\" class=\"data row12 col1\" >1.658442</td>\n",
       "            </tr>\n",
       "    </tbody></table>"
      ],
      "text/plain": [
       "<pandas.io.formats.style.Styler at 0x7f84d8ce00d0>"
      ]
     },
     "execution_count": 74,
     "metadata": {},
     "output_type": "execute_result"
    }
   ],
   "source": [
    "ft_imp(model_clean)"
   ]
  },
  {
   "cell_type": "code",
   "execution_count": 75,
   "metadata": {},
   "outputs": [
    {
     "name": "stdout",
     "output_type": "stream",
     "text": [
      "====Converting columns types====\n"
     ]
    },
    {
     "data": {
      "application/vnd.jupyter.widget-view+json": {
       "model_id": "9fe82356ed6c4c0fa29531028dc6c0e2",
       "version_major": 2,
       "version_minor": 0
      },
      "text/plain": [
       "0it [00:00, ?it/s]"
      ]
     },
     "metadata": {},
     "output_type": "display_data"
    }
   ],
   "source": [
    "X_test_2 = pl.fit_transform(X_test)"
   ]
  },
  {
   "cell_type": "code",
   "execution_count": 76,
   "metadata": {},
   "outputs": [
    {
     "data": {
      "text/html": [
       "<div>\n",
       "<style scoped>\n",
       "    .dataframe tbody tr th:only-of-type {\n",
       "        vertical-align: middle;\n",
       "    }\n",
       "\n",
       "    .dataframe tbody tr th {\n",
       "        vertical-align: top;\n",
       "    }\n",
       "\n",
       "    .dataframe thead th {\n",
       "        text-align: right;\n",
       "    }\n",
       "</style>\n",
       "<table border=\"1\" class=\"dataframe\">\n",
       "  <thead>\n",
       "    <tr style=\"text-align: right;\">\n",
       "      <th></th>\n",
       "      <th>surname</th>\n",
       "      <th>forename</th>\n",
       "      <th>ticket_str</th>\n",
       "      <th>ticket_num</th>\n",
       "      <th>cabin_str</th>\n",
       "      <th>cabin_num</th>\n",
       "      <th>pclass</th>\n",
       "      <th>sex</th>\n",
       "      <th>age</th>\n",
       "      <th>sibsp</th>\n",
       "      <th>parch</th>\n",
       "      <th>fare</th>\n",
       "      <th>embarked</th>\n",
       "    </tr>\n",
       "  </thead>\n",
       "  <tbody>\n",
       "    <tr>\n",
       "      <th>0</th>\n",
       "      <td>holliday</td>\n",
       "      <td>daniel</td>\n",
       "      <td>None</td>\n",
       "      <td>24745.0</td>\n",
       "      <td>None</td>\n",
       "      <td>NaN</td>\n",
       "      <td>3</td>\n",
       "      <td>male</td>\n",
       "      <td>19.0</td>\n",
       "      <td>0</td>\n",
       "      <td>0</td>\n",
       "      <td>63.01</td>\n",
       "      <td>s</td>\n",
       "    </tr>\n",
       "    <tr>\n",
       "      <th>1</th>\n",
       "      <td>nguyen</td>\n",
       "      <td>lorraine</td>\n",
       "      <td>None</td>\n",
       "      <td>13264.0</td>\n",
       "      <td>None</td>\n",
       "      <td>NaN</td>\n",
       "      <td>3</td>\n",
       "      <td>female</td>\n",
       "      <td>53.0</td>\n",
       "      <td>0</td>\n",
       "      <td>0</td>\n",
       "      <td>5.81</td>\n",
       "      <td>s</td>\n",
       "    </tr>\n",
       "    <tr>\n",
       "      <th>2</th>\n",
       "      <td>harris</td>\n",
       "      <td>heather</td>\n",
       "      <td>None</td>\n",
       "      <td>25990.0</td>\n",
       "      <td>b</td>\n",
       "      <td>15315.0</td>\n",
       "      <td>1</td>\n",
       "      <td>female</td>\n",
       "      <td>19.0</td>\n",
       "      <td>0</td>\n",
       "      <td>0</td>\n",
       "      <td>38.91</td>\n",
       "      <td>c</td>\n",
       "    </tr>\n",
       "    <tr>\n",
       "      <th>3</th>\n",
       "      <td>larsen</td>\n",
       "      <td>eric</td>\n",
       "      <td>None</td>\n",
       "      <td>314011.0</td>\n",
       "      <td>None</td>\n",
       "      <td>NaN</td>\n",
       "      <td>2</td>\n",
       "      <td>male</td>\n",
       "      <td>25.0</td>\n",
       "      <td>0</td>\n",
       "      <td>0</td>\n",
       "      <td>12.93</td>\n",
       "      <td>s</td>\n",
       "    </tr>\n",
       "    <tr>\n",
       "      <th>4</th>\n",
       "      <td>cleary</td>\n",
       "      <td>sarah</td>\n",
       "      <td>None</td>\n",
       "      <td>26203.0</td>\n",
       "      <td>b</td>\n",
       "      <td>22515.0</td>\n",
       "      <td>1</td>\n",
       "      <td>female</td>\n",
       "      <td>17.0</td>\n",
       "      <td>0</td>\n",
       "      <td>2</td>\n",
       "      <td>26.89</td>\n",
       "      <td>c</td>\n",
       "    </tr>\n",
       "    <tr>\n",
       "      <th>...</th>\n",
       "      <td>...</td>\n",
       "      <td>...</td>\n",
       "      <td>...</td>\n",
       "      <td>...</td>\n",
       "      <td>...</td>\n",
       "      <td>...</td>\n",
       "      <td>...</td>\n",
       "      <td>...</td>\n",
       "      <td>...</td>\n",
       "      <td>...</td>\n",
       "      <td>...</td>\n",
       "      <td>...</td>\n",
       "      <td>...</td>\n",
       "    </tr>\n",
       "    <tr>\n",
       "      <th>99995</th>\n",
       "      <td>cash</td>\n",
       "      <td>cheryle</td>\n",
       "      <td>None</td>\n",
       "      <td>7686.0</td>\n",
       "      <td>None</td>\n",
       "      <td>NaN</td>\n",
       "      <td>3</td>\n",
       "      <td>female</td>\n",
       "      <td>27.0</td>\n",
       "      <td>0</td>\n",
       "      <td>0</td>\n",
       "      <td>10.12</td>\n",
       "      <td>q</td>\n",
       "    </tr>\n",
       "    <tr>\n",
       "      <th>99996</th>\n",
       "      <td>brown</td>\n",
       "      <td>howard</td>\n",
       "      <td>None</td>\n",
       "      <td>13004.0</td>\n",
       "      <td>None</td>\n",
       "      <td>NaN</td>\n",
       "      <td>1</td>\n",
       "      <td>male</td>\n",
       "      <td>59.0</td>\n",
       "      <td>1</td>\n",
       "      <td>0</td>\n",
       "      <td>68.31</td>\n",
       "      <td>s</td>\n",
       "    </tr>\n",
       "    <tr>\n",
       "      <th>99997</th>\n",
       "      <td>lightfoot</td>\n",
       "      <td>cameron</td>\n",
       "      <td>None</td>\n",
       "      <td>4383317.0</td>\n",
       "      <td>None</td>\n",
       "      <td>NaN</td>\n",
       "      <td>3</td>\n",
       "      <td>male</td>\n",
       "      <td>47.0</td>\n",
       "      <td>0</td>\n",
       "      <td>0</td>\n",
       "      <td>10.87</td>\n",
       "      <td>s</td>\n",
       "    </tr>\n",
       "    <tr>\n",
       "      <th>99998</th>\n",
       "      <td>jacobsen</td>\n",
       "      <td>margaret</td>\n",
       "      <td>pc</td>\n",
       "      <td>NaN</td>\n",
       "      <td>b</td>\n",
       "      <td>20828.0</td>\n",
       "      <td>1</td>\n",
       "      <td>female</td>\n",
       "      <td>49.0</td>\n",
       "      <td>1</td>\n",
       "      <td>2</td>\n",
       "      <td>29.68</td>\n",
       "      <td>c</td>\n",
       "    </tr>\n",
       "    <tr>\n",
       "      <th>99999</th>\n",
       "      <td>fishback</td>\n",
       "      <td>joanna</td>\n",
       "      <td>pc</td>\n",
       "      <td>NaN</td>\n",
       "      <td>e</td>\n",
       "      <td>13345.0</td>\n",
       "      <td>1</td>\n",
       "      <td>female</td>\n",
       "      <td>41.0</td>\n",
       "      <td>0</td>\n",
       "      <td>2</td>\n",
       "      <td>195.41</td>\n",
       "      <td>c</td>\n",
       "    </tr>\n",
       "  </tbody>\n",
       "</table>\n",
       "<p>100000 rows × 13 columns</p>\n",
       "</div>"
      ],
      "text/plain": [
       "         surname   forename ticket_str  ticket_num cabin_str  cabin_num  \\\n",
       "0       holliday     daniel       None     24745.0      None        NaN   \n",
       "1         nguyen   lorraine       None     13264.0      None        NaN   \n",
       "2         harris    heather       None     25990.0         b    15315.0   \n",
       "3         larsen       eric       None    314011.0      None        NaN   \n",
       "4         cleary      sarah       None     26203.0         b    22515.0   \n",
       "...          ...        ...        ...         ...       ...        ...   \n",
       "99995       cash    cheryle       None      7686.0      None        NaN   \n",
       "99996      brown     howard       None     13004.0      None        NaN   \n",
       "99997  lightfoot    cameron       None   4383317.0      None        NaN   \n",
       "99998   jacobsen   margaret         pc         NaN         b    20828.0   \n",
       "99999   fishback     joanna         pc         NaN         e    13345.0   \n",
       "\n",
       "       pclass     sex   age  sibsp  parch    fare embarked  \n",
       "0           3    male  19.0      0      0   63.01        s  \n",
       "1           3  female  53.0      0      0    5.81        s  \n",
       "2           1  female  19.0      0      0   38.91        c  \n",
       "3           2    male  25.0      0      0   12.93        s  \n",
       "4           1  female  17.0      0      2   26.89        c  \n",
       "...       ...     ...   ...    ...    ...     ...      ...  \n",
       "99995       3  female  27.0      0      0   10.12        q  \n",
       "99996       1    male  59.0      1      0   68.31        s  \n",
       "99997       3    male  47.0      0      0   10.87        s  \n",
       "99998       1  female  49.0      1      2   29.68        c  \n",
       "99999       1  female  41.0      0      2  195.41        c  \n",
       "\n",
       "[100000 rows x 13 columns]"
      ]
     },
     "execution_count": 76,
     "metadata": {},
     "output_type": "execute_result"
    }
   ],
   "source": [
    "X_test_2"
   ]
  },
  {
   "cell_type": "code",
   "execution_count": 77,
   "metadata": {},
   "outputs": [],
   "source": [
    "cbi_test = CatBoostImputor(impute_plan, ['fare', 'embarked', 'age', 'ticket_num', 'ticket_str', 'cabin_num', 'cabin_str'])"
   ]
  },
  {
   "cell_type": "code",
   "execution_count": 78,
   "metadata": {},
   "outputs": [
    {
     "name": "stdout",
     "output_type": "stream",
     "text": [
      "Prepare data to fit, feature: fare\n",
      "Fit model: fare\n",
      "Learning rate set to 0.275418\n",
      "0:\tlearn: 55.4252142\ttest: 57.5502950\tbest: 57.5502950 (0)\ttotal: 23.2ms\tremaining: 4.62s\n"
     ]
    },
    {
     "name": "stderr",
     "output_type": "stream",
     "text": [
      "Warning: Overfitting detector is active, thus evaluation metric is calculated on every iteration. 'metric_period' is ignored for evaluation metric.\n"
     ]
    },
    {
     "name": "stdout",
     "output_type": "stream",
     "text": [
      "50:\tlearn: 41.0859880\ttest: 44.1781527\tbest: 44.1239668 (17)\ttotal: 1.36s\tremaining: 3.96s\n",
      "Stopped by overfitting detector  (50 iterations wait)\n",
      "\n",
      "bestTest = 44.12396684\n",
      "bestIteration = 17\n",
      "\n",
      "Shrink model to first 18 iterations.\n",
      "Predicted for 133 unknown examples\n",
      "Imputed done for fare\n",
      "Prepare data to fit, feature: embarked\n",
      "Fit model: embarked\n",
      "Learning rate set to 0.218472\n",
      "0:\tlearn: 0.9434240\ttest: 0.9419511\tbest: 0.9419511 (0)\ttotal: 65ms\tremaining: 12.9s\n"
     ]
    },
    {
     "name": "stderr",
     "output_type": "stream",
     "text": [
      "Warning: Overfitting detector is active, thus evaluation metric is calculated on every iteration. 'metric_period' is ignored for evaluation metric.\n"
     ]
    },
    {
     "name": "stdout",
     "output_type": "stream",
     "text": [
      "50:\tlearn: 0.6375239\ttest: 0.6444090\tbest: 0.6444090 (50)\ttotal: 3.19s\tremaining: 9.32s\n",
      "100:\tlearn: 0.6256712\ttest: 0.6384090\tbest: 0.6384090 (100)\ttotal: 6.29s\tremaining: 6.17s\n",
      "150:\tlearn: 0.6195778\ttest: 0.6376685\tbest: 0.6375410 (140)\ttotal: 9.34s\tremaining: 3.03s\n",
      "199:\tlearn: 0.6147086\ttest: 0.6377627\tbest: 0.6374074 (178)\ttotal: 12.3s\tremaining: 0us\n",
      "\n",
      "bestTest = 0.6374074293\n",
      "bestIteration = 178\n",
      "\n",
      "Shrink model to first 179 iterations.\n",
      "Predicted for 277 unknown examples\n",
      "Imputed done for embarked\n",
      "Prepare data to fit, feature: age\n",
      "Fit model: age\n",
      "Learning rate set to 0.273945\n",
      "0:\tlearn: 13.5703276\ttest: 13.5648230\tbest: 13.5648230 (0)\ttotal: 27.3ms\tremaining: 5.44s\n"
     ]
    },
    {
     "name": "stderr",
     "output_type": "stream",
     "text": [
      "Warning: Overfitting detector is active, thus evaluation metric is calculated on every iteration. 'metric_period' is ignored for evaluation metric.\n"
     ]
    },
    {
     "name": "stdout",
     "output_type": "stream",
     "text": [
      "50:\tlearn: 12.7572813\ttest: 12.8397431\tbest: 12.8395943 (47)\ttotal: 1.12s\tremaining: 3.28s\n",
      "100:\tlearn: 12.6899986\ttest: 12.8322579\tbest: 12.8316945 (91)\ttotal: 2.29s\tremaining: 2.25s\n",
      "150:\tlearn: 12.6354794\ttest: 12.8383657\tbest: 12.8308877 (102)\ttotal: 3.59s\tremaining: 1.17s\n",
      "Stopped by overfitting detector  (50 iterations wait)\n",
      "\n",
      "bestTest = 12.83088768\n",
      "bestIteration = 102\n",
      "\n",
      "Shrink model to first 103 iterations.\n",
      "Predicted for 3487 unknown examples\n",
      "Imputed done for age\n",
      "Prepare data to fit, feature: ticket_num\n",
      "Fit model: ticket_num\n",
      "Learning rate set to 0.260343\n",
      "0:\tlearn: 655725.7709749\ttest: 683463.2397403\tbest: 683463.2397403 (0)\ttotal: 11.7ms\tremaining: 2.33s\n"
     ]
    },
    {
     "name": "stderr",
     "output_type": "stream",
     "text": [
      "Warning: Overfitting detector is active, thus evaluation metric is calculated on every iteration. 'metric_period' is ignored for evaluation metric.\n"
     ]
    },
    {
     "name": "stdout",
     "output_type": "stream",
     "text": [
      "50:\tlearn: 89749.4989781\ttest: 98185.2575162\tbest: 95505.9245302 (28)\ttotal: 897ms\tremaining: 2.62s\n",
      "Stopped by overfitting detector  (50 iterations wait)\n",
      "\n",
      "bestTest = 95505.92453\n",
      "bestIteration = 28\n",
      "\n",
      "Shrink model to first 29 iterations.\n",
      "Predicted for 30223 unknown examples\n",
      "Imputed done for ticket_num\n",
      "Prepare data to fit, feature: ticket_str\n",
      "Fit model: ticket_str\n",
      "Learning rate set to 0.212516\n"
     ]
    },
    {
     "name": "stderr",
     "output_type": "stream",
     "text": [
      "Warning: Overfitting detector is active, thus evaluation metric is calculated on every iteration. 'metric_period' is ignored for evaluation metric.\n"
     ]
    },
    {
     "name": "stdout",
     "output_type": "stream",
     "text": [
      "0:\tlearn: 1.3240162\ttest: 1.3590509\tbest: 1.3590509 (0)\ttotal: 3s\tremaining: 9m 57s\n",
      "50:\tlearn: 0.1033778\ttest: 0.1039747\tbest: 0.1039747 (50)\ttotal: 3m 17s\tremaining: 9m 36s\n",
      "100:\tlearn: 0.0538585\ttest: 0.0677874\tbest: 0.0677392 (97)\ttotal: 6m 51s\tremaining: 6m 43s\n",
      "150:\tlearn: 0.0341126\ttest: 0.0528243\tbest: 0.0527686 (149)\ttotal: 10m 15s\tremaining: 3m 19s\n",
      "199:\tlearn: 0.0215465\ttest: 0.0421844\tbest: 0.0421844 (199)\ttotal: 14m 15s\tremaining: 0us\n",
      "\n",
      "bestTest = 0.04218435661\n",
      "bestIteration = 199\n",
      "\n",
      "Predicted for 74958 unknown examples\n",
      "Imputed done for ticket_str\n",
      "Prepare data to fit, feature: cabin_num\n",
      "Fit model: cabin_num\n",
      "Learning rate set to 0.227026\n",
      "0:\tlearn: 4413.0014249\ttest: 4498.4735967\tbest: 4498.4735967 (0)\ttotal: 67.4ms\tremaining: 13.4s\n"
     ]
    },
    {
     "name": "stderr",
     "output_type": "stream",
     "text": [
      "Warning: Overfitting detector is active, thus evaluation metric is calculated on every iteration. 'metric_period' is ignored for evaluation metric.\n"
     ]
    },
    {
     "name": "stdout",
     "output_type": "stream",
     "text": [
      "50:\tlearn: 122.8437567\ttest: 124.1164012\tbest: 124.1164012 (50)\ttotal: 766ms\tremaining: 2.24s\n",
      "100:\tlearn: 70.6002670\ttest: 72.8305021\tbest: 72.8305021 (100)\ttotal: 1.23s\tremaining: 1.21s\n",
      "150:\tlearn: 51.8690868\ttest: 54.5752248\tbest: 54.5752248 (150)\ttotal: 1.69s\tremaining: 548ms\n",
      "199:\tlearn: 43.5400815\ttest: 47.2411642\tbest: 47.2411642 (199)\ttotal: 2.19s\tremaining: 0us\n",
      "\n",
      "bestTest = 47.24116422\n",
      "bestIteration = 199\n",
      "\n",
      "Predicted for 70831 unknown examples\n",
      "Imputed done for cabin_num\n",
      "Prepare data to fit, feature: cabin_str\n",
      "Fit model: cabin_str\n",
      "Learning rate set to 0.213166\n",
      "0:\tlearn: 0.8367792\ttest: 0.8313201\tbest: 0.8313201 (0)\ttotal: 82.5ms\tremaining: 16.4s\n"
     ]
    },
    {
     "name": "stderr",
     "output_type": "stream",
     "text": [
      "Warning: Overfitting detector is active, thus evaluation metric is calculated on every iteration. 'metric_period' is ignored for evaluation metric.\n"
     ]
    },
    {
     "name": "stdout",
     "output_type": "stream",
     "text": [
      "50:\tlearn: 0.0016538\ttest: 0.0012683\tbest: 0.0012683 (50)\ttotal: 5.12s\tremaining: 15s\n",
      "100:\tlearn: 0.0006863\ttest: 0.0005304\tbest: 0.0005304 (100)\ttotal: 10.8s\tremaining: 10.6s\n",
      "150:\tlearn: 0.0004633\ttest: 0.0003657\tbest: 0.0003657 (150)\ttotal: 16.4s\tremaining: 5.33s\n",
      "199:\tlearn: 0.0003362\ttest: 0.0002622\tbest: 0.0002622 (199)\ttotal: 21.8s\tremaining: 0us\n",
      "\n",
      "bestTest = 0.0002621691329\n",
      "bestIteration = 199\n",
      "\n",
      "Predicted for 70831 unknown examples\n",
      "Imputed done for cabin_str\n",
      "Imputed done for all dataset, num null left: surname       0\n",
      "forename      0\n",
      "ticket_str    0\n",
      "ticket_num    0\n",
      "cabin_str     0\n",
      "cabin_num     0\n",
      "pclass        0\n",
      "sex           0\n",
      "age           0\n",
      "sibsp         0\n",
      "parch         0\n",
      "fare          0\n",
      "embarked      0\n",
      "dtype: int64\n"
     ]
    }
   ],
   "source": [
    "X_test_clean = cbi_test.fit_transform(X_test_2)"
   ]
  },
  {
   "cell_type": "code",
   "execution_count": 79,
   "metadata": {},
   "outputs": [],
   "source": [
    "X_test_clean.to_parquet('data/clean_X_test.parquet')"
   ]
  },
  {
   "cell_type": "code",
   "execution_count": 80,
   "metadata": {},
   "outputs": [
    {
     "data": {
      "image/png": "[encoded data removed]",
      "text/plain": [
       "<Figure size 432x288 with 1 Axes>"
      ]
     },
     "metadata": {
      "needs_background": "light"
     },
     "output_type": "display_data"
    },
    {
     "data": {
      "image/png": "[encoded data removed]",
      "text/plain": [
       "<Figure size 432x288 with 1 Axes>"
      ]
     },
     "metadata": {
      "needs_background": "light"
     },
     "output_type": "display_data"
    }
   ],
   "source": [
    "X_test_2.ticket_num.hist(bins=50)\n",
    "plt.show()\n",
    "X_test_clean.ticket_num.hist(bins=50)\n",
    "plt.show()"
   ]
  },
  {
   "cell_type": "code",
   "execution_count": 81,
   "metadata": {},
   "outputs": [
    {
     "data": {
      "image/png": "[encoded data removed]",
      "text/plain": [
       "<Figure size 432x288 with 1 Axes>"
      ]
     },
     "metadata": {
      "needs_background": "light"
     },
     "output_type": "display_data"
    },
    {
     "data": {
      "image/png": "[encoded data removed]",
      "text/plain": [
       "<Figure size 432x288 with 1 Axes>"
      ]
     },
     "metadata": {
      "needs_background": "light"
     },
     "output_type": "display_data"
    }
   ],
   "source": [
    "X_test_2.cabin_num.hist(bins=50)\n",
    "plt.show()\n",
    "X_test_clean.cabin_num.hist(bins=50)\n",
    "plt.show()"
   ]
  },
  {
   "cell_type": "code",
   "execution_count": 82,
   "metadata": {},
   "outputs": [
    {
     "data": {
      "image/png": "[encoded data removed]",
      "text/plain": [
       "<Figure size 432x288 with 1 Axes>"
      ]
     },
     "metadata": {
      "needs_background": "light"
     },
     "output_type": "display_data"
    },
    {
     "data": {
      "image/png": "[encoded data removed]",
      "text/plain": [
       "<Figure size 432x288 with 1 Axes>"
      ]
     },
     "metadata": {
      "needs_background": "light"
     },
     "output_type": "display_data"
    }
   ],
   "source": [
    "X_test_2.age.hist(bins=50)\n",
    "plt.show()\n",
    "X_test_clean.age.hist(bins=50)\n",
    "plt.show()"
   ]
  },
  {
   "cell_type": "code",
   "execution_count": 83,
   "metadata": {},
   "outputs": [
    {
     "data": {
      "text/plain": [
       "b    8113\n",
       "a    7212\n",
       "c    6993\n",
       "d    2521\n",
       "f    2323\n",
       "e    1837\n",
       "g     144\n",
       "t      26\n",
       "Name: cabin_str, dtype: int64"
      ]
     },
     "execution_count": 83,
     "metadata": {},
     "output_type": "execute_result"
    }
   ],
   "source": [
    "X_test_2.cabin_str.value_counts()[:20]"
   ]
  },
  {
   "cell_type": "code",
   "execution_count": 84,
   "metadata": {},
   "outputs": [
    {
     "data": {
      "text/plain": [
       "t    70331\n",
       "b     8113\n",
       "a     7212\n",
       "c     6993\n",
       "d     2521\n",
       "f     2323\n",
       "e     1837\n",
       "g      670\n",
       "Name: cabin_str, dtype: int64"
      ]
     },
     "execution_count": 84,
     "metadata": {},
     "output_type": "execute_result"
    }
   ],
   "source": [
    "X_test_clean.cabin_str.value_counts()[:20]"
   ]
  },
  {
   "cell_type": "markdown",
   "metadata": {},
   "source": [
    "## Extent pipeline"
   ]
  },
  {
   "cell_type": "code",
   "execution_count": 85,
   "metadata": {},
   "outputs": [
    {
     "data": {
      "text/html": [
       "<style>#sk-a3671ece-6e73-4fba-a05a-f3126eaf4e08 {color: black;background-color: white;}#sk-a3671ece-6e73-4fba-a05a-f3126eaf4e08 pre{padding: 0;}#sk-a3671ece-6e73-4fba-a05a-f3126eaf4e08 div.sk-toggleable {background-color: white;}#sk-a3671ece-6e73-4fba-a05a-f3126eaf4e08 label.sk-toggleable__label {cursor: pointer;display: block;width: 100%;margin-bottom: 0;padding: 0.3em;box-sizing: border-box;text-align: center;}#sk-a3671ece-6e73-4fba-a05a-f3126eaf4e08 label.sk-toggleable__label-arrow:before {content: \"▸\";float: left;margin-right: 0.25em;color: #696969;}#sk-a3671ece-6e73-4fba-a05a-f3126eaf4e08 label.sk-toggleable__label-arrow:hover:before {color: black;}#sk-a3671ece-6e73-4fba-a05a-f3126eaf4e08 div.sk-estimator:hover label.sk-toggleable__label-arrow:before {color: black;}#sk-a3671ece-6e73-4fba-a05a-f3126eaf4e08 div.sk-toggleable__content {max-height: 0;max-width: 0;overflow: hidden;text-align: left;background-color: #f0f8ff;}#sk-a3671ece-6e73-4fba-a05a-f3126eaf4e08 div.sk-toggleable__content pre {margin: 0.2em;color: black;border-radius: 0.25em;background-color: #f0f8ff;}#sk-a3671ece-6e73-4fba-a05a-f3126eaf4e08 input.sk-toggleable__control:checked~div.sk-toggleable__content {max-height: 200px;max-width: 100%;overflow: auto;}#sk-a3671ece-6e73-4fba-a05a-f3126eaf4e08 input.sk-toggleable__control:checked~label.sk-toggleable__label-arrow:before {content: \"▾\";}#sk-a3671ece-6e73-4fba-a05a-f3126eaf4e08 div.sk-estimator input.sk-toggleable__control:checked~label.sk-toggleable__label {background-color: #d4ebff;}#sk-a3671ece-6e73-4fba-a05a-f3126eaf4e08 div.sk-label input.sk-toggleable__control:checked~label.sk-toggleable__label {background-color: #d4ebff;}#sk-a3671ece-6e73-4fba-a05a-f3126eaf4e08 input.sk-hidden--visually {border: 0;clip: rect(1px 1px 1px 1px);clip: rect(1px, 1px, 1px, 1px);height: 1px;margin: -1px;overflow: hidden;padding: 0;position: absolute;width: 1px;}#sk-a3671ece-6e73-4fba-a05a-f3126eaf4e08 div.sk-estimator {font-family: monospace;background-color: #f0f8ff;border: 1px dotted black;border-radius: 0.25em;box-sizing: border-box;margin-bottom: 0.5em;}#sk-a3671ece-6e73-4fba-a05a-f3126eaf4e08 div.sk-estimator:hover {background-color: #d4ebff;}#sk-a3671ece-6e73-4fba-a05a-f3126eaf4e08 div.sk-parallel-item::after {content: \"\";width: 100%;border-bottom: 1px solid gray;flex-grow: 1;}#sk-a3671ece-6e73-4fba-a05a-f3126eaf4e08 div.sk-label:hover label.sk-toggleable__label {background-color: #d4ebff;}#sk-a3671ece-6e73-4fba-a05a-f3126eaf4e08 div.sk-serial::before {content: \"\";position: absolute;border-left: 1px solid gray;box-sizing: border-box;top: 2em;bottom: 0;left: 50%;}#sk-a3671ece-6e73-4fba-a05a-f3126eaf4e08 div.sk-serial {display: flex;flex-direction: column;align-items: center;background-color: white;padding-right: 0.2em;padding-left: 0.2em;}#sk-a3671ece-6e73-4fba-a05a-f3126eaf4e08 div.sk-item {z-index: 1;}#sk-a3671ece-6e73-4fba-a05a-f3126eaf4e08 div.sk-parallel {display: flex;align-items: stretch;justify-content: center;background-color: white;}#sk-a3671ece-6e73-4fba-a05a-f3126eaf4e08 div.sk-parallel::before {content: \"\";position: absolute;border-left: 1px solid gray;box-sizing: border-box;top: 2em;bottom: 0;left: 50%;}#sk-a3671ece-6e73-4fba-a05a-f3126eaf4e08 div.sk-parallel-item {display: flex;flex-direction: column;position: relative;background-color: white;}#sk-a3671ece-6e73-4fba-a05a-f3126eaf4e08 div.sk-parallel-item:first-child::after {align-self: flex-end;width: 50%;}#sk-a3671ece-6e73-4fba-a05a-f3126eaf4e08 div.sk-parallel-item:last-child::after {align-self: flex-start;width: 50%;}#sk-a3671ece-6e73-4fba-a05a-f3126eaf4e08 div.sk-parallel-item:only-child::after {width: 0;}#sk-a3671ece-6e73-4fba-a05a-f3126eaf4e08 div.sk-dashed-wrapped {border: 1px dashed gray;margin: 0 0.4em 0.5em 0.4em;box-sizing: border-box;padding-bottom: 0.4em;background-color: white;position: relative;}#sk-a3671ece-6e73-4fba-a05a-f3126eaf4e08 div.sk-label label {font-family: monospace;font-weight: bold;background-color: white;display: inline-block;line-height: 1.2em;}#sk-a3671ece-6e73-4fba-a05a-f3126eaf4e08 div.sk-label-container {position: relative;z-index: 2;text-align: center;}#sk-a3671ece-6e73-4fba-a05a-f3126eaf4e08 div.sk-container {/* jupyter's `normalize.less` sets `[hidden] { display: none; }` but bootstrap.min.css set `[hidden] { display: none !important; }` so we also need the `!important` here to be able to override the default hidden behavior on the sphinx rendered scikit-learn.org. See: https://github.com/scikit-learn/scikit-learn/issues/21755 */display: inline-block !important;position: relative;}#sk-a3671ece-6e73-4fba-a05a-f3126eaf4e08 div.sk-text-repr-fallback {display: none;}</style><div id=\"sk-a3671ece-6e73-4fba-a05a-f3126eaf4e08\" class=\"sk-top-container\"><div class=\"sk-text-repr-fallback\"><pre>Pipeline(steps=[(&#x27;raw_data_processor&#x27;,\n",
       "                 featureUnion(transformer_list=[(&#x27;pass_name&#x27;,\n",
       "                                                 PassNameTransformer()),\n",
       "                                                (&#x27;ticket&#x27;, TicketTransformer()),\n",
       "                                                (&#x27;cabin&#x27;, CabinTransformer()),\n",
       "                                                (&#x27;others&#x27;,\n",
       "                                                 ColumnSelectTransformer(columns=[&#x27;pclass&#x27;,\n",
       "                                                                                  &#x27;sex&#x27;,\n",
       "                                                                                  &#x27;age&#x27;,\n",
       "                                                                                  &#x27;sibsp&#x27;,\n",
       "                                                                                  &#x27;parch&#x27;,\n",
       "                                                                                  &#x27;fare&#x27;,\n",
       "                                                                                  &#x27;embarked&#x27;]))])),\n",
       "                (&#x27;lower_text_values&#x27;, LowerTransformer())])</pre><b>Please rerun this cell to show the HTML repr or trust the notebook.</b></div><div class=\"sk-container\" hidden><div class=\"sk-item sk-dashed-wrapped\"><div class=\"sk-label-container\"><div class=\"sk-label sk-toggleable\"><input class=\"sk-toggleable__control sk-hidden--visually\" id=\"c35e346e-7702-47b6-baec-e568ae26ff62\" type=\"checkbox\" ><label for=\"c35e346e-7702-47b6-baec-e568ae26ff62\" class=\"sk-toggleable__label sk-toggleable__label-arrow\">Pipeline</label><div class=\"sk-toggleable__content\"><pre>Pipeline(steps=[(&#x27;raw_data_processor&#x27;,\n",
       "                 featureUnion(transformer_list=[(&#x27;pass_name&#x27;,\n",
       "                                                 PassNameTransformer()),\n",
       "                                                (&#x27;ticket&#x27;, TicketTransformer()),\n",
       "                                                (&#x27;cabin&#x27;, CabinTransformer()),\n",
       "                                                (&#x27;others&#x27;,\n",
       "                                                 ColumnSelectTransformer(columns=[&#x27;pclass&#x27;,\n",
       "                                                                                  &#x27;sex&#x27;,\n",
       "                                                                                  &#x27;age&#x27;,\n",
       "                                                                                  &#x27;sibsp&#x27;,\n",
       "                                                                                  &#x27;parch&#x27;,\n",
       "                                                                                  &#x27;fare&#x27;,\n",
       "                                                                                  &#x27;embarked&#x27;]))])),\n",
       "                (&#x27;lower_text_values&#x27;, LowerTransformer())])</pre></div></div></div><div class=\"sk-serial\"><div class=\"sk-item sk-dashed-wrapped\"><div class=\"sk-label-container\"><div class=\"sk-label sk-toggleable\"><input class=\"sk-toggleable__control sk-hidden--visually\" id=\"8fc8e9bc-1a9c-4128-927e-1c3d8f40cd7b\" type=\"checkbox\" ><label for=\"8fc8e9bc-1a9c-4128-927e-1c3d8f40cd7b\" class=\"sk-toggleable__label sk-toggleable__label-arrow\">raw_data_processor: featureUnion</label><div class=\"sk-toggleable__content\"><pre>featureUnion(transformer_list=[(&#x27;pass_name&#x27;, PassNameTransformer()),\n",
       "                               (&#x27;ticket&#x27;, TicketTransformer()),\n",
       "                               (&#x27;cabin&#x27;, CabinTransformer()),\n",
       "                               (&#x27;others&#x27;,\n",
       "                                ColumnSelectTransformer(columns=[&#x27;pclass&#x27;,\n",
       "                                                                 &#x27;sex&#x27;, &#x27;age&#x27;,\n",
       "                                                                 &#x27;sibsp&#x27;,\n",
       "                                                                 &#x27;parch&#x27;,\n",
       "                                                                 &#x27;fare&#x27;,\n",
       "                                                                 &#x27;embarked&#x27;]))])</pre></div></div></div><div class=\"sk-parallel\"><div class=\"sk-parallel-item\"><div class=\"sk-item\"><div class=\"sk-label-container\"><div class=\"sk-label sk-toggleable\"><label>pass_name</label></div></div><div class=\"sk-serial\"><div class=\"sk-item\"><div class=\"sk-estimator sk-toggleable\"><input class=\"sk-toggleable__control sk-hidden--visually\" id=\"e79eb053-3936-4b28-9db2-bb10c885dc00\" type=\"checkbox\" ><label for=\"e79eb053-3936-4b28-9db2-bb10c885dc00\" class=\"sk-toggleable__label sk-toggleable__label-arrow\">PassNameTransformer</label><div class=\"sk-toggleable__content\"><pre>PassNameTransformer()</pre></div></div></div></div></div></div><div class=\"sk-parallel-item\"><div class=\"sk-item\"><div class=\"sk-label-container\"><div class=\"sk-label sk-toggleable\"><label>ticket</label></div></div><div class=\"sk-serial\"><div class=\"sk-item\"><div class=\"sk-estimator sk-toggleable\"><input class=\"sk-toggleable__control sk-hidden--visually\" id=\"b37ce864-e4e3-4708-946c-46dd1a8cb7d9\" type=\"checkbox\" ><label for=\"b37ce864-e4e3-4708-946c-46dd1a8cb7d9\" class=\"sk-toggleable__label sk-toggleable__label-arrow\">TicketTransformer</label><div class=\"sk-toggleable__content\"><pre>TicketTransformer()</pre></div></div></div></div></div></div><div class=\"sk-parallel-item\"><div class=\"sk-item\"><div class=\"sk-label-container\"><div class=\"sk-label sk-toggleable\"><label>cabin</label></div></div><div class=\"sk-serial\"><div class=\"sk-item\"><div class=\"sk-estimator sk-toggleable\"><input class=\"sk-toggleable__control sk-hidden--visually\" id=\"4485375b-a383-4b80-91ca-dc9a10465496\" type=\"checkbox\" ><label for=\"4485375b-a383-4b80-91ca-dc9a10465496\" class=\"sk-toggleable__label sk-toggleable__label-arrow\">CabinTransformer</label><div class=\"sk-toggleable__content\"><pre>CabinTransformer()</pre></div></div></div></div></div></div><div class=\"sk-parallel-item\"><div class=\"sk-item\"><div class=\"sk-label-container\"><div class=\"sk-label sk-toggleable\"><label>others</label></div></div><div class=\"sk-serial\"><div class=\"sk-item\"><div class=\"sk-estimator sk-toggleable\"><input class=\"sk-toggleable__control sk-hidden--visually\" id=\"f859cd86-c626-4814-8504-f8f7f3864c81\" type=\"checkbox\" ><label for=\"f859cd86-c626-4814-8504-f8f7f3864c81\" class=\"sk-toggleable__label sk-toggleable__label-arrow\">ColumnSelectTransformer</label><div class=\"sk-toggleable__content\"><pre>ColumnSelectTransformer(columns=[&#x27;pclass&#x27;, &#x27;sex&#x27;, &#x27;age&#x27;, &#x27;sibsp&#x27;, &#x27;parch&#x27;,\n",
       "                                 &#x27;fare&#x27;, &#x27;embarked&#x27;])</pre></div></div></div></div></div></div></div></div><div class=\"sk-item\"><div class=\"sk-estimator sk-toggleable\"><input class=\"sk-toggleable__control sk-hidden--visually\" id=\"495c2451-2b87-44b9-a70b-bb3c2f4858dc\" type=\"checkbox\" ><label for=\"495c2451-2b87-44b9-a70b-bb3c2f4858dc\" class=\"sk-toggleable__label sk-toggleable__label-arrow\">LowerTransformer</label><div class=\"sk-toggleable__content\"><pre>LowerTransformer()</pre></div></div></div></div></div></div></div>"
      ],
      "text/plain": [
       "Pipeline(steps=[('raw_data_processor',\n",
       "                 featureUnion(transformer_list=[('pass_name',\n",
       "                                                 PassNameTransformer()),\n",
       "                                                ('ticket', TicketTransformer()),\n",
       "                                                ('cabin', CabinTransformer()),\n",
       "                                                ('others',\n",
       "                                                 ColumnSelectTransformer(columns=['pclass',\n",
       "                                                                                  'sex',\n",
       "                                                                                  'age',\n",
       "                                                                                  'sibsp',\n",
       "                                                                                  'parch',\n",
       "                                                                                  'fare',\n",
       "                                                                                  'embarked']))])),\n",
       "                ('lower_text_values', LowerTransformer())])"
      ]
     },
     "execution_count": 85,
     "metadata": {},
     "output_type": "execute_result"
    }
   ],
   "source": [
    "pl"
   ]
  },
  {
   "cell_type": "code",
   "execution_count": 86,
   "metadata": {},
   "outputs": [],
   "source": [
    "from copy import deepcopy"
   ]
  },
  {
   "cell_type": "code",
   "execution_count": 87,
   "metadata": {},
   "outputs": [],
   "source": [
    "impute_plan2 = deepcopy(impute_plan)\n",
    "wgt = 0\n",
    "impute_plan2['features_plan']['ticket_str']['catboost_kwgs']['class_weights'] = ((df2['ticket_str'].value_counts().max() / df2['ticket_str'].value_counts()) ** wgt).to_dict()\n",
    "impute_plan2['features_plan']['cabin_str']['catboost_kwgs']['class_weights'] = ((df2['cabin_str'].value_counts().max() / df2['cabin_str'].value_counts()) ** wgt).to_dict()"
   ]
  },
  {
   "cell_type": "code",
   "execution_count": 88,
   "metadata": {},
   "outputs": [],
   "source": [
    "pl3 = Pipeline(steps = [\n",
    "    ('aaa', pl), \n",
    "    ('catboost_imputor', CatBoostImputor(impute_plan2,  ['fare', 'embarked', 'age', 'ticket_num', 'ticket_str', 'cabin_num', 'cabin_str']))\n",
    "])"
   ]
  },
  {
   "cell_type": "code",
   "execution_count": 89,
   "metadata": {},
   "outputs": [
    {
     "data": {
      "text/html": [
       "<style>#sk-c0842952-f6f5-4d6e-a8b1-386fcabcefd8 {color: black;background-color: white;}#sk-c0842952-f6f5-4d6e-a8b1-386fcabcefd8 pre{padding: 0;}#sk-c0842952-f6f5-4d6e-a8b1-386fcabcefd8 div.sk-toggleable {background-color: white;}#sk-c0842952-f6f5-4d6e-a8b1-386fcabcefd8 label.sk-toggleable__label {cursor: pointer;display: block;width: 100%;margin-bottom: 0;padding: 0.3em;box-sizing: border-box;text-align: center;}#sk-c0842952-f6f5-4d6e-a8b1-386fcabcefd8 label.sk-toggleable__label-arrow:before {content: \"▸\";float: left;margin-right: 0.25em;color: #696969;}#sk-c0842952-f6f5-4d6e-a8b1-386fcabcefd8 label.sk-toggleable__label-arrow:hover:before {color: black;}#sk-c0842952-f6f5-4d6e-a8b1-386fcabcefd8 div.sk-estimator:hover label.sk-toggleable__label-arrow:before {color: black;}#sk-c0842952-f6f5-4d6e-a8b1-386fcabcefd8 div.sk-toggleable__content {max-height: 0;max-width: 0;overflow: hidden;text-align: left;background-color: #f0f8ff;}#sk-c0842952-f6f5-4d6e-a8b1-386fcabcefd8 div.sk-toggleable__content pre {margin: 0.2em;color: black;border-radius: 0.25em;background-color: #f0f8ff;}#sk-c0842952-f6f5-4d6e-a8b1-386fcabcefd8 input.sk-toggleable__control:checked~div.sk-toggleable__content {max-height: 200px;max-width: 100%;overflow: auto;}#sk-c0842952-f6f5-4d6e-a8b1-386fcabcefd8 input.sk-toggleable__control:checked~label.sk-toggleable__label-arrow:before {content: \"▾\";}#sk-c0842952-f6f5-4d6e-a8b1-386fcabcefd8 div.sk-estimator input.sk-toggleable__control:checked~label.sk-toggleable__label {background-color: #d4ebff;}#sk-c0842952-f6f5-4d6e-a8b1-386fcabcefd8 div.sk-label input.sk-toggleable__control:checked~label.sk-toggleable__label {background-color: #d4ebff;}#sk-c0842952-f6f5-4d6e-a8b1-386fcabcefd8 input.sk-hidden--visually {border: 0;clip: rect(1px 1px 1px 1px);clip: rect(1px, 1px, 1px, 1px);height: 1px;margin: -1px;overflow: hidden;padding: 0;position: absolute;width: 1px;}#sk-c0842952-f6f5-4d6e-a8b1-386fcabcefd8 div.sk-estimator {font-family: monospace;background-color: #f0f8ff;border: 1px dotted black;border-radius: 0.25em;box-sizing: border-box;margin-bottom: 0.5em;}#sk-c0842952-f6f5-4d6e-a8b1-386fcabcefd8 div.sk-estimator:hover {background-color: #d4ebff;}#sk-c0842952-f6f5-4d6e-a8b1-386fcabcefd8 div.sk-parallel-item::after {content: \"\";width: 100%;border-bottom: 1px solid gray;flex-grow: 1;}#sk-c0842952-f6f5-4d6e-a8b1-386fcabcefd8 div.sk-label:hover label.sk-toggleable__label {background-color: #d4ebff;}#sk-c0842952-f6f5-4d6e-a8b1-386fcabcefd8 div.sk-serial::before {content: \"\";position: absolute;border-left: 1px solid gray;box-sizing: border-box;top: 2em;bottom: 0;left: 50%;}#sk-c0842952-f6f5-4d6e-a8b1-386fcabcefd8 div.sk-serial {display: flex;flex-direction: column;align-items: center;background-color: white;padding-right: 0.2em;padding-left: 0.2em;}#sk-c0842952-f6f5-4d6e-a8b1-386fcabcefd8 div.sk-item {z-index: 1;}#sk-c0842952-f6f5-4d6e-a8b1-386fcabcefd8 div.sk-parallel {display: flex;align-items: stretch;justify-content: center;background-color: white;}#sk-c0842952-f6f5-4d6e-a8b1-386fcabcefd8 div.sk-parallel::before {content: \"\";position: absolute;border-left: 1px solid gray;box-sizing: border-box;top: 2em;bottom: 0;left: 50%;}#sk-c0842952-f6f5-4d6e-a8b1-386fcabcefd8 div.sk-parallel-item {display: flex;flex-direction: column;position: relative;background-color: white;}#sk-c0842952-f6f5-4d6e-a8b1-386fcabcefd8 div.sk-parallel-item:first-child::after {align-self: flex-end;width: 50%;}#sk-c0842952-f6f5-4d6e-a8b1-386fcabcefd8 div.sk-parallel-item:last-child::after {align-self: flex-start;width: 50%;}#sk-c0842952-f6f5-4d6e-a8b1-386fcabcefd8 div.sk-parallel-item:only-child::after {width: 0;}#sk-c0842952-f6f5-4d6e-a8b1-386fcabcefd8 div.sk-dashed-wrapped {border: 1px dashed gray;margin: 0 0.4em 0.5em 0.4em;box-sizing: border-box;padding-bottom: 0.4em;background-color: white;position: relative;}#sk-c0842952-f6f5-4d6e-a8b1-386fcabcefd8 div.sk-label label {font-family: monospace;font-weight: bold;background-color: white;display: inline-block;line-height: 1.2em;}#sk-c0842952-f6f5-4d6e-a8b1-386fcabcefd8 div.sk-label-container {position: relative;z-index: 2;text-align: center;}#sk-c0842952-f6f5-4d6e-a8b1-386fcabcefd8 div.sk-container {/* jupyter's `normalize.less` sets `[hidden] { display: none; }` but bootstrap.min.css set `[hidden] { display: none !important; }` so we also need the `!important` here to be able to override the default hidden behavior on the sphinx rendered scikit-learn.org. See: https://github.com/scikit-learn/scikit-learn/issues/21755 */display: inline-block !important;position: relative;}#sk-c0842952-f6f5-4d6e-a8b1-386fcabcefd8 div.sk-text-repr-fallback {display: none;}</style><div id=\"sk-c0842952-f6f5-4d6e-a8b1-386fcabcefd8\" class=\"sk-top-container\"><div class=\"sk-text-repr-fallback\"><pre>Pipeline(steps=[(&#x27;aaa&#x27;,\n",
       "                 Pipeline(steps=[(&#x27;raw_data_processor&#x27;,\n",
       "                                  featureUnion(transformer_list=[(&#x27;pass_name&#x27;,\n",
       "                                                                  PassNameTransformer()),\n",
       "                                                                 (&#x27;ticket&#x27;,\n",
       "                                                                  TicketTransformer()),\n",
       "                                                                 (&#x27;cabin&#x27;,\n",
       "                                                                  CabinTransformer()),\n",
       "                                                                 (&#x27;others&#x27;,\n",
       "                                                                  ColumnSelectTransformer(columns=[&#x27;pclass&#x27;,\n",
       "                                                                                                   &#x27;sex&#x27;,\n",
       "                                                                                                   &#x27;age&#x27;,\n",
       "                                                                                                   &#x27;sibsp&#x27;,\n",
       "                                                                                                   &#x27;parch&#x27;,\n",
       "                                                                                                   &#x27;fare&#x27;,\n",
       "                                                                                                   &#x27;embarked&#x27;]))])),\n",
       "                                 (&#x27;lower_text_values&#x27;, LowerTransformer())])),\n",
       "                (&#x27;catboost_imp...\n",
       "                                                        &#x27;cabin_num&#x27;: &lt;function fill_mean at 0x7f84cdd9a550&gt;,\n",
       "                                                        &#x27;cabin_str&#x27;: &lt;function fill_unk at 0x7f84ce895dc0&gt;,\n",
       "                                                        &#x27;embarked&#x27;: &lt;function fill_popular at 0x7f84cdd9a670&gt;,\n",
       "                                                        &#x27;fare&#x27;: &lt;function fill_mean at 0x7f84cdd9a550&gt;,\n",
       "                                                        &#x27;ticket_num&#x27;: &lt;function fill_mean at 0x7f84cdd9a550&gt;,\n",
       "                                                        &#x27;ticket_str&#x27;: &lt;function fill_unk at 0x7f84ce895dc0&gt;}},\n",
       "                                 predictors_order=[&#x27;fare&#x27;, &#x27;embarked&#x27;, &#x27;age&#x27;,\n",
       "                                                   &#x27;ticket_num&#x27;, &#x27;ticket_str&#x27;,\n",
       "                                                   &#x27;cabin_num&#x27;,\n",
       "                                                   &#x27;cabin_str&#x27;]))])</pre><b>Please rerun this cell to show the HTML repr or trust the notebook.</b></div><div class=\"sk-container\" hidden><div class=\"sk-item sk-dashed-wrapped\"><div class=\"sk-label-container\"><div class=\"sk-label sk-toggleable\"><input class=\"sk-toggleable__control sk-hidden--visually\" id=\"9842196a-1e67-4fc0-8e2f-706932aa08a2\" type=\"checkbox\" ><label for=\"9842196a-1e67-4fc0-8e2f-706932aa08a2\" class=\"sk-toggleable__label sk-toggleable__label-arrow\">Pipeline</label><div class=\"sk-toggleable__content\"><pre>Pipeline(steps=[(&#x27;aaa&#x27;,\n",
       "                 Pipeline(steps=[(&#x27;raw_data_processor&#x27;,\n",
       "                                  featureUnion(transformer_list=[(&#x27;pass_name&#x27;,\n",
       "                                                                  PassNameTransformer()),\n",
       "                                                                 (&#x27;ticket&#x27;,\n",
       "                                                                  TicketTransformer()),\n",
       "                                                                 (&#x27;cabin&#x27;,\n",
       "                                                                  CabinTransformer()),\n",
       "                                                                 (&#x27;others&#x27;,\n",
       "                                                                  ColumnSelectTransformer(columns=[&#x27;pclass&#x27;,\n",
       "                                                                                                   &#x27;sex&#x27;,\n",
       "                                                                                                   &#x27;age&#x27;,\n",
       "                                                                                                   &#x27;sibsp&#x27;,\n",
       "                                                                                                   &#x27;parch&#x27;,\n",
       "                                                                                                   &#x27;fare&#x27;,\n",
       "                                                                                                   &#x27;embarked&#x27;]))])),\n",
       "                                 (&#x27;lower_text_values&#x27;, LowerTransformer())])),\n",
       "                (&#x27;catboost_imp...\n",
       "                                                        &#x27;cabin_num&#x27;: &lt;function fill_mean at 0x7f84cdd9a550&gt;,\n",
       "                                                        &#x27;cabin_str&#x27;: &lt;function fill_unk at 0x7f84ce895dc0&gt;,\n",
       "                                                        &#x27;embarked&#x27;: &lt;function fill_popular at 0x7f84cdd9a670&gt;,\n",
       "                                                        &#x27;fare&#x27;: &lt;function fill_mean at 0x7f84cdd9a550&gt;,\n",
       "                                                        &#x27;ticket_num&#x27;: &lt;function fill_mean at 0x7f84cdd9a550&gt;,\n",
       "                                                        &#x27;ticket_str&#x27;: &lt;function fill_unk at 0x7f84ce895dc0&gt;}},\n",
       "                                 predictors_order=[&#x27;fare&#x27;, &#x27;embarked&#x27;, &#x27;age&#x27;,\n",
       "                                                   &#x27;ticket_num&#x27;, &#x27;ticket_str&#x27;,\n",
       "                                                   &#x27;cabin_num&#x27;,\n",
       "                                                   &#x27;cabin_str&#x27;]))])</pre></div></div></div><div class=\"sk-serial\"><div class=\"sk-item\"><div class=\"sk-label-container\"><div class=\"sk-label sk-toggleable\"><input class=\"sk-toggleable__control sk-hidden--visually\" id=\"7660add5-98c1-43dd-a3fc-01e61660c9fd\" type=\"checkbox\" ><label for=\"7660add5-98c1-43dd-a3fc-01e61660c9fd\" class=\"sk-toggleable__label sk-toggleable__label-arrow\">aaa: Pipeline</label><div class=\"sk-toggleable__content\"><pre>Pipeline(steps=[(&#x27;raw_data_processor&#x27;,\n",
       "                 featureUnion(transformer_list=[(&#x27;pass_name&#x27;,\n",
       "                                                 PassNameTransformer()),\n",
       "                                                (&#x27;ticket&#x27;, TicketTransformer()),\n",
       "                                                (&#x27;cabin&#x27;, CabinTransformer()),\n",
       "                                                (&#x27;others&#x27;,\n",
       "                                                 ColumnSelectTransformer(columns=[&#x27;pclass&#x27;,\n",
       "                                                                                  &#x27;sex&#x27;,\n",
       "                                                                                  &#x27;age&#x27;,\n",
       "                                                                                  &#x27;sibsp&#x27;,\n",
       "                                                                                  &#x27;parch&#x27;,\n",
       "                                                                                  &#x27;fare&#x27;,\n",
       "                                                                                  &#x27;embarked&#x27;]))])),\n",
       "                (&#x27;lower_text_values&#x27;, LowerTransformer())])</pre></div></div></div><div class=\"sk-serial\"><div class=\"sk-item sk-dashed-wrapped\"><div class=\"sk-label-container\"><div class=\"sk-label sk-toggleable\"><input class=\"sk-toggleable__control sk-hidden--visually\" id=\"655d9d3f-dafb-47ab-ab0d-205ae7493d56\" type=\"checkbox\" ><label for=\"655d9d3f-dafb-47ab-ab0d-205ae7493d56\" class=\"sk-toggleable__label sk-toggleable__label-arrow\">raw_data_processor: featureUnion</label><div class=\"sk-toggleable__content\"><pre>featureUnion(transformer_list=[(&#x27;pass_name&#x27;, PassNameTransformer()),\n",
       "                               (&#x27;ticket&#x27;, TicketTransformer()),\n",
       "                               (&#x27;cabin&#x27;, CabinTransformer()),\n",
       "                               (&#x27;others&#x27;,\n",
       "                                ColumnSelectTransformer(columns=[&#x27;pclass&#x27;,\n",
       "                                                                 &#x27;sex&#x27;, &#x27;age&#x27;,\n",
       "                                                                 &#x27;sibsp&#x27;,\n",
       "                                                                 &#x27;parch&#x27;,\n",
       "                                                                 &#x27;fare&#x27;,\n",
       "                                                                 &#x27;embarked&#x27;]))])</pre></div></div></div><div class=\"sk-parallel\"><div class=\"sk-parallel-item\"><div class=\"sk-item\"><div class=\"sk-label-container\"><div class=\"sk-label sk-toggleable\"><label>pass_name</label></div></div><div class=\"sk-serial\"><div class=\"sk-item\"><div class=\"sk-estimator sk-toggleable\"><input class=\"sk-toggleable__control sk-hidden--visually\" id=\"4310cfd8-0056-4e09-b9b8-5d67cd8d8a1f\" type=\"checkbox\" ><label for=\"4310cfd8-0056-4e09-b9b8-5d67cd8d8a1f\" class=\"sk-toggleable__label sk-toggleable__label-arrow\">PassNameTransformer</label><div class=\"sk-toggleable__content\"><pre>PassNameTransformer()</pre></div></div></div></div></div></div><div class=\"sk-parallel-item\"><div class=\"sk-item\"><div class=\"sk-label-container\"><div class=\"sk-label sk-toggleable\"><label>ticket</label></div></div><div class=\"sk-serial\"><div class=\"sk-item\"><div class=\"sk-estimator sk-toggleable\"><input class=\"sk-toggleable__control sk-hidden--visually\" id=\"621ac00f-88df-4d40-bb54-ec97ca15714e\" type=\"checkbox\" ><label for=\"621ac00f-88df-4d40-bb54-ec97ca15714e\" class=\"sk-toggleable__label sk-toggleable__label-arrow\">TicketTransformer</label><div class=\"sk-toggleable__content\"><pre>TicketTransformer()</pre></div></div></div></div></div></div><div class=\"sk-parallel-item\"><div class=\"sk-item\"><div class=\"sk-label-container\"><div class=\"sk-label sk-toggleable\"><label>cabin</label></div></div><div class=\"sk-serial\"><div class=\"sk-item\"><div class=\"sk-estimator sk-toggleable\"><input class=\"sk-toggleable__control sk-hidden--visually\" id=\"c62d1ddf-f524-4e8e-8a5f-44e98a77055f\" type=\"checkbox\" ><label for=\"c62d1ddf-f524-4e8e-8a5f-44e98a77055f\" class=\"sk-toggleable__label sk-toggleable__label-arrow\">CabinTransformer</label><div class=\"sk-toggleable__content\"><pre>CabinTransformer()</pre></div></div></div></div></div></div><div class=\"sk-parallel-item\"><div class=\"sk-item\"><div class=\"sk-label-container\"><div class=\"sk-label sk-toggleable\"><label>others</label></div></div><div class=\"sk-serial\"><div class=\"sk-item\"><div class=\"sk-estimator sk-toggleable\"><input class=\"sk-toggleable__control sk-hidden--visually\" id=\"a9c9cc83-79ee-4b50-b862-3dd5f97c6346\" type=\"checkbox\" ><label for=\"a9c9cc83-79ee-4b50-b862-3dd5f97c6346\" class=\"sk-toggleable__label sk-toggleable__label-arrow\">ColumnSelectTransformer</label><div class=\"sk-toggleable__content\"><pre>ColumnSelectTransformer(columns=[&#x27;pclass&#x27;, &#x27;sex&#x27;, &#x27;age&#x27;, &#x27;sibsp&#x27;, &#x27;parch&#x27;,\n",
       "                                 &#x27;fare&#x27;, &#x27;embarked&#x27;])</pre></div></div></div></div></div></div></div></div><div class=\"sk-item\"><div class=\"sk-estimator sk-toggleable\"><input class=\"sk-toggleable__control sk-hidden--visually\" id=\"041e4990-d593-4958-96a8-9865f6a64d99\" type=\"checkbox\" ><label for=\"041e4990-d593-4958-96a8-9865f6a64d99\" class=\"sk-toggleable__label sk-toggleable__label-arrow\">LowerTransformer</label><div class=\"sk-toggleable__content\"><pre>LowerTransformer()</pre></div></div></div></div></div><div class=\"sk-item\"><div class=\"sk-estimator sk-toggleable\"><input class=\"sk-toggleable__control sk-hidden--visually\" id=\"f259b35c-ba71-4088-8bf7-7182780a726e\" type=\"checkbox\" ><label for=\"f259b35c-ba71-4088-8bf7-7182780a726e\" class=\"sk-toggleable__label sk-toggleable__label-arrow\">CatBoostImputor</label><div class=\"sk-toggleable__content\"><pre>CatBoostImputor(impute_plan={&#x27;cat_features&#x27;: [&#x27;surname&#x27;, &#x27;forename&#x27;,\n",
       "                                              &#x27;ticket_str&#x27;, &#x27;cabin_str&#x27;, &#x27;sex&#x27;,\n",
       "                                              &#x27;embarked&#x27;],\n",
       "                             &#x27;eval_frac&#x27;: 0.1,\n",
       "                             &#x27;features_plan&#x27;: {&#x27;age&#x27;: {&#x27;catboost_kwgs&#x27;: {&#x27;iterations&#x27;: 200},\n",
       "                                                       &#x27;model&#x27;: &lt;class &#x27;catboost.core.CatBoostRegressor&#x27;&gt;,\n",
       "                                                       &#x27;predictors&#x27;: [&#x27;surname&#x27;,\n",
       "                                                                      &#x27;forename&#x27;,\n",
       "                                                                      &#x27;ticket_str&#x27;,\n",
       "                                                                      &#x27;ticket_num&#x27;,\n",
       "                                                                      &#x27;cabin_str&#x27;,\n",
       "                                                                      &#x27;cabin_num&#x27;,\n",
       "                                                                      &#x27;pclass&#x27;,\n",
       "                                                                      &#x27;sex&#x27;,\n",
       "                                                                      &#x27;sibsp&#x27;,\n",
       "                                                                      &#x27;parch&#x27;,\n",
       "                                                                      &#x27;...\n",
       "                                       &#x27;cabin_num&#x27;: &lt;function fill_mean at 0x7f84cdd9a550&gt;,\n",
       "                                       &#x27;cabin_str&#x27;: &lt;function fill_unk at 0x7f84ce895dc0&gt;,\n",
       "                                       &#x27;embarked&#x27;: &lt;function fill_popular at 0x7f84cdd9a670&gt;,\n",
       "                                       &#x27;fare&#x27;: &lt;function fill_mean at 0x7f84cdd9a550&gt;,\n",
       "                                       &#x27;ticket_num&#x27;: &lt;function fill_mean at 0x7f84cdd9a550&gt;,\n",
       "                                       &#x27;ticket_str&#x27;: &lt;function fill_unk at 0x7f84ce895dc0&gt;}},\n",
       "                predictors_order=[&#x27;fare&#x27;, &#x27;embarked&#x27;, &#x27;age&#x27;, &#x27;ticket_num&#x27;,\n",
       "                                  &#x27;ticket_str&#x27;, &#x27;cabin_num&#x27;, &#x27;cabin_str&#x27;])</pre></div></div></div></div></div></div></div>"
      ],
      "text/plain": [
       "Pipeline(steps=[('aaa',\n",
       "                 Pipeline(steps=[('raw_data_processor',\n",
       "                                  featureUnion(transformer_list=[('pass_name',\n",
       "                                                                  PassNameTransformer()),\n",
       "                                                                 ('ticket',\n",
       "                                                                  TicketTransformer()),\n",
       "                                                                 ('cabin',\n",
       "                                                                  CabinTransformer()),\n",
       "                                                                 ('others',\n",
       "                                                                  ColumnSelectTransformer(columns=['pclass',\n",
       "                                                                                                   'sex',\n",
       "                                                                                                   'age',\n",
       "                                                                                                   'sibsp',\n",
       "                                                                                                   'parch',\n",
       "                                                                                                   'fare',\n",
       "                                                                                                   'embarked']))])),\n",
       "                                 ('lower_text_values', LowerTransformer())])),\n",
       "                ('catboost_imp...\n",
       "                                                        'cabin_num': <function fill_mean at 0x7f84cdd9a550>,\n",
       "                                                        'cabin_str': <function fill_unk at 0x7f84ce895dc0>,\n",
       "                                                        'embarked': <function fill_popular at 0x7f84cdd9a670>,\n",
       "                                                        'fare': <function fill_mean at 0x7f84cdd9a550>,\n",
       "                                                        'ticket_num': <function fill_mean at 0x7f84cdd9a550>,\n",
       "                                                        'ticket_str': <function fill_unk at 0x7f84ce895dc0>}},\n",
       "                                 predictors_order=['fare', 'embarked', 'age',\n",
       "                                                   'ticket_num', 'ticket_str',\n",
       "                                                   'cabin_num',\n",
       "                                                   'cabin_str']))])"
      ]
     },
     "execution_count": 89,
     "metadata": {},
     "output_type": "execute_result"
    }
   ],
   "source": [
    "pl3"
   ]
  },
  {
   "cell_type": "code",
   "execution_count": 90,
   "metadata": {},
   "outputs": [],
   "source": [
    "pl2 = Pipeline(steps=[\n",
    "    ('raw_data_processor', col_processor),\n",
    "    ('lower_text_values', LowerTransformer()),\n",
    "    ('catboost_imputor', CatBoostImputor(impute_plan2,  ['fare', 'embarked', 'age', 'ticket_num', 'ticket_str', 'cabin_num', 'cabin_str']))\n",
    "])"
   ]
  },
  {
   "cell_type": "code",
   "execution_count": 91,
   "metadata": {},
   "outputs": [
    {
     "data": {
      "text/html": [
       "<style>#sk-9bacd87f-22f8-46c9-81a5-5f5cbb81fa48 {color: black;background-color: white;}#sk-9bacd87f-22f8-46c9-81a5-5f5cbb81fa48 pre{padding: 0;}#sk-9bacd87f-22f8-46c9-81a5-5f5cbb81fa48 div.sk-toggleable {background-color: white;}#sk-9bacd87f-22f8-46c9-81a5-5f5cbb81fa48 label.sk-toggleable__label {cursor: pointer;display: block;width: 100%;margin-bottom: 0;padding: 0.3em;box-sizing: border-box;text-align: center;}#sk-9bacd87f-22f8-46c9-81a5-5f5cbb81fa48 label.sk-toggleable__label-arrow:before {content: \"▸\";float: left;margin-right: 0.25em;color: #696969;}#sk-9bacd87f-22f8-46c9-81a5-5f5cbb81fa48 label.sk-toggleable__label-arrow:hover:before {color: black;}#sk-9bacd87f-22f8-46c9-81a5-5f5cbb81fa48 div.sk-estimator:hover label.sk-toggleable__label-arrow:before {color: black;}#sk-9bacd87f-22f8-46c9-81a5-5f5cbb81fa48 div.sk-toggleable__content {max-height: 0;max-width: 0;overflow: hidden;text-align: left;background-color: #f0f8ff;}#sk-9bacd87f-22f8-46c9-81a5-5f5cbb81fa48 div.sk-toggleable__content pre {margin: 0.2em;color: black;border-radius: 0.25em;background-color: #f0f8ff;}#sk-9bacd87f-22f8-46c9-81a5-5f5cbb81fa48 input.sk-toggleable__control:checked~div.sk-toggleable__content {max-height: 200px;max-width: 100%;overflow: auto;}#sk-9bacd87f-22f8-46c9-81a5-5f5cbb81fa48 input.sk-toggleable__control:checked~label.sk-toggleable__label-arrow:before {content: \"▾\";}#sk-9bacd87f-22f8-46c9-81a5-5f5cbb81fa48 div.sk-estimator input.sk-toggleable__control:checked~label.sk-toggleable__label {background-color: #d4ebff;}#sk-9bacd87f-22f8-46c9-81a5-5f5cbb81fa48 div.sk-label input.sk-toggleable__control:checked~label.sk-toggleable__label {background-color: #d4ebff;}#sk-9bacd87f-22f8-46c9-81a5-5f5cbb81fa48 input.sk-hidden--visually {border: 0;clip: rect(1px 1px 1px 1px);clip: rect(1px, 1px, 1px, 1px);height: 1px;margin: -1px;overflow: hidden;padding: 0;position: absolute;width: 1px;}#sk-9bacd87f-22f8-46c9-81a5-5f5cbb81fa48 div.sk-estimator {font-family: monospace;background-color: #f0f8ff;border: 1px dotted black;border-radius: 0.25em;box-sizing: border-box;margin-bottom: 0.5em;}#sk-9bacd87f-22f8-46c9-81a5-5f5cbb81fa48 div.sk-estimator:hover {background-color: #d4ebff;}#sk-9bacd87f-22f8-46c9-81a5-5f5cbb81fa48 div.sk-parallel-item::after {content: \"\";width: 100%;border-bottom: 1px solid gray;flex-grow: 1;}#sk-9bacd87f-22f8-46c9-81a5-5f5cbb81fa48 div.sk-label:hover label.sk-toggleable__label {background-color: #d4ebff;}#sk-9bacd87f-22f8-46c9-81a5-5f5cbb81fa48 div.sk-serial::before {content: \"\";position: absolute;border-left: 1px solid gray;box-sizing: border-box;top: 2em;bottom: 0;left: 50%;}#sk-9bacd87f-22f8-46c9-81a5-5f5cbb81fa48 div.sk-serial {display: flex;flex-direction: column;align-items: center;background-color: white;padding-right: 0.2em;padding-left: 0.2em;}#sk-9bacd87f-22f8-46c9-81a5-5f5cbb81fa48 div.sk-item {z-index: 1;}#sk-9bacd87f-22f8-46c9-81a5-5f5cbb81fa48 div.sk-parallel {display: flex;align-items: stretch;justify-content: center;background-color: white;}#sk-9bacd87f-22f8-46c9-81a5-5f5cbb81fa48 div.sk-parallel::before {content: \"\";position: absolute;border-left: 1px solid gray;box-sizing: border-box;top: 2em;bottom: 0;left: 50%;}#sk-9bacd87f-22f8-46c9-81a5-5f5cbb81fa48 div.sk-parallel-item {display: flex;flex-direction: column;position: relative;background-color: white;}#sk-9bacd87f-22f8-46c9-81a5-5f5cbb81fa48 div.sk-parallel-item:first-child::after {align-self: flex-end;width: 50%;}#sk-9bacd87f-22f8-46c9-81a5-5f5cbb81fa48 div.sk-parallel-item:last-child::after {align-self: flex-start;width: 50%;}#sk-9bacd87f-22f8-46c9-81a5-5f5cbb81fa48 div.sk-parallel-item:only-child::after {width: 0;}#sk-9bacd87f-22f8-46c9-81a5-5f5cbb81fa48 div.sk-dashed-wrapped {border: 1px dashed gray;margin: 0 0.4em 0.5em 0.4em;box-sizing: border-box;padding-bottom: 0.4em;background-color: white;position: relative;}#sk-9bacd87f-22f8-46c9-81a5-5f5cbb81fa48 div.sk-label label {font-family: monospace;font-weight: bold;background-color: white;display: inline-block;line-height: 1.2em;}#sk-9bacd87f-22f8-46c9-81a5-5f5cbb81fa48 div.sk-label-container {position: relative;z-index: 2;text-align: center;}#sk-9bacd87f-22f8-46c9-81a5-5f5cbb81fa48 div.sk-container {/* jupyter's `normalize.less` sets `[hidden] { display: none; }` but bootstrap.min.css set `[hidden] { display: none !important; }` so we also need the `!important` here to be able to override the default hidden behavior on the sphinx rendered scikit-learn.org. See: https://github.com/scikit-learn/scikit-learn/issues/21755 */display: inline-block !important;position: relative;}#sk-9bacd87f-22f8-46c9-81a5-5f5cbb81fa48 div.sk-text-repr-fallback {display: none;}</style><div id=\"sk-9bacd87f-22f8-46c9-81a5-5f5cbb81fa48\" class=\"sk-top-container\"><div class=\"sk-text-repr-fallback\"><pre>Pipeline(steps=[(&#x27;raw_data_processor&#x27;,\n",
       "                 featureUnion(transformer_list=[(&#x27;pass_name&#x27;,\n",
       "                                                 PassNameTransformer()),\n",
       "                                                (&#x27;ticket&#x27;, TicketTransformer()),\n",
       "                                                (&#x27;cabin&#x27;, CabinTransformer()),\n",
       "                                                (&#x27;others&#x27;,\n",
       "                                                 ColumnSelectTransformer(columns=[&#x27;pclass&#x27;,\n",
       "                                                                                  &#x27;sex&#x27;,\n",
       "                                                                                  &#x27;age&#x27;,\n",
       "                                                                                  &#x27;sibsp&#x27;,\n",
       "                                                                                  &#x27;parch&#x27;,\n",
       "                                                                                  &#x27;fare&#x27;,\n",
       "                                                                                  &#x27;embarked&#x27;]))])),\n",
       "                (&#x27;lower_text_values&#x27;, LowerTransformer()),\n",
       "                (&#x27;catboost_imputor&#x27;,\n",
       "                 CatBoostImputor(impu...\n",
       "                                                        &#x27;cabin_num&#x27;: &lt;function fill_mean at 0x7f84cdd9a550&gt;,\n",
       "                                                        &#x27;cabin_str&#x27;: &lt;function fill_unk at 0x7f84ce895dc0&gt;,\n",
       "                                                        &#x27;embarked&#x27;: &lt;function fill_popular at 0x7f84cdd9a670&gt;,\n",
       "                                                        &#x27;fare&#x27;: &lt;function fill_mean at 0x7f84cdd9a550&gt;,\n",
       "                                                        &#x27;ticket_num&#x27;: &lt;function fill_mean at 0x7f84cdd9a550&gt;,\n",
       "                                                        &#x27;ticket_str&#x27;: &lt;function fill_unk at 0x7f84ce895dc0&gt;}},\n",
       "                                 predictors_order=[&#x27;fare&#x27;, &#x27;embarked&#x27;, &#x27;age&#x27;,\n",
       "                                                   &#x27;ticket_num&#x27;, &#x27;ticket_str&#x27;,\n",
       "                                                   &#x27;cabin_num&#x27;,\n",
       "                                                   &#x27;cabin_str&#x27;]))])</pre><b>Please rerun this cell to show the HTML repr or trust the notebook.</b></div><div class=\"sk-container\" hidden><div class=\"sk-item sk-dashed-wrapped\"><div class=\"sk-label-container\"><div class=\"sk-label sk-toggleable\"><input class=\"sk-toggleable__control sk-hidden--visually\" id=\"73073e5b-ee63-462f-8662-42c1878e4aaa\" type=\"checkbox\" ><label for=\"73073e5b-ee63-462f-8662-42c1878e4aaa\" class=\"sk-toggleable__label sk-toggleable__label-arrow\">Pipeline</label><div class=\"sk-toggleable__content\"><pre>Pipeline(steps=[(&#x27;raw_data_processor&#x27;,\n",
       "                 featureUnion(transformer_list=[(&#x27;pass_name&#x27;,\n",
       "                                                 PassNameTransformer()),\n",
       "                                                (&#x27;ticket&#x27;, TicketTransformer()),\n",
       "                                                (&#x27;cabin&#x27;, CabinTransformer()),\n",
       "                                                (&#x27;others&#x27;,\n",
       "                                                 ColumnSelectTransformer(columns=[&#x27;pclass&#x27;,\n",
       "                                                                                  &#x27;sex&#x27;,\n",
       "                                                                                  &#x27;age&#x27;,\n",
       "                                                                                  &#x27;sibsp&#x27;,\n",
       "                                                                                  &#x27;parch&#x27;,\n",
       "                                                                                  &#x27;fare&#x27;,\n",
       "                                                                                  &#x27;embarked&#x27;]))])),\n",
       "                (&#x27;lower_text_values&#x27;, LowerTransformer()),\n",
       "                (&#x27;catboost_imputor&#x27;,\n",
       "                 CatBoostImputor(impu...\n",
       "                                                        &#x27;cabin_num&#x27;: &lt;function fill_mean at 0x7f84cdd9a550&gt;,\n",
       "                                                        &#x27;cabin_str&#x27;: &lt;function fill_unk at 0x7f84ce895dc0&gt;,\n",
       "                                                        &#x27;embarked&#x27;: &lt;function fill_popular at 0x7f84cdd9a670&gt;,\n",
       "                                                        &#x27;fare&#x27;: &lt;function fill_mean at 0x7f84cdd9a550&gt;,\n",
       "                                                        &#x27;ticket_num&#x27;: &lt;function fill_mean at 0x7f84cdd9a550&gt;,\n",
       "                                                        &#x27;ticket_str&#x27;: &lt;function fill_unk at 0x7f84ce895dc0&gt;}},\n",
       "                                 predictors_order=[&#x27;fare&#x27;, &#x27;embarked&#x27;, &#x27;age&#x27;,\n",
       "                                                   &#x27;ticket_num&#x27;, &#x27;ticket_str&#x27;,\n",
       "                                                   &#x27;cabin_num&#x27;,\n",
       "                                                   &#x27;cabin_str&#x27;]))])</pre></div></div></div><div class=\"sk-serial\"><div class=\"sk-item sk-dashed-wrapped\"><div class=\"sk-label-container\"><div class=\"sk-label sk-toggleable\"><input class=\"sk-toggleable__control sk-hidden--visually\" id=\"508c3e9f-cd46-478b-957e-a98f242cc4f2\" type=\"checkbox\" ><label for=\"508c3e9f-cd46-478b-957e-a98f242cc4f2\" class=\"sk-toggleable__label sk-toggleable__label-arrow\">raw_data_processor: featureUnion</label><div class=\"sk-toggleable__content\"><pre>featureUnion(transformer_list=[(&#x27;pass_name&#x27;, PassNameTransformer()),\n",
       "                               (&#x27;ticket&#x27;, TicketTransformer()),\n",
       "                               (&#x27;cabin&#x27;, CabinTransformer()),\n",
       "                               (&#x27;others&#x27;,\n",
       "                                ColumnSelectTransformer(columns=[&#x27;pclass&#x27;,\n",
       "                                                                 &#x27;sex&#x27;, &#x27;age&#x27;,\n",
       "                                                                 &#x27;sibsp&#x27;,\n",
       "                                                                 &#x27;parch&#x27;,\n",
       "                                                                 &#x27;fare&#x27;,\n",
       "                                                                 &#x27;embarked&#x27;]))])</pre></div></div></div><div class=\"sk-parallel\"><div class=\"sk-parallel-item\"><div class=\"sk-item\"><div class=\"sk-label-container\"><div class=\"sk-label sk-toggleable\"><label>pass_name</label></div></div><div class=\"sk-serial\"><div class=\"sk-item\"><div class=\"sk-estimator sk-toggleable\"><input class=\"sk-toggleable__control sk-hidden--visually\" id=\"7369212d-dcd7-44a5-903e-88736458657f\" type=\"checkbox\" ><label for=\"7369212d-dcd7-44a5-903e-88736458657f\" class=\"sk-toggleable__label sk-toggleable__label-arrow\">PassNameTransformer</label><div class=\"sk-toggleable__content\"><pre>PassNameTransformer()</pre></div></div></div></div></div></div><div class=\"sk-parallel-item\"><div class=\"sk-item\"><div class=\"sk-label-container\"><div class=\"sk-label sk-toggleable\"><label>ticket</label></div></div><div class=\"sk-serial\"><div class=\"sk-item\"><div class=\"sk-estimator sk-toggleable\"><input class=\"sk-toggleable__control sk-hidden--visually\" id=\"c8693148-1475-4666-836d-1338e1f47d48\" type=\"checkbox\" ><label for=\"c8693148-1475-4666-836d-1338e1f47d48\" class=\"sk-toggleable__label sk-toggleable__label-arrow\">TicketTransformer</label><div class=\"sk-toggleable__content\"><pre>TicketTransformer()</pre></div></div></div></div></div></div><div class=\"sk-parallel-item\"><div class=\"sk-item\"><div class=\"sk-label-container\"><div class=\"sk-label sk-toggleable\"><label>cabin</label></div></div><div class=\"sk-serial\"><div class=\"sk-item\"><div class=\"sk-estimator sk-toggleable\"><input class=\"sk-toggleable__control sk-hidden--visually\" id=\"91e136e2-fe2e-4bef-9259-4ce9ccd154c0\" type=\"checkbox\" ><label for=\"91e136e2-fe2e-4bef-9259-4ce9ccd154c0\" class=\"sk-toggleable__label sk-toggleable__label-arrow\">CabinTransformer</label><div class=\"sk-toggleable__content\"><pre>CabinTransformer()</pre></div></div></div></div></div></div><div class=\"sk-parallel-item\"><div class=\"sk-item\"><div class=\"sk-label-container\"><div class=\"sk-label sk-toggleable\"><label>others</label></div></div><div class=\"sk-serial\"><div class=\"sk-item\"><div class=\"sk-estimator sk-toggleable\"><input class=\"sk-toggleable__control sk-hidden--visually\" id=\"e596c966-4b3c-4382-ab97-dbaf5c5628cf\" type=\"checkbox\" ><label for=\"e596c966-4b3c-4382-ab97-dbaf5c5628cf\" class=\"sk-toggleable__label sk-toggleable__label-arrow\">ColumnSelectTransformer</label><div class=\"sk-toggleable__content\"><pre>ColumnSelectTransformer(columns=[&#x27;pclass&#x27;, &#x27;sex&#x27;, &#x27;age&#x27;, &#x27;sibsp&#x27;, &#x27;parch&#x27;,\n",
       "                                 &#x27;fare&#x27;, &#x27;embarked&#x27;])</pre></div></div></div></div></div></div></div></div><div class=\"sk-item\"><div class=\"sk-estimator sk-toggleable\"><input class=\"sk-toggleable__control sk-hidden--visually\" id=\"3167449d-b637-47ad-8bd9-66f2b2838bef\" type=\"checkbox\" ><label for=\"3167449d-b637-47ad-8bd9-66f2b2838bef\" class=\"sk-toggleable__label sk-toggleable__label-arrow\">LowerTransformer</label><div class=\"sk-toggleable__content\"><pre>LowerTransformer()</pre></div></div></div><div class=\"sk-item\"><div class=\"sk-estimator sk-toggleable\"><input class=\"sk-toggleable__control sk-hidden--visually\" id=\"3b1a05a5-a78e-4c23-99c5-151e8e03b90d\" type=\"checkbox\" ><label for=\"3b1a05a5-a78e-4c23-99c5-151e8e03b90d\" class=\"sk-toggleable__label sk-toggleable__label-arrow\">CatBoostImputor</label><div class=\"sk-toggleable__content\"><pre>CatBoostImputor(impute_plan={&#x27;cat_features&#x27;: [&#x27;surname&#x27;, &#x27;forename&#x27;,\n",
       "                                              &#x27;ticket_str&#x27;, &#x27;cabin_str&#x27;, &#x27;sex&#x27;,\n",
       "                                              &#x27;embarked&#x27;],\n",
       "                             &#x27;eval_frac&#x27;: 0.1,\n",
       "                             &#x27;features_plan&#x27;: {&#x27;age&#x27;: {&#x27;catboost_kwgs&#x27;: {&#x27;iterations&#x27;: 200},\n",
       "                                                       &#x27;model&#x27;: &lt;class &#x27;catboost.core.CatBoostRegressor&#x27;&gt;,\n",
       "                                                       &#x27;predictors&#x27;: [&#x27;surname&#x27;,\n",
       "                                                                      &#x27;forename&#x27;,\n",
       "                                                                      &#x27;ticket_str&#x27;,\n",
       "                                                                      &#x27;ticket_num&#x27;,\n",
       "                                                                      &#x27;cabin_str&#x27;,\n",
       "                                                                      &#x27;cabin_num&#x27;,\n",
       "                                                                      &#x27;pclass&#x27;,\n",
       "                                                                      &#x27;sex&#x27;,\n",
       "                                                                      &#x27;sibsp&#x27;,\n",
       "                                                                      &#x27;parch&#x27;,\n",
       "                                                                      &#x27;...\n",
       "                                       &#x27;cabin_num&#x27;: &lt;function fill_mean at 0x7f84cdd9a550&gt;,\n",
       "                                       &#x27;cabin_str&#x27;: &lt;function fill_unk at 0x7f84ce895dc0&gt;,\n",
       "                                       &#x27;embarked&#x27;: &lt;function fill_popular at 0x7f84cdd9a670&gt;,\n",
       "                                       &#x27;fare&#x27;: &lt;function fill_mean at 0x7f84cdd9a550&gt;,\n",
       "                                       &#x27;ticket_num&#x27;: &lt;function fill_mean at 0x7f84cdd9a550&gt;,\n",
       "                                       &#x27;ticket_str&#x27;: &lt;function fill_unk at 0x7f84ce895dc0&gt;}},\n",
       "                predictors_order=[&#x27;fare&#x27;, &#x27;embarked&#x27;, &#x27;age&#x27;, &#x27;ticket_num&#x27;,\n",
       "                                  &#x27;ticket_str&#x27;, &#x27;cabin_num&#x27;, &#x27;cabin_str&#x27;])</pre></div></div></div></div></div></div></div>"
      ],
      "text/plain": [
       "Pipeline(steps=[('raw_data_processor',\n",
       "                 featureUnion(transformer_list=[('pass_name',\n",
       "                                                 PassNameTransformer()),\n",
       "                                                ('ticket', TicketTransformer()),\n",
       "                                                ('cabin', CabinTransformer()),\n",
       "                                                ('others',\n",
       "                                                 ColumnSelectTransformer(columns=['pclass',\n",
       "                                                                                  'sex',\n",
       "                                                                                  'age',\n",
       "                                                                                  'sibsp',\n",
       "                                                                                  'parch',\n",
       "                                                                                  'fare',\n",
       "                                                                                  'embarked']))])),\n",
       "                ('lower_text_values', LowerTransformer()),\n",
       "                ('catboost_imputor',\n",
       "                 CatBoostImputor(impu...\n",
       "                                                        'cabin_num': <function fill_mean at 0x7f84cdd9a550>,\n",
       "                                                        'cabin_str': <function fill_unk at 0x7f84ce895dc0>,\n",
       "                                                        'embarked': <function fill_popular at 0x7f84cdd9a670>,\n",
       "                                                        'fare': <function fill_mean at 0x7f84cdd9a550>,\n",
       "                                                        'ticket_num': <function fill_mean at 0x7f84cdd9a550>,\n",
       "                                                        'ticket_str': <function fill_unk at 0x7f84ce895dc0>}},\n",
       "                                 predictors_order=['fare', 'embarked', 'age',\n",
       "                                                   'ticket_num', 'ticket_str',\n",
       "                                                   'cabin_num',\n",
       "                                                   'cabin_str']))])"
      ]
     },
     "execution_count": 91,
     "metadata": {},
     "output_type": "execute_result"
    }
   ],
   "source": [
    "pl2"
   ]
  },
  {
   "cell_type": "code",
   "execution_count": 92,
   "metadata": {},
   "outputs": [
    {
     "name": "stdout",
     "output_type": "stream",
     "text": [
      "====Converting columns types====\n"
     ]
    },
    {
     "data": {
      "application/vnd.jupyter.widget-view+json": {
       "model_id": "de4734bc1d284483af58bebaaa94eb85",
       "version_major": 2,
       "version_minor": 0
      },
      "text/plain": [
       "0it [00:00, ?it/s]"
      ]
     },
     "metadata": {},
     "output_type": "display_data"
    },
    {
     "name": "stdout",
     "output_type": "stream",
     "text": [
      "Prepare data to fit, feature: fare\n",
      "Fit model: fare\n",
      "Learning rate set to 0.275418\n",
      "0:\tlearn: 64.7716052\ttest: 66.1606066\tbest: 66.1606066 (0)\ttotal: 46.9ms\tremaining: 9.33s\n"
     ]
    },
    {
     "name": "stderr",
     "output_type": "stream",
     "text": [
      "Warning: Overfitting detector is active, thus evaluation metric is calculated on every iteration. 'metric_period' is ignored for evaluation metric.\n"
     ]
    },
    {
     "name": "stdout",
     "output_type": "stream",
     "text": [
      "50:\tlearn: 58.0748847\ttest: 60.2768871\tbest: 60.1887846 (15)\ttotal: 1.56s\tremaining: 4.56s\n",
      "Stopped by overfitting detector  (50 iterations wait)\n",
      "\n",
      "bestTest = 60.1887846\n",
      "bestIteration = 15\n",
      "\n",
      "Shrink model to first 16 iterations.\n",
      "Predicted for 134 unknown examples\n",
      "Imputed done for fare\n",
      "Prepare data to fit, feature: embarked\n",
      "Fit model: embarked\n",
      "Learning rate set to 0.218473\n",
      "0:\tlearn: 0.9044038\ttest: 0.9048636\tbest: 0.9048636 (0)\ttotal: 60ms\tremaining: 11.9s\n"
     ]
    },
    {
     "name": "stderr",
     "output_type": "stream",
     "text": [
      "Warning: Overfitting detector is active, thus evaluation metric is calculated on every iteration. 'metric_period' is ignored for evaluation metric.\n"
     ]
    },
    {
     "name": "stdout",
     "output_type": "stream",
     "text": [
      "50:\tlearn: 0.5333882\ttest: 0.5412056\tbest: 0.5412056 (50)\ttotal: 3.15s\tremaining: 9.2s\n",
      "100:\tlearn: 0.5228426\ttest: 0.5369545\tbest: 0.5369545 (100)\ttotal: 6.08s\tremaining: 5.96s\n",
      "150:\tlearn: 0.5167845\ttest: 0.5355787\tbest: 0.5354669 (140)\ttotal: 9.01s\tremaining: 2.92s\n",
      "199:\tlearn: 0.5111682\ttest: 0.5352499\tbest: 0.5351492 (191)\ttotal: 12s\tremaining: 0us\n",
      "\n",
      "bestTest = 0.5351491726\n",
      "bestIteration = 191\n",
      "\n",
      "Shrink model to first 192 iterations.\n",
      "Predicted for 250 unknown examples\n",
      "Imputed done for embarked\n",
      "Prepare data to fit, feature: age\n",
      "Fit model: age\n",
      "Learning rate set to 0.274032\n",
      "0:\tlearn: 17.5600497\ttest: 17.5481511\tbest: 17.5481511 (0)\ttotal: 27.6ms\tremaining: 5.5s\n"
     ]
    },
    {
     "name": "stderr",
     "output_type": "stream",
     "text": [
      "Warning: Overfitting detector is active, thus evaluation metric is calculated on every iteration. 'metric_period' is ignored for evaluation metric.\n"
     ]
    },
    {
     "name": "stdout",
     "output_type": "stream",
     "text": [
      "50:\tlearn: 16.3259788\ttest: 16.3955363\tbest: 16.3949363 (40)\ttotal: 1.13s\tremaining: 3.3s\n",
      "100:\tlearn: 16.2444509\ttest: 16.3918999\tbest: 16.3883138 (73)\ttotal: 2.33s\tremaining: 2.29s\n",
      "150:\tlearn: 16.1731610\ttest: 16.3988955\tbest: 16.3877958 (126)\ttotal: 3.38s\tremaining: 1.1s\n",
      "Stopped by overfitting detector  (50 iterations wait)\n",
      "\n",
      "bestTest = 16.38779579\n",
      "bestIteration = 126\n",
      "\n",
      "Shrink model to first 127 iterations.\n",
      "Predicted for 3292 unknown examples\n",
      "Imputed done for age\n",
      "Prepare data to fit, feature: ticket_num\n",
      "Fit model: ticket_num\n",
      "Learning rate set to 0.260893\n",
      "0:\tlearn: 614895.7356933\ttest: 627042.1296637\tbest: 627042.1296637 (0)\ttotal: 11.6ms\tremaining: 2.31s\n"
     ]
    },
    {
     "name": "stderr",
     "output_type": "stream",
     "text": [
      "Warning: Overfitting detector is active, thus evaluation metric is calculated on every iteration. 'metric_period' is ignored for evaluation metric.\n"
     ]
    },
    {
     "name": "stdout",
     "output_type": "stream",
     "text": [
      "50:\tlearn: 71274.9155187\ttest: 75429.4915013\tbest: 73597.0573244 (41)\ttotal: 890ms\tremaining: 2.6s\n",
      "Stopped by overfitting detector  (50 iterations wait)\n",
      "\n",
      "bestTest = 73597.05732\n",
      "bestIteration = 41\n",
      "\n",
      "Shrink model to first 42 iterations.\n",
      "Predicted for 29278 unknown examples\n",
      "Imputed done for ticket_num\n",
      "Prepare data to fit, feature: ticket_str\n",
      "Fit model: ticket_str\n",
      "Learning rate set to 0.21245\n"
     ]
    },
    {
     "name": "stderr",
     "output_type": "stream",
     "text": [
      "Warning: Overfitting detector is active, thus evaluation metric is calculated on every iteration. 'metric_period' is ignored for evaluation metric.\n"
     ]
    },
    {
     "name": "stdout",
     "output_type": "stream",
     "text": [
      "0:\tlearn: 1.3090017\ttest: 1.3783086\tbest: 1.3783086 (0)\ttotal: 2.93s\tremaining: 9m 42s\n",
      "50:\tlearn: 0.0524073\ttest: 0.0332282\tbest: 0.0332282 (50)\ttotal: 3m 5s\tremaining: 9m 2s\n",
      "100:\tlearn: 0.0335230\ttest: 0.0220470\tbest: 0.0220470 (100)\ttotal: 6m 12s\tremaining: 6m 5s\n",
      "150:\tlearn: 0.0243197\ttest: 0.0179098\tbest: 0.0179098 (150)\ttotal: 9m 57s\tremaining: 3m 13s\n",
      "199:\tlearn: 0.0192411\ttest: 0.0163181\tbest: 0.0163181 (199)\ttotal: 13m 34s\tremaining: 0us\n",
      "\n",
      "bestTest = 0.01631812971\n",
      "bestIteration = 199\n",
      "\n",
      "Predicted for 75345 unknown examples\n",
      "Imputed done for ticket_str\n",
      "Prepare data to fit, feature: cabin_num\n",
      "Fit model: cabin_num\n",
      "Learning rate set to 0.230503\n",
      "0:\tlearn: 4498.9583529\ttest: 4541.2841963\tbest: 4541.2841963 (0)\ttotal: 57.5ms\tremaining: 11.4s\n"
     ]
    },
    {
     "name": "stderr",
     "output_type": "stream",
     "text": [
      "Warning: Overfitting detector is active, thus evaluation metric is calculated on every iteration. 'metric_period' is ignored for evaluation metric.\n"
     ]
    },
    {
     "name": "stdout",
     "output_type": "stream",
     "text": [
      "50:\tlearn: 117.8343451\ttest: 116.6287392\tbest: 116.6287392 (50)\ttotal: 683ms\tremaining: 1.99s\n",
      "100:\tlearn: 69.9594958\ttest: 67.1111864\tbest: 67.1111864 (100)\ttotal: 1.37s\tremaining: 1.34s\n",
      "150:\tlearn: 51.1203784\ttest: 48.3114028\tbest: 48.3114028 (150)\ttotal: 1.91s\tremaining: 621ms\n",
      "199:\tlearn: 42.9797373\ttest: 40.3670093\tbest: 40.3667782 (198)\ttotal: 2.44s\tremaining: 0us\n",
      "\n",
      "bestTest = 40.3667782\n",
      "bestIteration = 198\n",
      "\n",
      "Shrink model to first 199 iterations.\n",
      "Predicted for 67866 unknown examples\n",
      "Imputed done for cabin_num\n",
      "Prepare data to fit, feature: cabin_str\n",
      "Fit model: cabin_str\n",
      "Learning rate set to 0.213579\n",
      "0:\tlearn: 0.8504391\ttest: 0.8464051\tbest: 0.8464051 (0)\ttotal: 98.1ms\tremaining: 19.5s\n"
     ]
    },
    {
     "name": "stderr",
     "output_type": "stream",
     "text": [
      "Warning: Overfitting detector is active, thus evaluation metric is calculated on every iteration. 'metric_period' is ignored for evaluation metric.\n"
     ]
    },
    {
     "name": "stdout",
     "output_type": "stream",
     "text": [
      "50:\tlearn: 0.0019538\ttest: 0.0015575\tbest: 0.0015575 (50)\ttotal: 5.43s\tremaining: 15.9s\n",
      "100:\tlearn: 0.0007435\ttest: 0.0005515\tbest: 0.0005515 (100)\ttotal: 11.4s\tremaining: 11.2s\n",
      "150:\tlearn: 0.0004178\ttest: 0.0002958\tbest: 0.0002958 (150)\ttotal: 18s\tremaining: 5.83s\n",
      "199:\tlearn: 0.0002864\ttest: 0.0001953\tbest: 0.0001953 (199)\ttotal: 24.3s\tremaining: 0us\n",
      "\n",
      "bestTest = 0.000195257891\n",
      "bestIteration = 199\n",
      "\n",
      "Predicted for 67866 unknown examples\n",
      "Imputed done for cabin_str\n",
      "Imputed done for all dataset, num null left: surname       0\n",
      "forename      0\n",
      "ticket_str    0\n",
      "ticket_num    0\n",
      "cabin_str     0\n",
      "cabin_num     0\n",
      "pclass        0\n",
      "sex           0\n",
      "age           0\n",
      "sibsp         0\n",
      "parch         0\n",
      "fare          0\n",
      "embarked      0\n",
      "dtype: int64\n"
     ]
    }
   ],
   "source": [
    "clean_X_train2 = pl2.fit_transform(X_train)"
   ]
  },
  {
   "cell_type": "code",
   "execution_count": null,
   "metadata": {},
   "outputs": [],
   "source": []
  },
  {
   "cell_type": "code",
   "execution_count": 93,
   "metadata": {},
   "outputs": [
    {
     "data": {
      "text/plain": [
       "'Pipeline'"
      ]
     },
     "execution_count": 93,
     "metadata": {},
     "output_type": "execute_result"
    }
   ],
   "source": [
    "pl2.__class__.__name__"
   ]
  },
  {
   "cell_type": "code",
   "execution_count": 94,
   "metadata": {},
   "outputs": [],
   "source": [
    "a = CatBoostImputor(impute_plan, predictors_order=['fare', 'embarked', 'age', 'ticket_num', 'ticket_str', 'cabin_num', 'cabin_str'])"
   ]
  },
  {
   "cell_type": "code",
   "execution_count": 96,
   "metadata": {},
   "outputs": [],
   "source": [
    "from time import time"
   ]
  },
  {
   "cell_type": "code",
   "execution_count": 97,
   "metadata": {},
   "outputs": [
    {
     "data": {
      "text/plain": [
       "1642568848.073945"
      ]
     },
     "execution_count": 97,
     "metadata": {},
     "output_type": "execute_result"
    }
   ],
   "source": [
    "time()"
   ]
  },
  {
   "cell_type": "code",
   "execution_count": 98,
   "metadata": {},
   "outputs": [],
   "source": [
    "from time import time, sleep\n",
    "class PipelineLogger:\n",
    "    def __init__(self):\n",
    "        pass\n",
    "        \n",
    "    def log_start(self):\n",
    "        self.start_time = time()\n",
    "        print(f'======== {self.__class__.__name__} - START ========')\n",
    "        return None\n",
    "        \n",
    "    def log_finish(self):\n",
    "        self.duration = time() - self.start_time\n",
    "        print(f'======== {self.__class__.__name__} - FINISH =======> Take: {self.duration:.6f}(s)')"
   ]
  },
  {
   "cell_type": "code",
   "execution_count": 99,
   "metadata": {},
   "outputs": [],
   "source": [
    "class JustSleep(PipelineLogger):\n",
    "    def __init__(self):\n",
    "        pass\n",
    "    \n",
    "    def sleep(self):\n",
    "        self.log_start()\n",
    "        sleep(1)\n",
    "        self.log_finish()"
   ]
  },
  {
   "cell_type": "code",
   "execution_count": 100,
   "metadata": {},
   "outputs": [],
   "source": [
    "js = JustSleep()"
   ]
  },
  {
   "cell_type": "code",
   "execution_count": 101,
   "metadata": {},
   "outputs": [
    {
     "name": "stdout",
     "output_type": "stream",
     "text": [
      "======== JustSleep - START ========\n",
      "======== JustSleep - FINISH =======> Take: 1.005406(s)\n"
     ]
    }
   ],
   "source": [
    "js.sleep()"
   ]
  },
  {
   "cell_type": "code",
   "execution_count": null,
   "metadata": {},
   "outputs": [],
   "source": []
  },
  {
   "cell_type": "markdown",
   "metadata": {},
   "source": [
    "# Submit"
   ]
  },
  {
   "cell_type": "markdown",
   "metadata": {},
   "source": [
    "## Model based on catboost imputed data"
   ]
  },
  {
   "cell_type": "code",
   "execution_count": 103,
   "metadata": {},
   "outputs": [],
   "source": [
    "X_test['Survived'] = model_clean.predict(X_test_clean)"
   ]
  },
  {
   "cell_type": "code",
   "execution_count": 104,
   "metadata": {},
   "outputs": [
    {
     "data": {
      "text/html": [
       "<div>\n",
       "<style scoped>\n",
       "    .dataframe tbody tr th:only-of-type {\n",
       "        vertical-align: middle;\n",
       "    }\n",
       "\n",
       "    .dataframe tbody tr th {\n",
       "        vertical-align: top;\n",
       "    }\n",
       "\n",
       "    .dataframe thead th {\n",
       "        text-align: right;\n",
       "    }\n",
       "</style>\n",
       "<table border=\"1\" class=\"dataframe\">\n",
       "  <thead>\n",
       "    <tr style=\"text-align: right;\">\n",
       "      <th></th>\n",
       "      <th>pclass</th>\n",
       "      <th>name</th>\n",
       "      <th>sex</th>\n",
       "      <th>age</th>\n",
       "      <th>sibsp</th>\n",
       "      <th>parch</th>\n",
       "      <th>ticket</th>\n",
       "      <th>fare</th>\n",
       "      <th>cabin</th>\n",
       "      <th>embarked</th>\n",
       "      <th>Survived</th>\n",
       "    </tr>\n",
       "    <tr>\n",
       "      <th>passengerid</th>\n",
       "      <th></th>\n",
       "      <th></th>\n",
       "      <th></th>\n",
       "      <th></th>\n",
       "      <th></th>\n",
       "      <th></th>\n",
       "      <th></th>\n",
       "      <th></th>\n",
       "      <th></th>\n",
       "      <th></th>\n",
       "      <th></th>\n",
       "    </tr>\n",
       "  </thead>\n",
       "  <tbody>\n",
       "    <tr>\n",
       "      <th>100000</th>\n",
       "      <td>3</td>\n",
       "      <td>Holliday, Daniel</td>\n",
       "      <td>male</td>\n",
       "      <td>19.0</td>\n",
       "      <td>0</td>\n",
       "      <td>0</td>\n",
       "      <td>24745</td>\n",
       "      <td>63.01</td>\n",
       "      <td>NaN</td>\n",
       "      <td>S</td>\n",
       "      <td>0</td>\n",
       "    </tr>\n",
       "    <tr>\n",
       "      <th>100001</th>\n",
       "      <td>3</td>\n",
       "      <td>Nguyen, Lorraine</td>\n",
       "      <td>female</td>\n",
       "      <td>53.0</td>\n",
       "      <td>0</td>\n",
       "      <td>0</td>\n",
       "      <td>13264</td>\n",
       "      <td>5.81</td>\n",
       "      <td>NaN</td>\n",
       "      <td>S</td>\n",
       "      <td>0</td>\n",
       "    </tr>\n",
       "    <tr>\n",
       "      <th>100002</th>\n",
       "      <td>1</td>\n",
       "      <td>Harris, Heather</td>\n",
       "      <td>female</td>\n",
       "      <td>19.0</td>\n",
       "      <td>0</td>\n",
       "      <td>0</td>\n",
       "      <td>25990</td>\n",
       "      <td>38.91</td>\n",
       "      <td>B15315</td>\n",
       "      <td>C</td>\n",
       "      <td>1</td>\n",
       "    </tr>\n",
       "    <tr>\n",
       "      <th>100003</th>\n",
       "      <td>2</td>\n",
       "      <td>Larsen, Eric</td>\n",
       "      <td>male</td>\n",
       "      <td>25.0</td>\n",
       "      <td>0</td>\n",
       "      <td>0</td>\n",
       "      <td>314011</td>\n",
       "      <td>12.93</td>\n",
       "      <td>NaN</td>\n",
       "      <td>S</td>\n",
       "      <td>0</td>\n",
       "    </tr>\n",
       "    <tr>\n",
       "      <th>100004</th>\n",
       "      <td>1</td>\n",
       "      <td>Cleary, Sarah</td>\n",
       "      <td>female</td>\n",
       "      <td>17.0</td>\n",
       "      <td>0</td>\n",
       "      <td>2</td>\n",
       "      <td>26203</td>\n",
       "      <td>26.89</td>\n",
       "      <td>B22515</td>\n",
       "      <td>C</td>\n",
       "      <td>1</td>\n",
       "    </tr>\n",
       "    <tr>\n",
       "      <th>...</th>\n",
       "      <td>...</td>\n",
       "      <td>...</td>\n",
       "      <td>...</td>\n",
       "      <td>...</td>\n",
       "      <td>...</td>\n",
       "      <td>...</td>\n",
       "      <td>...</td>\n",
       "      <td>...</td>\n",
       "      <td>...</td>\n",
       "      <td>...</td>\n",
       "      <td>...</td>\n",
       "    </tr>\n",
       "    <tr>\n",
       "      <th>199995</th>\n",
       "      <td>3</td>\n",
       "      <td>Cash, Cheryle</td>\n",
       "      <td>female</td>\n",
       "      <td>27.0</td>\n",
       "      <td>0</td>\n",
       "      <td>0</td>\n",
       "      <td>7686</td>\n",
       "      <td>10.12</td>\n",
       "      <td>NaN</td>\n",
       "      <td>Q</td>\n",
       "      <td>1</td>\n",
       "    </tr>\n",
       "    <tr>\n",
       "      <th>199996</th>\n",
       "      <td>1</td>\n",
       "      <td>Brown, Howard</td>\n",
       "      <td>male</td>\n",
       "      <td>59.0</td>\n",
       "      <td>1</td>\n",
       "      <td>0</td>\n",
       "      <td>13004</td>\n",
       "      <td>68.31</td>\n",
       "      <td>NaN</td>\n",
       "      <td>S</td>\n",
       "      <td>0</td>\n",
       "    </tr>\n",
       "    <tr>\n",
       "      <th>199997</th>\n",
       "      <td>3</td>\n",
       "      <td>Lightfoot, Cameron</td>\n",
       "      <td>male</td>\n",
       "      <td>47.0</td>\n",
       "      <td>0</td>\n",
       "      <td>0</td>\n",
       "      <td>4383317</td>\n",
       "      <td>10.87</td>\n",
       "      <td>NaN</td>\n",
       "      <td>S</td>\n",
       "      <td>0</td>\n",
       "    </tr>\n",
       "    <tr>\n",
       "      <th>199998</th>\n",
       "      <td>1</td>\n",
       "      <td>Jacobsen, Margaret</td>\n",
       "      <td>female</td>\n",
       "      <td>49.0</td>\n",
       "      <td>1</td>\n",
       "      <td>2</td>\n",
       "      <td>PC 26988</td>\n",
       "      <td>29.68</td>\n",
       "      <td>B20828</td>\n",
       "      <td>C</td>\n",
       "      <td>1</td>\n",
       "    </tr>\n",
       "    <tr>\n",
       "      <th>199999</th>\n",
       "      <td>1</td>\n",
       "      <td>Fishback, Joanna</td>\n",
       "      <td>female</td>\n",
       "      <td>41.0</td>\n",
       "      <td>0</td>\n",
       "      <td>2</td>\n",
       "      <td>PC 41824</td>\n",
       "      <td>195.41</td>\n",
       "      <td>E13345</td>\n",
       "      <td>C</td>\n",
       "      <td>1</td>\n",
       "    </tr>\n",
       "  </tbody>\n",
       "</table>\n",
       "<p>100000 rows × 11 columns</p>\n",
       "</div>"
      ],
      "text/plain": [
       "             pclass                name     sex   age  sibsp  parch    ticket  \\\n",
       "passengerid                                                                     \n",
       "100000            3    Holliday, Daniel    male  19.0      0      0     24745   \n",
       "100001            3    Nguyen, Lorraine  female  53.0      0      0     13264   \n",
       "100002            1     Harris, Heather  female  19.0      0      0     25990   \n",
       "100003            2        Larsen, Eric    male  25.0      0      0    314011   \n",
       "100004            1       Cleary, Sarah  female  17.0      0      2     26203   \n",
       "...             ...                 ...     ...   ...    ...    ...       ...   \n",
       "199995            3       Cash, Cheryle  female  27.0      0      0      7686   \n",
       "199996            1       Brown, Howard    male  59.0      1      0     13004   \n",
       "199997            3  Lightfoot, Cameron    male  47.0      0      0   4383317   \n",
       "199998            1  Jacobsen, Margaret  female  49.0      1      2  PC 26988   \n",
       "199999            1    Fishback, Joanna  female  41.0      0      2  PC 41824   \n",
       "\n",
       "               fare   cabin embarked  Survived  \n",
       "passengerid                                     \n",
       "100000        63.01     NaN        S         0  \n",
       "100001         5.81     NaN        S         0  \n",
       "100002        38.91  B15315        C         1  \n",
       "100003        12.93     NaN        S         0  \n",
       "100004        26.89  B22515        C         1  \n",
       "...             ...     ...      ...       ...  \n",
       "199995        10.12     NaN        Q         1  \n",
       "199996        68.31     NaN        S         0  \n",
       "199997        10.87     NaN        S         0  \n",
       "199998        29.68  B20828        C         1  \n",
       "199999       195.41  E13345        C         1  \n",
       "\n",
       "[100000 rows x 11 columns]"
      ]
     },
     "execution_count": 104,
     "metadata": {},
     "output_type": "execute_result"
    }
   ],
   "source": [
    "X_test"
   ]
  },
  {
   "cell_type": "code",
   "execution_count": 105,
   "metadata": {},
   "outputs": [],
   "source": [
    "m = X_test['Survived'].to_frame().reset_index()\n",
    "m.columns = ['PassengerId', 'Survived']"
   ]
  },
  {
   "cell_type": "code",
   "execution_count": 106,
   "metadata": {},
   "outputs": [],
   "source": [
    "m.to_csv('submission/v1.csv', index=False)"
   ]
  },
  {
   "cell_type": "markdown",
   "metadata": {},
   "source": [
    "# Model based on simple imputed data"
   ]
  },
  {
   "cell_type": "code",
   "execution_count": null,
   "metadata": {},
   "outputs": [],
   "source": []
  },
  {
   "cell_type": "code",
   "execution_count": null,
   "metadata": {},
   "outputs": [],
   "source": []
  }
 ],
 "metadata": {
  "kernelspec": {
   "display_name": "Python 3 (ipykernel)",
   "language": "python",
   "name": "python3"
  },
  "language_info": {
   "codemirror_mode": {
    "name": "ipython",
    "version": 3
   },
   "file_extension": ".py",
   "mimetype": "text/x-python",
   "name": "python",
   "nbconvert_exporter": "python",
   "pygments_lexer": "ipython3",
   "version": "3.8.11"
  }
 },
 "nbformat": 4,
 "nbformat_minor": 4
}
